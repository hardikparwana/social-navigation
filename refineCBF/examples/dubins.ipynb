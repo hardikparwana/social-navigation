{
 "cells": [
  {
   "cell_type": "markdown",
   "metadata": {},
   "source": [
    "# Dubins Car\n",
    "\n",
    "The Dubins car problem is non-holonomic, and while each configuration is possible, the manner in which those configurations can be reached is reduced. Notably we have $$\\dot y \\cos \\theta - \\dot x \\sin \\theta = 0$$\n",
    "\n",
    "Hence, unlike for the other examples we cannot rely on the linearized LQR controller to act as performance / nominal controller. Instead we solve the reachability problem for reaching a target (without accounting for the obstacle avoidance) and use the found policy as the performance policy."
   ]
  },
  {
   "cell_type": "code",
   "execution_count": 1,
   "metadata": {},
   "outputs": [],
   "source": [
    "%load_ext autoreload\n",
    "%autoreload 2"
   ]
  },
  {
   "cell_type": "code",
   "execution_count": 2,
   "metadata": {},
   "outputs": [
    {
     "data": {
      "text/plain": [
       "'3.11.5 (main, Aug 25 2023, 13:19:53) [GCC 9.4.0]'"
      ]
     },
     "execution_count": 2,
     "metadata": {},
     "output_type": "execute_result"
    }
   ],
   "source": [
    "import sys; sys.version"
   ]
  },
  {
   "cell_type": "code",
   "execution_count": 3,
   "metadata": {},
   "outputs": [],
   "source": [
    "import refine_cbfs\n",
    "from cbf_opt import ControlAffineDynamics, ControlAffineCBF, ControlAffineASIF\n",
    "import matplotlib.pyplot as plt\n",
    "import hj_reachability as hj\n",
    "import jax.numpy as jnp\n",
    "import numpy as np\n",
    "import seaborn as sns\n",
    "from experiment_wrapper import RolloutTrajectory, TimeSeriesExperiment, StateSpaceExperiment\n",
    "from dubins import nominal_hjr_control"
   ]
  },
  {
   "cell_type": "code",
   "execution_count": 4,
   "metadata": {},
   "outputs": [],
   "source": [
    "import matplotlib\n",
    "matplotlib.rcParams.update({\n",
    "    \"pgf.texsystem\": \"pdflatex\",\n",
    "    'font.family': 'serif',\n",
    "    'font.size': '80',\n",
    "    'text.usetex': False,   # Toggle to true for official LaTeX output\n",
    "    'pgf.rcfonts': False,\n",
    "    'lines.linewidth': 6.,\n",
    "})\n",
    "import matplotlib.animation as anim\n",
    "\n",
    "params = {'axes.labelsize': 28,'axes.titlesize':28, 'font.size': 28, 'legend.fontsize': 28, \n",
    "          'xtick.labelsize': 28, 'ytick.labelsize': 28, 'lines.linewidth': 5}\n",
    "matplotlib.rcParams.update(params)"
   ]
  },
  {
   "cell_type": "markdown",
   "metadata": {},
   "source": [
    "## Setup Problem (dynamics, environment and CBF)"
   ]
  },
  {
   "cell_type": "markdown",
   "metadata": {},
   "source": [
    "### Parameter values"
   ]
  },
  {
   "cell_type": "markdown",
   "metadata": {},
   "source": [
    "Dynamics properties"
   ]
  },
  {
   "cell_type": "code",
   "execution_count": 5,
   "metadata": {},
   "outputs": [],
   "source": [
    "dubins_vel = 1.0  # m / s \n",
    "umin = np.array([-0.5])  # rad / s\n",
    "umax = np.array([0.5])  # rad / s \n",
    "dt = 0.05 # s"
   ]
  },
  {
   "cell_type": "markdown",
   "metadata": {},
   "source": [
    "Constraint set of the problem. Single rectangular constraint in the $(x,y)$ space"
   ]
  },
  {
   "cell_type": "code",
   "execution_count": 6,
   "metadata": {},
   "outputs": [],
   "source": [
    "obstacle_center = np.array([5.0, 5.0])\n",
    "obstacle_length = np.array([2.0, 2.0])"
   ]
  },
  {
   "cell_type": "markdown",
   "metadata": {},
   "source": [
    "### Dynamics"
   ]
  },
  {
   "cell_type": "markdown",
   "metadata": {},
   "source": [
    "Dynamics of the Dubins car problem (control affine), with fixed velocity $v$ in the format of `cbf_opt`\n",
    "\n",
    "`DubinsJNPDynamics` is required for usage with `hj_reachability` module"
   ]
  },
  {
   "cell_type": "code",
   "execution_count": 7,
   "metadata": {},
   "outputs": [],
   "source": [
    "class DubinsDynamics(ControlAffineDynamics):\n",
    "    STATES = ['X', 'Y', 'THETA']\n",
    "    CONTROLS = ['OMEGA']\n",
    "    \n",
    "    def __init__(self, params, test = False, **kwargs):\n",
    "        params['n_dims'] = 3\n",
    "        params['control_dims'] = 1\n",
    "        params[\"periodic_dims\"] = [2]\n",
    "        self.v = params[\"v\"]\n",
    "        super().__init__(params, test, **kwargs)\n",
    "\n",
    "    def open_loop_dynamics(self, state, time=0.0):\n",
    "        f = np.zeros_like(state)\n",
    "        f[..., 0] = self.v * np.cos(state[..., 2])\n",
    "        f[..., 1] = self.v * np.sin(state[..., 2])\n",
    "        return f\n",
    "\n",
    "    def control_matrix(self, state, time=0.0):\n",
    "        B = np.repeat(np.zeros_like(state)[..., None], self.control_dims, axis=-1)\n",
    "        B[..., 2, 0] = 1\n",
    "        return B\n",
    "\n",
    "    def disturbance_jacobian(self, state, time=0.0):\n",
    "        return np.repeat(np.zeros_like(state)[..., None], 1, axis=-1)\n",
    "\n",
    "    def state_jacobian(self, state, control, time=0.0):\n",
    "        J = np.repeat(np.zeros_like(state)[..., None], self.n_dims, axis=-1)\n",
    "        J[..., 0, 2] = -self.v * np.sin(state[..., 2])\n",
    "        J[..., 1, 2] = self.v * np.cos(state[..., 2])\n",
    "        return J\n",
    "        \n",
    "class DubinsJNPDynamics(DubinsDynamics):\n",
    "    def open_loop_dynamics(self, state, time=0.0):\n",
    "        return jnp.array([self.v * jnp.cos(state[2]), self.v * jnp.sin(state[2]), 0])\n",
    "\n",
    "    def control_matrix(self, state, time=0.0):\n",
    "        return jnp.expand_dims(jnp.array([0, 0, 1]), axis=-1)\n",
    "\n",
    "    def disturbance_jacobian(self, state, time=0.0):\n",
    "        return jnp.expand_dims(jnp.zeros(3), axis=-1)\n",
    "\n",
    "    def state_jacobian(self, state, control, time=0.0):\n",
    "        return jnp.array([\n",
    "            [0, 0, -self.v * jnp.sin(state[2])],\n",
    "            [0, 0, self.v * jnp.cos(state[2])], \n",
    "            [0, 0, 0]])"
   ]
  },
  {
   "cell_type": "code",
   "execution_count": 8,
   "metadata": {},
   "outputs": [],
   "source": [
    "dyn = DubinsDynamics({\"v\": dubins_vel, \"dt\": dt}, test=True)\n",
    "dyn_jnp = DubinsJNPDynamics({\"v\": dubins_vel, \"dt\": dt}, test=True)"
   ]
  },
  {
   "cell_type": "markdown",
   "metadata": {},
   "source": [
    "### Initial Control Barrier Function"
   ]
  },
  {
   "cell_type": "markdown",
   "metadata": {},
   "source": [
    "Below is a candidate CBF, however as the Dubins car with obstacles in $x,y$ has relative degree $2$, the CBF cannot be enforced online as the CBF constraint does not feature the input (steering rate)\n",
    "\n",
    "This CBF inflate the rectangular obstacle to a circle obstacle, as is typically done to preserve convexity"
   ]
  },
  {
   "cell_type": "code",
   "execution_count": 9,
   "metadata": {},
   "outputs": [],
   "source": [
    "class DubinsCBF(ControlAffineCBF):\n",
    "    def __init__(self, dynamics: DubinsDynamics, params: dict = dict(), **kwargs) -> None:\n",
    "        self.center = params[\"center\"]\n",
    "        self.r = params[\"r\"]\n",
    "        super().__init__(dynamics, params, **kwargs)\n",
    "\n",
    "    def vf(self, state, time=0.0):\n",
    "        return (state[..., 0] - self.center[0]) ** 2 + (state[..., 1] - self.center[1]) ** 2 - self.r ** 2\n",
    "\n",
    "    def _grad_vf(self, state, time=0.0):\n",
    "        dvf_dx = np.zeros_like(state)\n",
    "        dvf_dx[..., 0] = 2 * (state[..., 0] - self.center[0])\n",
    "        dvf_dx[..., 1] = 2 * (state[..., 1] - self.center[1])\n",
    "        return dvf_dx"
   ]
  },
  {
   "cell_type": "code",
   "execution_count": 10,
   "metadata": {},
   "outputs": [
    {
     "data": {
      "text/plain": [
       "array([2., 2.])"
      ]
     },
     "execution_count": 10,
     "metadata": {},
     "output_type": "execute_result"
    }
   ],
   "source": [
    "obstacle_length"
   ]
  },
  {
   "cell_type": "code",
   "execution_count": 11,
   "metadata": {},
   "outputs": [],
   "source": [
    "dubins_cbf = DubinsCBF(dyn, {\"center\": obstacle_center, \"r\": np.sqrt(np.max(obstacle_length))}, test=True)"
   ]
  },
  {
   "cell_type": "markdown",
   "metadata": {},
   "source": [
    "### Environment\n",
    "Defining the discretized state space and the location of obstacles"
   ]
  },
  {
   "cell_type": "code",
   "execution_count": 12,
   "metadata": {},
   "outputs": [],
   "source": [
    "dyn_hjr = refine_cbfs.dynamics.HJControlAffineDynamics(dyn_jnp, control_space=hj.sets.Box(jnp.array(umin), jnp.array(umax)))\n",
    "\n",
    "state_domain = hj.sets.Box(lo=jnp.array([-5., -5., -jnp.pi]), hi=jnp.array([20., 20., jnp.pi]))\n",
    "grid_resolution = (201, 201, 81)\n",
    "grid = hj.Grid.from_lattice_parameters_and_boundary_conditions(state_domain, grid_resolution, periodic_dims=2)"
   ]
  },
  {
   "cell_type": "code",
   "execution_count": 13,
   "metadata": {},
   "outputs": [],
   "source": [
    "def constraint_set(state):\n",
    "    \"\"\"A real-valued function s.t. the zero-superlevel set is the safe set\n",
    "\n",
    "    Args:\n",
    "        state : An unbatched (!) state vector, an array of shape `(4,)` containing `[y, v_y, phi, omega]`.\n",
    "\n",
    "    Returns:\n",
    "        A scalar, positive iff the state is in the safe set\n",
    "    \"\"\"\n",
    "    bottom_left = jnp.array(obstacle_center - obstacle_length / 2)\n",
    "    length = obstacle_length\n",
    "    return -jnp.min(jnp.array([state[0] - bottom_left[0], bottom_left[0] + length[0] - state[0], \n",
    "                               state[1] - bottom_left[1], bottom_left[1] + length[1] - state[1]]))"
   ]
  },
  {
   "cell_type": "code",
   "execution_count": 14,
   "metadata": {},
   "outputs": [],
   "source": [
    "obstacle = hj.utils.multivmap(constraint_set, jnp.arange(grid.ndim))(grid.states)  # l(x)"
   ]
  },
  {
   "cell_type": "markdown",
   "metadata": {},
   "source": [
    "## Refining the CBF using Dynamic Programming"
   ]
  },
  {
   "cell_type": "code",
   "execution_count": 15,
   "metadata": {},
   "outputs": [],
   "source": [
    "dubins_tabular_cbf = refine_cbfs.TabularControlAffineCBF(dyn, dict(), grid=grid)\n",
    "dubins_tabular_cbf.tabularize_cbf(dubins_cbf)"
   ]
  },
  {
   "cell_type": "code",
   "execution_count": 16,
   "metadata": {},
   "outputs": [],
   "source": [
    "backwards_reachable_tube = lambda obstacle: (lambda t, x: jnp.minimum(x, obstacle))\n",
    "solver_settings = hj.SolverSettings.with_accuracy(\"high\", value_postprocessor=backwards_reachable_tube(obstacle))"
   ]
  },
  {
   "cell_type": "markdown",
   "metadata": {},
   "source": [
    "Classically, we solve the reachability problem by initializing the value function with the obstacle set, as below:"
   ]
  },
  {
   "cell_type": "code",
   "execution_count": 17,
   "metadata": {},
   "outputs": [
    {
     "name": "stderr",
     "output_type": "stream",
     "text": [
      "2023-09-09 02:33:38.665447: E external/xla/xla/pjrt/pjrt_stream_executor_client.cc:2461] Execution of replica 0 failed: INTERNAL: Failed to allocate 13089924 bytes for new constant\n"
     ]
    },
    {
     "ename": "XlaRuntimeError",
     "evalue": "INTERNAL: Failed to allocate 13089924 bytes for new constant",
     "output_type": "error",
     "traceback": [
      "\u001b[0;31m---------------------------------------------------------------------------\u001b[0m",
      "\u001b[0;31mXlaRuntimeError\u001b[0m                           Traceback (most recent call last)",
      "Cell \u001b[0;32mIn[17], line 6\u001b[0m\n\u001b[1;32m      3\u001b[0m target_time \u001b[38;5;241m=\u001b[39m \u001b[38;5;241m-\u001b[39m\u001b[38;5;241m10.\u001b[39m\n\u001b[1;32m      4\u001b[0m times \u001b[38;5;241m=\u001b[39m jnp\u001b[38;5;241m.\u001b[39mlinspace(time, target_time, \u001b[38;5;241m101\u001b[39m)\n\u001b[0;32m----> 6\u001b[0m target_values_hjr \u001b[38;5;241m=\u001b[39m \u001b[43mhj\u001b[49m\u001b[38;5;241;43m.\u001b[39;49m\u001b[43msolve\u001b[49m\u001b[43m(\u001b[49m\u001b[43msolver_settings\u001b[49m\u001b[43m,\u001b[49m\u001b[43m \u001b[49m\u001b[43mdyn_hjr\u001b[49m\u001b[43m,\u001b[49m\u001b[43m \u001b[49m\u001b[43mgrid\u001b[49m\u001b[43m,\u001b[49m\u001b[43m \u001b[49m\u001b[43mtimes\u001b[49m\u001b[43m,\u001b[49m\u001b[43m \u001b[49m\u001b[43minit_value\u001b[49m\u001b[43m)\u001b[49m\n\u001b[1;32m      7\u001b[0m np\u001b[38;5;241m.\u001b[39msave(\u001b[38;5;124m\"\u001b[39m\u001b[38;5;124mdubins/hjr_vfs.npy\u001b[39m\u001b[38;5;124m\"\u001b[39m, target_values_hjr)\n",
      "    \u001b[0;31m[... skipping hidden 10 frame]\u001b[0m\n",
      "File \u001b[0;32m/usr/local/lib/python3.11/dist-packages/jax/_src/interpreters/pxla.py:1349\u001b[0m, in \u001b[0;36mExecuteReplicated.__call__\u001b[0;34m(self, *args)\u001b[0m\n\u001b[1;32m   1344\u001b[0m   \u001b[38;5;28mself\u001b[39m\u001b[38;5;241m.\u001b[39m_handle_token_bufs(\n\u001b[1;32m   1345\u001b[0m       results\u001b[38;5;241m.\u001b[39mdisassemble_prefix_into_single_device_arrays(\n\u001b[1;32m   1346\u001b[0m           \u001b[38;5;28mlen\u001b[39m(\u001b[38;5;28mself\u001b[39m\u001b[38;5;241m.\u001b[39mordered_effects)),\n\u001b[1;32m   1347\u001b[0m       results\u001b[38;5;241m.\u001b[39mconsume_token())\n\u001b[1;32m   1348\u001b[0m \u001b[38;5;28;01melse\u001b[39;00m:\n\u001b[0;32m-> 1349\u001b[0m   results \u001b[38;5;241m=\u001b[39m \u001b[38;5;28;43mself\u001b[39;49m\u001b[38;5;241;43m.\u001b[39;49m\u001b[43mxla_executable\u001b[49m\u001b[38;5;241;43m.\u001b[39;49m\u001b[43mexecute_sharded\u001b[49m\u001b[43m(\u001b[49m\u001b[43minput_bufs\u001b[49m\u001b[43m)\u001b[49m\n\u001b[1;32m   1350\u001b[0m \u001b[38;5;28;01mif\u001b[39;00m dispatch\u001b[38;5;241m.\u001b[39mneeds_check_special():\n\u001b[1;32m   1351\u001b[0m   out_arrays \u001b[38;5;241m=\u001b[39m results\u001b[38;5;241m.\u001b[39mdisassemble_into_single_device_arrays()\n",
      "\u001b[0;31mXlaRuntimeError\u001b[0m: INTERNAL: Failed to allocate 13089924 bytes for new constant"
     ]
    }
   ],
   "source": [
    "init_value = obstacle\n",
    "time = 0.\n",
    "target_time = -10.\n",
    "times = jnp.linspace(time, target_time, 101)\n",
    "\n",
    "target_values_hjr = hj.solve(solver_settings, dyn_hjr, grid, times, init_value)\n",
    "np.save(\"dubins/hjr_vfs.npy\", target_values_hjr)"
   ]
  },
  {
   "cell_type": "markdown",
   "metadata": {},
   "source": [
    "In our work, we propose instead initializing with a candidate CBF, as below:"
   ]
  },
  {
   "cell_type": "code",
   "execution_count": 18,
   "metadata": {},
   "outputs": [
    {
     "name": "stderr",
     "output_type": "stream",
     "text": [
      "2023-09-09 02:35:23.500091: W external/tsl/tsl/framework/bfc_allocator.cc:485] Allocator (GPU_0_bfc) ran out of memory trying to allocate 1.23GiB (rounded to 1322082560)requested by op \n",
      "2023-09-09 02:35:23.500195: W external/tsl/tsl/framework/bfc_allocator.cc:497] ****_______******___________________________________________________________________________________\n",
      "2023-09-09 02:35:23.500655: E external/xla/xla/pjrt/pjrt_stream_executor_client.cc:2461] Execution of replica 0 failed: RESOURCE_EXHAUSTED: Out of memory while trying to allocate 1322082324 bytes.\n",
      "BufferAssignment OOM Debugging.\n",
      "BufferAssignment stats:\n",
      "             parameter allocation:   49.94MiB\n",
      "              constant allocation:   12.48MiB\n",
      "        maybe_live_out allocation:    1.23GiB\n",
      "     preallocated temp allocation:    1.39GiB\n",
      "                 total allocation:    2.68GiB\n",
      "              total fragmentation:  138.71MiB (5.05%)\n",
      "Peak buffers:\n",
      "\tBuffer 1:\n",
      "\t\tSize: 1.23GiB\n",
      "\t\tOperator: op_name=\"jit(solve)/jit(main)/concatenate[dimension=0]\" source_file=\"/usr/local/lib/python3.11/dist-packages/hj_reachability/solver.py\" source_line=85\n",
      "\t\tXLA Label: fusion\n",
      "\t\tShape: f32[101,201,201,81]\n",
      "\t\t==========================\n",
      "\n",
      "\tBuffer 2:\n",
      "\t\tSize: 1.22GiB\n",
      "\t\tOperator: op_name=\"jit(solve)/jit(main)/broadcast_in_dim[shape=(100, 201, 201, 81) broadcast_dimensions=()]\" source_file=\"/usr/local/lib/python3.11/dist-packages/hj_reachability/solver.py\" source_line=87\n",
      "\t\tXLA Label: fusion\n",
      "\t\tShape: f32[100,201,201,81]\n",
      "\t\t==========================\n",
      "\n",
      "\tBuffer 3:\n",
      "\t\tSize: 37.45MiB\n",
      "\t\tEntry Parameter Subshape: f32[201,201,81,3]\n",
      "\t\t==========================\n",
      "\n",
      "\tBuffer 4:\n",
      "\t\tSize: 12.48MiB\n",
      "\t\tXLA Label: fusion\n",
      "\t\tShape: f32[201,201,81]\n",
      "\t\t==========================\n",
      "\n",
      "\tBuffer 5:\n",
      "\t\tSize: 12.48MiB\n",
      "\t\tXLA Label: constant\n",
      "\t\tShape: f32[201,201,81]\n",
      "\t\t==========================\n",
      "\n",
      "\tBuffer 6:\n",
      "\t\tSize: 12.48MiB\n",
      "\t\tEntry Parameter Subshape: f32[201,201,81]\n",
      "\t\t==========================\n",
      "\n",
      "\tBuffer 7:\n",
      "\t\tSize: 804B\n",
      "\t\tEntry Parameter Subshape: f32[201]\n",
      "\t\t==========================\n",
      "\n",
      "\tBuffer 8:\n",
      "\t\tSize: 804B\n",
      "\t\tEntry Parameter Subshape: f32[201]\n",
      "\t\t==========================\n",
      "\n",
      "\tBuffer 9:\n",
      "\t\tSize: 404B\n",
      "\t\tEntry Parameter Subshape: f32[101]\n",
      "\t\t==========================\n",
      "\n",
      "\tBuffer 10:\n",
      "\t\tSize: 400B\n",
      "\t\tOperator: op_name=\"jit(solve)/jit(main)/dynamic_slice[slice_sizes=(100,)]\" source_file=\"/usr/local/lib/python3.11/dist-packages/hj_reachability/solver.py\" source_line=90\n",
      "\t\tXLA Label: slice\n",
      "\t\tShape: f32[100]\n",
      "\t\t==========================\n",
      "\n",
      "\tBuffer 11:\n",
      "\t\tSize: 324B\n",
      "\t\tEntry Parameter Subshape: f32[81]\n",
      "\t\t==========================\n",
      "\n",
      "\tBuffer 12:\n",
      "\t\tSize: 96B\n",
      "\t\tXLA Label: tuple\n",
      "\t\tShape: (s32[], f32[], f32[201,201,81], token[], f32[100,201,201,81], /*index=5*/f32[100], f32[], f32[], f32[201,201,81,3], f32[], /*index=10*/f32[], f32[])\n",
      "\t\t==========================\n",
      "\n",
      "\tBuffer 13:\n",
      "\t\tSize: 80B\n",
      "\t\tXLA Label: tuple\n",
      "\t\tShape: (f32[], f32[201,201,81], token[], f32[], f32[], /*index=5*/f32[201,201,81,3], f32[], f32[], f32[], f32[])\n",
      "\t\t==========================\n",
      "\n",
      "\tBuffer 14:\n",
      "\t\tSize: 24B\n",
      "\t\tOperator: op_name=\"jit(solve)/jit(main)/while/body/jit(step)/while/body/abs\" source_file=\"/usr/local/lib/python3.11/dist-packages/hj_reachability/solver.py\" source_line=73\n",
      "\t\tXLA Label: fusion\n",
      "\t\tShape: (f32[], f32[], f32[])\n",
      "\t\t==========================\n",
      "\n",
      "\tBuffer 15:\n",
      "\t\tSize: 16B\n",
      "\t\tXLA Label: fusion\n",
      "\t\tShape: (f32[201,201,81], f32[201,201,81])\n",
      "\t\t==========================\n",
      "\n",
      "\n"
     ]
    },
    {
     "ename": "XlaRuntimeError",
     "evalue": "RESOURCE_EXHAUSTED: Out of memory while trying to allocate 1322082324 bytes.\nBufferAssignment OOM Debugging.\nBufferAssignment stats:\n             parameter allocation:   49.94MiB\n              constant allocation:   12.48MiB\n        maybe_live_out allocation:    1.23GiB\n     preallocated temp allocation:    1.39GiB\n                 total allocation:    2.68GiB\n              total fragmentation:  138.71MiB (5.05%)\nPeak buffers:\n\tBuffer 1:\n\t\tSize: 1.23GiB\n\t\tOperator: op_name=\"jit(solve)/jit(main)/concatenate[dimension=0]\" source_file=\"/usr/local/lib/python3.11/dist-packages/hj_reachability/solver.py\" source_line=85\n\t\tXLA Label: fusion\n\t\tShape: f32[101,201,201,81]\n\t\t==========================\n\n\tBuffer 2:\n\t\tSize: 1.22GiB\n\t\tOperator: op_name=\"jit(solve)/jit(main)/broadcast_in_dim[shape=(100, 201, 201, 81) broadcast_dimensions=()]\" source_file=\"/usr/local/lib/python3.11/dist-packages/hj_reachability/solver.py\" source_line=87\n\t\tXLA Label: fusion\n\t\tShape: f32[100,201,201,81]\n\t\t==========================\n\n\tBuffer 3:\n\t\tSize: 37.45MiB\n\t\tEntry Parameter Subshape: f32[201,201,81,3]\n\t\t==========================\n\n\tBuffer 4:\n\t\tSize: 12.48MiB\n\t\tXLA Label: fusion\n\t\tShape: f32[201,201,81]\n\t\t==========================\n\n\tBuffer 5:\n\t\tSize: 12.48MiB\n\t\tXLA Label: constant\n\t\tShape: f32[201,201,81]\n\t\t==========================\n\n\tBuffer 6:\n\t\tSize: 12.48MiB\n\t\tEntry Parameter Subshape: f32[201,201,81]\n\t\t==========================\n\n\tBuffer 7:\n\t\tSize: 804B\n\t\tEntry Parameter Subshape: f32[201]\n\t\t==========================\n\n\tBuffer 8:\n\t\tSize: 804B\n\t\tEntry Parameter Subshape: f32[201]\n\t\t==========================\n\n\tBuffer 9:\n\t\tSize: 404B\n\t\tEntry Parameter Subshape: f32[101]\n\t\t==========================\n\n\tBuffer 10:\n\t\tSize: 400B\n\t\tOperator: op_name=\"jit(solve)/jit(main)/dynamic_slice[slice_sizes=(100,)]\" source_file=\"/usr/local/lib/python3.11/dist-packages/hj_reachability/solver.py\" source_line=90\n\t\tXLA Label: slice\n\t\tShape: f32[100]\n\t\t==========================\n\n\tBuffer 11:\n\t\tSize: 324B\n\t\tEntry Parameter Subshape: f32[81]\n\t\t==========================\n\n\tBuffer 12:\n\t\tSize: 96B\n\t\tXLA Label: tuple\n\t\tShape: (s32[], f32[], f32[201,201,81], token[], f32[100,201,201,81], /*index=5*/f32[100], f32[], f32[], f32[201,201,81,3], f32[], /*index=10*/f32[], f32[])\n\t\t==========================\n\n\tBuffer 13:\n\t\tSize: 80B\n\t\tXLA Label: tuple\n\t\tShape: (f32[], f32[201,201,81], token[], f32[], f32[], /*index=5*/f32[201,201,81,3], f32[], f32[], f32[], f32[])\n\t\t==========================\n\n\tBuffer 14:\n\t\tSize: 24B\n\t\tOperator: op_name=\"jit(solve)/jit(main)/while/body/jit(step)/while/body/abs\" source_file=\"/usr/local/lib/python3.11/dist-packages/hj_reachability/solver.py\" source_line=73\n\t\tXLA Label: fusion\n\t\tShape: (f32[], f32[], f32[])\n\t\t==========================\n\n\tBuffer 15:\n\t\tSize: 16B\n\t\tXLA Label: fusion\n\t\tShape: (f32[201,201,81], f32[201,201,81])\n\t\t==========================\n\n",
     "output_type": "error",
     "traceback": [
      "\u001b[0;31m---------------------------------------------------------------------------\u001b[0m",
      "\u001b[0;31mXlaRuntimeError\u001b[0m                           Traceback (most recent call last)",
      "Cell \u001b[0;32mIn[18], line 4\u001b[0m\n\u001b[1;32m      1\u001b[0m init_value \u001b[38;5;241m=\u001b[39m dubins_tabular_cbf\u001b[38;5;241m.\u001b[39mvf_table \n\u001b[1;32m      2\u001b[0m times \u001b[38;5;241m=\u001b[39m jnp\u001b[38;5;241m.\u001b[39mlinspace(time, target_time, \u001b[38;5;241m101\u001b[39m)\n\u001b[0;32m----> 4\u001b[0m target_values \u001b[38;5;241m=\u001b[39m \u001b[43mhj\u001b[49m\u001b[38;5;241;43m.\u001b[39;49m\u001b[43msolve\u001b[49m\u001b[43m(\u001b[49m\u001b[43msolver_settings\u001b[49m\u001b[43m,\u001b[49m\u001b[43m \u001b[49m\u001b[43mdyn_hjr\u001b[49m\u001b[43m,\u001b[49m\u001b[43m \u001b[49m\u001b[43mgrid\u001b[49m\u001b[43m,\u001b[49m\u001b[43m \u001b[49m\u001b[43mtimes\u001b[49m\u001b[43m,\u001b[49m\u001b[43m \u001b[49m\u001b[43minit_value\u001b[49m\u001b[43m)\u001b[49m\n\u001b[1;32m      5\u001b[0m np\u001b[38;5;241m.\u001b[39msave(\u001b[38;5;124m'\u001b[39m\u001b[38;5;124mdubins/cbf_vfs.npy\u001b[39m\u001b[38;5;124m'\u001b[39m, target_values)\n",
      "    \u001b[0;31m[... skipping hidden 10 frame]\u001b[0m\n",
      "File \u001b[0;32m/usr/local/lib/python3.11/dist-packages/jax/_src/interpreters/pxla.py:1349\u001b[0m, in \u001b[0;36mExecuteReplicated.__call__\u001b[0;34m(self, *args)\u001b[0m\n\u001b[1;32m   1344\u001b[0m   \u001b[38;5;28mself\u001b[39m\u001b[38;5;241m.\u001b[39m_handle_token_bufs(\n\u001b[1;32m   1345\u001b[0m       results\u001b[38;5;241m.\u001b[39mdisassemble_prefix_into_single_device_arrays(\n\u001b[1;32m   1346\u001b[0m           \u001b[38;5;28mlen\u001b[39m(\u001b[38;5;28mself\u001b[39m\u001b[38;5;241m.\u001b[39mordered_effects)),\n\u001b[1;32m   1347\u001b[0m       results\u001b[38;5;241m.\u001b[39mconsume_token())\n\u001b[1;32m   1348\u001b[0m \u001b[38;5;28;01melse\u001b[39;00m:\n\u001b[0;32m-> 1349\u001b[0m   results \u001b[38;5;241m=\u001b[39m \u001b[38;5;28;43mself\u001b[39;49m\u001b[38;5;241;43m.\u001b[39;49m\u001b[43mxla_executable\u001b[49m\u001b[38;5;241;43m.\u001b[39;49m\u001b[43mexecute_sharded\u001b[49m\u001b[43m(\u001b[49m\u001b[43minput_bufs\u001b[49m\u001b[43m)\u001b[49m\n\u001b[1;32m   1350\u001b[0m \u001b[38;5;28;01mif\u001b[39;00m dispatch\u001b[38;5;241m.\u001b[39mneeds_check_special():\n\u001b[1;32m   1351\u001b[0m   out_arrays \u001b[38;5;241m=\u001b[39m results\u001b[38;5;241m.\u001b[39mdisassemble_into_single_device_arrays()\n",
      "\u001b[0;31mXlaRuntimeError\u001b[0m: RESOURCE_EXHAUSTED: Out of memory while trying to allocate 1322082324 bytes.\nBufferAssignment OOM Debugging.\nBufferAssignment stats:\n             parameter allocation:   49.94MiB\n              constant allocation:   12.48MiB\n        maybe_live_out allocation:    1.23GiB\n     preallocated temp allocation:    1.39GiB\n                 total allocation:    2.68GiB\n              total fragmentation:  138.71MiB (5.05%)\nPeak buffers:\n\tBuffer 1:\n\t\tSize: 1.23GiB\n\t\tOperator: op_name=\"jit(solve)/jit(main)/concatenate[dimension=0]\" source_file=\"/usr/local/lib/python3.11/dist-packages/hj_reachability/solver.py\" source_line=85\n\t\tXLA Label: fusion\n\t\tShape: f32[101,201,201,81]\n\t\t==========================\n\n\tBuffer 2:\n\t\tSize: 1.22GiB\n\t\tOperator: op_name=\"jit(solve)/jit(main)/broadcast_in_dim[shape=(100, 201, 201, 81) broadcast_dimensions=()]\" source_file=\"/usr/local/lib/python3.11/dist-packages/hj_reachability/solver.py\" source_line=87\n\t\tXLA Label: fusion\n\t\tShape: f32[100,201,201,81]\n\t\t==========================\n\n\tBuffer 3:\n\t\tSize: 37.45MiB\n\t\tEntry Parameter Subshape: f32[201,201,81,3]\n\t\t==========================\n\n\tBuffer 4:\n\t\tSize: 12.48MiB\n\t\tXLA Label: fusion\n\t\tShape: f32[201,201,81]\n\t\t==========================\n\n\tBuffer 5:\n\t\tSize: 12.48MiB\n\t\tXLA Label: constant\n\t\tShape: f32[201,201,81]\n\t\t==========================\n\n\tBuffer 6:\n\t\tSize: 12.48MiB\n\t\tEntry Parameter Subshape: f32[201,201,81]\n\t\t==========================\n\n\tBuffer 7:\n\t\tSize: 804B\n\t\tEntry Parameter Subshape: f32[201]\n\t\t==========================\n\n\tBuffer 8:\n\t\tSize: 804B\n\t\tEntry Parameter Subshape: f32[201]\n\t\t==========================\n\n\tBuffer 9:\n\t\tSize: 404B\n\t\tEntry Parameter Subshape: f32[101]\n\t\t==========================\n\n\tBuffer 10:\n\t\tSize: 400B\n\t\tOperator: op_name=\"jit(solve)/jit(main)/dynamic_slice[slice_sizes=(100,)]\" source_file=\"/usr/local/lib/python3.11/dist-packages/hj_reachability/solver.py\" source_line=90\n\t\tXLA Label: slice\n\t\tShape: f32[100]\n\t\t==========================\n\n\tBuffer 11:\n\t\tSize: 324B\n\t\tEntry Parameter Subshape: f32[81]\n\t\t==========================\n\n\tBuffer 12:\n\t\tSize: 96B\n\t\tXLA Label: tuple\n\t\tShape: (s32[], f32[], f32[201,201,81], token[], f32[100,201,201,81], /*index=5*/f32[100], f32[], f32[], f32[201,201,81,3], f32[], /*index=10*/f32[], f32[])\n\t\t==========================\n\n\tBuffer 13:\n\t\tSize: 80B\n\t\tXLA Label: tuple\n\t\tShape: (f32[], f32[201,201,81], token[], f32[], f32[], /*index=5*/f32[201,201,81,3], f32[], f32[], f32[], f32[])\n\t\t==========================\n\n\tBuffer 14:\n\t\tSize: 24B\n\t\tOperator: op_name=\"jit(solve)/jit(main)/while/body/jit(step)/while/body/abs\" source_file=\"/usr/local/lib/python3.11/dist-packages/hj_reachability/solver.py\" source_line=73\n\t\tXLA Label: fusion\n\t\tShape: (f32[], f32[], f32[])\n\t\t==========================\n\n\tBuffer 15:\n\t\tSize: 16B\n\t\tXLA Label: fusion\n\t\tShape: (f32[201,201,81], f32[201,201,81])\n\t\t==========================\n\n"
     ]
    }
   ],
   "source": [
    "init_value = dubins_tabular_cbf.vf_table \n",
    "times = jnp.linspace(time, target_time, 101)\n",
    "\n",
    "target_values = hj.solve(solver_settings, dyn_hjr, grid, times, init_value)\n",
    "np.save('dubins/cbf_vfs.npy', target_values)"
   ]
  },
  {
   "cell_type": "code",
   "execution_count": null,
   "metadata": {},
   "outputs": [],
   "source": [
    "tabular_cbf = refine_cbfs.TabularControlAffineCBF(dyn, grid=grid)\n",
    "tabular_cbf.vf_table = np.array(target_values[-1])"
   ]
  },
  {
   "cell_type": "markdown",
   "metadata": {},
   "source": [
    "## Running an experiment (Same as the Paper)"
   ]
  },
  {
   "cell_type": "code",
   "execution_count": null,
   "metadata": {},
   "outputs": [],
   "source": [
    "x0 = np.array([2, 4, np.pi / 3])\n",
    "n_sims_per_start = 1\n",
    "t_sim = 6"
   ]
  },
  {
   "cell_type": "markdown",
   "metadata": {},
   "source": [
    "### Setting up the nominal controller\n",
    "Setting up the nominal controller is non-trivial as outlined in the first section of the notebook\n",
    "\n",
    "We use HJ reachability instead (but any other nominal controller that can handle non-holonomic constraints, e.g. RRT* could be used)"
   ]
  },
  {
   "cell_type": "code",
   "execution_count": null,
   "metadata": {},
   "outputs": [],
   "source": [
    "target = np.array([6, 7, 0])\n",
    "\n",
    "opt_ctrl = nominal_hjr_control.NominalControlHJNP(dyn_hjr, grid, final_time=-30, time_intervals=101, solver_accuracy=\"low\", \n",
    "                                                  target=target, padding=jnp.array([.2, .2, jnp.pi / 6]))\n",
    "\n",
    "opt_ctrl.solve()\n",
    "np.save(\"dubins/performance_policy_vfs.npy\", opt_ctrl.tv_vf)\n",
    "    \n",
    "nom_policy = nominal_hjr_control.NominalPolicy(opt_ctrl)"
   ]
  },
  {
   "cell_type": "markdown",
   "metadata": {},
   "source": [
    "### Setting up the safety filter"
   ]
  },
  {
   "cell_type": "code",
   "execution_count": null,
   "metadata": {},
   "outputs": [],
   "source": [
    "alpha = lambda x: 5 * x\n",
    "dubins_asif = ControlAffineASIF(dyn, dubins_cbf, alpha=alpha, nominal_policy=nom_policy)\n",
    "dubins_asif_ws = ControlAffineASIF(dyn, tabular_cbf, alpha=alpha, nominal_policy=nom_policy, umin=umin, umax=umax)"
   ]
  },
  {
   "cell_type": "markdown",
   "metadata": {},
   "source": [
    "### Rollout different CBFs / nominal controller"
   ]
  },
  {
   "cell_type": "code",
   "execution_count": null,
   "metadata": {},
   "outputs": [],
   "source": [
    "experiment = RolloutTrajectory('dubins', start_x=x0, n_sims_per_start=n_sims_per_start, t_sim=t_sim)"
   ]
  },
  {
   "cell_type": "code",
   "execution_count": null,
   "metadata": {},
   "outputs": [],
   "source": [
    "import logging\n",
    "import pandas as pd\n",
    "logging.getLogger('cbf_opt').setLevel(level=logging.ERROR)  # Surpresses warnings\n",
    "results_df = experiment.run(dyn, {'Nominal': nom_policy, 'Analytical': dubins_asif, 'Refined': dubins_asif_ws})"
   ]
  },
  {
   "cell_type": "markdown",
   "metadata": {},
   "source": [
    "### Visualizing the results"
   ]
  },
  {
   "cell_type": "code",
   "execution_count": null,
   "metadata": {},
   "outputs": [],
   "source": [
    "ts_experiment = TimeSeriesExperiment('dubins', start_x=x0, n_sims_per_start=n_sims_per_start, t_sim=t_sim)\n",
    "ss_experiment = StateSpaceExperiment('dubins', x_indices=[0, 1], start_x=x0, n_sims_per_start=n_sims_per_start, t_sim=t_sim)"
   ]
  },
  {
   "cell_type": "markdown",
   "metadata": {},
   "source": [
    "Next, we remove the part of the trajectory that is beyond the target! (Dubins car can't stabilize so we consider a finite-time reaching scenario)"
   ]
  },
  {
   "cell_type": "code",
   "execution_count": null,
   "metadata": {},
   "outputs": [],
   "source": [
    "updated_df = results_df.copy()\n",
    "for ctrl in updated_df.controller.unique():\n",
    "    df = updated_df[(updated_df.controller == ctrl) & (updated_df.measurement == 'dist_to_goal')]\n",
    "    min_val = df.value.min()\n",
    "    t_min = df.t.loc[df.value == df.value.min()].values[0]\n",
    "    condition = updated_df[(updated_df.controller == ctrl) & (updated_df.t > t_min)]\n",
    "    updated_df = updated_df.drop(condition.index)\n",
    "updated_df = updated_df.reset_index(drop=True)"
   ]
  },
  {
   "cell_type": "markdown",
   "metadata": {},
   "source": [
    "## Visualizations for paper + demo + videos"
   ]
  },
  {
   "cell_type": "markdown",
   "metadata": {},
   "source": [
    "### Figure in paper"
   ]
  },
  {
   "cell_type": "code",
   "execution_count": null,
   "metadata": {},
   "outputs": [],
   "source": [
    "colors = sns.color_palette(\"tab10\")\n",
    "chosen_colors = [(0.5, 0.5, 0.5)]\n",
    "chosen_colors.append(colors[0])\n",
    "chosen_colors.append(colors[1])\n",
    "chosen_colors.append((0.1, 0.1, 0.1))\n",
    "chosen_colors.append((0.7, 0.7, 0.7))\n",
    "\n",
    "colors = [(0.3, 0.3, 0.3)]\n",
    "colors += [(sns.color_palette(\"RdYlGn_r\", 7)[0])]\n",
    "colors += [(sns.color_palette(\"RdYlGn_r\", 9)[6])]\n",
    "colors += [(sns.color_palette(\"RdYlGn_r\", 9)[8])]\n",
    "colors += [(4 / 255, 101 / 255, 4 / 255)]\n",
    "\n",
    "alt_colors = sns.color_palette(\"pastel\", 9).as_hex()"
   ]
  },
  {
   "cell_type": "code",
   "execution_count": null,
   "metadata": {},
   "outputs": [],
   "source": [
    "save_figure = False\n",
    "offset = 0"
   ]
  },
  {
   "cell_type": "code",
   "execution_count": null,
   "metadata": {},
   "outputs": [],
   "source": [
    "fig_comb, axs = plt.subplots(1, 2, figsize=(16, 12 ), sharey=True)\n",
    "proxy = [] \n",
    "ax=axs[0]\n",
    "\n",
    "cs = ax.contourf(grid.coordinate_vectors[1], grid.coordinate_vectors[0], obstacle[..., offset], \n",
    "                 levels=[-10, 0], alpha=0.3, colors='grey')\n",
    "ax.contour(grid.coordinate_vectors[1], grid.coordinate_vectors[0], obstacle[..., offset], \n",
    "           levels=[0], alpha=0.6, colors='grey', linewidths=2)\n",
    "cs = ax.contourf(grid.coordinate_vectors[1], grid.coordinate_vectors[0], target_values_hjr[-1][..., offset], \n",
    "                 levels=[0, 50], colors=alt_colors[2], alpha=0.3)\n",
    "cont = ax.contour(grid.coordinate_vectors[1], grid.coordinate_vectors[0], \n",
    "                   target_values[0][..., offset], levels=[0], colors=colors, linewidths=6, alpha=0.6)\n",
    "cont = ax.contour(grid.coordinate_vectors[1], grid.coordinate_vectors[0], \n",
    "                   target_values[5][..., offset], levels=[0], colors=colors, linewidths=6, alpha=0.4)\n",
    "cont = ax.contour(grid.coordinate_vectors[1], grid.coordinate_vectors[0], \n",
    "                   target_values[10][..., offset], levels=[0], colors=colors, linewidths=6, alpha=0.2)\n",
    "cont = ax.contour(grid.coordinate_vectors[1], grid.coordinate_vectors[0], \n",
    "                   target_values[-1][..., offset], levels=[0], colors=np.array([colors[-1]]), linewidths=6)\n",
    "\n",
    "ax.grid()\n",
    "ax.set_xlabel(\"$x$ [m]\")\n",
    "ax.set_ylabel('$y$ [m]')\n",
    "ax.set_xlim([1.5, 6.5])\n",
    "ax.set_ylim([3, 8])\n",
    "ax.set_title(r\"Iterations of CBF's safe set ($\\theta=-\\pi / 2$ slice)\")\n",
    "ax = axs[1]\n",
    "ss_experiment.plot(dyn, updated_df, ax=ax, color=chosen_colors, add_direction=False)\n",
    "ax.grid(True)\n",
    "ax.set_xlim([1.5, 6.5])\n",
    "ax.set_ylim([3, 8])\n",
    "ax.lines[3].set_linestyle((0, (5, 5, 1, 5)))\n",
    "pal = sns.color_palette(\"colorblind\")\n",
    "sns.set_palette(\"colorblind\")\n",
    "\n",
    "l1 = ax.plot(x0[0], x0[1], 'x', markersize=25, mew=5, color='grey')\n",
    "l2 = ax.plot(opt_ctrl.target[0], opt_ctrl.target[1], 'o', markersize=25, color='grey', alpha=1)\n",
    "miscs = [l1, l2]\n",
    "ax.contourf(grid.coordinate_vectors[1], grid.coordinate_vectors[0], obstacle[..., 0], levels=[-10, 0], \n",
    "            colors='grey', alpha=.3)\n",
    "ax.contour(grid.coordinate_vectors[1], grid.coordinate_vectors[0], obstacle[..., 0], levels=[0], \n",
    "           colors='grey', alpha=.6, linewidths=2)\n",
    "ax.set_ylabel(None)\n",
    "ax.set_xlabel(\"$x$ [m]\")\n",
    "axs[1].set_title('Trajectories with safety filter')\n",
    "leg = axs[1].legend([misc[0] for misc in miscs], ['Start', 'Goal'], ncol=2, bbox_to_anchor=[.5, 0.05], loc='center', \n",
    "                    frameon=True, handletextpad=0.6)\n",
    "axs[1].legend([ax.lines[0], ax.lines[3], ax.lines[6]], [r\"Nominal $(\\hat \\pi)$\", \"Candidate CBF\", \"Converged CBVF\"], \n",
    "               bbox_to_anchor=[.36, 0.89], ncol=1, columnspacing=1.5, handletextpad=1, loc='center', frameon=True)\n",
    "axs[1].add_artist(leg)\n",
    "\n",
    "fig_comb.tight_layout()\n",
    "plt.subplots_adjust(wspace=0.05, hspace=0)\n",
    "\n",
    "if save_figure:\n",
    "    plt.savefig(\"dubins.png\", dpi=400, bbox_inches='tight')\n"
   ]
  },
  {
   "cell_type": "markdown",
   "metadata": {},
   "source": [
    "### Animation of 0-superlevel set"
   ]
  },
  {
   "cell_type": "code",
   "execution_count": null,
   "metadata": {},
   "outputs": [],
   "source": [
    "toggle_hjr_visualization = False\n",
    "save_video = False\n",
    "offset = 21"
   ]
  },
  {
   "cell_type": "code",
   "execution_count": null,
   "metadata": {},
   "outputs": [],
   "source": [
    "def render_frame(i, colorbar=False):\n",
    "    global cont\n",
    "    for c in cont.collections:\n",
    "        c.remove()\n",
    "\n",
    "    timestamp.set_text(\"Iteration = {}\".format(i))\n",
    "    cont = ax.contour(grid.coordinate_vectors[1], grid.coordinate_vectors[0], target_values[i][..., offset], levels=[0], \n",
    "                      colors=np.array([colors[-1]]))\n",
    "    if toggle_hjr_visualization:\n",
    "        global cont2\n",
    "        for c in cont2.collections:\n",
    "            c.remove()\n",
    "        cont2 = ax.contour(grid.coordinate_vectors[1], grid.coordinate_vectors[0], target_values_hjr[i][..., offset], levels=[0],\n",
    "                           colors=np.array([chosen_colors[0]]))\n",
    "\n",
    "\n",
    "filename = \"dubins.mp4\"\n",
    "fig, ax = plt.subplots(1, 1, figsize=(18,9 ))\n",
    "\n",
    "proxy = [] \n",
    "obstacle_viz = ax.contourf(grid.coordinate_vectors[1], grid.coordinate_vectors[0], obstacle[..., offset], \n",
    "                           levels=[-10, 0], colors='grey', alpha=0.3)\n",
    "\n",
    "cs = ax.contourf(grid.coordinate_vectors[1], grid.coordinate_vectors[0], target_values_hjr[-1][..., offset], levels=[0, 50], \n",
    "                 colors=alt_colors[2], alpha=0.3)\n",
    "cont = ax.contour(grid.coordinate_vectors[1], grid.coordinate_vectors[0], target_values[0][..., offset], levels=[0], \n",
    "                  colors=np.array([colors[3]]))\n",
    "proxy += [plt.Rectangle((0,0),1,1,ec = colors[3], fc='white', lw=5)\n",
    "        for pc in cont.collections]\n",
    "\n",
    "timestamp = ax.text(0.05, 0.9, \"\", transform=ax.transAxes)\n",
    "\n",
    "\n",
    "cont = ax.contour(grid.coordinate_vectors[1], grid.coordinate_vectors[0], target_values[0][..., offset], levels=[0], \n",
    "                  colors=np.array([colors[-1]]))\n",
    "proxy += [plt.Rectangle((0,0),1,1,ec = colors[-1], fc='white', lw=5)\n",
    "          for pc in cont.collections]\n",
    "if toggle_hjr_visualization:\n",
    "    cont2 = ax.contour(grid.coordinate_vectors[1], grid.coordinate_vectors[0], target_values_hjr[0][..., offset], levels=[0], \n",
    "                       colors=np.array([chosen_colors[0]]))\n",
    "    proxy += [plt.Rectangle((0,0),1,1,ec = chosen_colors[0], fc='white', lw=5)\n",
    "              for pc in cont2.collections]\n",
    "\n",
    "ax.grid()\n",
    "ax.set_xlabel(\"$x$ [m]\")\n",
    "ax.set_xlim([1, 10])\n",
    "ax.set_ylim([2.5, 8])\n",
    "ax.set_ylabel(\"$y$ [m]\")\n",
    "\n",
    "proxy2 = []\n",
    "proxy2 += [plt.Rectangle((0,0),1,1,fc = alt_colors[2], ec='white', alpha=0.3) for pc in cs.collections]\n",
    "proxy2 += [plt.Rectangle((0,0),1,1, fc='grey', ec='grey', alpha=0.3) for pc in obstacle_viz.collections]\n",
    "\n",
    "legend_entries = [\"$\\partial \\mathcal{C}_h$\", \"$\\partial \\mathcal{C}_h(t)$\"]\n",
    "if toggle_hjr_visualization:\n",
    "    legend_entries += [\"$\\partial \\mathcal{C}_{\\ell}(t)$\"]\n",
    "leg = ax.legend(proxy, legend_entries, \n",
    "          loc='center', bbox_to_anchor=(0.5, 0.9), ncol=3, columnspacing=1.5, handletextpad=0.4)\n",
    "ax.legend(proxy2, [\"Viability kernel $\\mathcal{S}^*$\", \"Obstacle $\\mathcal{L}^c$\"],\n",
    "          loc='center', bbox_to_anchor=(0.5, 0.07), ncol=3, columnspacing=1.5, handletextpad=0.4)\n",
    "ax.add_artist(leg)\n",
    "\n",
    "\n",
    "render_frame(0, False)\n",
    "animation = anim.FuncAnimation(fig, render_frame, target_values.shape[0] * 5 // 16, interval=100)\n",
    "\n",
    "if save_video: \n",
    "    animation.save(filename, writer='ffmpeg')"
   ]
  },
  {
   "cell_type": "code",
   "execution_count": null,
   "metadata": {},
   "outputs": [],
   "source": []
  },
  {
   "cell_type": "code",
   "execution_count": null,
   "metadata": {},
   "outputs": [],
   "source": []
  },
  {
   "cell_type": "code",
   "execution_count": null,
   "metadata": {},
   "outputs": [],
   "source": []
  },
  {
   "cell_type": "code",
   "execution_count": null,
   "metadata": {},
   "outputs": [],
   "source": []
  },
  {
   "cell_type": "code",
   "execution_count": null,
   "metadata": {},
   "outputs": [],
   "source": []
  },
  {
   "cell_type": "code",
   "execution_count": null,
   "metadata": {},
   "outputs": [],
   "source": []
  },
  {
   "cell_type": "code",
   "execution_count": null,
   "metadata": {},
   "outputs": [],
   "source": []
  },
  {
   "cell_type": "code",
   "execution_count": null,
   "metadata": {},
   "outputs": [],
   "source": []
  },
  {
   "cell_type": "code",
   "execution_count": null,
   "metadata": {},
   "outputs": [],
   "source": []
  },
  {
   "cell_type": "code",
   "execution_count": null,
   "metadata": {},
   "outputs": [],
   "source": []
  },
  {
   "cell_type": "code",
   "execution_count": null,
   "metadata": {},
   "outputs": [],
   "source": []
  },
  {
   "cell_type": "code",
   "execution_count": null,
   "metadata": {},
   "outputs": [],
   "source": []
  },
  {
   "cell_type": "code",
   "execution_count": null,
   "metadata": {},
   "outputs": [],
   "source": []
  },
  {
   "cell_type": "code",
   "execution_count": null,
   "metadata": {},
   "outputs": [],
   "source": []
  },
  {
   "cell_type": "code",
   "execution_count": null,
   "metadata": {},
   "outputs": [],
   "source": []
  },
  {
   "cell_type": "code",
   "execution_count": null,
   "metadata": {},
   "outputs": [],
   "source": []
  },
  {
   "cell_type": "code",
   "execution_count": null,
   "metadata": {},
   "outputs": [],
   "source": []
  },
  {
   "cell_type": "code",
   "execution_count": null,
   "metadata": {},
   "outputs": [],
   "source": []
  },
  {
   "cell_type": "code",
   "execution_count": null,
   "metadata": {},
   "outputs": [],
   "source": []
  },
  {
   "cell_type": "code",
   "execution_count": null,
   "metadata": {},
   "outputs": [],
   "source": []
  }
 ],
 "metadata": {
  "kernelspec": {
   "display_name": "Python 3 (ipykernel)",
   "language": "python",
   "name": "python3"
  },
  "language_info": {
   "codemirror_mode": {
    "name": "ipython",
    "version": 3
   },
   "file_extension": ".py",
   "mimetype": "text/x-python",
   "name": "python",
   "nbconvert_exporter": "python",
   "pygments_lexer": "ipython3",
   "version": "3.11.5"
  },
  "vscode": {
   "interpreter": {
    "hash": "817647b86e70f13476c612841a53261b77d8bded203e176d956e3e918f8a40e2"
   }
  }
 },
 "nbformat": 4,
 "nbformat_minor": 4
}
