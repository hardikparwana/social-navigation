{
 "cells": [
  {
   "cell_type": "code",
   "execution_count": 2,
   "id": "d3acdf44-ad2b-4ce5-ba18-288bd92328fd",
   "metadata": {},
   "outputs": [],
   "source": [
    "\n",
    "\n",
    "import jax\n",
    "import jax.numpy as jnp\n",
    "import numpy as np\n",
    "\n",
    "from IPython.display import HTML\n",
    "import matplotlib.animation as anim\n",
    "import matplotlib.pyplot as plt\n",
    "# import plotly.graph_objects as go\n",
    "\n",
    "import hj_reachability as hj\n",
    "\n"
   ]
  },
  {
   "cell_type": "code",
   "execution_count": 3,
   "id": "77c5793b-1423-46e0-9cbe-114395980212",
   "metadata": {},
   "outputs": [
    {
     "name": "stdout",
     "output_type": "stream",
     "text": [
      "gpu\n"
     ]
    }
   ],
   "source": [
    "from jax.lib import xla_bridge\n",
    "print(xla_bridge.get_backend().platform)"
   ]
  },
  {
   "cell_type": "code",
   "execution_count": 4,
   "id": "119978ca-ee81-490f-8bae-a784765bfb1c",
   "metadata": {},
   "outputs": [],
   "source": [
    "class DoubleIntegrator(hj.ControlAndDisturbanceAffineDynamics):\n",
    "\n",
    "    def __init__(self, \n",
    "                 max_acceleration=1.,\n",
    "                 max_disturbance=0.0,\n",
    "                 control_mode=\"max\", \n",
    "                 disturbance_mode=\"min\",\n",
    "                 control_space = None,\n",
    "                 disturbance_space = None):\n",
    "\n",
    "        if control_space is None:\n",
    "            control_space = hj.sets.Box(jnp.array([-max_acceleration]),\n",
    "                                        jnp.array([max_acceleration]) )\n",
    "\n",
    "        if disturbance_space is None:\n",
    "            disturbance_space = hj.sets.Ball(jnp.zeros(1), max_disturbance)\n",
    "\n",
    "        super().__init__(control_mode, disturbance_mode, control_space, disturbance_space)\n",
    "\n",
    "\n",
    "    def open_loop_dynamics(self, state, time):\n",
    "        v = state[1]\n",
    "        return jnp.array([v, 0.])\n",
    "\n",
    "    def control_jacobian(self, state, time):\n",
    "        return jnp.array( [\n",
    "            [0.,],\n",
    "            [1.,]\n",
    "        ])\n",
    "\n",
    "    def disturbance_jacobian(self, state, time):\n",
    "        return jnp.array( [\n",
    "            [0.,],\n",
    "            [1.,]\n",
    "        ])\n",
    "        "
   ]
  },
  {
   "cell_type": "code",
   "execution_count": 5,
   "id": "ec4f0989-f7a6-47c6-8cf8-d48d5dd2dcba",
   "metadata": {},
   "outputs": [],
   "source": [
    "dynamics = DoubleIntegrator()"
   ]
  },
  {
   "cell_type": "code",
   "execution_count": 6,
   "id": "0a40a50e-6de0-4c8d-a072-6fae30e25300",
   "metadata": {},
   "outputs": [],
   "source": [
    "grid = hj.Grid.from_lattice_parameters_and_boundary_conditions(hj.sets.Box(lo=np.array([0., -1.]),\n",
    "                                                                           hi=np.array([2., 2.])),\n",
    "                                                               (40, 40,), periodic_dims=[])"
   ]
  },
  {
   "cell_type": "code",
   "execution_count": 7,
   "id": "b1f7d7ff-70ec-4a2a-886d-b30ffdf20063",
   "metadata": {},
   "outputs": [
    {
     "data": {
      "text/plain": [
       "(40, 40, 2)"
      ]
     },
     "execution_count": 7,
     "metadata": {},
     "output_type": "execute_result"
    }
   ],
   "source": [
    "grid.states.shape"
   ]
  },
  {
   "cell_type": "code",
   "execution_count": 8,
   "id": "441e6235-1920-4569-89cf-afc5e2d619a4",
   "metadata": {},
   "outputs": [
    {
     "data": {
      "text/plain": [
       "(40, 40)"
      ]
     },
     "execution_count": 8,
     "metadata": {},
     "output_type": "execute_result"
    }
   ],
   "source": [
    "(1.5 - grid.states[:, :, 0]).shape"
   ]
  },
  {
   "cell_type": "code",
   "execution_count": 9,
   "id": "8ad4d952-7570-46be-8a58-8d6f4bd63abe",
   "metadata": {},
   "outputs": [
    {
     "data": {
      "text/plain": [
       "(40, 40, 2)"
      ]
     },
     "execution_count": 9,
     "metadata": {},
     "output_type": "execute_result"
    }
   ],
   "source": [
    "grid.states[..., :2].shape"
   ]
  },
  {
   "cell_type": "code",
   "execution_count": 10,
   "id": "56eaacbb-2705-4a42-acf4-5874d3b9b43d",
   "metadata": {},
   "outputs": [
    {
     "data": {
      "text/plain": [
       "Array([0.        , 0.05128205, 0.1025641 , 0.15384616, 0.20512821,\n",
       "       0.25641027, 0.30769232, 0.35897437, 0.41025642, 0.46153846,\n",
       "       0.51282054, 0.5641026 , 0.61538464, 0.6666667 , 0.71794873,\n",
       "       0.7692308 , 0.82051283, 0.8717949 , 0.9230769 , 0.974359  ,\n",
       "       1.0256411 , 1.0769231 , 1.1282052 , 1.1794872 , 1.2307693 ,\n",
       "       1.2820513 , 1.3333334 , 1.3846154 , 1.4358975 , 1.4871795 ,\n",
       "       1.5384616 , 1.5897436 , 1.6410257 , 1.6923077 , 1.7435898 ,\n",
       "       1.7948718 , 1.8461539 , 1.8974359 , 1.948718  , 2.        ],      dtype=float32)"
      ]
     },
     "execution_count": 10,
     "metadata": {},
     "output_type": "execute_result"
    }
   ],
   "source": [
    "(grid.coordinate_vectors[0])"
   ]
  },
  {
   "cell_type": "code",
   "execution_count": 11,
   "id": "62752bff-e7aa-4bd9-9e9e-537a8e8b59d0",
   "metadata": {},
   "outputs": [],
   "source": [
    "values = (1.5 - grid.states[:, :, 0])\n",
    "# values= jnp.linalg.norm(grid.states[..., :2], axis=-1) - 2"
   ]
  },
  {
   "cell_type": "code",
   "execution_count": 12,
   "id": "64598af0-7875-4eaa-9a3c-08ed2c28f5a8",
   "metadata": {},
   "outputs": [
    {
     "data": {
      "text/plain": [
       "(40, 40)"
      ]
     },
     "execution_count": 12,
     "metadata": {},
     "output_type": "execute_result"
    }
   ],
   "source": [
    "values.shape"
   ]
  },
  {
   "cell_type": "code",
   "execution_count": 13,
   "id": "8b2ec7c8-e245-472d-b6dd-08bee42a5b50",
   "metadata": {},
   "outputs": [
    {
     "data": {
      "text/plain": [
       "<matplotlib.contour.QuadContourSet at 0x7fd1ac0f2ce0>"
      ]
     },
     "execution_count": 13,
     "metadata": {},
     "output_type": "execute_result"
    },
    {
     "data": {
      "text/plain": [
       "<Figure size 640x480 with 0 Axes>"
      ]
     },
     "metadata": {},
     "output_type": "display_data"
    },
    {
     "data": {
      "image/png": "[encoded data removed]",
      "text/plain": [
       "<Figure size 1300x800 with 2 Axes>"
      ]
     },
     "metadata": {},
     "output_type": "display_data"
    }
   ],
   "source": [
    "\n",
    "\n",
    "plt.jet()\n",
    "plt.figure(figsize=(13, 8))\n",
    "plt.contourf(grid.coordinate_vectors[0], grid.coordinate_vectors[1], values.T)\n",
    "plt.colorbar()\n",
    "plt.contour(grid.coordinate_vectors[0],\n",
    "            grid.coordinate_vectors[1],\n",
    "            values[:, :].T,\n",
    "            levels=0,\n",
    "            colors=\"black\",\n",
    "            linewidths=3)\n",
    "\n"
   ]
  },
  {
   "cell_type": "code",
   "execution_count": 14,
   "id": "1b3c2ede-d67d-4319-88c3-365c96070a82",
   "metadata": {},
   "outputs": [
    {
     "name": "stderr",
     "output_type": "stream",
     "text": [
      "100%|############################################################################################################################################################################################################################|  1.0000/1.0 [00:00<00:00, 284.21sim_s/s]\n"
     ]
    }
   ],
   "source": [
    "solver_settings = hj.SolverSettings.with_accuracy(\"very_high\",\n",
    "                                                 hamiltonian_postprocessor=hj.solver.backwards_reachable_tube)\n",
    "time = 0.\n",
    "target_time = -1.0\n",
    "target_values = hj.step(solver_settings, dynamics, grid, time, values, target_time)"
   ]
  },
  {
   "cell_type": "code",
   "execution_count": 15,
   "id": "71d768a5-f839-4b9b-bec1-e29ca773afd8",
   "metadata": {},
   "outputs": [
    {
     "data": {
      "text/plain": [
       "<matplotlib.contour.QuadContourSet at 0x7fd1645712d0>"
      ]
     },
     "execution_count": 15,
     "metadata": {},
     "output_type": "execute_result"
    },
    {
     "data": {
      "text/plain": [
       "<Figure size 640x480 with 0 Axes>"
      ]
     },
     "metadata": {},
     "output_type": "display_data"
    },
    {
     "data": {
      "image/png": "[encoded data removed]",
      "text/plain": [
       "<Figure size 1300x800 with 2 Axes>"
      ]
     },
     "metadata": {},
     "output_type": "display_data"
    }
   ],
   "source": [
    "\n",
    "plt.jet()\n",
    "plt.figure(figsize=(13, 8))\n",
    "plt.contourf(grid.coordinate_vectors[0], grid.coordinate_vectors[1], target_values.T)\n",
    "plt.colorbar()\n",
    "plt.contour(grid.coordinate_vectors[0],\n",
    "            grid.coordinate_vectors[1],\n",
    "            target_values[:, :].T,\n",
    "            levels=0,\n",
    "            colors=\"black\",\n",
    "            linewidths=3)\n"
   ]
  },
  {
   "cell_type": "code",
   "execution_count": 16,
   "id": "0717d574-05ed-46eb-8967-040cca879583",
   "metadata": {},
   "outputs": [
    {
     "data": {
      "text/plain": [
       "Array([[nan, nan, nan, ..., nan, nan, nan],\n",
       "       [nan, nan, nan, ..., nan, nan, nan],\n",
       "       [nan, nan, nan, ..., nan, nan, nan],\n",
       "       ...,\n",
       "       [nan, nan, nan, ..., nan, nan, nan],\n",
       "       [nan, nan, nan, ..., nan, nan, nan],\n",
       "       [nan, nan, nan, ..., nan, nan, nan]], dtype=float32)"
      ]
     },
     "execution_count": 16,
     "metadata": {},
     "output_type": "execute_result"
    }
   ],
   "source": [
    "target_values"
   ]
  },
  {
   "cell_type": "code",
   "execution_count": 17,
   "id": "e19a7341-d8b8-47be-93f3-abea5728086f",
   "metadata": {},
   "outputs": [
    {
     "data": {
      "text/plain": [
       "Array(True, dtype=bool)"
      ]
     },
     "execution_count": 17,
     "metadata": {},
     "output_type": "execute_result"
    }
   ],
   "source": [
    "jnp.any(jnp.isnan(target_values))"
   ]
  },
  {
   "cell_type": "code",
   "execution_count": null,
   "id": "6283ac5d-5ae1-4007-97f4-37358033d3c9",
   "metadata": {},
   "outputs": [],
   "source": []
  },
  {
   "cell_type": "code",
   "execution_count": null,
   "id": "1efbc0fd-885c-4803-8acb-fd0dd6023fd0",
   "metadata": {},
   "outputs": [],
   "source": []
  },
  {
   "cell_type": "code",
   "execution_count": null,
   "id": "9b3ffcd6-6b7d-4bc4-b731-78c2ecab23a3",
   "metadata": {},
   "outputs": [],
   "source": []
  }
 ],
 "metadata": {
  "kernelspec": {
   "display_name": "Python 3 (ipykernel)",
   "language": "python",
   "name": "python3"
  },
  "language_info": {
   "codemirror_mode": {
    "name": "ipython",
    "version": 3
   },
   "file_extension": ".py",
   "mimetype": "text/x-python",
   "name": "python",
   "nbconvert_exporter": "python",
   "pygments_lexer": "ipython3",
   "version": "3.11.5"
  }
 },
 "nbformat": 4,
 "nbformat_minor": 5
}
