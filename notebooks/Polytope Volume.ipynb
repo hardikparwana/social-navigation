{
 "cells": [
  {
   "cell_type": "markdown",
   "id": "9c28fc1a",
   "metadata": {},
   "source": [
    "# Using Polytope package"
   ]
  },
  {
   "cell_type": "code",
   "execution_count": 1,
   "id": "6df89802",
   "metadata": {},
   "outputs": [
    {
     "name": "stderr",
     "output_type": "stream",
     "text": [
      "`polytope` failed to import `cvxopt.glpk`.\n",
      "will use `scipy.optimize.linprog`\n"
     ]
    },
    {
     "name": "stdout",
     "output_type": "stream",
     "text": [
      "0.538\n",
      "2.0040000000000004\n"
     ]
    }
   ],
   "source": [
    "\"\"\"How to compute a polytope's volume.\"\"\"\n",
    "import numpy as np\n",
    "import polytope\n",
    "\n",
    "# constructing a convex polytope and computing its volume\n",
    "vertices = np.array([[0.0, 0.0], [1.0, 0.0], [0.0, 1.0]])\n",
    "hull = polytope.qhull(vertices)\n",
    "    # `hull` is an instance of the class `polytope.polytope.Polytope`\n",
    "    # which is for representing a convex polytope\n",
    "print(hull.volume)\n",
    "\n",
    "# constructing a nonconvex polytope and computing its volume\n",
    "vertices_1 = np.array([[0.0, 0.0], [0.0, 1.0], [2.0, 1.0]])\n",
    "vertices_2 = np.array([[0.0, 1.0], [1.0, 1.0], [1.0, 2.0], [0.0, 2.0]])\n",
    "hull_1 = polytope.qhull(vertices_1)  # convex hull of vertices in `vertices_1`\n",
    "hull_2 = polytope.qhull(vertices_2)  # convex hull of vertices in `vertices_2`\n",
    "nonconvex = hull_1.union(hull_2)  # construct union of convex polytopes\n",
    "    # `nonconvex` is an instance of the class `polytope.polytope.Region`\n",
    "    # which is for representing any polytope, including nonconvex ones,\n",
    "    # and in this case can also be constructed with\n",
    "    # `polytope.polytope.Region([hull_1, hull_2])`\n",
    "print(polytope.volume( nonconvex ))"
   ]
  },
  {
   "cell_type": "code",
   "execution_count": 2,
   "id": "ada3d930",
   "metadata": {},
   "outputs": [
    {
     "data": {
      "text/plain": [
       "2.0040000000000004"
      ]
     },
     "execution_count": 2,
     "metadata": {},
     "output_type": "execute_result"
    }
   ],
   "source": [
    "polytope.volume(nonconvex, nsamples=50000)"
   ]
  },
  {
   "cell_type": "code",
   "execution_count": 3,
   "id": "482c580b",
   "metadata": {},
   "outputs": [
    {
     "data": {
      "text/plain": [
       "2.0040000000000004"
      ]
     },
     "execution_count": 3,
     "metadata": {},
     "output_type": "execute_result"
    }
   ],
   "source": [
    "nonconvex.volume"
   ]
  },
  {
   "cell_type": "markdown",
   "id": "b5ed77cb",
   "metadata": {},
   "source": [
    "# Find Ellipse with cvxpy"
   ]
  },
  {
   "cell_type": "code",
   "execution_count": 4,
   "id": "9b16029b",
   "metadata": {},
   "outputs": [],
   "source": [
    "import polytope as pt\n",
    "# problem data\n",
    "n = 2;\n",
    "points = np.array\n",
    "px = np.array([0, .5, 2, 3, 1]).reshape(-1,1);\n",
    "py = np.array([0, 1, 1.5, .5, -.5]).reshape(-1,1);\n",
    "points = np.append( px, py, axis=1 )\n",
    "m = px.shape[1]\n",
    "pxint = np.sum(px)/m; \n",
    "pyint = np.sum(py)/m;\n",
    "px = np.append(px,  px[0])\n",
    "py = np.append(py, py[0])"
   ]
  },
  {
   "cell_type": "code",
   "execution_count": 5,
   "id": "8932e573",
   "metadata": {},
   "outputs": [
    {
     "data": {
      "text/plain": [
       "array([[ 0. ,  0. ],\n",
       "       [ 0.5,  1. ],\n",
       "       [ 2. ,  1.5],\n",
       "       [ 3. ,  0.5],\n",
       "       [ 1. , -0.5]])"
      ]
     },
     "execution_count": 5,
     "metadata": {},
     "output_type": "execute_result"
    }
   ],
   "source": [
    "points"
   ]
  },
  {
   "cell_type": "code",
   "execution_count": 6,
   "id": "b691a83d",
   "metadata": {},
   "outputs": [],
   "source": [
    " hull = pt.qhull(points)"
   ]
  },
  {
   "cell_type": "code",
   "execution_count": 7,
   "id": "4f6a6efb",
   "metadata": {},
   "outputs": [],
   "source": [
    "A, b = hull.A, hull.b.reshape(-1,1)"
   ]
  },
  {
   "cell_type": "code",
   "execution_count": 8,
   "id": "5ab0c3af",
   "metadata": {},
   "outputs": [
    {
     "data": {
      "text/plain": [
       "-0.09773305109041622"
      ]
     },
     "execution_count": 8,
     "metadata": {},
     "output_type": "execute_result"
    }
   ],
   "source": [
    "import cvxpy as cp\n",
    "# formulate and solve the problem\n",
    "B = cp.Variable((n,n), symmetric=True)\n",
    "d = cp.Variable((n,1))\n",
    "objective = cp.Maximize( cp.log_det( B ) )\n",
    "const = []\n",
    "for i in range( points.shape[0] ):\n",
    "    const += [ cp.norm( B @ A[i,:].reshape(-1,1) ) + A[i,:].reshape(1,-1) @ d <= b[i,0] ]\n",
    "prob = cp.Problem( objective, const )\n",
    "prob.solve()"
   ]
  },
  {
   "cell_type": "markdown",
   "id": "87ae57c2",
   "metadata": {},
   "source": [
    "# Finding circle with cvxpy"
   ]
  },
  {
   "cell_type": "code",
   "execution_count": 9,
   "id": "d5f0f5fa",
   "metadata": {},
   "outputs": [
    {
     "data": {
      "text/plain": [
       "0.7640840052119809"
      ]
     },
     "execution_count": 9,
     "metadata": {},
     "output_type": "execute_result"
    }
   ],
   "source": [
    "r = cp.Variable()\n",
    "c = cp.Variable((2,1))\n",
    "objective2 = cp.Maximize(r)\n",
    "const2 = []\n",
    "for i in range( points.shape[0] ):\n",
    "    const2 += [ A[i,:].reshape(1,-1) @ c + np.linalg.norm(A[i,:]) * r <= b[i,0] ]\n",
    "prob2 = cp.Problem( objective2, const2 )\n",
    "prob2.solve()"
   ]
  },
  {
   "cell_type": "code",
   "execution_count": null,
   "id": "34d5ef9e",
   "metadata": {},
   "outputs": [],
   "source": []
  },
  {
   "cell_type": "code",
   "execution_count": null,
   "id": "fbe8aaf4",
   "metadata": {},
   "outputs": [],
   "source": []
  },
  {
   "cell_type": "markdown",
   "id": "246cb4b2",
   "metadata": {},
   "source": [
    "# Plot results"
   ]
  },
  {
   "cell_type": "code",
   "execution_count": 10,
   "id": "bd5bed25",
   "metadata": {},
   "outputs": [],
   "source": [
    "angles   = np.linspace( 0, 2 * np.pi, 100 )\n",
    "ellipse_inner  = (B.value @ np.append(np.cos(angles).reshape(1,-1) , np.sin(angles).reshape(1,-1), axis=0 )) + d.value# * np.ones( 1, noangles );\n",
    "ellipse_outer  = (2* B.value @ np.append(np.cos(angles).reshape(1,-1) , np.sin(angles).reshape(1,-1), axis=0 )) + d.value\n",
    "circle_inner = c.value + r.value * np.append(np.cos(angles).reshape(1,-1) , np.sin(angles).reshape(1,-1), axis=0 )"
   ]
  },
  {
   "cell_type": "code",
   "execution_count": 13,
   "id": "35d7df85",
   "metadata": {},
   "outputs": [
    {
     "data": {
      "text/plain": [
       "3.42"
      ]
     },
     "execution_count": 13,
     "metadata": {},
     "output_type": "execute_result"
    },
    {
     "data": {
      "image/png": "[encoded data removed]",
      "text/plain": [
       "<Figure size 640x480 with 1 Axes>"
      ]
     },
     "metadata": {},
     "output_type": "display_data"
    }
   ],
   "source": [
    "import matplotlib.pyplot as plt\n",
    "plt.figure()\n",
    "ax = plt.axes(xlim=(-2,5), ylim=(-2,3))\n",
    "hull_plot = hull.plot(ax)\n",
    "ax.plot( ellipse_inner[0,:], ellipse_inner[1,:], 'b', label='Inner Ellipse' )\n",
    "ax.plot( ellipse_outer[0,:], ellipse_outer[1,:], 'g', label='Outer Ellipse' )\n",
    "ax.plot( circle_inner[0,:], circle_inner[1,:], 'r', label='Inner Circle' )\n",
    "ax.legend()\n",
    "# hull_plot.clear()\n",
    "hull.volume"
   ]
  },
  {
   "cell_type": "markdown",
   "id": "a8b34d9e",
   "metadata": {},
   "source": [
    "# Polytope random function"
   ]
  },
  {
   "cell_type": "code",
   "execution_count": 14,
   "id": "05c8ff19",
   "metadata": {},
   "outputs": [],
   "source": [
    "import polytope as pc\n",
    "A1 = np.array([[1.0, 0.0],\n",
    "              [0.0, 1.0],\n",
    "              [-1.0, -0.0],\n",
    "              [-0.0, -1.0]])\n",
    "\n",
    "b1 = np.array([2.0, 1.0, 0.0, 0.0])\n",
    "p1 = pc.Polytope(A1, b1)\n",
    "\n",
    "A2 = np.array([[1.0, 0.0],\n",
    "              [0.0, 1.0],\n",
    "              [-1.0, -0.0],\n",
    "              [-0.0, -1.0]])\n",
    "\n",
    "b2 = np.array([2.0, 1.0, 0.0, 0.0])\n",
    "p2 = pc.Polytope(A2, b2)"
   ]
  },
  {
   "cell_type": "code",
   "execution_count": 15,
   "id": "71403b68",
   "metadata": {},
   "outputs": [],
   "source": [
    "p3 = p1.union(p2)"
   ]
  },
  {
   "cell_type": "code",
   "execution_count": 16,
   "id": "ec708e03",
   "metadata": {},
   "outputs": [
    {
     "data": {
      "text/plain": [
       "4.0"
      ]
     },
     "execution_count": 16,
     "metadata": {},
     "output_type": "execute_result"
    }
   ],
   "source": [
    "p3.volume"
   ]
  },
  {
   "cell_type": "code",
   "execution_count": 17,
   "id": "969782ae",
   "metadata": {},
   "outputs": [
    {
     "data": {
      "text/plain": [
       "2.0"
      ]
     },
     "execution_count": 17,
     "metadata": {},
     "output_type": "execute_result"
    }
   ],
   "source": [
    "polytope.volume(p2)"
   ]
  },
  {
   "cell_type": "code",
   "execution_count": 18,
   "id": "60a5bf2f",
   "metadata": {},
   "outputs": [],
   "source": [
    "import jax.numpy as jnp\n",
    "from jax import jit, grad\n",
    "import jax\n",
    "from jax import config\n",
    "config.update(\"jax_enable_x64\", True)"
   ]
  },
  {
   "cell_type": "code",
   "execution_count": 19,
   "id": "c6e426ed",
   "metadata": {},
   "outputs": [
    {
     "name": "stderr",
     "output_type": "stream",
     "text": [
      "No GPU/TPU found, falling back to CPU. (Set TF_CPP_MIN_LOG_LEVEL=0 and rerun for more info.)\n"
     ]
    },
    {
     "data": {
      "text/plain": [
       "Array([1., 1., 0.], dtype=float64)"
      ]
     },
     "execution_count": 19,
     "metadata": {},
     "output_type": "execute_result"
    }
   ],
   "source": [
    "jnp.heaviside(jnp.array([1,2,-1]), 1.0)"
   ]
  },
  {
   "cell_type": "code",
   "execution_count": 25,
   "id": "901daede",
   "metadata": {},
   "outputs": [
    {
     "name": "stdout",
     "output_type": "stream",
     "text": [
      "old volume : 3.4236\n",
      "new volume: 3.4246524096123236 \n",
      "old grad: [[0. 0.]\n",
      " [0. 0.]\n",
      " [0. 0.]\n",
      " [0. 0.]\n",
      " [0. 0.]]\n",
      "new grad: [[-7.35494 -0.77841]\n",
      " [-8.82397 -4.72452]\n",
      " [-1.76779  0.88353]\n",
      " [-3.9561  -3.86234]\n",
      " [-0.18367 -0.36856]]\n"
     ]
    }
   ],
   "source": [
    "key = jax.random.PRNGKey(10)\n",
    "num_samples=1000000\n",
    "bounds = 30\n",
    "samples = jax.random.uniform( key, shape=(2,num_samples), minval=-bounds, maxval=bounds )#A.shape[1]   \n",
    "\n",
    "def mc_polytope_volume_org(A, b, samples):\n",
    "    aux = A @ samples - b\n",
    "#     print(f\"old:{jnp.nonzero(jnp.all(aux < 0, 0))}\")\n",
    "#     return jnp.sum(jnp.nonzero(jnp.all(aux < 0, 0))[0])\n",
    "    aux = jnp.nonzero(jnp.all(aux < 0, 0))[0].shape[0]    \n",
    "    vol = (2*bounds)**2 * aux / num_samples\n",
    "    return vol\n",
    "mc_polytope_volume_org_grad = grad(mc_polytope_volume_org, 0)\n",
    "# @jit\n",
    "\n",
    "def mc_polytope_volume(A, b, samples):\n",
    "#     key = jax.random.PRNGKey(10)\n",
    "#     num_samples=50000\n",
    "#     bounds = 30\n",
    "#     samples = jax.random.uniform( key, shape=(2,num_samples), minval=-bounds, maxval=bounds )#A.shape[1]   \n",
    "    aux = A @ samples - b    \n",
    "    aux = -aux\n",
    "    aux = jnp.min(aux, axis=0)\n",
    "    aux = (jnp.tanh( aux / 0.001 ) + 1.0)/2.0    \n",
    "    aux = jnp.sum( aux )\n",
    "    vol = ((2*bounds)**2) * (aux / num_samples)\n",
    "    return vol\n",
    "mc_polytope_volume_grad = grad(mc_polytope_volume, 0)\n",
    "print(f\"old volume : { mc_polytope_volume_org(hull.A, hull.b.reshape(-1,1), samples) }\")\n",
    "print(f\"new volume: { mc_polytope_volume(hull.A, hull.b.reshape(-1,1), samples ) } \" )\n",
    "print(f\"old grad: { mc_polytope_volume_org_grad(hull.A, hull.b.reshape(-1,1), samples) }\")\n",
    "print(f\"new grad: { mc_polytope_volume_grad(hull.A, hull.b.reshape(-1,1), samples) }\")"
   ]
  },
  {
   "cell_type": "code",
   "execution_count": 127,
   "id": "d53bcf82",
   "metadata": {},
   "outputs": [
    {
     "data": {
      "text/plain": [
       "Array([-0.52535, -0.49707,  0.15283, -0.78026], dtype=float64)"
      ]
     },
     "execution_count": 127,
     "metadata": {},
     "output_type": "execute_result"
    }
   ],
   "source": [
    "jnp.min( jnp.array([2.00554,1.03843,0.44378, 0.58484, 0.15283]) )\n",
    "aa = jnp.array([[ 2.05088,  2.50971,  2.00554,  2.83296],\n",
    " [ 1.68793,  1.36946,  1.03843,  1.44821],\n",
    " [ 0.62205,  0.12897,  0.44378, -0.11737],\n",
    " [-0.02076,  0.3479 ,  0.58484,  0.32184],\n",
    " [-0.52535, -0.49707,  0.15283, -0.78026]])\n",
    "jnp.min(aa, axis=0)"
   ]
  },
  {
   "cell_type": "code",
   "execution_count": 47,
   "id": "40b4e298",
   "metadata": {},
   "outputs": [
    {
     "data": {
      "text/plain": [
       "3.6359999999999997"
      ]
     },
     "execution_count": 47,
     "metadata": {},
     "output_type": "execute_result"
    }
   ],
   "source": [
    "hull.volume"
   ]
  },
  {
   "cell_type": "code",
   "execution_count": 205,
   "id": "cc2c82a9",
   "metadata": {},
   "outputs": [],
   "source": [
    "# # @jit\n",
    "# def mc_polytope_volume_jit(A, b, bounds = 30):\n",
    "#     key = jax.random.PRNGKey(10)\n",
    "#     num_samples=10000\n",
    "#     volume = 0\n",
    "#     samples = jax.random.uniform( key, shape=(A.shape[1],num_samples), minval=-bounds, maxval=bounds )\n",
    "# #     print(f\"A:{A}, samples:{samples}\")\n",
    "    \n",
    "#     aux = A @ samples - b\n",
    "#     aux = np.clip(-aux, a_min = 0 )\n",
    "#     aux = np.nonzero(np.all(aux < 0, 0))[0].shape[0]\n",
    "#     vol = (2*bounds)**2 * aux / num_samples\n",
    "#     return vol"
   ]
  },
  {
   "cell_type": "code",
   "execution_count": 206,
   "id": "7bbd33cd",
   "metadata": {},
   "outputs": [],
   "source": [
    "mc_polytope_volume_grad = grad(mc_polytope_volume, 0)"
   ]
  },
  {
   "cell_type": "code",
   "execution_count": 207,
   "id": "0bb4195c",
   "metadata": {},
   "outputs": [
    {
     "name": "stdout",
     "output_type": "stream",
     "text": [
      "aux:(10000,)\n"
     ]
    },
    {
     "data": {
      "text/plain": [
       "Array([[-32054.06 ,  38033.5  ],\n",
       "       [-42002.88 , -33120.508],\n",
       "       [ 29681.87 ,  35936.047],\n",
       "       [ 10570.747, -26472.545],\n",
       "       [ 35670.438, -13493.826]], dtype=float32)"
      ]
     },
     "execution_count": 207,
     "metadata": {},
     "output_type": "execute_result"
    }
   ],
   "source": [
    "mc_polytope_volume_grad( hull.A, hull.b.reshape(-1,1) )"
   ]
  },
  {
   "cell_type": "code",
   "execution_count": 174,
   "id": "331b5411",
   "metadata": {},
   "outputs": [
    {
     "data": {
      "text/plain": [
       "array([0.89443, 2.47487, 0.     , 0.79057, 0.     ])"
      ]
     },
     "execution_count": 174,
     "metadata": {},
     "output_type": "execute_result"
    }
   ],
   "source": [
    "hull.b"
   ]
  },
  {
   "cell_type": "code",
   "execution_count": 221,
   "id": "c71bf00c",
   "metadata": {},
   "outputs": [
    {
     "data": {
      "text/plain": [
       "array([[ 0.     , -1.     ],\n",
       "       [-1.     , -0.     ],\n",
       "       [ 0.70711,  0.70711]])"
      ]
     },
     "execution_count": 221,
     "metadata": {},
     "output_type": "execute_result"
    }
   ],
   "source": [
    "hull.A"
   ]
  },
  {
   "cell_type": "code",
   "execution_count": null,
   "id": "98c4a89f",
   "metadata": {},
   "outputs": [],
   "source": []
  }
 ],
 "metadata": {
  "kernelspec": {
   "display_name": "Python 3 (ipykernel)",
   "language": "python",
   "name": "python3"
  },
  "language_info": {
   "codemirror_mode": {
    "name": "ipython",
    "version": 3
   },
   "file_extension": ".py",
   "mimetype": "text/x-python",
   "name": "python",
   "nbconvert_exporter": "python",
   "pygments_lexer": "ipython3",
   "version": "3.11.4"
  }
 },
 "nbformat": 4,
 "nbformat_minor": 5
}
