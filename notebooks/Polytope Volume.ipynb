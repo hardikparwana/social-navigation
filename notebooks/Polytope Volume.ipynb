{
 "cells": [
  {
   "cell_type": "markdown",
   "id": "9c28fc1a",
   "metadata": {},
   "source": [
    "# Using Polytope package"
   ]
  },
  {
   "cell_type": "code",
   "execution_count": 1,
   "id": "6df89802",
   "metadata": {},
   "outputs": [
    {
     "name": "stderr",
     "output_type": "stream",
     "text": [
      "`polytope` failed to import `cvxopt.glpk`.\n",
      "will use `scipy.optimize.linprog`\n"
     ]
    },
    {
     "name": "stdout",
     "output_type": "stream",
     "text": [
      "0.476\n",
      "2.0120000000000005\n"
     ]
    }
   ],
   "source": [
    "\"\"\"How to compute a polytope's volume.\"\"\"\n",
    "import numpy as np\n",
    "import polytope\n",
    "\n",
    "# constructing a convex polytope and computing its volume\n",
    "vertices = np.array([[0.0, 0.0], [1.0, 0.0], [0.0, 1.0]])\n",
    "hull = polytope.qhull(vertices)\n",
    "    # `hull` is an instance of the class `polytope.polytope.Polytope`\n",
    "    # which is for representing a convex polytope\n",
    "print(hull.volume)\n",
    "\n",
    "# constructing a nonconvex polytope and computing its volume\n",
    "vertices_1 = np.array([[0.0, 0.0], [0.0, 1.0], [2.0, 1.0]])\n",
    "vertices_2 = np.array([[0.0, 1.0], [1.0, 1.0], [1.0, 2.0], [0.0, 2.0]])\n",
    "hull_1 = polytope.qhull(vertices_1)  # convex hull of vertices in `vertices_1`\n",
    "hull_2 = polytope.qhull(vertices_2)  # convex hull of vertices in `vertices_2`\n",
    "nonconvex = hull_1.union(hull_2)  # construct union of convex polytopes\n",
    "    # `nonconvex` is an instance of the class `polytope.polytope.Region`\n",
    "    # which is for representing any polytope, including nonconvex ones,\n",
    "    # and in this case can also be constructed with\n",
    "    # `polytope.polytope.Region([hull_1, hull_2])`\n",
    "print(polytope.volume( nonconvex ))"
   ]
  },
  {
   "cell_type": "code",
   "execution_count": 2,
   "id": "ada3d930",
   "metadata": {},
   "outputs": [
    {
     "data": {
      "text/plain": [
       "2.0120000000000005"
      ]
     },
     "execution_count": 2,
     "metadata": {},
     "output_type": "execute_result"
    }
   ],
   "source": [
    "polytope.volume(nonconvex, nsamples=50000)"
   ]
  },
  {
   "cell_type": "code",
   "execution_count": 3,
   "id": "482c580b",
   "metadata": {},
   "outputs": [
    {
     "data": {
      "text/plain": [
       "2.0120000000000005"
      ]
     },
     "execution_count": 3,
     "metadata": {},
     "output_type": "execute_result"
    }
   ],
   "source": [
    "nonconvex.volume"
   ]
  },
  {
   "cell_type": "markdown",
   "id": "b5ed77cb",
   "metadata": {},
   "source": [
    "# Find Ellipse with cvxpy"
   ]
  },
  {
   "cell_type": "code",
   "execution_count": 4,
   "id": "9b16029b",
   "metadata": {},
   "outputs": [],
   "source": [
    "import polytope as pt\n",
    "# problem data\n",
    "n = 2;\n",
    "points = np.array\n",
    "px = np.array([0, .5, 2, 3, 1]).reshape(-1,1);\n",
    "py = np.array([0, 1, 1.5, .5, -.5]).reshape(-1,1);\n",
    "points = np.append( px, py, axis=1 )\n",
    "m = px.shape[1]\n",
    "pxint = np.sum(px)/m; \n",
    "pyint = np.sum(py)/m;\n",
    "px = np.append(px,  px[0])\n",
    "py = np.append(py, py[0])"
   ]
  },
  {
   "cell_type": "code",
   "execution_count": 5,
   "id": "8932e573",
   "metadata": {},
   "outputs": [
    {
     "data": {
      "text/plain": [
       "array([[ 0. ,  0. ],\n",
       "       [ 0.5,  1. ],\n",
       "       [ 2. ,  1.5],\n",
       "       [ 3. ,  0.5],\n",
       "       [ 1. , -0.5]])"
      ]
     },
     "execution_count": 5,
     "metadata": {},
     "output_type": "execute_result"
    }
   ],
   "source": [
    "points"
   ]
  },
  {
   "cell_type": "code",
   "execution_count": 6,
   "id": "b691a83d",
   "metadata": {},
   "outputs": [],
   "source": [
    " hull = pt.qhull(points)"
   ]
  },
  {
   "cell_type": "code",
   "execution_count": 7,
   "id": "4f6a6efb",
   "metadata": {},
   "outputs": [],
   "source": [
    "A, b = hull.A, hull.b.reshape(-1,1)"
   ]
  },
  {
   "cell_type": "code",
   "execution_count": 8,
   "id": "4433ea99",
   "metadata": {},
   "outputs": [
    {
     "data": {
      "text/plain": [
       "array([[-0.44721, -0.89443],\n",
       "       [-0.89443,  0.44721],\n",
       "       [ 0.44721, -0.89443],\n",
       "       [-0.31623,  0.94868],\n",
       "       [ 0.70711,  0.70711]])"
      ]
     },
     "execution_count": 8,
     "metadata": {},
     "output_type": "execute_result"
    }
   ],
   "source": [
    "A"
   ]
  },
  {
   "cell_type": "code",
   "execution_count": 9,
   "id": "6d0c9fa9",
   "metadata": {},
   "outputs": [
    {
     "data": {
      "text/plain": [
       "array([[0.     ],\n",
       "       [0.     ],\n",
       "       [0.89443],\n",
       "       [0.79057],\n",
       "       [2.47487]])"
      ]
     },
     "execution_count": 9,
     "metadata": {},
     "output_type": "execute_result"
    }
   ],
   "source": [
    "b"
   ]
  },
  {
   "cell_type": "code",
   "execution_count": 10,
   "id": "5ab0c3af",
   "metadata": {},
   "outputs": [
    {
     "data": {
      "text/plain": [
       "-0.09773305109039351"
      ]
     },
     "execution_count": 10,
     "metadata": {},
     "output_type": "execute_result"
    }
   ],
   "source": [
    "import cvxpy as cp\n",
    "# formulate and solve the problem\n",
    "B = cp.Variable((n,n), symmetric=True)\n",
    "d = cp.Variable((n,1))\n",
    "objective = cp.Maximize( cp.log_det( B ) )\n",
    "const = []\n",
    "for i in range( points.shape[0] ):\n",
    "    const += [ cp.norm( B @ A[i,:].reshape(-1,1) ) + A[i,:].reshape(1,-1) @ d <= b[i,0] ]\n",
    "prob = cp.Problem( objective, const )\n",
    "prob.solve()"
   ]
  },
  {
   "cell_type": "code",
   "execution_count": 11,
   "id": "3b8a6e38",
   "metadata": {},
   "outputs": [],
   "source": [
    "ellipse_n = 2\n",
    "ellipse_num_planes = 5\n",
    "ellipse_B = cp.Variable((ellipse_n,ellipse_n), symmetric=True)\n",
    "ellipse_d = cp.Variable((ellipse_n,1))\n",
    "ellipse_A = cp.Parameter((ellipse_num_planes,2))\n",
    "ellipse_b = cp.Parameter((ellipse_num_planes,1))\n",
    "ellipse_objective = cp.Maximize( cp.log_det( ellipse_B ) )\n",
    "ellipse_const = []\n",
    "for ellipse_i in range( ellipse_A.shape[0] ):\n",
    "    ellipse_const += [ cp.norm( ellipse_B @ ellipse_A[ellipse_i,:]) + ellipse_A[ellipse_i,:] @ ellipse_d <= ellipse_b[ellipse_i,0] ]\n",
    "ellipse_prob = cp.Problem( ellipse_objective, ellipse_const )"
   ]
  },
  {
   "cell_type": "code",
   "execution_count": 12,
   "id": "85ea20a8",
   "metadata": {},
   "outputs": [],
   "source": [
    "from cvxpylayers.jax import CvxpyLayer\n",
    "import jax\n",
    "cvxpylayer = CvxpyLayer(ellipse_prob, parameters=[ellipse_A, ellipse_b], variables=[ellipse_B, ellipse_d])\n",
    "A_jax = A\n",
    "b_jax = b"
   ]
  },
  {
   "cell_type": "code",
   "execution_count": 13,
   "id": "0a528765",
   "metadata": {},
   "outputs": [
    {
     "name": "stderr",
     "output_type": "stream",
     "text": [
      "/home/hardik/Research/social-navigation/venv310/lib/python3.10/site-packages/cvxpylayers/jax/cvxpylayer.py:167: UserWarning: Explicitly requested dtype float64 requested in array is not available, and will be truncated to dtype float32. To enable more dtypes, set the jax_enable_x64 configuration option or the JAX_ENABLE_X64 shell environment variable. See https://github.com/google/jax#current-gotchas for more.\n",
      "  sol[j].append(jnp.expand_dims(jnp.array(\n",
      "No GPU/TPU found, falling back to CPU. (Set TF_CPP_MIN_LOG_LEVEL=0 and rerun for more info.)\n"
     ]
    }
   ],
   "source": [
    "solution = cvxpylayer(A_jax, b_jax)"
   ]
  },
  {
   "cell_type": "code",
   "execution_count": 14,
   "id": "c257f583",
   "metadata": {},
   "outputs": [
    {
     "data": {
      "text/plain": [
       "(Array([[1.15657, 0.17477],\n",
       "        [0.17477, 0.81051]], dtype=float32),\n",
       " Array([[1.34374],\n",
       "        [0.5    ]], dtype=float32))"
      ]
     },
     "execution_count": 14,
     "metadata": {},
     "output_type": "execute_result"
    }
   ],
   "source": [
    "solution"
   ]
  },
  {
   "cell_type": "code",
   "execution_count": 15,
   "id": "a86094f4",
   "metadata": {},
   "outputs": [
    {
     "data": {
      "text/plain": [
       "Array([[1.15657, 0.17477],\n",
       "       [0.17477, 0.81051]], dtype=float32)"
      ]
     },
     "execution_count": 15,
     "metadata": {},
     "output_type": "execute_result"
    }
   ],
   "source": [
    "solution[0]"
   ]
  },
  {
   "cell_type": "code",
   "execution_count": 16,
   "id": "f68aa041",
   "metadata": {},
   "outputs": [],
   "source": [
    "import jax.numpy as jnp\n",
    "new_fun = lambda A, b: jnp.sum(cvxpylayer(A, b)[0])"
   ]
  },
  {
   "cell_type": "code",
   "execution_count": 17,
   "id": "baf885c9",
   "metadata": {},
   "outputs": [
    {
     "data": {
      "text/plain": [
       "Array(2.31662, dtype=float32)"
      ]
     },
     "execution_count": 17,
     "metadata": {},
     "output_type": "execute_result"
    }
   ],
   "source": [
    "new_fun( A_jax, b_jax )"
   ]
  },
  {
   "cell_type": "code",
   "execution_count": 18,
   "id": "6d968208",
   "metadata": {},
   "outputs": [
    {
     "name": "stderr",
     "output_type": "stream",
     "text": [
      "/home/hardik/Research/social-navigation/venv310/lib/python3.10/site-packages/cvxpylayers/jax/cvxpylayer.py:225: UserWarning: Explicitly requested dtype float64 requested in array is not available, and will be truncated to dtype float32. To enable more dtypes, set the jax_enable_x64 configuration option or the JAX_ENABLE_X64 shell environment variable. See https://github.com/google/jax#current-gotchas for more.\n",
      "  grad[j] += [jnp.expand_dims(jnp.array(\n"
     ]
    }
   ],
   "source": [
    "dcvxpylayer = jax.grad(lambda A, b: jnp.sum(cvxpylayer(A, b)[0]), argnums=[0, 1]) # sum of elements of B matrix\n",
    "gradA, gradb = dcvxpylayer(A_jax, b_jax)\n",
    "\n",
    "# dcvxpylayer_jit = jit(dcvxpylayer)\n",
    "# dcvxpylayer_jit( A_jax, b_jax )\n",
    "\n"
   ]
  },
  {
   "cell_type": "markdown",
   "id": "87ae57c2",
   "metadata": {},
   "source": [
    "# Finding circle with cvxpy"
   ]
  },
  {
   "cell_type": "code",
   "execution_count": 19,
   "id": "d5f0f5fa",
   "metadata": {},
   "outputs": [
    {
     "data": {
      "text/plain": [
       "0.764084005211981"
      ]
     },
     "execution_count": 19,
     "metadata": {},
     "output_type": "execute_result"
    }
   ],
   "source": [
    "r = cp.Variable()\n",
    "c = cp.Variable((2,1))\n",
    "objective2 = cp.Maximize(r)\n",
    "const2 = []\n",
    "for i in range( points.shape[0] ):\n",
    "    const2 += [ A[i,:].reshape(1,-1) @ c + np.linalg.norm(A[i,:]) * r <= b[i,0] ]\n",
    "prob2 = cp.Problem( objective2, const2 )\n",
    "prob2.solve()"
   ]
  },
  {
   "cell_type": "code",
   "execution_count": null,
   "id": "34d5ef9e",
   "metadata": {},
   "outputs": [],
   "source": []
  },
  {
   "cell_type": "code",
   "execution_count": 20,
   "id": "fbe8aaf4",
   "metadata": {},
   "outputs": [],
   "source": [
    "test = np.empty([2, 2])"
   ]
  },
  {
   "cell_type": "code",
   "execution_count": 21,
   "id": "fca9772d",
   "metadata": {},
   "outputs": [
    {
     "data": {
      "text/plain": [
       "0.0"
      ]
     },
     "execution_count": 21,
     "metadata": {},
     "output_type": "execute_result"
    }
   ],
   "source": [
    "test[0,0]"
   ]
  },
  {
   "cell_type": "markdown",
   "id": "246cb4b2",
   "metadata": {},
   "source": [
    "# Plot results"
   ]
  },
  {
   "cell_type": "code",
   "execution_count": 22,
   "id": "bd5bed25",
   "metadata": {},
   "outputs": [],
   "source": [
    "angles   = np.linspace( 0, 2 * np.pi, 100 )\n",
    "ellipse_inner  = (B.value @ np.append(np.cos(angles).reshape(1,-1) , np.sin(angles).reshape(1,-1), axis=0 )) + d.value# * np.ones( 1, noangles );\n",
    "ellipse_outer  = (2* B.value @ np.append(np.cos(angles).reshape(1,-1) , np.sin(angles).reshape(1,-1), axis=0 )) + d.value\n",
    "circle_inner = c.value + r.value * np.append(np.cos(angles).reshape(1,-1) , np.sin(angles).reshape(1,-1), axis=0 )"
   ]
  },
  {
   "cell_type": "code",
   "execution_count": 30,
   "id": "35d7df85",
   "metadata": {},
   "outputs": [
    {
     "data": {
      "text/plain": [
       "3.576"
      ]
     },
     "execution_count": 30,
     "metadata": {},
     "output_type": "execute_result"
    },
    {
     "data": {
      "image/png": "[encoded data removed]",
      "text/plain": [
       "<Figure size 640x480 with 1 Axes>"
      ]
     },
     "metadata": {},
     "output_type": "display_data"
    }
   ],
   "source": [
    "import matplotlib.pyplot as plt\n",
    "plt.figure()\n",
    "ax = plt.axes(xlim=(-2,5), ylim=(-2,3))\n",
    "hull_plot = hull.plot(ax)\n",
    "ax.plot( ellipse_inner[0,:], ellipse_inner[1,:], 'b', label='Inner Ellipse' )\n",
    "ax.plot( ellipse_outer[0,:], ellipse_outer[1,:], 'g', label='Outer Ellipse' )\n",
    "ax.plot( circle_inner[0,:], circle_inner[1,:], 'r', label='Inner Circle' )\n",
    "ax.legend()\n",
    "# hull_plot.clear()\n",
    "hull.volume"
   ]
  },
  {
   "cell_type": "markdown",
   "id": "a8b34d9e",
   "metadata": {},
   "source": [
    "# Polytope random function"
   ]
  },
  {
   "cell_type": "code",
   "execution_count": 31,
   "id": "05c8ff19",
   "metadata": {},
   "outputs": [],
   "source": [
    "import polytope as pc\n",
    "A1 = np.array([[1.0, 0.0],\n",
    "              [0.0, 1.0],\n",
    "              [-1.0, -0.0],\n",
    "              [-0.0, -1.0]])\n",
    "\n",
    "b1 = np.array([2.0, 1.0, 0.0, 0.0])\n",
    "p1 = pc.Polytope(A1, b1)\n",
    "\n",
    "A2 = np.array([[1.0, 0.0],\n",
    "              [0.0, 1.0],\n",
    "              [-1.0, -0.0],\n",
    "              [-0.0, -1.0]])\n",
    "\n",
    "b2 = np.array([2.0, 1.0, 0.0, 0.0])\n",
    "p2 = pc.Polytope(A2, b2)"
   ]
  },
  {
   "cell_type": "code",
   "execution_count": 32,
   "id": "71403b68",
   "metadata": {},
   "outputs": [],
   "source": [
    "p3 = p1.union(p2)"
   ]
  },
  {
   "cell_type": "code",
   "execution_count": 33,
   "id": "ec708e03",
   "metadata": {},
   "outputs": [
    {
     "data": {
      "text/plain": [
       "4.0"
      ]
     },
     "execution_count": 33,
     "metadata": {},
     "output_type": "execute_result"
    }
   ],
   "source": [
    "p3.volume"
   ]
  },
  {
   "cell_type": "code",
   "execution_count": 34,
   "id": "969782ae",
   "metadata": {},
   "outputs": [
    {
     "data": {
      "text/plain": [
       "2.0"
      ]
     },
     "execution_count": 34,
     "metadata": {},
     "output_type": "execute_result"
    }
   ],
   "source": [
    "polytope.volume(p2)"
   ]
  },
  {
   "cell_type": "code",
   "execution_count": 35,
   "id": "60a5bf2f",
   "metadata": {},
   "outputs": [],
   "source": [
    "import jax.numpy as jnp\n",
    "from jax import jit, grad\n",
    "import jax\n",
    "from jax import config\n",
    "config.update(\"jax_enable_x64\", True)"
   ]
  },
  {
   "cell_type": "code",
   "execution_count": 36,
   "id": "c6e426ed",
   "metadata": {},
   "outputs": [
    {
     "data": {
      "text/plain": [
       "Array([1., 1., 0.], dtype=float64)"
      ]
     },
     "execution_count": 36,
     "metadata": {},
     "output_type": "execute_result"
    }
   ],
   "source": [
    "jnp.heaviside(jnp.array([1,2,-1]), 1.0)"
   ]
  },
  {
   "cell_type": "code",
   "execution_count": 37,
   "id": "7e7b446d",
   "metadata": {},
   "outputs": [],
   "source": [
    "key = jax.random.PRNGKey(10)"
   ]
  },
  {
   "cell_type": "code",
   "execution_count": 38,
   "id": "3164f535",
   "metadata": {},
   "outputs": [],
   "source": [
    "# @jit\n",
    "def mc_polytope_volume_org(A, b, samples, bound1, bound2):\n",
    "    aux = A @ samples - b\n",
    "#     print(f\"old:{jnp.nonzero(jnp.all(aux < 0, 0))}\")\n",
    "#     return jnp.sum(jnp.nonzero(jnp.all(aux < 0, 0))[0])\n",
    "    aux = jnp.nonzero(jnp.all(aux < 0, 0))[0].shape[0]    \n",
    "    vol = (bound1 * bound2) * aux / num_samples\n",
    "    print(f\"aux: {aux}\")\n",
    "    return vol\n",
    "mc_polytope_volume_org_grad = grad(mc_polytope_volume_org, 0)\n",
    "# @jit\n",
    "\n",
    "@jit\n",
    "def mc_polytope_volume(A, b, samples, bound1, bound2):\n",
    "#     key = jax.random.PRNGKey(10)\n",
    "#     num_samples=50000\n",
    "#     bounds = 30\n",
    "#     samples = jax.random.uniform( key, shape=(2,num_samples), minval=-bounds, maxval=bounds )#A.shape[1]   \n",
    "    aux = A @ samples - b    \n",
    "    aux = -aux\n",
    "    aux = jnp.min(aux, axis=0)\n",
    "    aux = (jnp.tanh( aux / 0.001 ) + 1.0)/2.0    \n",
    "    aux = jnp.sum( aux )\n",
    "    vol = (bound1 * bound2) * aux / num_samples\n",
    "    return vol\n",
    "mc_polytope_volume_grad = jit(grad(mc_polytope_volume, 0))"
   ]
  },
  {
   "cell_type": "code",
   "execution_count": 55,
   "id": "901daede",
   "metadata": {},
   "outputs": [
    {
     "name": "stdout",
     "output_type": "stream",
     "text": [
      "aux: 32869\n",
      "old volume : 3.94428\n",
      "new volume: 3.9442259708689646 \n",
      "new grad: [[-0.60989  0.30483]\n",
      " [ 0.       0.     ]\n",
      " [ 0.       0.     ]\n",
      " [ 0.       0.     ]\n",
      " [-3.90315 -1.78898]]\n",
      "polytope library: 3.576\n"
     ]
    }
   ],
   "source": [
    "key, subkey = jax.random.split(key)\n",
    "num_samples=50000\n",
    "bounds = 30\n",
    "poly_limits = hull.bounding_box\n",
    "# samples = jax.random.uniform( key, shape=(2,num_samples), minval=-bounds, maxval=bounds, bound1 = 2*bounds, bound2=2*bounds )#A.shape[1]   \n",
    "samples1 = jax.random.uniform( key, shape=(1,num_samples), minval=poly_limits[0][0,0], maxval=poly_limits[1][0,0] )#A.shape[1]  \n",
    "samples2 = jax.random.uniform( key, shape=(1,num_samples), minval=poly_limits[0][1,0], maxval=poly_limits[1][1,0] )#A.shape[1]  \n",
    "samples = jnp.append( samples1, samples2, axis=0 )\n",
    "\n",
    "bound1 = poly_limits[1][0,0] - poly_limits[0][0,0]\n",
    "bound2 = poly_limits[1][1,0] - poly_limits[0][1,0]\n",
    "print(f\"old volume : { mc_polytope_volume_org(hull.A, hull.b.reshape(-1,1), samples, bound1, bound2) }\")\n",
    "# print(f\"old grad: { mc_polytope_volume_org_grad(hull.A, hull.b.reshape(-1,1), samples, bound1, bound2) }\")\n",
    "print(f\"new volume: { mc_polytope_volume(hull.A, hull.b.reshape(-1,1), samples, bound1, bound2 ) } \" )\n",
    "print(f\"new grad: { mc_polytope_volume_grad(hull.A, hull.b.reshape(-1,1), samples, bound1, bound2) }\")\n",
    "print(f\"polytope library: {polytope.volume(hull, nsamples=50000)}\")"
   ]
  },
  {
   "cell_type": "code",
   "execution_count": 40,
   "id": "027ceb7a",
   "metadata": {},
   "outputs": [
    {
     "data": {
      "text/plain": [
       "-0.5"
      ]
     },
     "execution_count": 40,
     "metadata": {},
     "output_type": "execute_result"
    }
   ],
   "source": [
    "hull.bounding_box[0][1,0]"
   ]
  },
  {
   "cell_type": "code",
   "execution_count": 41,
   "id": "f659a463",
   "metadata": {},
   "outputs": [
    {
     "data": {
      "text/plain": [
       "Array(-0.49999, dtype=float64)"
      ]
     },
     "execution_count": 41,
     "metadata": {},
     "output_type": "execute_result"
    }
   ],
   "source": [
    "jnp.min(samples2)"
   ]
  },
  {
   "cell_type": "code",
   "execution_count": 42,
   "id": "d53bcf82",
   "metadata": {},
   "outputs": [
    {
     "data": {
      "text/plain": [
       "Array([-0.52535, -0.49707,  0.15283, -0.78026], dtype=float64)"
      ]
     },
     "execution_count": 42,
     "metadata": {},
     "output_type": "execute_result"
    }
   ],
   "source": [
    "jnp.min( jnp.array([2.00554,1.03843,0.44378, 0.58484, 0.15283]) )\n",
    "aa = jnp.array([[ 2.05088,  2.50971,  2.00554,  2.83296],\n",
    " [ 1.68793,  1.36946,  1.03843,  1.44821],\n",
    " [ 0.62205,  0.12897,  0.44378, -0.11737],\n",
    " [-0.02076,  0.3479 ,  0.58484,  0.32184],\n",
    " [-0.52535, -0.49707,  0.15283, -0.78026]])\n",
    "jnp.min(aa, axis=0)"
   ]
  },
  {
   "cell_type": "code",
   "execution_count": 43,
   "id": "40b4e298",
   "metadata": {},
   "outputs": [
    {
     "data": {
      "text/plain": [
       "3.576"
      ]
     },
     "execution_count": 43,
     "metadata": {},
     "output_type": "execute_result"
    }
   ],
   "source": [
    "hull.volume"
   ]
  },
  {
   "cell_type": "code",
   "execution_count": 44,
   "id": "cc2c82a9",
   "metadata": {},
   "outputs": [],
   "source": [
    "# # @jit\n",
    "# def mc_polytope_volume_jit(A, b, bounds = 30):\n",
    "#     key = jax.random.PRNGKey(10)\n",
    "#     num_samples=10000\n",
    "#     volume = 0\n",
    "#     samples = jax.random.uniform( key, shape=(A.shape[1],num_samples), minval=-bounds, maxval=bounds )\n",
    "# #     print(f\"A:{A}, samples:{samples}\")\n",
    "    \n",
    "#     aux = A @ samples - b\n",
    "#     aux = np.clip(-aux, a_min = 0 )\n",
    "#     aux = np.nonzero(np.all(aux < 0, 0))[0].shape[0]\n",
    "#     vol = (2*bounds)**2 * aux / num_samples\n",
    "#     return vol"
   ]
  },
  {
   "cell_type": "code",
   "execution_count": 45,
   "id": "7bbd33cd",
   "metadata": {},
   "outputs": [],
   "source": [
    "mc_polytope_volume_grad = grad(mc_polytope_volume, 0)"
   ]
  },
  {
   "cell_type": "code",
   "execution_count": 49,
   "id": "0bb4195c",
   "metadata": {},
   "outputs": [],
   "source": [
    "# mc_polytope_volume_grad( hull.A, hull.b.reshape(-1,1) )"
   ]
  },
  {
   "cell_type": "code",
   "execution_count": null,
   "id": "331b5411",
   "metadata": {},
   "outputs": [],
   "source": [
    "hull.b"
   ]
  },
  {
   "cell_type": "code",
   "execution_count": null,
   "id": "c71bf00c",
   "metadata": {},
   "outputs": [],
   "source": [
    "hull.A"
   ]
  },
  {
   "cell_type": "code",
   "execution_count": null,
   "id": "98c4a89f",
   "metadata": {},
   "outputs": [],
   "source": [
    "class Test:\n",
    "    \n",
    "    def __init__(self):\n",
    "        self.test = 9\n",
    "    \n",
    "    \n",
    "    def operate(self, x):\n",
    "        return self.test * jnp.linalg.inv(x)\n",
    "object = Test()"
   ]
  },
  {
   "cell_type": "code",
   "execution_count": 47,
   "id": "44bc87ed",
   "metadata": {},
   "outputs": [],
   "source": [
    "func = lambda x: object.operate(x)\n",
    "func_jit = jit(func)"
   ]
  },
  {
   "cell_type": "code",
   "execution_count": 50,
   "id": "13935c69",
   "metadata": {},
   "outputs": [],
   "source": [
    "# %timeit  func(jnp.diag(jnp.array([2.0, 0.5])))"
   ]
  },
  {
   "cell_type": "code",
   "execution_count": 88,
   "id": "ad34b845",
   "metadata": {},
   "outputs": [
    {
     "name": "stdout",
     "output_type": "stream",
     "text": [
      "86.6 µs ± 3.51 µs per loop (mean ± std. dev. of 7 runs, 10,000 loops each)\n"
     ]
    }
   ],
   "source": [
    "%timeit  func_jit(jnp.diag(jnp.array([2.0, 0.5])))"
   ]
  },
  {
   "cell_type": "code",
   "execution_count": 89,
   "id": "c707354a",
   "metadata": {},
   "outputs": [
    {
     "data": {
      "text/plain": [
       "Array([[ 4.5,  0. ],\n",
       "       [ 0. , 18. ]], dtype=float64)"
      ]
     },
     "execution_count": 89,
     "metadata": {},
     "output_type": "execute_result"
    }
   ],
   "source": [
    "func_jit(jnp.diag(jnp.array([2.0, 0.5])))"
   ]
  },
  {
   "cell_type": "code",
   "execution_count": 90,
   "id": "57a417ab",
   "metadata": {},
   "outputs": [],
   "source": [
    "object.test = 1"
   ]
  },
  {
   "cell_type": "code",
   "execution_count": 91,
   "id": "f61eb52d",
   "metadata": {},
   "outputs": [
    {
     "data": {
      "text/plain": [
       "Array([[ 4.5,  0. ],\n",
       "       [ 0. , 18. ]], dtype=float64)"
      ]
     },
     "execution_count": 91,
     "metadata": {},
     "output_type": "execute_result"
    }
   ],
   "source": [
    "func_jit(jnp.diag(jnp.array([2.0, 0.5])))"
   ]
  },
  {
   "cell_type": "code",
   "execution_count": 92,
   "id": "984e7dc9",
   "metadata": {},
   "outputs": [
    {
     "data": {
      "text/plain": [
       "1"
      ]
     },
     "execution_count": 92,
     "metadata": {},
     "output_type": "execute_result"
    }
   ],
   "source": [
    "object.test"
   ]
  },
  {
   "cell_type": "code",
   "execution_count": 8,
   "id": "0bb350d0",
   "metadata": {},
   "outputs": [],
   "source": [
    "import numpy as np\n",
    "a = np.array([[1,2],[5,6]])\n",
    "b = np.array([[3,4],[9,10]])"
   ]
  },
  {
   "cell_type": "code",
   "execution_count": 9,
   "id": "70fa5de4",
   "metadata": {},
   "outputs": [
    {
     "data": {
      "text/plain": [
       "array([[ 3,  8],\n",
       "       [45, 60]])"
      ]
     },
     "execution_count": 9,
     "metadata": {},
     "output_type": "execute_result"
    }
   ],
   "source": [
    "a * b"
   ]
  },
  {
   "cell_type": "code",
   "execution_count": 10,
   "id": "697c4aa5",
   "metadata": {},
   "outputs": [
    {
     "data": {
      "text/plain": [
       "116"
      ]
     },
     "execution_count": 10,
     "metadata": {},
     "output_type": "execute_result"
    }
   ],
   "source": [
    "np.sum(a * b)"
   ]
  },
  {
   "cell_type": "code",
   "execution_count": null,
   "id": "f5035940",
   "metadata": {},
   "outputs": [],
   "source": []
  }
 ],
 "metadata": {
  "kernelspec": {
   "display_name": "Python 3 (ipykernel)",
   "language": "python",
   "name": "python3"
  },
  "language_info": {
   "codemirror_mode": {
    "name": "ipython",
    "version": 3
   },
   "file_extension": ".py",
   "mimetype": "text/x-python",
   "name": "python",
   "nbconvert_exporter": "python",
   "pygments_lexer": "ipython3",
   "version": "3.11.9"
  }
 },
 "nbformat": 4,
 "nbformat_minor": 5
}
