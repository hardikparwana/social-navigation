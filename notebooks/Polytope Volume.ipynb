{
 "cells": [
  {
   "cell_type": "markdown",
   "id": "9c28fc1a",
   "metadata": {},
   "source": [
    "# Using Polytope package"
   ]
  },
  {
   "cell_type": "code",
   "execution_count": 1,
   "id": "6df89802",
   "metadata": {},
   "outputs": [
    {
     "name": "stderr",
     "output_type": "stream",
     "text": [
      "`polytope` failed to import `cvxopt.glpk`.\n",
      "will use `scipy.optimize.linprog`\n"
     ]
    },
    {
     "name": "stdout",
     "output_type": "stream",
     "text": [
      "0.514\n",
      "2.0440000000000005\n"
     ]
    }
   ],
   "source": [
    "\"\"\"How to compute a polytope's volume.\"\"\"\n",
    "import numpy as np\n",
    "import polytope\n",
    "\n",
    "# constructing a convex polytope and computing its volume\n",
    "vertices = np.array([[0.0, 0.0], [1.0, 0.0], [0.0, 1.0]])\n",
    "hull = polytope.qhull(vertices)\n",
    "    # `hull` is an instance of the class `polytope.polytope.Polytope`\n",
    "    # which is for representing a convex polytope\n",
    "print(hull.volume)\n",
    "\n",
    "# constructing a nonconvex polytope and computing its volume\n",
    "vertices_1 = np.array([[0.0, 0.0], [0.0, 1.0], [2.0, 1.0]])\n",
    "vertices_2 = np.array([[0.0, 1.0], [1.0, 1.0], [1.0, 2.0], [0.0, 2.0]])\n",
    "hull_1 = polytope.qhull(vertices_1)  # convex hull of vertices in `vertices_1`\n",
    "hull_2 = polytope.qhull(vertices_2)  # convex hull of vertices in `vertices_2`\n",
    "nonconvex = hull_1.union(hull_2)  # construct union of convex polytopes\n",
    "    # `nonconvex` is an instance of the class `polytope.polytope.Region`\n",
    "    # which is for representing any polytope, including nonconvex ones,\n",
    "    # and in this case can also be constructed with\n",
    "    # `polytope.polytope.Region([hull_1, hull_2])`\n",
    "print(polytope.volume( nonconvex ))"
   ]
  },
  {
   "cell_type": "code",
   "execution_count": 2,
   "id": "ada3d930",
   "metadata": {},
   "outputs": [
    {
     "data": {
      "text/plain": [
       "2.0440000000000005"
      ]
     },
     "execution_count": 2,
     "metadata": {},
     "output_type": "execute_result"
    }
   ],
   "source": [
    "polytope.volume(nonconvex, nsamples=50000)"
   ]
  },
  {
   "cell_type": "code",
   "execution_count": 3,
   "id": "482c580b",
   "metadata": {},
   "outputs": [
    {
     "data": {
      "text/plain": [
       "2.0440000000000005"
      ]
     },
     "execution_count": 3,
     "metadata": {},
     "output_type": "execute_result"
    }
   ],
   "source": [
    "nonconvex.volume"
   ]
  },
  {
   "cell_type": "markdown",
   "id": "b5ed77cb",
   "metadata": {},
   "source": [
    "# Find Ellipse with cvxpy"
   ]
  },
  {
   "cell_type": "code",
   "execution_count": 4,
   "id": "9b16029b",
   "metadata": {},
   "outputs": [],
   "source": [
    "import polytope as pt\n",
    "# problem data\n",
    "n = 2;\n",
    "points = np.array\n",
    "px = np.array([0, .5, 2, 3, 1]).reshape(-1,1);\n",
    "py = np.array([0, 1, 1.5, .5, -.5]).reshape(-1,1);\n",
    "points = np.append( px, py, axis=1 )\n",
    "m = px.shape[1]\n",
    "pxint = np.sum(px)/m; \n",
    "pyint = np.sum(py)/m;\n",
    "px = np.append(px,  px[0])\n",
    "py = np.append(py, py[0])"
   ]
  },
  {
   "cell_type": "code",
   "execution_count": 5,
   "id": "8932e573",
   "metadata": {},
   "outputs": [
    {
     "data": {
      "text/plain": [
       "array([[ 0. ,  0. ],\n",
       "       [ 0.5,  1. ],\n",
       "       [ 2. ,  1.5],\n",
       "       [ 3. ,  0.5],\n",
       "       [ 1. , -0.5]])"
      ]
     },
     "execution_count": 5,
     "metadata": {},
     "output_type": "execute_result"
    }
   ],
   "source": [
    "points"
   ]
  },
  {
   "cell_type": "code",
   "execution_count": 6,
   "id": "b691a83d",
   "metadata": {},
   "outputs": [],
   "source": [
    " hull = pt.qhull(points)"
   ]
  },
  {
   "cell_type": "code",
   "execution_count": 7,
   "id": "4f6a6efb",
   "metadata": {},
   "outputs": [],
   "source": [
    "A, b = hull.A, hull.b.reshape(-1,1)"
   ]
  },
  {
   "cell_type": "code",
   "execution_count": 8,
   "id": "5ab0c3af",
   "metadata": {},
   "outputs": [
    {
     "data": {
      "text/plain": [
       "-0.09773305109043312"
      ]
     },
     "execution_count": 8,
     "metadata": {},
     "output_type": "execute_result"
    }
   ],
   "source": [
    "import cvxpy as cp\n",
    "# formulate and solve the problem\n",
    "B = cp.Variable((n,n), symmetric=True)\n",
    "d = cp.Variable((n,1))\n",
    "objective = cp.Maximize( cp.log_det( B ) )\n",
    "const = []\n",
    "for i in range( points.shape[0] ):\n",
    "    const += [ cp.norm( B @ A[i,:].reshape(-1,1) ) + A[i,:].reshape(1,-1) @ d <= b[i,0] ]\n",
    "prob = cp.Problem( objective, const )\n",
    "prob.solve()"
   ]
  },
  {
   "cell_type": "markdown",
   "id": "87ae57c2",
   "metadata": {},
   "source": [
    "# Finding circle with cvxpy"
   ]
  },
  {
   "cell_type": "code",
   "execution_count": 9,
   "id": "d5f0f5fa",
   "metadata": {},
   "outputs": [
    {
     "data": {
      "text/plain": [
       "0.7640840052119809"
      ]
     },
     "execution_count": 9,
     "metadata": {},
     "output_type": "execute_result"
    }
   ],
   "source": [
    "r = cp.Variable()\n",
    "c = cp.Variable((2,1))\n",
    "objective2 = cp.Maximize(r)\n",
    "const2 = []\n",
    "for i in range( points.shape[0] ):\n",
    "    const2 += [ A[i,:].reshape(1,-1) @ c + np.linalg.norm(A[i,:]) * r <= b[i,0] ]\n",
    "prob2 = cp.Problem( objective2, const2 )\n",
    "prob2.solve()"
   ]
  },
  {
   "cell_type": "code",
   "execution_count": null,
   "id": "34d5ef9e",
   "metadata": {},
   "outputs": [],
   "source": []
  },
  {
   "cell_type": "code",
   "execution_count": null,
   "id": "fbe8aaf4",
   "metadata": {},
   "outputs": [],
   "source": []
  },
  {
   "cell_type": "markdown",
   "id": "246cb4b2",
   "metadata": {},
   "source": [
    "# Plot results"
   ]
  },
  {
   "cell_type": "code",
   "execution_count": 10,
   "id": "bd5bed25",
   "metadata": {},
   "outputs": [],
   "source": [
    "angles   = np.linspace( 0, 2 * np.pi, 100 )\n",
    "ellipse_inner  = (B.value @ np.append(np.cos(angles).reshape(1,-1) , np.sin(angles).reshape(1,-1), axis=0 )) + d.value# * np.ones( 1, noangles );\n",
    "ellipse_outer  = (2* B.value @ np.append(np.cos(angles).reshape(1,-1) , np.sin(angles).reshape(1,-1), axis=0 )) + d.value\n",
    "circle_inner = c.value + r.value * np.append(np.cos(angles).reshape(1,-1) , np.sin(angles).reshape(1,-1), axis=0 )"
   ]
  },
  {
   "cell_type": "code",
   "execution_count": 11,
   "id": "35d7df85",
   "metadata": {},
   "outputs": [
    {
     "data": {
      "text/plain": [
       "<matplotlib.legend.Legend at 0x7f1f98e56650>"
      ]
     },
     "execution_count": 11,
     "metadata": {},
     "output_type": "execute_result"
    },
    {
     "data": {
      "image/png": "[encoded data removed]",
      "text/plain": [
       "<Figure size 640x480 with 1 Axes>"
      ]
     },
     "metadata": {},
     "output_type": "display_data"
    }
   ],
   "source": [
    "import matplotlib.pyplot as plt\n",
    "plt.figure()\n",
    "ax = plt.axes(xlim=(-2,5), ylim=(-2,3))\n",
    "hull_plot = hull.plot(ax)\n",
    "ax.plot( ellipse_inner[0,:], ellipse_inner[1,:], 'b', label='Inner Ellipse' )\n",
    "ax.plot( ellipse_outer[0,:], ellipse_outer[1,:], 'g', label='Outer Ellipse' )\n",
    "ax.plot( circle_inner[0,:], circle_inner[1,:], 'r', label='Inner Circle' )\n",
    "ax.legend()\n",
    "# hull_plot.clear()"
   ]
  },
  {
   "cell_type": "markdown",
   "id": "c8431be3",
   "metadata": {},
   "source": [
    "# Polytope random function"
   ]
  },
  {
   "cell_type": "code",
   "execution_count": 12,
   "id": "05c8ff19",
   "metadata": {},
   "outputs": [],
   "source": [
    "import polytope as pc\n",
    "A1 = np.array([[1.0, 0.0],\n",
    "              [0.0, 1.0],\n",
    "              [-1.0, -0.0],\n",
    "              [-0.0, -1.0]])\n",
    "\n",
    "b1 = np.array([2.0, 1.0, 0.0, 0.0])\n",
    "p1 = pc.Polytope(A1, b1)\n",
    "\n",
    "A2 = np.array([[1.0, 0.0],\n",
    "              [0.0, 1.0],\n",
    "              [-1.0, -0.0],\n",
    "              [-0.0, -1.0]])\n",
    "\n",
    "b2 = np.array([2.0, 1.0, 0.0, 0.0])\n",
    "p2 = pc.Polytope(A2, b2)"
   ]
  },
  {
   "cell_type": "code",
   "execution_count": 25,
   "id": "a64ee3bd",
   "metadata": {},
   "outputs": [],
   "source": [
    "p3 = p1.union(p2)"
   ]
  },
  {
   "cell_type": "code",
   "execution_count": 26,
   "id": "99463db8",
   "metadata": {},
   "outputs": [
    {
     "data": {
      "text/plain": [
       "4.0"
      ]
     },
     "execution_count": 26,
     "metadata": {},
     "output_type": "execute_result"
    }
   ],
   "source": [
    "p3.volume"
   ]
  },
  {
   "cell_type": "code",
   "execution_count": 27,
   "id": "1e76a6b8",
   "metadata": {},
   "outputs": [
    {
     "ename": "AttributeError",
     "evalue": "'Region' object has no attribute 'A'",
     "output_type": "error",
     "traceback": [
      "\u001b[0;31m---------------------------------------------------------------------------\u001b[0m",
      "\u001b[0;31mAttributeError\u001b[0m                            Traceback (most recent call last)",
      "Cell \u001b[0;32mIn[27], line 1\u001b[0m\n\u001b[0;32m----> 1\u001b[0m \u001b[43mp3\u001b[49m\u001b[38;5;241;43m.\u001b[39;49m\u001b[43mA\u001b[49m\n",
      "\u001b[0;31mAttributeError\u001b[0m: 'Region' object has no attribute 'A'"
     ]
    }
   ],
   "source": [
    "p3.A"
   ]
  },
  {
   "cell_type": "code",
   "execution_count": null,
   "id": "b55f97aa",
   "metadata": {},
   "outputs": [],
   "source": []
  }
 ],
 "metadata": {
  "kernelspec": {
   "display_name": "Python 3 (ipykernel)",
   "language": "python",
   "name": "python3"
  },
  "language_info": {
   "codemirror_mode": {
    "name": "ipython",
    "version": 3
   },
   "file_extension": ".py",
   "mimetype": "text/x-python",
   "name": "python",
   "nbconvert_exporter": "python",
   "pygments_lexer": "ipython3",
   "version": "3.11.0rc1"
  }
 },
 "nbformat": 4,
 "nbformat_minor": 5
}
