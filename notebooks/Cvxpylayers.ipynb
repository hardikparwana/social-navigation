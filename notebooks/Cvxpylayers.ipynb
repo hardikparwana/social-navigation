{
 "cells": [
  {
   "cell_type": "code",
   "execution_count": 1,
   "id": "0471e237",
   "metadata": {},
   "outputs": [
    {
     "name": "stderr",
     "output_type": "stream",
     "text": [
      "No GPU/TPU found, falling back to CPU. (Set TF_CPP_MIN_LOG_LEVEL=0 and rerun for more info.)\n"
     ]
    }
   ],
   "source": [
    "import cvxpy as cp\n",
    "import jax\n",
    "from cvxpylayers.jax import CvxpyLayer\n",
    "\n",
    "n, m = 2, 3\n",
    "x = cp.Variable(n)\n",
    "A = cp.Parameter((m, n))\n",
    "b = cp.Parameter(m)\n",
    "constraints = [x >= 0]\n",
    "objective = cp.Minimize(0.5 * cp.pnorm(A @ x - b, p=1))\n",
    "problem = cp.Problem(objective, constraints)\n",
    "assert problem.is_dpp()\n",
    "\n",
    "cvxpylayer = CvxpyLayer(problem, parameters=[A, b], variables=[x])\n",
    "key = jax.random.PRNGKey(0)\n",
    "key, k1, k2 = jax.random.split(key, 3)\n",
    "A_jax = jax.random.normal(k1, shape=(m, n))\n",
    "b_jax = jax.random.normal(k2, shape=(m,))\n",
    "\n",
    "solution, = cvxpylayer(A_jax, b_jax)\n",
    "\n",
    "# compute the gradient of the summed solution with respect to A, b\n",
    "dcvxpylayer = jax.grad(lambda A, b: sum(cvxpylayer(A, b)[0]), argnums=[0, 1])\n",
    "gradA, gradb = dcvxpylayer(A_jax, b_jax)"
   ]
  },
  {
   "cell_type": "code",
   "execution_count": 2,
   "id": "48ab57e5",
   "metadata": {},
   "outputs": [
    {
     "data": {
      "text/plain": [
       "Array([[-5.3574888e-07,  2.1834301e-06],\n",
       "       [ 2.6866549e-06,  1.0437016e+00],\n",
       "       [ 5.3580015e-07,  1.9128194e-05]], dtype=float32)"
      ]
     },
     "execution_count": 2,
     "metadata": {},
     "output_type": "execute_result"
    }
   ],
   "source": [
    "gradA"
   ]
  },
  {
   "cell_type": "code",
   "execution_count": null,
   "id": "8796e00d",
   "metadata": {},
   "outputs": [],
   "source": []
  }
 ],
 "metadata": {
  "kernelspec": {
   "display_name": "Python 3 (ipykernel)",
   "language": "python",
   "name": "python3"
  },
  "language_info": {
   "codemirror_mode": {
    "name": "ipython",
    "version": 3
   },
   "file_extension": ".py",
   "mimetype": "text/x-python",
   "name": "python",
   "nbconvert_exporter": "python",
   "pygments_lexer": "ipython3",
   "version": "3.10.6"
  }
 },
 "nbformat": 4,
 "nbformat_minor": 5
}
