{
 "cells": [
  {
   "cell_type": "code",
   "execution_count": 1,
   "id": "0471e237",
   "metadata": {},
   "outputs": [
    {
     "name": "stderr",
     "output_type": "stream",
     "text": [
      "No GPU/TPU found, falling back to CPU. (Set TF_CPP_MIN_LOG_LEVEL=0 and rerun for more info.)\n"
     ]
    }
   ],
   "source": [
    "import cvxpy as cp\n",
    "import jax\n",
    "from cvxpylayers.jax import CvxpyLayer\n",
    "\n",
    "n, m = 2, 3\n",
    "x = cp.Variable(n)\n",
    "A = cp.Parameter((m, n))\n",
    "b = cp.Parameter(m)\n",
    "constraints = [x >= 0]\n",
    "objective = cp.Minimize(0.5 * cp.pnorm(A @ x - b, p=1))\n",
    "problem = cp.Problem(objective, constraints)\n",
    "assert problem.is_dpp()\n",
    "\n",
    "cvxpylayer = CvxpyLayer(problem, parameters=[A, b], variables=[x])\n",
    "key = jax.random.PRNGKey(0)\n",
    "key, k1, k2 = jax.random.split(key, 3)\n",
    "A_jax = jax.random.normal(k1, shape=(m, n))\n",
    "b_jax = jax.random.normal(k2, shape=(m,))\n",
    "\n",
    "solution, = cvxpylayer(A_jax, b_jax)\n",
    "\n",
    "# compute the gradient of the summed solution with respect to A, b\n",
    "dcvxpylayer = jax.grad(lambda A, b: sum(cvxpylayer(A, b)[0]), argnums=[0, 1])\n",
    "gradA, gradb = dcvxpylayer(A_jax, b_jax)"
   ]
  },
  {
   "cell_type": "code",
   "execution_count": 2,
   "id": "48ab57e5",
   "metadata": {},
   "outputs": [
    {
     "data": {
      "text/plain": [
       "Array([[-5.3574888e-07,  2.1834301e-06],\n",
       "       [ 2.6866549e-06,  1.0437016e+00],\n",
       "       [ 5.3580015e-07,  1.9128194e-05]], dtype=float32)"
      ]
     },
     "execution_count": 2,
     "metadata": {},
     "output_type": "execute_result"
    }
   ],
   "source": [
    "gradA"
   ]
  },
  {
   "cell_type": "code",
   "execution_count": 3,
   "id": "8796e00d",
   "metadata": {},
   "outputs": [
    {
     "name": "stdout",
     "output_type": "stream",
     "text": [
      "Simple DCP: False\n",
      "x: 2.9999803327826546, a_grad:0.999994633701959\n"
     ]
    }
   ],
   "source": [
    "x = cp.Variable()\n",
    "a = cp.Parameter(value=3) \n",
    "const = [x <= a]\n",
    "objective = cp.Maximize(x)\n",
    "prob = cp.Problem(objective, const)\n",
    "print(f\"Simple DCP: {prob.is_dgp(dpp=True)}\")\n",
    "prob.solve(requires_grad=True)\n",
    "prob.backward()\n",
    "print(f\"x: {x.value}, a_grad:{a.gradient}\")"
   ]
  },
  {
   "cell_type": "code",
   "execution_count": 4,
   "id": "fece3270",
   "metadata": {},
   "outputs": [
    {
     "name": "stdout",
     "output_type": "stream",
     "text": [
      "from layer: x: 2.800097703933716, a_grad: [1.0000271]\n"
     ]
    }
   ],
   "source": [
    "from cvxpylayers.jax import CvxpyLayer\n",
    "import jax.numpy as jnp\n",
    "from jax import grad\n",
    "x = cp.Variable()\n",
    "a = cp.Parameter(value=4) \n",
    "const = [x <= 3]\n",
    "objective = cp.Minimize( cp.norm(x-a) )\n",
    "prob = cp.Problem(objective, const)\n",
    "# print(f\"Simple DCP: {prob.is_dgp(dpp=True)}\")\n",
    "# prob.solve(requires_grad=True)\n",
    "# prob.backward()\n",
    "# print(f\"x: {x.value}, a_grad:{a.gradient}\")\n",
    "\n",
    "cvx_layer = CvxpyLayer( prob, parameters=[a], variables=[x] )\n",
    "def cvx_layer_simple(a):\n",
    "    return cvx_layer(a)[0][0]\n",
    "cvx_layer_grad = grad( cvx_layer_simple )\n",
    "a_jax = jnp.array([2.8])\n",
    "print(f\"from layer: x: {cvx_layer_simple(a_jax)}, a_grad: {cvx_layer_grad(a_jax)}\")"
   ]
  },
  {
   "cell_type": "markdown",
   "id": "b322f6e7",
   "metadata": {},
   "source": [
    "## Pytorch example"
   ]
  },
  {
   "cell_type": "code",
   "execution_count": 10,
   "id": "2b72b8fd",
   "metadata": {},
   "outputs": [
    {
     "name": "stdout",
     "output_type": "stream",
     "text": [
      "torch grad: tensor([1.0000])\n"
     ]
    }
   ],
   "source": [
    "import cvxpy as cp\n",
    "import torch\n",
    "from cvxpylayers.torch import CvxpyLayer\n",
    "\n",
    "x = cp.Variable()\n",
    "a = cp.Parameter(value=4) \n",
    "const = [x <= 3]\n",
    "objective = cp.Minimize( cp.sum_squares(x-a) )\n",
    "prob = cp.Problem(objective, const)\n",
    "\n",
    "cvxpylayer = CvxpyLayer(prob, parameters=[a], variables=[x])\n",
    "a_tch = torch.tensor([2.8], requires_grad=True)\n",
    "\n",
    "# solve the problem\n",
    "solution, = cvxpylayer(a_tch)\n",
    "\n",
    "# compute the gradient of the sum of the solution with respect to A, b\n",
    "solution.sum().backward()\n",
    "print(f\"torch grad: {a_tch.grad}\")"
   ]
  },
  {
   "cell_type": "code",
   "execution_count": null,
   "id": "75aa2b19",
   "metadata": {},
   "outputs": [],
   "source": []
  }
 ],
 "metadata": {
  "kernelspec": {
   "display_name": "Python 3 (ipykernel)",
   "language": "python",
   "name": "python3"
  },
  "language_info": {
   "codemirror_mode": {
    "name": "ipython",
    "version": 3
   },
   "file_extension": ".py",
   "mimetype": "text/x-python",
   "name": "python",
   "nbconvert_exporter": "python",
   "pygments_lexer": "ipython3",
   "version": "3.10.6"
  }
 },
 "nbformat": 4,
 "nbformat_minor": 5
}
