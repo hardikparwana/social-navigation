{
 "cells": [
  {
   "cell_type": "code",
   "execution_count": 2,
   "id": "cbdafaa0-70fa-4b6d-ac96-9a1da9b3b59e",
   "metadata": {},
   "outputs": [],
   "source": [
    "import jax.numpy as jnp\n",
    "import numpy as np"
   ]
  },
  {
   "cell_type": "code",
   "execution_count": 8,
   "id": "ff4272e3-0d83-4e19-ada0-d965dfe2f60a",
   "metadata": {},
   "outputs": [],
   "source": [
    "a = np.array([1,2])\n",
    "A = jnp.array([1,2])"
   ]
  },
  {
   "cell_type": "code",
   "execution_count": 13,
   "id": "759c00ca-4759-4032-88b1-8c10bd52e069",
   "metadata": {},
   "outputs": [
    {
     "data": {
      "text/plain": [
       "Array([1, 2], dtype=int32)"
      ]
     },
     "execution_count": 13,
     "metadata": {},
     "output_type": "execute_result"
    }
   ],
   "source": [
    "jnp.asarray(a)"
   ]
  },
  {
   "cell_type": "code",
   "execution_count": 14,
   "id": "8d3a42a2-37dc-4034-8073-39448b2090d4",
   "metadata": {},
   "outputs": [
    {
     "data": {
      "text/plain": [
       "array([1, 2], dtype=int32)"
      ]
     },
     "execution_count": 14,
     "metadata": {},
     "output_type": "execute_result"
    }
   ],
   "source": [
    "np.asarray(A)"
   ]
  },
  {
   "cell_type": "code",
   "execution_count": null,
   "id": "1b563fb5-7d5a-413b-9efd-cf48710555ce",
   "metadata": {},
   "outputs": [],
   "source": []
  },
  {
   "cell_type": "code",
   "execution_count": null,
   "id": "77cbe26d-2f86-457e-97bb-9c5e47cf81bc",
   "metadata": {},
   "outputs": [],
   "source": []
  }
 ],
 "metadata": {
  "kernelspec": {
   "display_name": "Python 3 (ipykernel)",
   "language": "python",
   "name": "python3"
  },
  "language_info": {
   "codemirror_mode": {
    "name": "ipython",
    "version": 3
   },
   "file_extension": ".py",
   "mimetype": "text/x-python",
   "name": "python",
   "nbconvert_exporter": "python",
   "pygments_lexer": "ipython3",
   "version": "3.11.0rc1"
  }
 },
 "nbformat": 4,
 "nbformat_minor": 5
}
