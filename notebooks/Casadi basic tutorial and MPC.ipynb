{
 "cells": [
  {
   "cell_type": "code",
   "execution_count": 7,
   "id": "d6773068",
   "metadata": {},
   "outputs": [],
   "source": [
    "import casadi as cd\n",
    "import numpy as np\n",
    "import matplotlib.pyplot as plt"
   ]
  },
  {
   "cell_type": "code",
   "execution_count": 6,
   "id": "61bd7f7b",
   "metadata": {},
   "outputs": [
    {
     "ename": "AttributeError",
     "evalue": "module 'casadi' has no attribute 'sumAll'",
     "output_type": "error",
     "traceback": [
      "\u001b[0;31m---------------------------------------------------------------------------\u001b[0m",
      "\u001b[0;31mAttributeError\u001b[0m                            Traceback (most recent call last)",
      "Cell \u001b[0;32mIn[6], line 5\u001b[0m\n\u001b[1;32m      3\u001b[0m \u001b[38;5;66;03m# MX symbolics\u001b[39;00m\n\u001b[1;32m      4\u001b[0m X \u001b[38;5;241m=\u001b[39m cd\u001b[38;5;241m.\u001b[39mMX\u001b[38;5;241m.\u001b[39msym(\u001b[38;5;124m\"\u001b[39m\u001b[38;5;124mX\u001b[39m\u001b[38;5;124m\"\u001b[39m,n,m)\n\u001b[0;32m----> 5\u001b[0m Y \u001b[38;5;241m=\u001b[39m \u001b[43mcd\u001b[49m\u001b[38;5;241;43m.\u001b[39;49m\u001b[43msumAll\u001b[49m(X\u001b[38;5;241m*\u001b[39m\u001b[38;5;241m*\u001b[39m\u001b[38;5;241m2\u001b[39m \u001b[38;5;241m+\u001b[39m X)\n\u001b[1;32m      6\u001b[0m \u001b[38;5;28mprint\u001b[39m(Y)\n",
      "\u001b[0;31mAttributeError\u001b[0m: module 'casadi' has no attribute 'sumAll'"
     ]
    }
   ],
   "source": [
    "n = 6\n",
    "m = 1\n",
    "# MX symbolics\n",
    "X = cd.MX.sym(\"X\",n,m)\n",
    "Y = cd.sumAll(X**2 + X)\n",
    "print(Y)"
   ]
  },
  {
   "cell_type": "code",
   "execution_count": 8,
   "id": "6047bac8",
   "metadata": {},
   "outputs": [
    {
     "ename": "NotImplementedError",
     "evalue": "Wrong number or type of arguments for overloaded function '_vertcat'.\n  Possible prototypes are:\n    _vertcat([Sparsity])\n    _vertcat([DM])\n    _vertcat([SX])\n    _vertcat([MX])\n  You have: '(((SX,SX)))'\n",
     "output_type": "error",
     "traceback": [
      "\u001b[0;31m---------------------------------------------------------------------------\u001b[0m",
      "\u001b[0;31mNotImplementedError\u001b[0m                       Traceback (most recent call last)",
      "\u001b[0;32m/tmp/ipykernel_27308/151452545.py\u001b[0m in \u001b[0;36m?\u001b[0;34m()\u001b[0m\n\u001b[1;32m      7\u001b[0m \u001b[0;31m# Objective function\u001b[0m\u001b[0;34m\u001b[0m\u001b[0;34m\u001b[0m\u001b[0m\n\u001b[1;32m      8\u001b[0m \u001b[0mf\u001b[0m \u001b[0;34m=\u001b[0m \u001b[0mx\u001b[0m\u001b[0;34m[\u001b[0m\u001b[0;36m0\u001b[0m\u001b[0;34m]\u001b[0m\u001b[0;34m*\u001b[0m\u001b[0mx\u001b[0m\u001b[0;34m[\u001b[0m\u001b[0;36m0\u001b[0m\u001b[0;34m]\u001b[0m \u001b[0;34m+\u001b[0m \u001b[0mx\u001b[0m\u001b[0;34m[\u001b[0m\u001b[0;36m1\u001b[0m\u001b[0;34m]\u001b[0m\u001b[0;34m*\u001b[0m\u001b[0mx\u001b[0m\u001b[0;34m[\u001b[0m\u001b[0;36m1\u001b[0m\u001b[0;34m]\u001b[0m \u001b[0;34m+\u001b[0m \u001b[0mx\u001b[0m\u001b[0;34m[\u001b[0m\u001b[0;36m2\u001b[0m\u001b[0;34m]\u001b[0m\u001b[0;34m*\u001b[0m\u001b[0mx\u001b[0m\u001b[0;34m[\u001b[0m\u001b[0;36m2\u001b[0m\u001b[0;34m]\u001b[0m\u001b[0;34m\u001b[0m\u001b[0;34m\u001b[0m\u001b[0m\n\u001b[1;32m      9\u001b[0m \u001b[0;34m\u001b[0m\u001b[0m\n\u001b[1;32m     10\u001b[0m \u001b[0;31m# Concatenate nonlinear constraints\u001b[0m\u001b[0;34m\u001b[0m\u001b[0;34m\u001b[0m\u001b[0m\n\u001b[0;32m---> 11\u001b[0;31m g = cd.vertcat(( \\\n\u001b[0m\u001b[1;32m     12\u001b[0m        \u001b[0;36m6\u001b[0m\u001b[0;34m*\u001b[0m\u001b[0mx\u001b[0m\u001b[0;34m[\u001b[0m\u001b[0;36m0\u001b[0m\u001b[0;34m]\u001b[0m \u001b[0;34m+\u001b[0m \u001b[0;36m3\u001b[0m\u001b[0;34m*\u001b[0m\u001b[0mx\u001b[0m\u001b[0;34m[\u001b[0m\u001b[0;36m1\u001b[0m\u001b[0;34m]\u001b[0m \u001b[0;34m+\u001b[0m \u001b[0;36m2\u001b[0m\u001b[0;34m*\u001b[0m\u001b[0mx\u001b[0m\u001b[0;34m[\u001b[0m\u001b[0;36m2\u001b[0m\u001b[0;34m]\u001b[0m \u001b[0;34m-\u001b[0m \u001b[0mp\u001b[0m\u001b[0;34m[\u001b[0m\u001b[0;36m0\u001b[0m\u001b[0;34m]\u001b[0m\u001b[0;34m,\u001b[0m\u001b[0;34m\u001b[0m\u001b[0;34m\u001b[0m\u001b[0m\n\u001b[1;32m     13\u001b[0m     p[1]*x[0] +   x[1] -   x[2] -   1))\n\u001b[1;32m     14\u001b[0m \u001b[0;34m\u001b[0m\u001b[0m\n",
      "\u001b[0;32m~/Desktop/Research/social-navigation/venv311/lib/python3.11/site-packages/casadi/casadi.py\u001b[0m in \u001b[0;36m?\u001b[0;34m(*args)\u001b[0m\n\u001b[1;32m    513\u001b[0m         \u001b[0;32mif\u001b[0m \u001b[0mlen\u001b[0m\u001b[0;34m(\u001b[0m\u001b[0margs\u001b[0m\u001b[0;34m)\u001b[0m\u001b[0;34m==\u001b[0m\u001b[0;36m0\u001b[0m\u001b[0;34m:\u001b[0m\u001b[0;34m\u001b[0m\u001b[0;34m\u001b[0m\u001b[0m\n\u001b[1;32m    514\u001b[0m             \u001b[0;32mreturn\u001b[0m \u001b[0mDM\u001b[0m\u001b[0;34m(\u001b[0m\u001b[0;36m0\u001b[0m\u001b[0;34m,\u001b[0m\u001b[0;36m1\u001b[0m\u001b[0;34m)\u001b[0m\u001b[0;34m\u001b[0m\u001b[0;34m\u001b[0m\u001b[0m\n\u001b[1;32m    515\u001b[0m     \u001b[0;32mexcept\u001b[0m\u001b[0;34m:\u001b[0m\u001b[0;34m\u001b[0m\u001b[0;34m\u001b[0m\u001b[0m\n\u001b[1;32m    516\u001b[0m         \u001b[0;32mpass\u001b[0m\u001b[0;34m\u001b[0m\u001b[0;34m\u001b[0m\u001b[0m\n\u001b[0;32m--> 517\u001b[0;31m     \u001b[0;32mreturn\u001b[0m \u001b[0m_vertcat\u001b[0m\u001b[0;34m(\u001b[0m\u001b[0margs\u001b[0m\u001b[0;34m)\u001b[0m\u001b[0;34m\u001b[0m\u001b[0;34m\u001b[0m\u001b[0m\n\u001b[0m",
      "\u001b[0;32m~/Desktop/Research/social-navigation/venv311/lib/python3.11/site-packages/casadi/casadi.py\u001b[0m in \u001b[0;36m?\u001b[0;34m(*args)\u001b[0m\n\u001b[1;32m  33692\u001b[0m \u001b[0;34m\u001b[0m\u001b[0m\n\u001b[1;32m  33693\u001b[0m \u001b[0;34m\u001b[0m\u001b[0m\n\u001b[1;32m  33694\u001b[0m \u001b[0;34m\u001b[0m\u001b[0m\n\u001b[1;32m  33695\u001b[0m     \"\"\"\n\u001b[0;32m> 33696\u001b[0;31m     \u001b[0;32mreturn\u001b[0m \u001b[0m_casadi\u001b[0m\u001b[0;34m.\u001b[0m\u001b[0m_vertcat\u001b[0m\u001b[0;34m(\u001b[0m\u001b[0;34m*\u001b[0m\u001b[0margs\u001b[0m\u001b[0;34m)\u001b[0m\u001b[0;34m\u001b[0m\u001b[0;34m\u001b[0m\u001b[0m\n\u001b[0m",
      "\u001b[0;31mNotImplementedError\u001b[0m: Wrong number or type of arguments for overloaded function '_vertcat'.\n  Possible prototypes are:\n    _vertcat([Sparsity])\n    _vertcat([DM])\n    _vertcat([SX])\n    _vertcat([MX])\n  You have: '(((SX,SX)))'\n"
     ]
    }
   ],
   "source": [
    "# Decision variables\n",
    "x = cd.SX.sym(\"x\",3)\n",
    "\n",
    "# Parameters\n",
    "p = [5.00,1.00]\n",
    "\n",
    "# Objective function\n",
    "f = x[0]*x[0] + x[1]*x[1] + x[2]*x[2]\n",
    "\n",
    "# Concatenate nonlinear constraints\n",
    "g = cd.vertcat(( \\\n",
    "       6*x[0] + 3*x[1] + 2*x[2] - p[0],\n",
    "    p[1]*x[0] +   x[1] -   x[2] -   1))\n",
    "\n",
    "# Nonlinear bounds\n",
    "lbg = [0.00, 0.00]\n",
    "ubg = [0.00, 0.00]\n",
    "\n",
    "# Input bounds for the optimization variables\n",
    "lbx = [0.00, 0.00, 0.00]\n",
    "ubx = [ cd.inf,  cd.inf,  cd.inf]\n",
    "\n",
    "# Initial guess for the decision variables\n",
    "x0  = [0.15, 0.15, 0.00]\n",
    "\n",
    "# Create NLP solver\n",
    "nlp = cd.SXFunction(cd.nlpIn(x=x),cd.nlpOut(f=f, g=g))\n",
    "solver = cd.NlpSolver(\"ipopt\", nlp)\n",
    "# Initialize solver\n",
    "solver.init()\n",
    "\n",
    "# Pass the bounds and the initial values\n",
    "solver.setInput( x0, \"x0\")\n",
    "solver.setInput(lbx, \"lbx\")\n",
    "solver.setInput(ubx, \"ubx\")\n",
    "solver.setInput(lbg, \"lbg\")\n",
    "solver.setInput(ubg, \"ubg\")\n",
    "\n",
    "# Solve NLP\n",
    "solver.evaluate()"
   ]
  },
  {
   "cell_type": "markdown",
   "id": "071b8af0",
   "metadata": {},
   "source": [
    "## Quadratic Programming"
   ]
  },
  {
   "cell_type": "code",
   "execution_count": 9,
   "id": "98ea507e",
   "metadata": {},
   "outputs": [],
   "source": [
    "from casadi import *"
   ]
  },
  {
   "cell_type": "code",
   "execution_count": 19,
   "id": "569db5a9",
   "metadata": {},
   "outputs": [
    {
     "name": "stdout",
     "output_type": "stream",
     "text": [
      "@1=sin(x_0), @2=sin(x_1), [((A_0*@1)+(A_2*@2)), ((A_1*@1)+(A_3*@2))]\n"
     ]
    }
   ],
   "source": [
    "x = SX.sym('x',2)\n",
    "A = SX.sym('A',2,2)\n",
    "e = mtimes(A,sin(x))\n",
    "print(e)"
   ]
  },
  {
   "cell_type": "code",
   "execution_count": 29,
   "id": "09be45a5",
   "metadata": {},
   "outputs": [],
   "source": [
    "r = SX.sym('r')\n",
    "V = 4/3*pi*r**3\n",
    "A = jacobian(V,r) \n",
    "f = Function('f',[r],[A])"
   ]
  },
  {
   "cell_type": "code",
   "execution_count": 34,
   "id": "8a9823e1",
   "metadata": {},
   "outputs": [
    {
     "data": {
      "text/plain": [
       "50.26548245743669"
      ]
     },
     "execution_count": 34,
     "metadata": {},
     "output_type": "execute_result"
    }
   ],
   "source": [
    "float(f(2))"
   ]
  },
  {
   "cell_type": "code",
   "execution_count": 35,
   "id": "b23040d2",
   "metadata": {},
   "outputs": [
    {
     "name": "stdout",
     "output_type": "stream",
     "text": [
      "\n",
      "qpOASES -- An Implementation of the Online Active Set Strategy.\n",
      "Copyright (C) 2007-2015 by Hans Joachim Ferreau, Andreas Potschka,\n",
      "Christian Kirches et al. All rights reserved.\n",
      "\n",
      "qpOASES is distributed under the terms of the \n",
      "GNU Lesser General Public License 2.1 in the hope that it will be \n",
      "useful, but WITHOUT ANY WARRANTY; without even the implied warranty \n",
      "of MERCHANTABILITY or FITNESS FOR A PARTICULAR PURPOSE. \n",
      "See the GNU Lesser General Public License for more details.\n",
      "\n"
     ]
    }
   ],
   "source": [
    "c2 = DM([-7000, -6000])\n",
    "A2 = DM([[4000,3000],[60,80]])\n",
    "b2 = DM([100000,2000])\n",
    "lb = [0,0]\n",
    "ub = [inf,inf]\n",
    "x = SX.sym('x',2)\n",
    "e = mtimes( A2,x )-b2\n",
    "f2 = mtimes(c2.T, x)\n",
    "prob_struct = dict( x=x, f=f2, g=e )\n",
    "solver = qpsol('solver','qpoases',prob_struct)"
   ]
  },
  {
   "cell_type": "code",
   "execution_count": 36,
   "id": "82aac897",
   "metadata": {},
   "outputs": [
    {
     "name": "stdout",
     "output_type": "stream",
     "text": [
      "\n",
      "qpOASES -- An Implementation of the Online Active Set Strategy.\n",
      "Copyright (C) 2007-2015 by Hans Joachim Ferreau, Andreas Potschka,\n",
      "Christian Kirches et al. All rights reserved.\n",
      "\n",
      "qpOASES is distributed under the terms of the \n",
      "GNU Lesser General Public License 2.1 in the hope that it will be \n",
      "useful, but WITHOUT ANY WARRANTY; without even the implied warranty \n",
      "of MERCHANTABILITY or FITNESS FOR A PARTICULAR PURPOSE. \n",
      "See the GNU Lesser General Public License for more details.\n",
      "\n",
      "\n",
      "\n",
      "####################   qpOASES  --  QP NO.   1   #####################\n",
      "\n",
      "    Iter   |    StepLength    |       Info       |   nFX   |   nAC    \n",
      " ----------+------------------+------------------+---------+--------- \n",
      "       0   |   1.326355e-04   |   REM BND    0   |     1   |     0   \n",
      "       1   |   1.016979e-15   |   ADD CON    0   |     1   |     1   \n",
      "       2   |   2.719987e-04   |   REM BND    1   |     0   |     1   \n",
      "       3   |   5.844708e-14   |   ADD BND    0   |     1   |     1   \n",
      "       4   |   6.402828e-04   |   ADD CON    1   |     0   |     2   \n",
      "       5   |   1.000000e+00   |    LP SOLVED     |     0   |     2   \n",
      "       5*  |   1.000000e+00   |    LP SOLVED     |     0   |     2   \n"
     ]
    }
   ],
   "source": [
    "sol = solver(x0=[1,1],lbg=[-inf,-inf],ubg=[0,0],lbx = lb, ubx = ub)"
   ]
  },
  {
   "cell_type": "code",
   "execution_count": 37,
   "id": "deaaea86",
   "metadata": {},
   "outputs": [
    {
     "data": {
      "text/plain": [
       "DM([14.2857, 14.2857])"
      ]
     },
     "execution_count": 37,
     "metadata": {},
     "output_type": "execute_result"
    }
   ],
   "source": [
    "sol['x']"
   ]
  },
  {
   "cell_type": "code",
   "execution_count": null,
   "id": "997e953c",
   "metadata": {},
   "outputs": [],
   "source": [
    "float(sol['f'])"
   ]
  },
  {
   "cell_type": "markdown",
   "id": "09214a72",
   "metadata": {},
   "source": [
    "## Nonlinear programming"
   ]
  },
  {
   "cell_type": "code",
   "execution_count": 38,
   "id": "f0d61f32",
   "metadata": {},
   "outputs": [],
   "source": [
    "x = SX.sym('x')\n",
    "y = SX.sym('y')\n",
    "z = y-(1-x)**2\n",
    "f = x**2+100*z**2\n",
    "P = dict(x=vertcat(x,y),f=f)\n",
    "F = nlpsol('F','ipopt',P)"
   ]
  },
  {
   "cell_type": "code",
   "execution_count": 39,
   "id": "fc69b06e",
   "metadata": {},
   "outputs": [
    {
     "name": "stdout",
     "output_type": "stream",
     "text": [
      "\n",
      "******************************************************************************\n",
      "This program contains Ipopt, a library for large-scale nonlinear optimization.\n",
      " Ipopt is released as open source code under the Eclipse Public License (EPL).\n",
      "         For more information visit https://github.com/coin-or/Ipopt\n",
      "******************************************************************************\n",
      "\n",
      "This is Ipopt version 3.14.11, running with linear solver MUMPS 5.4.1.\n",
      "\n",
      "Number of nonzeros in equality constraint Jacobian...:        0\n",
      "Number of nonzeros in inequality constraint Jacobian.:        0\n",
      "Number of nonzeros in Lagrangian Hessian.............:        3\n",
      "\n",
      "Total number of variables............................:        2\n",
      "                     variables with only lower bounds:        0\n",
      "                variables with lower and upper bounds:        0\n",
      "                     variables with only upper bounds:        0\n",
      "Total number of equality constraints.................:        0\n",
      "Total number of inequality constraints...............:        0\n",
      "        inequality constraints with only lower bounds:        0\n",
      "   inequality constraints with lower and upper bounds:        0\n",
      "        inequality constraints with only upper bounds:        0\n",
      "\n",
      "iter    objective    inf_pr   inf_du lg(mu)  ||d||  lg(rg) alpha_du alpha_pr  ls\n",
      "   0  6.2500000e+01 0.00e+00 1.00e+02  -1.0 0.00e+00    -  0.00e+00 0.00e+00   0\n",
      "   1  7.4172391e+00 0.00e+00 9.18e-01  -1.0 2.20e-01   2.0 1.00e+00 1.00e+00f  1\n",
      "   2  7.3973976e+00 0.00e+00 3.44e-01  -1.7 1.03e-02   1.5 1.00e+00 1.00e+00f  1\n",
      "   3  7.3506173e+00 0.00e+00 3.25e-01  -1.7 2.96e-02   1.0 1.00e+00 1.00e+00f  1\n",
      "   4  7.2093693e+00 0.00e+00 2.99e-01  -1.7 8.90e-02   0.6 1.00e+00 1.00e+00f  1\n",
      "   5  6.7812835e+00 0.00e+00 1.03e+00  -1.7 2.69e-01   0.1 1.00e+00 1.00e+00f  1\n",
      "   6  5.9289624e+00 0.00e+00 6.11e+00  -1.7 1.04e+01    -  1.00e+00 6.25e-02f  5\n",
      "   7  5.0675764e+00 0.00e+00 8.25e+00  -1.7 7.10e-01    -  1.00e+00 1.00e+00f  1\n",
      "   8  4.0182931e+00 0.00e+00 2.64e+00  -1.7 2.45e-01    -  1.00e+00 1.00e+00f  1\n",
      "   9  3.4715637e+00 0.00e+00 4.45e+00  -1.7 7.92e-01    -  1.00e+00 5.00e-01f  2\n",
      "iter    objective    inf_pr   inf_du lg(mu)  ||d||  lg(rg) alpha_du alpha_pr  ls\n",
      "  10  2.7280507e+00 0.00e+00 2.17e+00  -1.7 2.01e-01    -  1.00e+00 1.00e+00f  1\n",
      "  11  2.3811352e+00 0.00e+00 3.25e+00  -1.7 3.15e-01    -  1.00e+00 1.00e+00f  1\n",
      "  12  1.6317913e+00 0.00e+00 7.65e-01  -1.7 8.82e-02    -  1.00e+00 1.00e+00f  1\n",
      "  13  1.4892731e+00 0.00e+00 2.97e+00  -1.7 4.99e-01    -  1.00e+00 5.00e-01f  2\n",
      "  14  9.1177572e-01 0.00e+00 4.07e-01  -1.7 7.21e-02    -  1.00e+00 1.00e+00f  1\n",
      "  15  8.4588869e-01 0.00e+00 2.57e+00  -1.7 4.68e-01    -  1.00e+00 5.00e-01f  2\n",
      "  16  4.3915456e-01 0.00e+00 1.96e-01  -1.7 8.97e-02    -  1.00e+00 1.00e+00f  1\n",
      "  17  3.8321830e-01 0.00e+00 1.84e+00  -2.5 3.97e-01    -  1.00e+00 5.00e-01f  2\n",
      "  18  1.7128571e-01 0.00e+00 1.14e-01  -2.5 9.50e-02    -  1.00e+00 1.00e+00f  1\n",
      "  19  1.1642529e-01 0.00e+00 1.18e+00  -2.5 3.24e-01    -  1.00e+00 5.00e-01f  2\n",
      "iter    objective    inf_pr   inf_du lg(mu)  ||d||  lg(rg) alpha_du alpha_pr  ls\n",
      "  20  4.9728669e-02 0.00e+00 1.36e-01  -2.5 9.98e-02    -  1.00e+00 1.00e+00f  1\n",
      "  21  4.2745485e-02 0.00e+00 1.52e+00  -2.5 2.17e-01    -  1.00e+00 1.00e+00f  1\n",
      "  22  4.3590342e-03 0.00e+00 1.37e-02  -2.5 5.09e-02    -  1.00e+00 1.00e+00f  1\n",
      "  23  1.5086649e-03 0.00e+00 3.44e-01  -3.8 1.16e-01    -  1.00e+00 1.00e+00f  1\n",
      "  24  2.7157356e-06 0.00e+00 3.33e-04  -3.8 8.11e-03    -  1.00e+00 1.00e+00f  1\n",
      "  25  7.3596764e-10 0.00e+00 2.43e-04  -5.7 3.29e-03    -  1.00e+00 1.00e+00f  1\n",
      "  26  6.5517109e-19 0.00e+00 1.63e-10  -5.7 5.70e-06    -  1.00e+00 1.00e+00f  1\n",
      "\n",
      "Number of Iterations....: 26\n",
      "\n",
      "                                   (scaled)                 (unscaled)\n",
      "Objective...............:   1.4722945872573680e-19    6.5517109132952879e-19\n",
      "Dual infeasibility......:   1.6314020210905528e-10    7.2597389938529606e-10\n",
      "Constraint violation....:   0.0000000000000000e+00    0.0000000000000000e+00\n",
      "Variable bound violation:   0.0000000000000000e+00    0.0000000000000000e+00\n",
      "Complementarity.........:   0.0000000000000000e+00    0.0000000000000000e+00\n",
      "Overall NLP error.......:   1.6314020210905528e-10    7.2597389938529606e-10\n",
      "\n",
      "\n",
      "Number of objective function evaluations             = 60\n",
      "Number of objective gradient evaluations             = 27\n",
      "Number of equality constraint evaluations            = 0\n",
      "Number of inequality constraint evaluations          = 0\n",
      "Number of equality constraint Jacobian evaluations   = 0\n",
      "Number of inequality constraint Jacobian evaluations = 0\n",
      "Number of Lagrangian Hessian evaluations             = 26\n",
      "Total seconds in IPOPT                               = 0.012\n",
      "\n",
      "EXIT: Optimal Solution Found.\n",
      "           F  :   t_proc      (avg)   t_wall      (avg)    n_eval\n",
      "       nlp_f  | 132.00us (  2.20us)  83.60us (  1.39us)        60\n",
      "  nlp_grad_f  |  34.00us (  1.21us)  30.52us (  1.09us)        28\n",
      "  nlp_hess_l  |  28.00us (  1.08us)  21.85us (840.42ns)        26\n",
      "       total  |  11.60ms ( 11.60ms)  20.84ms ( 20.84ms)         1\n"
     ]
    }
   ],
   "source": [
    "r = F(x0=[2.5,3.0])"
   ]
  },
  {
   "cell_type": "code",
   "execution_count": 40,
   "id": "985f409b",
   "metadata": {},
   "outputs": [
    {
     "name": "stdout",
     "output_type": "stream",
     "text": [
      "[8.09119e-10, 1]\n"
     ]
    }
   ],
   "source": [
    "print(r['x'])"
   ]
  },
  {
   "cell_type": "code",
   "execution_count": 48,
   "id": "3947850c",
   "metadata": {},
   "outputs": [],
   "source": [
    "x = SX.sym('x')\n",
    "y = SX.sym('y')\n",
    "z = SX.sym('z')\n",
    "f = x**2+100*z**2\n",
    "g = z+(1-x**2-y)\n",
    "P = dict(f=f,g=g,x=vertcat(x,y,z))"
   ]
  },
  {
   "cell_type": "code",
   "execution_count": 49,
   "id": "4a62ba77",
   "metadata": {},
   "outputs": [],
   "source": [
    "F=nlpsol('F','ipopt',P)"
   ]
  },
  {
   "cell_type": "code",
   "execution_count": 51,
   "id": "24bad415",
   "metadata": {},
   "outputs": [
    {
     "name": "stdout",
     "output_type": "stream",
     "text": [
      "This is Ipopt version 3.14.11, running with linear solver MUMPS 5.4.1.\n",
      "\n",
      "Number of nonzeros in equality constraint Jacobian...:        3\n",
      "Number of nonzeros in inequality constraint Jacobian.:        0\n",
      "Number of nonzeros in Lagrangian Hessian.............:        2\n",
      "\n",
      "Total number of variables............................:        3\n",
      "                     variables with only lower bounds:        0\n",
      "                variables with lower and upper bounds:        0\n",
      "                     variables with only upper bounds:        0\n",
      "Total number of equality constraints.................:        1\n",
      "Total number of inequality constraints...............:        0\n",
      "        inequality constraints with only lower bounds:        0\n",
      "   inequality constraints with lower and upper bounds:        0\n",
      "        inequality constraints with only upper bounds:        0\n",
      "\n",
      "iter    objective    inf_pr   inf_du lg(mu)  ||d||  lg(rg) alpha_du alpha_pr  ls\n",
      "   0  6.2500000e+01 7.50e+00 9.69e+01  -1.0 0.00e+00    -  0.00e+00 0.00e+00   0\n",
      "   1  4.2268114e+00 1.97e-01 2.74e+00  -1.0 6.03e+00    -  1.00e+00 1.00e+00f  1\n",
      "   2  0.0000000e+00 4.23e+00 0.00e+00  -1.0 8.26e+00    -  1.00e+00 1.00e+00f  1\n",
      "   3  0.0000000e+00 0.00e+00 0.00e+00  -1.0 4.23e+00    -  1.00e+00 1.00e+00h  1\n",
      "\n",
      "Number of Iterations....: 3\n",
      "\n",
      "                                   (scaled)                 (unscaled)\n",
      "Objective...............:   0.0000000000000000e+00    0.0000000000000000e+00\n",
      "Dual infeasibility......:   0.0000000000000000e+00    0.0000000000000000e+00\n",
      "Constraint violation....:   0.0000000000000000e+00    0.0000000000000000e+00\n",
      "Variable bound violation:   0.0000000000000000e+00    0.0000000000000000e+00\n",
      "Complementarity.........:   0.0000000000000000e+00    0.0000000000000000e+00\n",
      "Overall NLP error.......:   0.0000000000000000e+00    0.0000000000000000e+00\n",
      "\n",
      "\n",
      "Number of objective function evaluations             = 4\n",
      "Number of objective gradient evaluations             = 4\n",
      "Number of equality constraint evaluations            = 4\n",
      "Number of inequality constraint evaluations          = 0\n",
      "Number of equality constraint Jacobian evaluations   = 4\n",
      "Number of inequality constraint Jacobian evaluations = 0\n",
      "Number of Lagrangian Hessian evaluations             = 3\n",
      "Total seconds in IPOPT                               = 0.001\n",
      "\n",
      "EXIT: Optimal Solution Found.\n",
      "           F  :   t_proc      (avg)   t_wall      (avg)    n_eval\n",
      "       nlp_f  |   3.00us (750.00ns)   3.04us (761.25ns)         4\n",
      "       nlp_g  |  11.00us (  2.75us)   6.76us (  1.69us)         4\n",
      "  nlp_grad_f  |  12.00us (  2.40us)   8.63us (  1.73us)         5\n",
      "  nlp_hess_l  |   4.00us (  1.33us)   3.39us (  1.13us)         3\n",
      "   nlp_jac_g  |   6.00us (  1.20us)   4.22us (843.60ns)         5\n",
      "       total  |   1.49ms (  1.49ms)   1.48ms (  1.48ms)         1\n"
     ]
    }
   ],
   "source": [
    "r = F(x0=[2.5, 3.0, 0.75],ubg=0, lbg=0)"
   ]
  },
  {
   "cell_type": "code",
   "execution_count": 54,
   "id": "0dc46140",
   "metadata": {},
   "outputs": [
    {
     "data": {
      "text/plain": [
       "DM([0, 1, 0])"
      ]
     },
     "execution_count": 54,
     "metadata": {},
     "output_type": "execute_result"
    }
   ],
   "source": [
    "r['x']"
   ]
  },
  {
   "cell_type": "code",
   "execution_count": 62,
   "id": "44fd0a36",
   "metadata": {},
   "outputs": [
    {
     "name": "stdout",
     "output_type": "stream",
     "text": [
      "This is Ipopt version 3.14.11, running with linear solver MUMPS 5.4.1.\n",
      "\n",
      "Number of nonzeros in equality constraint Jacobian...:        0\n",
      "Number of nonzeros in inequality constraint Jacobian.:        0\n",
      "Number of nonzeros in Lagrangian Hessian.............:        3\n",
      "\n",
      "Total number of variables............................:        2\n",
      "                     variables with only lower bounds:        0\n",
      "                variables with lower and upper bounds:        0\n",
      "                     variables with only upper bounds:        0\n",
      "Total number of equality constraints.................:        0\n",
      "Total number of inequality constraints...............:        0\n",
      "        inequality constraints with only lower bounds:        0\n",
      "   inequality constraints with lower and upper bounds:        0\n",
      "        inequality constraints with only upper bounds:        0\n",
      "\n",
      "iter    objective    inf_pr   inf_du lg(mu)  ||d||  lg(rg) alpha_du alpha_pr  ls\n",
      "   0  1.2996628e+00 0.00e+00 6.44e-01  -1.0 0.00e+00    -  0.00e+00 0.00e+00   0\n",
      "   1  1.2949867e+00 0.00e+00 6.50e-01  -1.7 6.50e-03   2.0 1.00e+00 1.00e+00f  1\n",
      "   2  1.2802215e+00 0.00e+00 6.68e-01  -1.7 2.01e-02   1.5 1.00e+00 1.00e+00f  1\n",
      "   3  1.2289087e+00 0.00e+00 7.17e-01  -1.7 6.53e-02   1.0 1.00e+00 1.00e+00f  1\n",
      "   4  1.0020532e+00 0.00e+00 7.89e-01  -1.7 2.38e-01   0.6 1.00e+00 1.00e+00f  1\n",
      "   5  6.7317711e-01 0.00e+00 7.48e-01  -1.7 1.46e+00   0.1 1.00e+00 1.00e+00f  1\n",
      "   6  3.0396581e-01 0.00e+00 5.69e-01  -1.7 7.49e+00    -  1.00e+00 1.25e-01f  4\n",
      "   7  2.1041580e-01 0.00e+00 2.00e-01  -1.7 4.24e-01    -  1.00e+00 1.00e+00f  1\n",
      "   8  2.0000279e-01 0.00e+00 3.29e-03  -1.7 1.02e-01    -  1.00e+00 1.00e+00f  1\n",
      "   9  2.0000000e-01 0.00e+00 2.62e-07  -3.8 1.65e-03    -  1.00e+00 1.00e+00f  1\n",
      "iter    objective    inf_pr   inf_du lg(mu)  ||d||  lg(rg) alpha_du alpha_pr  ls\n",
      "  10  2.0000000e-01 0.00e+00 1.55e-15  -8.6 1.31e-07    -  1.00e+00 1.00e+00f  1\n",
      "\n",
      "Number of Iterations....: 10\n",
      "\n",
      "                                   (scaled)                 (unscaled)\n",
      "Objective...............:   1.9999999999999996e-01    1.9999999999999996e-01\n",
      "Dual infeasibility......:   1.5477747812487513e-15    1.5477747812487513e-15\n",
      "Constraint violation....:   0.0000000000000000e+00    0.0000000000000000e+00\n",
      "Variable bound violation:   0.0000000000000000e+00    0.0000000000000000e+00\n",
      "Complementarity.........:   0.0000000000000000e+00    0.0000000000000000e+00\n",
      "Overall NLP error.......:   1.5477747812487513e-15    1.5477747812487513e-15\n",
      "\n",
      "\n",
      "Number of objective function evaluations             = 18\n",
      "Number of objective gradient evaluations             = 11\n",
      "Number of equality constraint evaluations            = 0\n",
      "Number of inequality constraint evaluations          = 0\n",
      "Number of equality constraint Jacobian evaluations   = 0\n",
      "Number of inequality constraint Jacobian evaluations = 0\n",
      "Number of Lagrangian Hessian evaluations             = 10\n",
      "Total seconds in IPOPT                               = 0.011\n",
      "\n",
      "EXIT: Optimal Solution Found.\n",
      "           F  :   t_proc      (avg)   t_wall      (avg)    n_eval\n",
      "       nlp_f  | 113.00us (  6.28us)  76.18us (  4.23us)        18\n",
      "  nlp_grad_f  |  58.00us (  4.83us)  48.71us (  4.06us)        12\n",
      "  nlp_hess_l  |  33.00us (  3.30us)  48.07us (  4.81us)        10\n",
      "       total  |  11.53ms ( 11.53ms)  11.34ms ( 11.34ms)         1\n"
     ]
    }
   ],
   "source": [
    "x = SX.sym('x')\n",
    "y = SX.sym('y')\n",
    "f = -exp(-(x**2+y**2))+0.3*sin(x**3/10+y**2)+1.2\n",
    "g = (x+2)**2-y**3/2\n",
    "P = dict(f=f, x=vertcat(x,y))\n",
    "F = nlpsol( 'F','ipopt',P )\n",
    "r = F(x0 = [-1,-1],ubg=3, lbg=1)"
   ]
  },
  {
   "cell_type": "code",
   "execution_count": 63,
   "id": "ce1b9a03",
   "metadata": {},
   "outputs": [
    {
     "data": {
      "text/plain": [
       "array([[ 7.73887391e-16],\n",
       "       [-2.77105505e-23]])"
      ]
     },
     "execution_count": 63,
     "metadata": {},
     "output_type": "execute_result"
    }
   ],
   "source": [
    "r['x'].full()"
   ]
  },
  {
   "cell_type": "code",
   "execution_count": 64,
   "id": "55cba1a8",
   "metadata": {},
   "outputs": [
    {
     "data": {
      "text/plain": [
       "SX((((0.3*sin((((x*sq(x))/10)+sq(y))))-exp((-(sq(x)+sq(y)))))+1.2))"
      ]
     },
     "execution_count": 64,
     "metadata": {},
     "output_type": "execute_result"
    }
   ],
   "source": [
    "f"
   ]
  },
  {
   "cell_type": "markdown",
   "id": "3ae55b23",
   "metadata": {},
   "source": [
    "## Part 2 ODEs"
   ]
  },
  {
   "cell_type": "code",
   "execution_count": 65,
   "id": "2c39013f",
   "metadata": {},
   "outputs": [],
   "source": [
    "x = SX.sym('x')\n",
    "z = SX.sym('z')\n",
    "p = SX.sym('p')"
   ]
  },
  {
   "cell_type": "code",
   "execution_count": 68,
   "id": "afdc9b02",
   "metadata": {},
   "outputs": [],
   "source": [
    "dae = dict( x=x,z=z,p=p,ode=z+p,alg=z*cos(z)-x)"
   ]
  },
  {
   "cell_type": "code",
   "execution_count": 69,
   "id": "bf19fff3",
   "metadata": {},
   "outputs": [],
   "source": [
    "F=integrator('F','idas', dae) # differential algebric solver"
   ]
  },
  {
   "cell_type": "code",
   "execution_count": 70,
   "id": "f207e223",
   "metadata": {},
   "outputs": [
    {
     "name": "stdout",
     "output_type": "stream",
     "text": [
      "F:(x0,z0,p,u[0],adj_xf[],adj_zf[],adj_qf[])->(xf,zf,qf[0],adj_x0[],adj_z0[],adj_p[],adj_u[]) IdasInterface\n"
     ]
    }
   ],
   "source": [
    "print(F)"
   ]
  },
  {
   "cell_type": "code",
   "execution_count": 71,
   "id": "e9b4ed8f",
   "metadata": {},
   "outputs": [],
   "source": [
    "r=F(x0=0,z0=0.1,p=0.1) # p is parameter"
   ]
  },
  {
   "cell_type": "code",
   "execution_count": 72,
   "id": "7660fd7d",
   "metadata": {},
   "outputs": [
    {
     "name": "stdout",
     "output_type": "stream",
     "text": [
      "0.1724\n"
     ]
    }
   ],
   "source": [
    "print(r['xf'])"
   ]
  },
  {
   "cell_type": "code",
   "execution_count": 76,
   "id": "d454aac7",
   "metadata": {},
   "outputs": [
    {
     "data": {
      "text/plain": [
       "DM(0.1724)"
      ]
     },
     "execution_count": 76,
     "metadata": {},
     "output_type": "execute_result"
    }
   ],
   "source": [
    "r['xf']"
   ]
  },
  {
   "cell_type": "code",
   "execution_count": 100,
   "id": "698fbaff",
   "metadata": {},
   "outputs": [],
   "source": [
    "x = SX.sym('x',2)\n",
    "p = SX.sym('p')\n",
    "z = 1-x[1]**2\n",
    "f=vertcat(z*x[0]-x[1]+p,x[0])\n",
    "dae = dict(x=x,p=p,ode=f)"
   ]
  },
  {
   "cell_type": "code",
   "execution_count": 101,
   "id": "9b746c45",
   "metadata": {},
   "outputs": [],
   "source": [
    "op = dict(t0=0,tf=1)\n",
    "F = integrator('F','cvodes',dae,op)"
   ]
  },
  {
   "cell_type": "code",
   "execution_count": 80,
   "id": "0c012c08",
   "metadata": {},
   "outputs": [],
   "source": [
    "r = F(x0=[0,1],p=0.1)"
   ]
  },
  {
   "cell_type": "code",
   "execution_count": 81,
   "id": "714e15dc",
   "metadata": {},
   "outputs": [
    {
     "data": {
      "text/plain": [
       "DM([-0.922372, 0.551573])"
      ]
     },
     "execution_count": 81,
     "metadata": {},
     "output_type": "execute_result"
    }
   ],
   "source": [
    "r['xf']"
   ]
  },
  {
   "cell_type": "markdown",
   "id": "29c2a362",
   "metadata": {},
   "source": [
    "### Optimal Control"
   ]
  },
  {
   "cell_type": "code",
   "execution_count": 82,
   "id": "208c9f52",
   "metadata": {},
   "outputs": [],
   "source": [
    "a = SX.sym('a')\n",
    "b = SX.sym('b')\n",
    "sum1 = a+b\n",
    "prod1 = a*b\n",
    "F1 = Function('F1',[a,b],[sum1,prod1],['a','b'],['sx','xp'])"
   ]
  },
  {
   "cell_type": "code",
   "execution_count": 83,
   "id": "f009875f",
   "metadata": {},
   "outputs": [],
   "source": [
    "s1 = F1(a=2,b=3)"
   ]
  },
  {
   "cell_type": "code",
   "execution_count": 84,
   "id": "761b4904",
   "metadata": {},
   "outputs": [
    {
     "name": "stdout",
     "output_type": "stream",
     "text": [
      "[[6.]]\n"
     ]
    }
   ],
   "source": [
    "print(s1['xp'].full())"
   ]
  },
  {
   "cell_type": "code",
   "execution_count": 85,
   "id": "7baafdd3",
   "metadata": {},
   "outputs": [
    {
     "data": {
      "text/plain": [
       "'1470'"
      ]
     },
     "execution_count": 85,
     "metadata": {},
     "output_type": "execute_result"
    }
   ],
   "source": [
    "a = '1234567890'\n",
    "a[::3]"
   ]
  },
  {
   "cell_type": "code",
   "execution_count": 124,
   "id": "cb24cade",
   "metadata": {},
   "outputs": [],
   "source": [
    "# x = SX.sym('x',2)\n",
    "# p = SX.sym('p')\n",
    "# z = 1-x[1]**2\n",
    "# f=vertcat(z*x[0]-x[1]+p,x[0])\n",
    "# dae = dict(x=x,p=p,ode=f)\n",
    "# op = dict(t0=0,tf=1)\n",
    "# F = integrator('F','cvodes',dae,op)\n",
    "\n",
    "T = 10\n",
    "N = 20\n",
    "\n",
    "x1 = MX.sym('x1')\n",
    "x2 = MX.sym('x2')\n",
    "x = vertcat(x1, x2)\n",
    "u = MX.sym('u')\n",
    "\n",
    "xdot = vertcat( (1-x2**2)*x1 - x2 + u, x1 )\n",
    "\n",
    "# dae = dict(x=x,p=u,ode=f)\n",
    "# op = dict(t0=0,tf=1)\n",
    "# F = integrator('F','cvodes',dae,op)\n",
    "\n",
    "#Objective\n",
    "L = x1**2 + x2**2 + u**2\n",
    "\n",
    "if False:\n",
    "    # CVODES from the SUNDAILS suite\n",
    "    dae = dict( x=x, p=p, ode=xdot)#, quad=L) # dae = dict(x=x,p=p,ode=f)\n",
    "    #dae = { 'x':x, 'p':p, 'ode':xdot , 'quad':L }\n",
    "    opts = dict( tf=T/N )# op = dict(t0=0,tf=1)\n",
    "    F = integrator('F', 'cvodes', dae, opts)  #F = integrator('F','cvodes',dae,op)\n",
    "else:\n",
    "    M = 4 # RK4 steps per interval\n",
    "    DT = T/N/M\n",
    "    f = Function('f', [x,u], [xdot, L])\n",
    "    X0 = MX.sym('X0',2)\n",
    "    U = MX.sym('U')\n",
    "    X = X0\n",
    "    Q = 0\n",
    "    for j in range(M):\n",
    "        k1, k1_q = f( X , U )\n",
    "        k2, k2_q = f( X + DT/2 * k1, U )\n",
    "        k3, k3_q = f( X + DT/2 * k2, U )\n",
    "        k4, k4_q = f( X + DT * k3, U )\n",
    "        X = X + DT/6 * ( k1 + 2*k2 + 2*k3 + k4 )\n",
    "        Q = Q + DT/6 * ( k1_q + 2*k2_q + 2*k3_q + k4_q )\n",
    "    F = Function('F', [X0,U], [X, Q], ['x0', 'p'], ['xf', 'qf'])"
   ]
  },
  {
   "cell_type": "code",
   "execution_count": 125,
   "id": "2196ddce",
   "metadata": {},
   "outputs": [],
   "source": [
    "# Start with empty NLP\n",
    "w = []\n",
    "w0 = []\n",
    "lbw = []\n",
    "ubw = []\n",
    "J = 0\n",
    "g = []\n",
    "lbg = []\n",
    "ubg = []\n",
    "\n",
    "# Lift initial conditions\n",
    "Xk = MX.sym('X0',2)\n",
    "w += [Xk]\n",
    "lbw += [0, 1]\n",
    "ubw += [0, 1]\n",
    "w0 += [0, 1]"
   ]
  },
  {
   "cell_type": "code",
   "execution_count": 126,
   "id": "54d7dcff",
   "metadata": {},
   "outputs": [],
   "source": [
    "for k in range(N):\n",
    "    # New NLP variable for control\n",
    "    Uk = MX.sym('U_' + str(k))\n",
    "    w += [Uk]\n",
    "    lbw += [-1]\n",
    "    ubw += [1]\n",
    "    w0 += [0]\n",
    "    \n",
    "    # Integrate till the end of the interval\n",
    "    Fk = F(x0=Xk, p=Uk)\n",
    "    Xk_end = Fk['xf']\n",
    "    J = J + Fk['qf']\n",
    "    \n",
    "    # New NLP variable for state at the end of interval\n",
    "    Xk = MX.sym('X_' + str(k+1), 2)\n",
    "    w += [Xk]\n",
    "    lbw += [-0.25, -inf ]\n",
    "    ubw += [inf, inf]\n",
    "    w0 += [0, 0]\n",
    "    \n",
    "    # Add inequality constraint\n",
    "    g += [Xk_end - Xk]\n",
    "    lbg += [0, 0]\n",
    "    ubg += [0, 0]"
   ]
  },
  {
   "cell_type": "code",
   "execution_count": 127,
   "id": "3fc72d56",
   "metadata": {},
   "outputs": [],
   "source": [
    "# Create a NLP solver\n",
    "prob = {'f':J, 'x':vertcat(*w), 'g':vertcat(*g) }\n",
    "solver = nlpsol('solver', 'ipopt', prob)"
   ]
  },
  {
   "cell_type": "code",
   "execution_count": 128,
   "id": "c135ac74",
   "metadata": {},
   "outputs": [
    {
     "name": "stdout",
     "output_type": "stream",
     "text": [
      "This is Ipopt version 3.14.11, running with linear solver MUMPS 5.4.1.\n",
      "\n",
      "Number of nonzeros in equality constraint Jacobian...:      156\n",
      "Number of nonzeros in inequality constraint Jacobian.:        0\n",
      "Number of nonzeros in Lagrangian Hessian.............:      115\n",
      "\n",
      "Total number of variables............................:       60\n",
      "                     variables with only lower bounds:       20\n",
      "                variables with lower and upper bounds:       20\n",
      "                     variables with only upper bounds:        0\n",
      "Total number of equality constraints.................:       40\n",
      "Total number of inequality constraints...............:        0\n",
      "        inequality constraints with only lower bounds:        0\n",
      "   inequality constraints with lower and upper bounds:        0\n",
      "        inequality constraints with only upper bounds:        0\n",
      "\n",
      "iter    objective    inf_pr   inf_du lg(mu)  ||d||  lg(rg) alpha_du alpha_pr  ls\n",
      "   0  5.0098016e-01 8.76e-01 7.51e-01  -1.0 0.00e+00    -  0.00e+00 0.00e+00   0\n",
      "   1  1.3845259e+00 3.96e-01 3.84e-01  -1.7 1.12e+00    -  4.71e-01 5.47e-01h  1\n",
      "   2  2.6299477e+00 1.57e-01 4.10e-01  -1.7 4.93e-01    -  7.70e-01 6.04e-01h  1\n",
      "   3  3.8716210e+00 5.91e-03 3.72e-02  -1.7 1.84e-01    -  1.00e+00 1.00e+00h  1\n",
      "   4  3.7640019e+00 9.33e-05 5.91e-02  -2.5 4.61e-02    -  9.40e-01 1.00e+00h  1\n",
      "   5  3.7503306e+00 1.25e-05 9.36e-05  -2.5 1.37e-02    -  1.00e+00 1.00e+00h  1\n",
      "   6  3.7350543e+00 1.01e-05 8.91e-05  -3.8 1.17e-02    -  1.00e+00 1.00e+00f  1\n",
      "   7  3.7330679e+00 7.96e-07 5.18e-06  -5.7 4.12e-03    -  1.00e+00 1.00e+00h  1\n",
      "   8  3.7329818e+00 8.84e-09 7.13e-08  -5.7 6.25e-04    -  1.00e+00 1.00e+00h  1\n",
      "   9  3.7329694e+00 1.99e-11 1.75e-10  -8.6 2.21e-05    -  1.00e+00 1.00e+00h  1\n",
      "\n",
      "Number of Iterations....: 9\n",
      "\n",
      "                                   (scaled)                 (unscaled)\n",
      "Objective...............:   3.7329694107153943e+00    3.7329694107153943e+00\n",
      "Dual infeasibility......:   1.7472778779392684e-10    1.7472778779392684e-10\n",
      "Constraint violation....:   1.9875073808961474e-11    1.9875073808961474e-11\n",
      "Variable bound violation:   9.0206614955512521e-09    9.0206614955512521e-09\n",
      "Complementarity.........:   5.0072348300005423e-09    5.0072348300005423e-09\n",
      "Overall NLP error.......:   5.0072348300005423e-09    5.0072348300005423e-09\n",
      "\n",
      "\n",
      "Number of objective function evaluations             = 10\n",
      "Number of objective gradient evaluations             = 10\n",
      "Number of equality constraint evaluations            = 10\n",
      "Number of inequality constraint evaluations          = 0\n",
      "Number of equality constraint Jacobian evaluations   = 10\n",
      "Number of inequality constraint Jacobian evaluations = 0\n",
      "Number of Lagrangian Hessian evaluations             = 9\n",
      "Total seconds in IPOPT                               = 0.074\n",
      "\n",
      "EXIT: Optimal Solution Found.\n",
      "      solver  :   t_proc      (avg)   t_wall      (avg)    n_eval\n",
      "       nlp_f  |   2.90ms (289.90us)   2.93ms (292.92us)        10\n",
      "       nlp_g  |   3.18ms (318.20us)   3.17ms (317.50us)        10\n",
      "  nlp_grad_f  |  10.86ms (904.58us)  10.84ms (903.39us)        12\n",
      "  nlp_hess_l  |  28.64ms (  3.18ms)  28.40ms (  3.16ms)         9\n",
      "   nlp_jac_g  |  17.47ms (  1.59ms)  17.32ms (  1.57ms)        11\n",
      "       total  |  76.94ms ( 76.94ms)  75.31ms ( 75.31ms)         1\n"
     ]
    }
   ],
   "source": [
    "# Solve the NLP\n",
    "sol = solver(x0=w0, lbx=lbw, ubx=ubw, lbg=lbg, ubg=ubg)\n",
    "w_opt = sol['x'].full().flatten()\n",
    "\n",
    "# Plot\n",
    "x1_opt = w_opt[0::3]\n",
    "x2_opt = w_opt[1::3]\n",
    "u_opt = w_opt[2::3]"
   ]
  },
  {
   "cell_type": "code",
   "execution_count": 129,
   "id": "ea660cad",
   "metadata": {},
   "outputs": [
    {
     "data": {
      "image/png": "[encoded data removed]",
      "text/plain": [
       "<Figure size 640x480 with 1 Axes>"
      ]
     },
     "metadata": {},
     "output_type": "display_data"
    }
   ],
   "source": [
    "tgrid = [T/N*k for k in range(N+1)]\n",
    "import matplotlib.pyplot as plt\n",
    "plt.figure(1)\n",
    "plt.clf()\n",
    "plt.plot(tgrid, x1_opt, '--')\n",
    "plt.plot(tgrid, x2_opt, '-')\n",
    "plt.step(tgrid, vertcat(DM.nan(1), u_opt), '-.')\n",
    "plt.xlabel('t')\n",
    "plt.legend(['x1', 'x2', 'u'])\n",
    "plt.grid()\n",
    "plt.show()"
   ]
  },
  {
   "cell_type": "code",
   "execution_count": null,
   "id": "0e03ca2f",
   "metadata": {},
   "outputs": [],
   "source": []
  }
 ],
 "metadata": {
  "kernelspec": {
   "display_name": "Python 3 (ipykernel)",
   "language": "python",
   "name": "python3"
  },
  "language_info": {
   "codemirror_mode": {
    "name": "ipython",
    "version": 3
   },
   "file_extension": ".py",
   "mimetype": "text/x-python",
   "name": "python",
   "nbconvert_exporter": "python",
   "pygments_lexer": "ipython3",
   "version": "3.11.3"
  }
 },
 "nbformat": 4,
 "nbformat_minor": 5
}
