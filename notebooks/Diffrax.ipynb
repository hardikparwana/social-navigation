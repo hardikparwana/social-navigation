{
 "cells": [
  {
   "cell_type": "code",
   "execution_count": 10,
   "id": "3b3a3b34",
   "metadata": {},
   "outputs": [],
   "source": [
    "from diffrax import diffeqsolve, ODETerm, Dopri5\n",
    "import jax.numpy as jnp"
   ]
  },
  {
   "cell_type": "code",
   "execution_count": 11,
   "id": "7c914835",
   "metadata": {},
   "outputs": [],
   "source": [
    "def f(t, y, args):\n",
    "    return -y"
   ]
  },
  {
   "cell_type": "code",
   "execution_count": 12,
   "id": "bdbe24a7",
   "metadata": {},
   "outputs": [],
   "source": [
    "term = ODETerm(f)\n",
    "solver = Dopri5()"
   ]
  },
  {
   "cell_type": "code",
   "execution_count": 13,
   "id": "ed07f384",
   "metadata": {},
   "outputs": [],
   "source": [
    "y0 = jnp.array([2.0])\n",
    "solution = diffeqsolve(term, solver, t0=0, t1=31, dt0=0.1, y0=y0)"
   ]
  },
  {
   "cell_type": "code",
   "execution_count": 14,
   "id": "914ab08e",
   "metadata": {},
   "outputs": [
    {
     "data": {
      "text/plain": [
       "Array([[6.88495e-14]], dtype=float32, weak_type=True)"
      ]
     },
     "execution_count": 14,
     "metadata": {},
     "output_type": "execute_result"
    }
   ],
   "source": [
    "solution.ys"
   ]
  },
  {
   "cell_type": "code",
   "execution_count": 15,
   "id": "7cdebcdc",
   "metadata": {},
   "outputs": [],
   "source": [
    "y0 = jnp.array([3.0])\n",
    "solution2 = diffeqsolve(term, solver, t0=0, t1=3.7, dt0=0.1, y0=y0)"
   ]
  },
  {
   "cell_type": "code",
   "execution_count": 16,
   "id": "225288cf",
   "metadata": {},
   "outputs": [
    {
     "data": {
      "text/plain": [
       "Array([[0.07417057]], dtype=float32, weak_type=True)"
      ]
     },
     "execution_count": 16,
     "metadata": {},
     "output_type": "execute_result"
    }
   ],
   "source": [
    "solution2.ys"
   ]
  },
  {
   "cell_type": "code",
   "execution_count": null,
   "id": "f82e2fba",
   "metadata": {},
   "outputs": [],
   "source": []
  },
  {
   "cell_type": "code",
   "execution_count": null,
   "id": "60877703",
   "metadata": {},
   "outputs": [],
   "source": []
  }
 ],
 "metadata": {
  "kernelspec": {
   "display_name": "Python 3 (ipykernel)",
   "language": "python",
   "name": "python3"
  },
  "language_info": {
   "codemirror_mode": {
    "name": "ipython",
    "version": 3
   },
   "file_extension": ".py",
   "mimetype": "text/x-python",
   "name": "python",
   "nbconvert_exporter": "python",
   "pygments_lexer": "ipython3",
   "version": "3.10.6"
  }
 },
 "nbformat": 4,
 "nbformat_minor": 5
}
