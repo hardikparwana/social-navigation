{
 "cells": [
  {
   "cell_type": "markdown",
   "id": "9c28fc1a",
   "metadata": {},
   "source": [
    "# Using Polytope package"
   ]
  },
  {
   "cell_type": "code",
   "execution_count": 1,
   "id": "6df89802",
   "metadata": {},
   "outputs": [
    {
     "name": "stderr",
     "output_type": "stream",
     "text": [
      "`polytope` failed to import `cvxopt.glpk`.\n",
      "will use `scipy.optimize.linprog`\n"
     ]
    },
    {
     "name": "stdout",
     "output_type": "stream",
     "text": [
      "0.478\n",
      "1.9920000000000002\n"
     ]
    }
   ],
   "source": [
    "\"\"\"How to compute a polytope's volume.\"\"\"\n",
    "import numpy as np\n",
    "import polytope\n",
    "\n",
    "# constructing a convex polytope and computing its volume\n",
    "vertices = np.array([[0.0, 0.0], [1.0, 0.0], [0.0, 1.0]])\n",
    "hull = polytope.qhull(vertices)\n",
    "    # `hull` is an instance of the class `polytope.polytope.Polytope`\n",
    "    # which is for representing a convex polytope\n",
    "print(hull.volume)\n",
    "\n",
    "# constructing a nonconvex polytope and computing its volume\n",
    "vertices_1 = np.array([[0.0, 0.0], [0.0, 1.0], [2.0, 1.0]])\n",
    "vertices_2 = np.array([[0.0, 1.0], [1.0, 1.0], [1.0, 2.0], [0.0, 2.0]])\n",
    "hull_1 = polytope.qhull(vertices_1)  # convex hull of vertices in `vertices_1`\n",
    "hull_2 = polytope.qhull(vertices_2)  # convex hull of vertices in `vertices_2`\n",
    "nonconvex = hull_1.union(hull_2)  # construct union of convex polytopes\n",
    "    # `nonconvex` is an instance of the class `polytope.polytope.Region`\n",
    "    # which is for representing any polytope, including nonconvex ones,\n",
    "    # and in this case can also be constructed with\n",
    "    # `polytope.polytope.Region([hull_1, hull_2])`\n",
    "print(polytope.volume( nonconvex ))"
   ]
  },
  {
   "cell_type": "code",
   "execution_count": 2,
   "id": "ada3d930",
   "metadata": {},
   "outputs": [
    {
     "data": {
      "text/plain": [
       "1.9920000000000002"
      ]
     },
     "execution_count": 2,
     "metadata": {},
     "output_type": "execute_result"
    }
   ],
   "source": [
    "polytope.volume(nonconvex) #, nsamples=50000)"
   ]
  },
  {
   "cell_type": "code",
   "execution_count": 3,
   "id": "482c580b",
   "metadata": {},
   "outputs": [
    {
     "data": {
      "text/plain": [
       "1.9920000000000002"
      ]
     },
     "execution_count": 3,
     "metadata": {},
     "output_type": "execute_result"
    }
   ],
   "source": [
    "nonconvex.volume"
   ]
  },
  {
   "cell_type": "markdown",
   "id": "b5ed77cb",
   "metadata": {},
   "source": [
    "# Find Ellipse with cvxpy"
   ]
  },
  {
   "cell_type": "code",
   "execution_count": 4,
   "id": "9b16029b",
   "metadata": {},
   "outputs": [],
   "source": [
    "import polytope as pt\n",
    "# problem data\n",
    "n = 2;\n",
    "points = np.array\n",
    "px = np.array([0, .5, 2, 3, 1]).reshape(-1,1);\n",
    "py = np.array([0, 1, 1.5, .5, -.5]).reshape(-1,1);\n",
    "points = np.append( px, py, axis=1 )\n",
    "m = px.shape[1]\n",
    "pxint = np.sum(px)/m; \n",
    "pyint = np.sum(py)/m;\n",
    "px = np.append(px,  px[0])\n",
    "py = np.append(py, py[0])"
   ]
  },
  {
   "cell_type": "code",
   "execution_count": 5,
   "id": "8932e573",
   "metadata": {},
   "outputs": [
    {
     "data": {
      "text/plain": [
       "array([[ 0. ,  0. ],\n",
       "       [ 0.5,  1. ],\n",
       "       [ 2. ,  1.5],\n",
       "       [ 3. ,  0.5],\n",
       "       [ 1. , -0.5]])"
      ]
     },
     "execution_count": 5,
     "metadata": {},
     "output_type": "execute_result"
    }
   ],
   "source": [
    "points"
   ]
  },
  {
   "cell_type": "code",
   "execution_count": 6,
   "id": "b691a83d",
   "metadata": {},
   "outputs": [],
   "source": [
    " hull = pt.qhull(points)"
   ]
  },
  {
   "cell_type": "code",
   "execution_count": 7,
   "id": "4f6a6efb",
   "metadata": {},
   "outputs": [],
   "source": [
    "A, b = hull.A, hull.b.reshape(-1,1)"
   ]
  },
  {
   "cell_type": "code",
   "execution_count": 8,
   "id": "4433ea99",
   "metadata": {},
   "outputs": [
    {
     "data": {
      "text/plain": [
       "array([[-0.31623,  0.94868],\n",
       "       [ 0.70711,  0.70711],\n",
       "       [ 0.44721, -0.89443],\n",
       "       [-0.89443,  0.44721],\n",
       "       [-0.44721, -0.89443]])"
      ]
     },
     "execution_count": 8,
     "metadata": {},
     "output_type": "execute_result"
    }
   ],
   "source": [
    "A"
   ]
  },
  {
   "cell_type": "code",
   "execution_count": 9,
   "id": "6d0c9fa9",
   "metadata": {},
   "outputs": [
    {
     "data": {
      "text/plain": [
       "array([[0.79057],\n",
       "       [2.47487],\n",
       "       [0.89443],\n",
       "       [0.     ],\n",
       "       [0.     ]])"
      ]
     },
     "execution_count": 9,
     "metadata": {},
     "output_type": "execute_result"
    }
   ],
   "source": [
    "b"
   ]
  },
  {
   "cell_type": "code",
   "execution_count": 10,
   "id": "5ab0c3af",
   "metadata": {},
   "outputs": [
    {
     "data": {
      "text/plain": [
       "-0.09773305109039437"
      ]
     },
     "execution_count": 10,
     "metadata": {},
     "output_type": "execute_result"
    }
   ],
   "source": [
    "import cvxpy as cp\n",
    "# formulate and solve the problem\n",
    "B = cp.Variable((n,n), symmetric=True)\n",
    "d = cp.Variable((n,1))\n",
    "objective = cp.Maximize( cp.log_det( B ) )\n",
    "const = []\n",
    "for i in range( points.shape[0] ):\n",
    "    const += [ cp.norm( B @ A[i,:].reshape(-1,1) ) + A[i,:].reshape(1,-1) @ d <= b[i,0] ]\n",
    "prob = cp.Problem( objective, const )\n",
    "prob.solve()"
   ]
  },
  {
   "cell_type": "code",
   "execution_count": 11,
   "id": "3b8a6e38",
   "metadata": {},
   "outputs": [],
   "source": [
    "ellipse_n = 2\n",
    "ellipse_num_planes = 5\n",
    "ellipse_B = cp.Variable((ellipse_n,ellipse_n), symmetric=True)\n",
    "ellipse_d = cp.Variable((ellipse_n,1))\n",
    "ellipse_A = cp.Parameter((ellipse_num_planes,2))\n",
    "ellipse_b = cp.Parameter((ellipse_num_planes,1))\n",
    "ellipse_objective = cp.Maximize( cp.log_det( ellipse_B ) )\n",
    "ellipse_const = []\n",
    "for ellipse_i in range( ellipse_A.shape[0] ):\n",
    "    ellipse_const += [ cp.norm( ellipse_B @ ellipse_A[ellipse_i,:]) + ellipse_A[ellipse_i,:] @ ellipse_d <= ellipse_b[ellipse_i,0] ]\n",
    "ellipse_prob = cp.Problem( ellipse_objective, ellipse_const )"
   ]
  },
  {
   "cell_type": "code",
   "execution_count": 12,
   "id": "85ea20a8",
   "metadata": {},
   "outputs": [],
   "source": [
    "from cvxpylayers.jax import CvxpyLayer\n",
    "import jax\n",
    "cvxpylayer = CvxpyLayer(ellipse_prob, parameters=[ellipse_A, ellipse_b], variables=[ellipse_B, ellipse_d])\n",
    "A_jax = A\n",
    "b_jax = b"
   ]
  },
  {
   "cell_type": "code",
   "execution_count": 13,
   "id": "0a528765",
   "metadata": {},
   "outputs": [
    {
     "name": "stderr",
     "output_type": "stream",
     "text": [
      "/home/hardik/Desktop/Research/social-navigation/venv11/lib/python3.11/site-packages/cvxpylayers/jax/cvxpylayer.py:167: UserWarning: Explicitly requested dtype float64 requested in array is not available, and will be truncated to dtype float32. To enable more dtypes, set the jax_enable_x64 configuration option or the JAX_ENABLE_X64 shell environment variable. See https://github.com/google/jax#current-gotchas for more.\n",
      "  sol[j].append(jnp.expand_dims(jnp.array(\n",
      "An NVIDIA GPU may be present on this machine, but a CUDA-enabled jaxlib is not installed. Falling back to cpu.\n"
     ]
    }
   ],
   "source": [
    "solution = cvxpylayer(A_jax, b_jax)"
   ]
  },
  {
   "cell_type": "code",
   "execution_count": 14,
   "id": "c257f583",
   "metadata": {},
   "outputs": [
    {
     "data": {
      "text/plain": [
       "(Array([[1.15657, 0.17477],\n",
       "        [0.17477, 0.81051]], dtype=float32),\n",
       " Array([[1.34374],\n",
       "        [0.5    ]], dtype=float32))"
      ]
     },
     "execution_count": 14,
     "metadata": {},
     "output_type": "execute_result"
    }
   ],
   "source": [
    "solution"
   ]
  },
  {
   "cell_type": "code",
   "execution_count": 15,
   "id": "a86094f4",
   "metadata": {},
   "outputs": [
    {
     "data": {
      "text/plain": [
       "Array([[1.15657, 0.17477],\n",
       "       [0.17477, 0.81051]], dtype=float32)"
      ]
     },
     "execution_count": 15,
     "metadata": {},
     "output_type": "execute_result"
    }
   ],
   "source": [
    "solution[0]"
   ]
  },
  {
   "cell_type": "code",
   "execution_count": 16,
   "id": "f68aa041",
   "metadata": {},
   "outputs": [],
   "source": [
    "import jax.numpy as jnp\n",
    "new_fun = lambda A, b: jnp.sum(cvxpylayer(A, b)[0])"
   ]
  },
  {
   "cell_type": "code",
   "execution_count": 17,
   "id": "baf885c9",
   "metadata": {},
   "outputs": [
    {
     "data": {
      "text/plain": [
       "Array(2.31662, dtype=float32)"
      ]
     },
     "execution_count": 17,
     "metadata": {},
     "output_type": "execute_result"
    }
   ],
   "source": [
    "new_fun( A_jax, b_jax )"
   ]
  },
  {
   "cell_type": "code",
   "execution_count": 18,
   "id": "6d968208",
   "metadata": {},
   "outputs": [
    {
     "name": "stderr",
     "output_type": "stream",
     "text": [
      "/home/hardik/Desktop/Research/social-navigation/venv11/lib/python3.11/site-packages/cvxpylayers/jax/cvxpylayer.py:225: UserWarning: Explicitly requested dtype float64 requested in array is not available, and will be truncated to dtype float32. To enable more dtypes, set the jax_enable_x64 configuration option or the JAX_ENABLE_X64 shell environment variable. See https://github.com/google/jax#current-gotchas for more.\n",
      "  grad[j] += [jnp.expand_dims(jnp.array(\n"
     ]
    }
   ],
   "source": [
    "dcvxpylayer = jax.grad(lambda A, b: jnp.sum(cvxpylayer(A, b)[0]), argnums=[0, 1]) # sum of elements of B matrix\n",
    "gradA, gradb = dcvxpylayer(A_jax, b_jax)\n",
    "\n",
    "# dcvxpylayer_jit = jit(dcvxpylayer)\n",
    "# dcvxpylayer_jit( A_jax, b_jax )\n",
    "\n"
   ]
  },
  {
   "cell_type": "markdown",
   "id": "87ae57c2",
   "metadata": {},
   "source": [
    "# Finding circle with cvxpy"
   ]
  },
  {
   "cell_type": "code",
   "execution_count": 19,
   "id": "d5f0f5fa",
   "metadata": {},
   "outputs": [
    {
     "data": {
      "text/plain": [
       "0.7640840052119809"
      ]
     },
     "execution_count": 19,
     "metadata": {},
     "output_type": "execute_result"
    }
   ],
   "source": [
    "r = cp.Variable()\n",
    "c = cp.Variable((2,1))\n",
    "objective2 = cp.Maximize(r)\n",
    "const2 = []\n",
    "for i in range( points.shape[0] ):\n",
    "    const2 += [ A[i,:].reshape(1,-1) @ c + np.linalg.norm(A[i,:]) * r <= b[i,0] ]\n",
    "prob2 = cp.Problem( objective2, const2 )\n",
    "prob2.solve()"
   ]
  },
  {
   "cell_type": "code",
   "execution_count": null,
   "id": "34d5ef9e",
   "metadata": {},
   "outputs": [],
   "source": []
  },
  {
   "cell_type": "code",
   "execution_count": 20,
   "id": "fbe8aaf4",
   "metadata": {},
   "outputs": [],
   "source": [
    "test = np.empty([2, 2])"
   ]
  },
  {
   "cell_type": "code",
   "execution_count": 21,
   "id": "fca9772d",
   "metadata": {},
   "outputs": [
    {
     "data": {
      "text/plain": [
       "0.0"
      ]
     },
     "execution_count": 21,
     "metadata": {},
     "output_type": "execute_result"
    }
   ],
   "source": [
    "test[0,0]"
   ]
  },
  {
   "cell_type": "markdown",
   "id": "246cb4b2",
   "metadata": {},
   "source": [
    "# Plot results"
   ]
  },
  {
   "cell_type": "code",
   "execution_count": 22,
   "id": "bd5bed25",
   "metadata": {},
   "outputs": [],
   "source": [
    "angles   = np.linspace( 0, 2 * np.pi, 100 )\n",
    "ellipse_inner  = (B.value @ np.append(np.cos(angles).reshape(1,-1) , np.sin(angles).reshape(1,-1), axis=0 )) + d.value# * np.ones( 1, noangles );\n",
    "ellipse_outer  = (2* B.value @ np.append(np.cos(angles).reshape(1,-1) , np.sin(angles).reshape(1,-1), axis=0 )) + d.value\n",
    "circle_inner = c.value + r.value * np.append(np.cos(angles).reshape(1,-1) , np.sin(angles).reshape(1,-1), axis=0 )"
   ]
  },
  {
   "cell_type": "code",
   "execution_count": 23,
   "id": "35d7df85",
   "metadata": {},
   "outputs": [
    {
     "data": {
      "text/plain": [
       "3.228"
      ]
     },
     "execution_count": 23,
     "metadata": {},
     "output_type": "execute_result"
    },
    {
     "data": {
      "image/png": "[encoded data removed]",
      "text/plain": [
       "<Figure size 640x480 with 1 Axes>"
      ]
     },
     "metadata": {},
     "output_type": "display_data"
    }
   ],
   "source": [
    "import matplotlib.pyplot as plt\n",
    "plt.figure()\n",
    "ax = plt.axes(xlim=(-2,5), ylim=(-2,3))\n",
    "hull_plot = hull.plot(ax)\n",
    "ax.plot( ellipse_inner[0,:], ellipse_inner[1,:], 'b', label='Inner Ellipse' )\n",
    "ax.plot( ellipse_outer[0,:], ellipse_outer[1,:], 'g', label='Outer Ellipse' )\n",
    "ax.plot( circle_inner[0,:], circle_inner[1,:], 'r', label='Inner Circle' )\n",
    "ax.legend()\n",
    "# hull_plot.clear()\n",
    "hull.volume"
   ]
  },
  {
   "cell_type": "markdown",
   "id": "a8b34d9e",
   "metadata": {},
   "source": [
    "# Polytope random function"
   ]
  },
  {
   "cell_type": "code",
   "execution_count": 24,
   "id": "05c8ff19",
   "metadata": {},
   "outputs": [],
   "source": [
    "import polytope as pc\n",
    "A1 = np.array([[1.0, 0.0],\n",
    "              [0.0, 1.0],\n",
    "              [-1.0, -0.0],\n",
    "              [-0.0, -1.0]])\n",
    "\n",
    "b1 = np.array([2.0, 1.0, 0.0, 0.0])\n",
    "p1 = pc.Polytope(A1, b1)\n",
    "\n",
    "A2 = np.array([[1.0, 0.0],\n",
    "              [0.0, 1.0],\n",
    "              [-1.0, -0.0],\n",
    "              [-0.0, -1.0]])\n",
    "\n",
    "b2 = np.array([2.0, 1.0, 0.0, 0.0])\n",
    "p2 = pc.Polytope(A2, b2)"
   ]
  },
  {
   "cell_type": "code",
   "execution_count": 25,
   "id": "71403b68",
   "metadata": {},
   "outputs": [],
   "source": [
    "p3 = p1.union(p2)"
   ]
  },
  {
   "cell_type": "code",
   "execution_count": 26,
   "id": "ec708e03",
   "metadata": {},
   "outputs": [
    {
     "data": {
      "text/plain": [
       "4.0"
      ]
     },
     "execution_count": 26,
     "metadata": {},
     "output_type": "execute_result"
    }
   ],
   "source": [
    "p3.volume"
   ]
  },
  {
   "cell_type": "code",
   "execution_count": 27,
   "id": "969782ae",
   "metadata": {},
   "outputs": [
    {
     "data": {
      "text/plain": [
       "2.0"
      ]
     },
     "execution_count": 27,
     "metadata": {},
     "output_type": "execute_result"
    }
   ],
   "source": [
    "polytope.volume(p2)"
   ]
  },
  {
   "cell_type": "code",
   "execution_count": 28,
   "id": "60a5bf2f",
   "metadata": {},
   "outputs": [],
   "source": [
    "import jax.numpy as jnp\n",
    "from jax import jit, grad\n",
    "import jax\n",
    "from jax import config\n",
    "config.update(\"jax_enable_x64\", True)"
   ]
  },
  {
   "cell_type": "code",
   "execution_count": 29,
   "id": "c6e426ed",
   "metadata": {},
   "outputs": [
    {
     "data": {
      "text/plain": [
       "Array([1., 1., 0.], dtype=float64)"
      ]
     },
     "execution_count": 29,
     "metadata": {},
     "output_type": "execute_result"
    }
   ],
   "source": [
    "jnp.heaviside(jnp.array([1,2,-1]), 1.0)"
   ]
  },
  {
   "cell_type": "code",
   "execution_count": 30,
   "id": "1d425d7a",
   "metadata": {},
   "outputs": [
    {
     "data": {
      "text/plain": [
       "(array([[-0. ],\n",
       "        [-0.5]]),\n",
       " array([[3. ],\n",
       "        [1.5]]))"
      ]
     },
     "execution_count": 30,
     "metadata": {},
     "output_type": "execute_result"
    }
   ],
   "source": [
    "pt.bounding_box(hull)"
   ]
  },
  {
   "cell_type": "code",
   "execution_count": 31,
   "id": "a3737a62",
   "metadata": {},
   "outputs": [],
   "source": [
    "lb, ub = pt.bounding_box(hull)"
   ]
  },
  {
   "cell_type": "code",
   "execution_count": 32,
   "id": "4ffd685f",
   "metadata": {},
   "outputs": [
    {
     "data": {
      "text/plain": [
       "array([[-0.5],\n",
       "       [-1. ]])"
      ]
     },
     "execution_count": 32,
     "metadata": {},
     "output_type": "execute_result"
    }
   ],
   "source": [
    "lb - 0.5"
   ]
  },
  {
   "cell_type": "code",
   "execution_count": 33,
   "id": "15e710b6",
   "metadata": {},
   "outputs": [
    {
     "data": {
      "text/plain": [
       "array([[3.5],\n",
       "       [2. ]])"
      ]
     },
     "execution_count": 33,
     "metadata": {},
     "output_type": "execute_result"
    }
   ],
   "source": [
    "ub + 0.5"
   ]
  },
  {
   "cell_type": "code",
   "execution_count": 34,
   "id": "0ee1d45c",
   "metadata": {},
   "outputs": [],
   "source": [
    "def mc_polytope_volume_org(A, b, samples):\n",
    "    aux = A @ samples - b\n",
    "#     print(f\"old:{jnp.nonzero(jnp.all(aux < 0, 0))}\")\n",
    "#     return jnp.sum(jnp.nonzero(jnp.all(aux < 0, 0))[0])\n",
    "    aux = jnp.nonzero(jnp.all(aux < 0, 0))[0].shape[0]    \n",
    "    vol = (2*bounds)**2 * aux / num_samples\n",
    "    return vol\n",
    "mc_polytope_volume_org_grad = grad(mc_polytope_volume_org, 0)\n",
    "# @jit\n",
    "\n",
    "def get_intersection_points(ai, bi, lb, ub):\n",
    "\n",
    "    # lb: assume dim=2\n",
    "    bpt = []\n",
    "    # a[0] * ux + a[1] * uy = bi\n",
    "\n",
    "    #left edge: ux = lb[0]\n",
    "    if jnp.abs(ai[1])>0.01:\n",
    "        uy =  (bi - ai[0] * lb[0]) / ai[1]\n",
    "#         print(f\"hello0, uy:{uy}\")\n",
    "        if ((uy <= ub[1]) and (uy >= lb[1])):\n",
    "            bpt.append( jnp.array([ lb[0], uy ]) )\n",
    "\n",
    "    #right edge: ux = ub[0]\n",
    "    if jnp.abs(ai[1])>0.01:\n",
    "        uy =  (bi - ai[0] * ub[0]) / ai[1]\n",
    "#         print(f\"hello1, uy:{uy}\")\n",
    "        if ((uy <= ub[1]) and (uy >= lb[1])):\n",
    "            bpt.append( jnp.array([ ub[0], uy ]) )\n",
    "\n",
    "    #bottom edge: uy = lb[1]\n",
    "    if jnp.abs(ai[0])>0.01:\n",
    "        ux =  (bi - ai[1] * lb[1]) / ai[0]\n",
    "#         print(f\"hello2, ux:{ux}\")\n",
    "        if ((ux <= ub[0]) and (ux >= lb[0])):\n",
    "            bpt.append( jnp.array([ ux, lb[1] ]) )\n",
    "\n",
    "    #top edge: uy = ub[1]\n",
    "    if jnp.abs(ai[0])>0.01:\n",
    "        ux =  (bi - ai[1] * ub[1]) / ai[0]\n",
    "#         print(f\"hello3, ux:{ux}\")\n",
    "        if ((ux <= ub[0]) and (ux >= lb[0])):\n",
    "            bpt.append( jnp.array([ ux, ub[1] ]) )\n",
    "    \n",
    "    if len(bpt)<2:\n",
    "        print(f\"ERROR: Should have been 2 points!\")\n",
    "        \n",
    "    if len(bpt)>2:\n",
    "        bpt = [bpt[0], bpt[-1]]\n",
    "        \n",
    "    print(bpt)\n",
    "    return bpt\n",
    "        \n",
    "def mc_polytope_volume(A, b, samples):\n",
    "#     key = jax.random.PRNGKey(10)\n",
    "#     num_samples=50000\n",
    "#     bounds = 30\n",
    "#     samples = jax.random.uniform( key, shape=(2,num_samples), minval=-bounds, maxval=bounds )#A.shape[1]   \n",
    "    aux = A @ samples - b    \n",
    "    aux = -aux\n",
    "    aux = jnp.min(aux, axis=0)\n",
    "    aux = (jnp.tanh( aux / 0.001 ) + 1.0)/2.0    \n",
    "    aux = jnp.sum( aux )\n",
    "    vol = ((2*bounds)**2) * (aux / samples.shape[1]) #num_samples)\n",
    "    return vol\n",
    "mc_polytope_volume_grad = jit(grad(mc_polytope_volume, 0))\n",
    "\n",
    "def mc_polytope_volume_about_lines(A, b, samples, total_volume):\n",
    "#     key = jax.random.PRNGKey(10)\n",
    "#     num_samples=50000\n",
    "#     bounds = 30\n",
    "#     samples = jax.random.uniform( key, shape=(2,num_samples), minval=-bounds, maxval=bounds )#A.shape[1]   \n",
    "    aux = A @ samples - b    \n",
    "    aux = -aux\n",
    "    aux = jnp.min(aux, axis=0)\n",
    "    aux = (jnp.tanh( aux / 0.001 ) + 1.0)/2.0    \n",
    "    aux = jnp.sum( aux )\n",
    "    vol = total_volume * (aux / samples.shape[1]) #num_samples)\n",
    "    return vol\n",
    "mc_polytope_volume_about_lines_grad = jit(grad(mc_polytope_volume_about_lines, 0))\n",
    "\n",
    "def plot_polytope_lines(ax, hull, u_bound):\n",
    "    xs = np.linspace( -u_bound, u_bound, 3 )\n",
    "    A, b = hull.A, hull.b\n",
    "    alpha = 0.1\n",
    "    for i in range(A.shape[0]):\n",
    "        if np.abs(A[i,1])>0.001:\n",
    "            ax.plot( xs, (b[i] - A[i,0]*xs)/A[i,1], color='k', linestyle='--', alpha = alpha )\n",
    "        else:\n",
    "            if np.abs(A[i,0])>0.001:\n",
    "                ax.axvline( b[i]/A[i,0], color='k', linestyle='--', alpha = alpha )\n",
    "            else:\n",
    "                ax.vline( 0.0, color='k', linestyle='--', alpha = alpha )"
   ]
  },
  {
   "cell_type": "code",
   "execution_count": 35,
   "id": "901daede",
   "metadata": {},
   "outputs": [],
   "source": [
    "key = jax.random.PRNGKey(10)\n",
    "key, subkey = jax.random.split(key)\n",
    "num_samples=100000 #1000000\n",
    "bounds = 30\n",
    "samples = jax.random.uniform( key, shape=(2,num_samples), minval=-bounds, maxval=bounds )#A.shape[1]   \n"
   ]
  },
  {
   "cell_type": "markdown",
   "id": "e393f102",
   "metadata": {},
   "source": [
    "# Method 1"
   ]
  },
  {
   "cell_type": "code",
   "execution_count": 36,
   "id": "9b67710f",
   "metadata": {},
   "outputs": [
    {
     "name": "stdout",
     "output_type": "stream",
     "text": [
      "A: [[-0.31623  0.94868]\n",
      " [ 0.70711  0.70711]\n",
      " [ 0.44721 -0.89443]\n",
      " [-0.89443  0.44721]\n",
      " [-0.44721 -0.89443]]\n",
      "b: [0.79057 2.47487 0.89443 0.      0.     ]\n",
      "[Array([-0.5    ,  0.66667], dtype=float64), Array([3.5, 2. ], dtype=float64)]\n",
      "[Array([3.5, 0. ], dtype=float64), Array([1.5, 2. ], dtype=float64)]\n",
      "[Array([3.5 , 0.75], dtype=float64), Array([ 0., -1.], dtype=float64)]\n",
      "[Array([-0.5, -1. ], dtype=float64), Array([1., 2.], dtype=float64)]\n",
      "[Array([-0.5 ,  0.25], dtype=float64), Array([ 2., -1.], dtype=float64)]\n"
     ]
    },
    {
     "data": {
      "image/png": "[encoded data removed]",
      "text/plain": [
       "<Figure size 640x480 with 1 Axes>"
      ]
     },
     "metadata": {},
     "output_type": "display_data"
    }
   ],
   "source": [
    "plt.figure()\n",
    "ax = plt.axes(xlim=(-2,5), ylim=(-2,3))\n",
    "hull_plot = hull.plot(ax)\n",
    "lb = jnp.array([-0.5, -1])\n",
    "ub = jnp.array([3.5, 2.0])\n",
    "# get_intersection_points( hull.A[0,:], hull.b[0], lb , ub )\n",
    "\n",
    "control_input_limit_points = np.array([ [lb[0], lb[1]], [lb[0], ub[1]], [ub[0], ub[1]], [ub[0], lb[1]] ])\n",
    "control_bound_polytope = pt.qhull( control_input_limit_points )\n",
    "# control_bound_polytope.plot(ax)\n",
    "plot_polytope_lines( ax, control_bound_polytope, jnp.max(ub) )\n",
    "\n",
    "print(f\"A: {hull.A}\")\n",
    "print(f\"b: {hull.b}\")\n",
    "# key = jax.random.PRNGKey(10)\n",
    "#plot new points\n",
    "sampled_pts = []\n",
    "toal_volume = 0\n",
    "for i in range(hull.A.shape[0]):\n",
    "    pts = get_intersection_points( hull.A[i,:], hull.b[i], lb , ub )\n",
    "    if len(pts)>0:\n",
    "        plt.plot([ pts[0][0], pts[1][0] ], [ pts[0][1], pts[1][1] ]  )\n",
    "    xs = jnp.linspace(0, pts[1][0]-pts[0][0], 200).reshape(1,-1)\n",
    "    slope = (pts[1][1]-pts[0][1])/(pts[1][0]-pts[0][0])\n",
    "    ys = pts[0][1] + slope * xs\n",
    "    key, subkey = jax.random.split(key)\n",
    "    ys = jnp.clip( ys + 0.2 * jax.random.normal(subkey, shape=(1,200)), lb[1], ub[1] )\n",
    "    new_pts = jnp.append( pts[0][0]+xs, ys, axis=0  )\n",
    "    if i==0:\n",
    "        sampled_pts = new_pts #jnp.append( pts[0][0]+xs, ys, axis=0  )\n",
    "    else:\n",
    "        sampled_pts = jnp.append( sampled_pts, new_pts, axis=1 )\n",
    "    plt.scatter(new_pts[0,:], new_pts[1,:], s=3)\n",
    "# plt.scatter(sampled_pts[0,:], sampled_pts[1,:], s=3)\n",
    "    # now sample points on this line\n",
    "samples = jnp.append(samples, sampled_pts, axis=1)\n"
   ]
  },
  {
   "cell_type": "markdown",
   "id": "ead76f50",
   "metadata": {},
   "source": [
    "# Method 2"
   ]
  },
  {
   "cell_type": "code",
   "execution_count": 37,
   "id": "40175865",
   "metadata": {},
   "outputs": [
    {
     "name": "stdout",
     "output_type": "stream",
     "text": [
      "[Array([-0.5    ,  0.66667], dtype=float64), Array([3.5, 2. ], dtype=float64)]\n",
      "[Array([3.5, 0. ], dtype=float64), Array([1.5, 2. ], dtype=float64)]\n",
      "[Array([3.5 , 0.75], dtype=float64), Array([ 0., -1.], dtype=float64)]\n",
      "[Array([-0.5, -1. ], dtype=float64), Array([1., 2.], dtype=float64)]\n",
      "[Array([-0.5 ,  0.25], dtype=float64), Array([ 2., -1.], dtype=float64)]\n"
     ]
    },
    {
     "data": {
      "image/png": "[encoded data removed]",
      "text/plain": [
       "<Figure size 640x480 with 1 Axes>"
      ]
     },
     "metadata": {},
     "output_type": "display_data"
    }
   ],
   "source": [
    "plt.figure()\n",
    "ax = plt.axes(xlim=(-2,5), ylim=(-2,3))\n",
    "hull_plot = hull.plot(ax)\n",
    "lb = jnp.array([-0.5, -1])\n",
    "ub = jnp.array([3.5, 2.0])\n",
    "# get_intersection_points( hull.A[0,:], hull.b[0], lb , ub )\n",
    "\n",
    "control_input_limit_points = np.array([ [lb[0], lb[1]], [lb[0], ub[1]], [ub[0], ub[1]], [ub[0], lb[1]] ])\n",
    "control_bound_polytope = pt.qhull( control_input_limit_points )\n",
    "# control_bound_polytope.plot(ax)\n",
    "plot_polytope_lines( ax, control_bound_polytope, jnp.max(ub) )\n",
    "\n",
    "# print(f\"A: {hull.A}\")\n",
    "# print(f\"b: {hull.b}\")\n",
    "key = jax.random.PRNGKey(10)\n",
    "#plot new points\n",
    "sampled_pts = []\n",
    "num_line_points = 200\n",
    "num_normal_points = 100\n",
    "increment = 0.001\n",
    "\n",
    "@jit\n",
    "def generate_points_about_line(pts): #, num_line_pts, num_normal_points, increment):\n",
    "    \n",
    "    xs = jnp.linspace(0, pts[1][0]-pts[0][0], num_line_points).reshape(1,-1)    \n",
    "    slope = (pts[1][1]-pts[0][1])/(pts[1][0]-pts[0][0])    \n",
    "    ys = pts[0][1] + slope * xs\n",
    "    line_pts = jnp.append( pts[0][0]+xs, ys, axis=0  )\n",
    "    \n",
    "    # Now N choose points above and below perpendicular to xs, ys\n",
    "    theta = jnp.arctan(slope)\n",
    "    slope_n = jnp.pi/2 + theta\n",
    "    \n",
    "    length = jnp.linspace(0, 2 * num_normal_points, num_normal_points, dtype=int) - num_normal_points\n",
    "    length = length * increment\n",
    "    steps = length * jnp.array([ [jnp.cos(slope_n)], [jnp.sin(slope_n)] ])\n",
    "    \n",
    "    # add above points to each point on line\n",
    "#     temp_points = line_pts.reshape((2,num_line_points,1)) + steps\n",
    "    temp_points = line_pts.reshape((2,1,line_pts.shape[1])) + steps.reshape( (2,steps.shape[1],1) )\n",
    "    new_pts = temp_points.reshape( (2, num_normal_points*num_line_points) )\n",
    "    volume = jnp.linalg.norm( pts[1]-pts[0] ) * num_normal_points * increment\n",
    "    return new_pts, volume\n",
    "\n",
    "total_volume = 0\n",
    "for i in range(hull.A.shape[0]):\n",
    "    pts = get_intersection_points( hull.A[i,:], hull.b[i], lb , ub )\n",
    "    if len(pts)>0:\n",
    "        plt.plot([ pts[0][0], pts[1][0] ], [ pts[0][1], pts[1][1] ]  )\n",
    "    else:\n",
    "        continue\n",
    "        \n",
    "    new_pts, temp_volume = generate_points_about_line( pts ) #, num_line_points, num_normal_points, increment )\n",
    "    total_volume = total_volume + temp_volume\n",
    "#     xs = jnp.linspace(0, pts[1][0]-pts[0][0], num_line_points).reshape(1,-1)    \n",
    "#     slope = (pts[1][1]-pts[0][1])/(pts[1][0]-pts[0][0])    \n",
    "#     ys = pts[0][1] + slope * xs\n",
    "#     line_pts = jnp.append( pts[0][0]+xs, ys, axis=0  )\n",
    "    \n",
    "#     # Now N choose points above and below perpendicular to xs, ys\n",
    "#     theta = np.arctan(slope)\n",
    "#     slope_n = np.pi/2 + theta\n",
    "    \n",
    "#     length = jnp.linspace(0, 2 * num_normal_points, num_normal_points, dtype=int) - num_normal_points\n",
    "#     length = length * increment\n",
    "#     steps = length * jnp.array([ [jnp.cos(slope_n)], [jnp.sin(slope_n)] ])\n",
    "    \n",
    "#     # add above points to each point on line\n",
    "#     temp_points = line_pts.reshape((2,1,line_pts.shape[1])) + steps.reshape( (2,steps.shape[1],1) )\n",
    "#     new_pts = temp_points.reshape( (2, num_normal_points*num_line_points) )\n",
    "    \n",
    "    if i==0:\n",
    "        sampled_pts = new_pts #jnp.append( pts[0][0]+xs, ys, axis=0  )\n",
    "    else:\n",
    "        sampled_pts = jnp.append( sampled_pts, new_pts, axis=1 )\n",
    "    plt.scatter(new_pts[0,::3], new_pts[1,::3], s=3, alpha=0.1)\n",
    "# plt.scatter(sampled_pts[0,:], sampled_pts[1,:], s=3)\n",
    "    # now sample points on this line\n",
    "samples = sampled_pts\n",
    "# samples = jnp.append(samples, sampled_pts, axis=1)\n"
   ]
  },
  {
   "cell_type": "code",
   "execution_count": 38,
   "id": "d14d4206",
   "metadata": {},
   "outputs": [
    {
     "data": {
      "text/plain": [
       "Array(1.71071, dtype=float64)"
      ]
     },
     "execution_count": 38,
     "metadata": {},
     "output_type": "execute_result"
    }
   ],
   "source": [
    "total_volume"
   ]
  },
  {
   "cell_type": "code",
   "execution_count": 39,
   "id": "e72b89dc",
   "metadata": {},
   "outputs": [
    {
     "data": {
      "text/plain": [
       "Array([ 0.07707, -0.32153, -0.46826,  0.65324, -1.86691, -1.02509,\n",
       "        0.78743, -0.08979, -0.70564, -0.98287], dtype=float64)"
      ]
     },
     "execution_count": 39,
     "metadata": {},
     "output_type": "execute_result"
    }
   ],
   "source": [
    "key, subkey = jax.random.split(key)\n",
    "jax.random.normal(subkey, shape=(10,))"
   ]
  },
  {
   "cell_type": "code",
   "execution_count": 40,
   "id": "3eaa24d5",
   "metadata": {},
   "outputs": [
    {
     "name": "stdout",
     "output_type": "stream",
     "text": [
      "old volume : 800.784\n",
      "new volume: 0.3806103220409748 \n",
      "new grad: [[-0.55516 -0.56223]\n",
      " [-1.30983 -0.51482]\n",
      " [-1.2882  -0.0036 ]\n",
      " [-0.09708 -0.19452]\n",
      " [-0.21722  0.10838]]\n"
     ]
    }
   ],
   "source": [
    "# mc_polytope_volume_grad = jit(grad(mc_polytope_volume, 0))\n",
    "print(f\"old volume : { mc_polytope_volume_org(hull.A, hull.b.reshape(-1,1), samples) }\")\n",
    "print(f\"new volume: { mc_polytope_volume_about_lines(hull.A, hull.b.reshape(-1,1), samples, total_volume ) } \" )\n",
    "# print(f\"old grad: { mc_polytope_volume_org_grad(hull.A, hull.b.reshape(-1,1), samples) }\")\n",
    "print(f\"new grad: { mc_polytope_volume_about_lines_grad(hull.A, hull.b.reshape(-1,1), samples, total_volume) }\")"
   ]
  },
  {
   "cell_type": "code",
   "execution_count": 41,
   "id": "112ccb56",
   "metadata": {},
   "outputs": [
    {
     "name": "stdout",
     "output_type": "stream",
     "text": [
      "old volume : 800.784\n",
      "new volume: 800.9521777946219 \n",
      "new grad: [[-1168.26612 -1183.16086]\n",
      " [-2756.38506 -1083.37528]\n",
      " [-2710.87767    -7.57747]\n",
      " [ -204.302    -409.35183]\n",
      " [ -457.12046   228.08187]]\n"
     ]
    }
   ],
   "source": [
    "# mc_polytope_volume_grad = jit(grad(mc_polytope_volume, 0))\n",
    "print(f\"old volume : { mc_polytope_volume_org(hull.A, hull.b.reshape(-1,1), samples) }\")\n",
    "print(f\"new volume: { mc_polytope_volume(hull.A, hull.b.reshape(-1,1), samples ) } \" )\n",
    "# print(f\"old grad: { mc_polytope_volume_org_grad(hull.A, hull.b.reshape(-1,1), samples) }\")\n",
    "print(f\"new grad: { mc_polytope_volume_grad(hull.A, hull.b.reshape(-1,1), samples) }\")"
   ]
  },
  {
   "cell_type": "code",
   "execution_count": 42,
   "id": "d53bcf82",
   "metadata": {},
   "outputs": [
    {
     "data": {
      "text/plain": [
       "Array([-0.52535, -0.49707,  0.15283, -0.78026], dtype=float64)"
      ]
     },
     "execution_count": 42,
     "metadata": {},
     "output_type": "execute_result"
    }
   ],
   "source": [
    "jnp.min( jnp.array([2.00554,1.03843,0.44378, 0.58484, 0.15283]) )\n",
    "aa = jnp.array([[ 2.05088,  2.50971,  2.00554,  2.83296],\n",
    " [ 1.68793,  1.36946,  1.03843,  1.44821],\n",
    " [ 0.62205,  0.12897,  0.44378, -0.11737],\n",
    " [-0.02076,  0.3479 ,  0.58484,  0.32184],\n",
    " [-0.52535, -0.49707,  0.15283, -0.78026]])\n",
    "jnp.min(aa, axis=0)"
   ]
  },
  {
   "cell_type": "code",
   "execution_count": 43,
   "id": "40b4e298",
   "metadata": {},
   "outputs": [
    {
     "data": {
      "text/plain": [
       "3.228"
      ]
     },
     "execution_count": 43,
     "metadata": {},
     "output_type": "execute_result"
    }
   ],
   "source": [
    "hull.volume"
   ]
  },
  {
   "cell_type": "code",
   "execution_count": 44,
   "id": "cc2c82a9",
   "metadata": {},
   "outputs": [],
   "source": [
    "# # @jit\n",
    "# def mc_polytope_volume_jit(A, b, bounds = 30):\n",
    "#     key = jax.random.PRNGKey(10)\n",
    "#     num_samples=10000\n",
    "#     volume = 0\n",
    "#     samples = jax.random.uniform( key, shape=(A.shape[1],num_samples), minval=-bounds, maxval=bounds )\n",
    "# #     print(f\"A:{A}, samples:{samples}\")\n",
    "    \n",
    "#     aux = A @ samples - b\n",
    "#     aux = np.clip(-aux, a_min = 0 )\n",
    "#     aux = np.nonzero(np.all(aux < 0, 0))[0].shape[0]\n",
    "#     vol = (2*bounds)**2 * aux / num_samples\n",
    "#     return vol"
   ]
  },
  {
   "cell_type": "code",
   "execution_count": 45,
   "id": "7bbd33cd",
   "metadata": {},
   "outputs": [],
   "source": [
    "mc_polytope_volume_grad = grad(mc_polytope_volume, 0)"
   ]
  },
  {
   "cell_type": "code",
   "execution_count": 46,
   "id": "0bb4195c",
   "metadata": {},
   "outputs": [
    {
     "ename": "TypeError",
     "evalue": "mc_polytope_volume() missing 1 required positional argument: 'samples'",
     "output_type": "error",
     "traceback": [
      "\u001b[0;31m---------------------------------------------------------------------------\u001b[0m",
      "\u001b[0;31mTypeError\u001b[0m                                 Traceback (most recent call last)",
      "Cell \u001b[0;32mIn[46], line 1\u001b[0m\n\u001b[0;32m----> 1\u001b[0m \u001b[43mmc_polytope_volume_grad\u001b[49m\u001b[43m(\u001b[49m\u001b[43m \u001b[49m\u001b[43mhull\u001b[49m\u001b[38;5;241;43m.\u001b[39;49m\u001b[43mA\u001b[49m\u001b[43m,\u001b[49m\u001b[43m \u001b[49m\u001b[43mhull\u001b[49m\u001b[38;5;241;43m.\u001b[39;49m\u001b[43mb\u001b[49m\u001b[38;5;241;43m.\u001b[39;49m\u001b[43mreshape\u001b[49m\u001b[43m(\u001b[49m\u001b[38;5;241;43m-\u001b[39;49m\u001b[38;5;241;43m1\u001b[39;49m\u001b[43m,\u001b[49m\u001b[38;5;241;43m1\u001b[39;49m\u001b[43m)\u001b[49m\u001b[43m \u001b[49m\u001b[43m)\u001b[49m\n",
      "    \u001b[0;31m[... skipping hidden 9 frame]\u001b[0m\n",
      "File \u001b[0;32m~/Desktop/Research/social-navigation/venv11/lib/python3.11/site-packages/jax/_src/linear_util.py:191\u001b[0m, in \u001b[0;36mWrappedFun.call_wrapped\u001b[0;34m(self, *args, **kwargs)\u001b[0m\n\u001b[1;32m    188\u001b[0m gen \u001b[38;5;241m=\u001b[39m gen_static_args \u001b[38;5;241m=\u001b[39m out_store \u001b[38;5;241m=\u001b[39m \u001b[38;5;28;01mNone\u001b[39;00m\n\u001b[1;32m    190\u001b[0m \u001b[38;5;28;01mtry\u001b[39;00m:\n\u001b[0;32m--> 191\u001b[0m   ans \u001b[38;5;241m=\u001b[39m \u001b[38;5;28;43mself\u001b[39;49m\u001b[38;5;241;43m.\u001b[39;49m\u001b[43mf\u001b[49m\u001b[43m(\u001b[49m\u001b[38;5;241;43m*\u001b[39;49m\u001b[43margs\u001b[49m\u001b[43m,\u001b[49m\u001b[43m \u001b[49m\u001b[38;5;241;43m*\u001b[39;49m\u001b[38;5;241;43m*\u001b[39;49m\u001b[38;5;28;43mdict\u001b[39;49m\u001b[43m(\u001b[49m\u001b[38;5;28;43mself\u001b[39;49m\u001b[38;5;241;43m.\u001b[39;49m\u001b[43mparams\u001b[49m\u001b[43m,\u001b[49m\u001b[43m \u001b[49m\u001b[38;5;241;43m*\u001b[39;49m\u001b[38;5;241;43m*\u001b[39;49m\u001b[43mkwargs\u001b[49m\u001b[43m)\u001b[49m\u001b[43m)\u001b[49m\n\u001b[1;32m    192\u001b[0m \u001b[38;5;28;01mexcept\u001b[39;00m:\n\u001b[1;32m    193\u001b[0m   \u001b[38;5;66;03m# Some transformations yield from inside context managers, so we have to\u001b[39;00m\n\u001b[1;32m    194\u001b[0m   \u001b[38;5;66;03m# interrupt them before reraising the exception. Otherwise they will only\u001b[39;00m\n\u001b[1;32m    195\u001b[0m   \u001b[38;5;66;03m# get garbage-collected at some later time, running their cleanup tasks\u001b[39;00m\n\u001b[1;32m    196\u001b[0m   \u001b[38;5;66;03m# only after this exception is handled, which can corrupt the global\u001b[39;00m\n\u001b[1;32m    197\u001b[0m   \u001b[38;5;66;03m# state.\u001b[39;00m\n\u001b[1;32m    198\u001b[0m   \u001b[38;5;28;01mwhile\u001b[39;00m stack:\n",
      "\u001b[0;31mTypeError\u001b[0m: mc_polytope_volume() missing 1 required positional argument: 'samples'"
     ]
    }
   ],
   "source": [
    "mc_polytope_volume_grad( hull.A, hull.b.reshape(-1,1) )"
   ]
  },
  {
   "cell_type": "code",
   "execution_count": null,
   "id": "331b5411",
   "metadata": {},
   "outputs": [],
   "source": [
    "hull.b"
   ]
  },
  {
   "cell_type": "code",
   "execution_count": null,
   "id": "c71bf00c",
   "metadata": {},
   "outputs": [],
   "source": [
    "hull.A"
   ]
  },
  {
   "cell_type": "code",
   "execution_count": null,
   "id": "98c4a89f",
   "metadata": {},
   "outputs": [],
   "source": [
    "class Test:\n",
    "    \n",
    "    def __init__(self):\n",
    "        self.test = 9\n",
    "    \n",
    "    \n",
    "    def operate(self, x):\n",
    "        return self.test * jnp.linalg.inv(x)\n",
    "object = Test()"
   ]
  },
  {
   "cell_type": "code",
   "execution_count": null,
   "id": "44bc87ed",
   "metadata": {},
   "outputs": [],
   "source": [
    "func = lambda x: object.operate(x)\n",
    "func_jit = jit(func)"
   ]
  },
  {
   "cell_type": "code",
   "execution_count": 47,
   "id": "13935c69",
   "metadata": {},
   "outputs": [
    {
     "ename": "NameError",
     "evalue": "name 'func' is not defined",
     "output_type": "error",
     "traceback": [
      "\u001b[0;31m---------------------------------------------------------------------------\u001b[0m",
      "\u001b[0;31mNameError\u001b[0m                                 Traceback (most recent call last)",
      "Cell \u001b[0;32mIn[47], line 1\u001b[0m\n\u001b[0;32m----> 1\u001b[0m \u001b[43mget_ipython\u001b[49m\u001b[43m(\u001b[49m\u001b[43m)\u001b[49m\u001b[38;5;241;43m.\u001b[39;49m\u001b[43mrun_line_magic\u001b[49m\u001b[43m(\u001b[49m\u001b[38;5;124;43m'\u001b[39;49m\u001b[38;5;124;43mtimeit\u001b[39;49m\u001b[38;5;124;43m'\u001b[39;49m\u001b[43m,\u001b[49m\u001b[43m \u001b[49m\u001b[38;5;124;43m'\u001b[39;49m\u001b[38;5;124;43m func(jnp.diag(jnp.array([2.0, 0.5])))\u001b[39;49m\u001b[38;5;124;43m'\u001b[39;49m\u001b[43m)\u001b[49m\n",
      "File \u001b[0;32m~/Desktop/Research/social-navigation/venv11/lib/python3.11/site-packages/IPython/core/interactiveshell.py:2417\u001b[0m, in \u001b[0;36mInteractiveShell.run_line_magic\u001b[0;34m(self, magic_name, line, _stack_depth)\u001b[0m\n\u001b[1;32m   2415\u001b[0m     kwargs[\u001b[38;5;124m'\u001b[39m\u001b[38;5;124mlocal_ns\u001b[39m\u001b[38;5;124m'\u001b[39m] \u001b[38;5;241m=\u001b[39m \u001b[38;5;28mself\u001b[39m\u001b[38;5;241m.\u001b[39mget_local_scope(stack_depth)\n\u001b[1;32m   2416\u001b[0m \u001b[38;5;28;01mwith\u001b[39;00m \u001b[38;5;28mself\u001b[39m\u001b[38;5;241m.\u001b[39mbuiltin_trap:\n\u001b[0;32m-> 2417\u001b[0m     result \u001b[38;5;241m=\u001b[39m \u001b[43mfn\u001b[49m\u001b[43m(\u001b[49m\u001b[38;5;241;43m*\u001b[39;49m\u001b[43margs\u001b[49m\u001b[43m,\u001b[49m\u001b[43m \u001b[49m\u001b[38;5;241;43m*\u001b[39;49m\u001b[38;5;241;43m*\u001b[39;49m\u001b[43mkwargs\u001b[49m\u001b[43m)\u001b[49m\n\u001b[1;32m   2419\u001b[0m \u001b[38;5;66;03m# The code below prevents the output from being displayed\u001b[39;00m\n\u001b[1;32m   2420\u001b[0m \u001b[38;5;66;03m# when using magics with decodator @output_can_be_silenced\u001b[39;00m\n\u001b[1;32m   2421\u001b[0m \u001b[38;5;66;03m# when the last Python token in the expression is a ';'.\u001b[39;00m\n\u001b[1;32m   2422\u001b[0m \u001b[38;5;28;01mif\u001b[39;00m \u001b[38;5;28mgetattr\u001b[39m(fn, magic\u001b[38;5;241m.\u001b[39mMAGIC_OUTPUT_CAN_BE_SILENCED, \u001b[38;5;28;01mFalse\u001b[39;00m):\n",
      "File \u001b[0;32m~/Desktop/Research/social-navigation/venv11/lib/python3.11/site-packages/IPython/core/magics/execution.py:1170\u001b[0m, in \u001b[0;36mExecutionMagics.timeit\u001b[0;34m(self, line, cell, local_ns)\u001b[0m\n\u001b[1;32m   1168\u001b[0m \u001b[38;5;28;01mfor\u001b[39;00m index \u001b[38;5;129;01min\u001b[39;00m \u001b[38;5;28mrange\u001b[39m(\u001b[38;5;241m0\u001b[39m, \u001b[38;5;241m10\u001b[39m):\n\u001b[1;32m   1169\u001b[0m     number \u001b[38;5;241m=\u001b[39m \u001b[38;5;241m10\u001b[39m \u001b[38;5;241m*\u001b[39m\u001b[38;5;241m*\u001b[39m index\n\u001b[0;32m-> 1170\u001b[0m     time_number \u001b[38;5;241m=\u001b[39m \u001b[43mtimer\u001b[49m\u001b[38;5;241;43m.\u001b[39;49m\u001b[43mtimeit\u001b[49m\u001b[43m(\u001b[49m\u001b[43mnumber\u001b[49m\u001b[43m)\u001b[49m\n\u001b[1;32m   1171\u001b[0m     \u001b[38;5;28;01mif\u001b[39;00m time_number \u001b[38;5;241m>\u001b[39m\u001b[38;5;241m=\u001b[39m \u001b[38;5;241m0.2\u001b[39m:\n\u001b[1;32m   1172\u001b[0m         \u001b[38;5;28;01mbreak\u001b[39;00m\n",
      "File \u001b[0;32m~/Desktop/Research/social-navigation/venv11/lib/python3.11/site-packages/IPython/core/magics/execution.py:158\u001b[0m, in \u001b[0;36mTimer.timeit\u001b[0;34m(self, number)\u001b[0m\n\u001b[1;32m    156\u001b[0m gc\u001b[38;5;241m.\u001b[39mdisable()\n\u001b[1;32m    157\u001b[0m \u001b[38;5;28;01mtry\u001b[39;00m:\n\u001b[0;32m--> 158\u001b[0m     timing \u001b[38;5;241m=\u001b[39m \u001b[38;5;28;43mself\u001b[39;49m\u001b[38;5;241;43m.\u001b[39;49m\u001b[43minner\u001b[49m\u001b[43m(\u001b[49m\u001b[43mit\u001b[49m\u001b[43m,\u001b[49m\u001b[43m \u001b[49m\u001b[38;5;28;43mself\u001b[39;49m\u001b[38;5;241;43m.\u001b[39;49m\u001b[43mtimer\u001b[49m\u001b[43m)\u001b[49m\n\u001b[1;32m    159\u001b[0m \u001b[38;5;28;01mfinally\u001b[39;00m:\n\u001b[1;32m    160\u001b[0m     \u001b[38;5;28;01mif\u001b[39;00m gcold:\n",
      "File \u001b[0;32m<magic-timeit>:1\u001b[0m, in \u001b[0;36minner\u001b[0;34m(_it, _timer)\u001b[0m\n",
      "\u001b[0;31mNameError\u001b[0m: name 'func' is not defined"
     ]
    }
   ],
   "source": [
    "%timeit  func(jnp.diag(jnp.array([2.0, 0.5])))"
   ]
  },
  {
   "cell_type": "code",
   "execution_count": 48,
   "id": "ad34b845",
   "metadata": {},
   "outputs": [
    {
     "ename": "NameError",
     "evalue": "name 'func_jit' is not defined",
     "output_type": "error",
     "traceback": [
      "\u001b[0;31m---------------------------------------------------------------------------\u001b[0m",
      "\u001b[0;31mNameError\u001b[0m                                 Traceback (most recent call last)",
      "Cell \u001b[0;32mIn[48], line 1\u001b[0m\n\u001b[0;32m----> 1\u001b[0m \u001b[43mget_ipython\u001b[49m\u001b[43m(\u001b[49m\u001b[43m)\u001b[49m\u001b[38;5;241;43m.\u001b[39;49m\u001b[43mrun_line_magic\u001b[49m\u001b[43m(\u001b[49m\u001b[38;5;124;43m'\u001b[39;49m\u001b[38;5;124;43mtimeit\u001b[39;49m\u001b[38;5;124;43m'\u001b[39;49m\u001b[43m,\u001b[49m\u001b[43m \u001b[49m\u001b[38;5;124;43m'\u001b[39;49m\u001b[38;5;124;43m func_jit(jnp.diag(jnp.array([2.0, 0.5])))\u001b[39;49m\u001b[38;5;124;43m'\u001b[39;49m\u001b[43m)\u001b[49m\n",
      "File \u001b[0;32m~/Desktop/Research/social-navigation/venv11/lib/python3.11/site-packages/IPython/core/interactiveshell.py:2417\u001b[0m, in \u001b[0;36mInteractiveShell.run_line_magic\u001b[0;34m(self, magic_name, line, _stack_depth)\u001b[0m\n\u001b[1;32m   2415\u001b[0m     kwargs[\u001b[38;5;124m'\u001b[39m\u001b[38;5;124mlocal_ns\u001b[39m\u001b[38;5;124m'\u001b[39m] \u001b[38;5;241m=\u001b[39m \u001b[38;5;28mself\u001b[39m\u001b[38;5;241m.\u001b[39mget_local_scope(stack_depth)\n\u001b[1;32m   2416\u001b[0m \u001b[38;5;28;01mwith\u001b[39;00m \u001b[38;5;28mself\u001b[39m\u001b[38;5;241m.\u001b[39mbuiltin_trap:\n\u001b[0;32m-> 2417\u001b[0m     result \u001b[38;5;241m=\u001b[39m \u001b[43mfn\u001b[49m\u001b[43m(\u001b[49m\u001b[38;5;241;43m*\u001b[39;49m\u001b[43margs\u001b[49m\u001b[43m,\u001b[49m\u001b[43m \u001b[49m\u001b[38;5;241;43m*\u001b[39;49m\u001b[38;5;241;43m*\u001b[39;49m\u001b[43mkwargs\u001b[49m\u001b[43m)\u001b[49m\n\u001b[1;32m   2419\u001b[0m \u001b[38;5;66;03m# The code below prevents the output from being displayed\u001b[39;00m\n\u001b[1;32m   2420\u001b[0m \u001b[38;5;66;03m# when using magics with decodator @output_can_be_silenced\u001b[39;00m\n\u001b[1;32m   2421\u001b[0m \u001b[38;5;66;03m# when the last Python token in the expression is a ';'.\u001b[39;00m\n\u001b[1;32m   2422\u001b[0m \u001b[38;5;28;01mif\u001b[39;00m \u001b[38;5;28mgetattr\u001b[39m(fn, magic\u001b[38;5;241m.\u001b[39mMAGIC_OUTPUT_CAN_BE_SILENCED, \u001b[38;5;28;01mFalse\u001b[39;00m):\n",
      "File \u001b[0;32m~/Desktop/Research/social-navigation/venv11/lib/python3.11/site-packages/IPython/core/magics/execution.py:1170\u001b[0m, in \u001b[0;36mExecutionMagics.timeit\u001b[0;34m(self, line, cell, local_ns)\u001b[0m\n\u001b[1;32m   1168\u001b[0m \u001b[38;5;28;01mfor\u001b[39;00m index \u001b[38;5;129;01min\u001b[39;00m \u001b[38;5;28mrange\u001b[39m(\u001b[38;5;241m0\u001b[39m, \u001b[38;5;241m10\u001b[39m):\n\u001b[1;32m   1169\u001b[0m     number \u001b[38;5;241m=\u001b[39m \u001b[38;5;241m10\u001b[39m \u001b[38;5;241m*\u001b[39m\u001b[38;5;241m*\u001b[39m index\n\u001b[0;32m-> 1170\u001b[0m     time_number \u001b[38;5;241m=\u001b[39m \u001b[43mtimer\u001b[49m\u001b[38;5;241;43m.\u001b[39;49m\u001b[43mtimeit\u001b[49m\u001b[43m(\u001b[49m\u001b[43mnumber\u001b[49m\u001b[43m)\u001b[49m\n\u001b[1;32m   1171\u001b[0m     \u001b[38;5;28;01mif\u001b[39;00m time_number \u001b[38;5;241m>\u001b[39m\u001b[38;5;241m=\u001b[39m \u001b[38;5;241m0.2\u001b[39m:\n\u001b[1;32m   1172\u001b[0m         \u001b[38;5;28;01mbreak\u001b[39;00m\n",
      "File \u001b[0;32m~/Desktop/Research/social-navigation/venv11/lib/python3.11/site-packages/IPython/core/magics/execution.py:158\u001b[0m, in \u001b[0;36mTimer.timeit\u001b[0;34m(self, number)\u001b[0m\n\u001b[1;32m    156\u001b[0m gc\u001b[38;5;241m.\u001b[39mdisable()\n\u001b[1;32m    157\u001b[0m \u001b[38;5;28;01mtry\u001b[39;00m:\n\u001b[0;32m--> 158\u001b[0m     timing \u001b[38;5;241m=\u001b[39m \u001b[38;5;28;43mself\u001b[39;49m\u001b[38;5;241;43m.\u001b[39;49m\u001b[43minner\u001b[49m\u001b[43m(\u001b[49m\u001b[43mit\u001b[49m\u001b[43m,\u001b[49m\u001b[43m \u001b[49m\u001b[38;5;28;43mself\u001b[39;49m\u001b[38;5;241;43m.\u001b[39;49m\u001b[43mtimer\u001b[49m\u001b[43m)\u001b[49m\n\u001b[1;32m    159\u001b[0m \u001b[38;5;28;01mfinally\u001b[39;00m:\n\u001b[1;32m    160\u001b[0m     \u001b[38;5;28;01mif\u001b[39;00m gcold:\n",
      "File \u001b[0;32m<magic-timeit>:1\u001b[0m, in \u001b[0;36minner\u001b[0;34m(_it, _timer)\u001b[0m\n",
      "\u001b[0;31mNameError\u001b[0m: name 'func_jit' is not defined"
     ]
    }
   ],
   "source": [
    "%timeit  func_jit(jnp.diag(jnp.array([2.0, 0.5])))"
   ]
  },
  {
   "cell_type": "code",
   "execution_count": 49,
   "id": "c707354a",
   "metadata": {},
   "outputs": [
    {
     "ename": "NameError",
     "evalue": "name 'func_jit' is not defined",
     "output_type": "error",
     "traceback": [
      "\u001b[0;31m---------------------------------------------------------------------------\u001b[0m",
      "\u001b[0;31mNameError\u001b[0m                                 Traceback (most recent call last)",
      "Cell \u001b[0;32mIn[49], line 1\u001b[0m\n\u001b[0;32m----> 1\u001b[0m \u001b[43mfunc_jit\u001b[49m(jnp\u001b[38;5;241m.\u001b[39mdiag(jnp\u001b[38;5;241m.\u001b[39marray([\u001b[38;5;241m2.0\u001b[39m, \u001b[38;5;241m0.5\u001b[39m])))\n",
      "\u001b[0;31mNameError\u001b[0m: name 'func_jit' is not defined"
     ]
    }
   ],
   "source": [
    "func_jit(jnp.diag(jnp.array([2.0, 0.5])))"
   ]
  },
  {
   "cell_type": "code",
   "execution_count": 50,
   "id": "57a417ab",
   "metadata": {},
   "outputs": [
    {
     "ename": "TypeError",
     "evalue": "cannot set 'test' attribute of immutable type 'object'",
     "output_type": "error",
     "traceback": [
      "\u001b[0;31m---------------------------------------------------------------------------\u001b[0m",
      "\u001b[0;31mTypeError\u001b[0m                                 Traceback (most recent call last)",
      "Cell \u001b[0;32mIn[50], line 1\u001b[0m\n\u001b[0;32m----> 1\u001b[0m \u001b[38;5;28;43mobject\u001b[39;49m\u001b[38;5;241;43m.\u001b[39;49m\u001b[43mtest\u001b[49m \u001b[38;5;241m=\u001b[39m \u001b[38;5;241m1\u001b[39m\n",
      "\u001b[0;31mTypeError\u001b[0m: cannot set 'test' attribute of immutable type 'object'"
     ]
    }
   ],
   "source": [
    "object.test = 1"
   ]
  },
  {
   "cell_type": "code",
   "execution_count": 51,
   "id": "f61eb52d",
   "metadata": {},
   "outputs": [
    {
     "ename": "NameError",
     "evalue": "name 'func_jit' is not defined",
     "output_type": "error",
     "traceback": [
      "\u001b[0;31m---------------------------------------------------------------------------\u001b[0m",
      "\u001b[0;31mNameError\u001b[0m                                 Traceback (most recent call last)",
      "Cell \u001b[0;32mIn[51], line 1\u001b[0m\n\u001b[0;32m----> 1\u001b[0m \u001b[43mfunc_jit\u001b[49m(jnp\u001b[38;5;241m.\u001b[39mdiag(jnp\u001b[38;5;241m.\u001b[39marray([\u001b[38;5;241m2.0\u001b[39m, \u001b[38;5;241m0.5\u001b[39m])))\n",
      "\u001b[0;31mNameError\u001b[0m: name 'func_jit' is not defined"
     ]
    }
   ],
   "source": [
    "func_jit(jnp.diag(jnp.array([2.0, 0.5])))"
   ]
  },
  {
   "cell_type": "code",
   "execution_count": 52,
   "id": "984e7dc9",
   "metadata": {},
   "outputs": [
    {
     "ename": "AttributeError",
     "evalue": "type object 'object' has no attribute 'test'",
     "output_type": "error",
     "traceback": [
      "\u001b[0;31m---------------------------------------------------------------------------\u001b[0m",
      "\u001b[0;31mAttributeError\u001b[0m                            Traceback (most recent call last)",
      "Cell \u001b[0;32mIn[52], line 1\u001b[0m\n\u001b[0;32m----> 1\u001b[0m \u001b[38;5;28;43mobject\u001b[39;49m\u001b[38;5;241;43m.\u001b[39;49m\u001b[43mtest\u001b[49m\n",
      "\u001b[0;31mAttributeError\u001b[0m: type object 'object' has no attribute 'test'"
     ]
    }
   ],
   "source": [
    "object.test"
   ]
  },
  {
   "cell_type": "code",
   "execution_count": 53,
   "id": "0bb350d0",
   "metadata": {},
   "outputs": [],
   "source": [
    "import numpy as np\n",
    "a = np.array([[1,2],[5,6]])\n",
    "b = np.array([[3,4],[9,10]])"
   ]
  },
  {
   "cell_type": "code",
   "execution_count": 54,
   "id": "70fa5de4",
   "metadata": {},
   "outputs": [
    {
     "data": {
      "text/plain": [
       "array([[ 3,  8],\n",
       "       [45, 60]])"
      ]
     },
     "execution_count": 54,
     "metadata": {},
     "output_type": "execute_result"
    }
   ],
   "source": [
    "a * b"
   ]
  },
  {
   "cell_type": "code",
   "execution_count": 55,
   "id": "697c4aa5",
   "metadata": {},
   "outputs": [
    {
     "data": {
      "text/plain": [
       "116"
      ]
     },
     "execution_count": 55,
     "metadata": {},
     "output_type": "execute_result"
    }
   ],
   "source": [
    "np.sum(a * b)"
   ]
  },
  {
   "cell_type": "code",
   "execution_count": 149,
   "id": "f5035940",
   "metadata": {},
   "outputs": [],
   "source": [
    "a = jnp.array([ [1,2], [1,2], [1,2] ])"
   ]
  },
  {
   "cell_type": "code",
   "execution_count": 153,
   "id": "b9e77d61",
   "metadata": {},
   "outputs": [
    {
     "data": {
      "text/plain": [
       "Array([1.5, 1.5, 1.5], dtype=float64)"
      ]
     },
     "execution_count": 153,
     "metadata": {},
     "output_type": "execute_result"
    }
   ],
   "source": [
    "jnp.mean(a, axis=1)"
   ]
  },
  {
   "cell_type": "code",
   "execution_count": 154,
   "id": "7bbc27ed",
   "metadata": {},
   "outputs": [
    {
     "ename": "SyntaxError",
     "evalue": "incomplete input (2817348866.py, line 1)",
     "output_type": "error",
     "traceback": [
      "\u001b[0;36m  Cell \u001b[0;32mIn[154], line 1\u001b[0;36m\u001b[0m\n\u001b[0;31m    vertices = np.array([[-1.0, -1.0], [ jjjjjj[1.0, 1.0], [0.0,fffffdddd\u001b[0m\n\u001b[0m                                                                         ^\u001b[0m\n\u001b[0;31mSyntaxError\u001b[0m\u001b[0;31m:\u001b[0m incomplete input\n"
     ]
    }
   ],
   "source": [
    "vertices = np.array([[-1.0, -1.0], [ jjjjjj[1.0, 1.0], [0.0,fffffdddd"
   ]
  },
  {
   "cell_type": "code",
   "execution_count": 265,
   "id": "e4b72a8f",
   "metadata": {},
   "outputs": [],
   "source": [
    "vertices = np.array([[-1.0, -1.0], [-1.0, 1.0], [1.0, 1.0], [1.0, -1.0]])"
   ]
  },
  {
   "cell_type": "code",
   "execution_count": 266,
   "id": "c1c97a33",
   "metadata": {},
   "outputs": [],
   "source": [
    "hull = polytope.qhull(vertices)"
   ]
  },
  {
   "cell_type": "code",
   "execution_count": 267,
   "id": "b8cf707f",
   "metadata": {},
   "outputs": [],
   "source": [
    "A, b = hull.A, hull.b"
   ]
  },
  {
   "cell_type": "code",
   "execution_count": 268,
   "id": "471f784f",
   "metadata": {},
   "outputs": [
    {
     "data": {
      "text/plain": [
       "array([[-1., -0.],\n",
       "       [ 0.,  1.],\n",
       "       [ 0., -1.],\n",
       "       [ 1.,  0.]])"
      ]
     },
     "execution_count": 268,
     "metadata": {},
     "output_type": "execute_result"
    }
   ],
   "source": [
    "A"
   ]
  },
  {
   "cell_type": "code",
   "execution_count": 320,
   "id": "0c77b047",
   "metadata": {},
   "outputs": [],
   "source": [
    "A2 = np.append( A, np.array([[ 1, 1 ]]), axis=0 )\n",
    "b2 = np.append( b, np.array([ np.sqrt(2) ]) )\n",
    "\n",
    "#-0.1: 0.18288"
   ]
  },
  {
   "cell_type": "code",
   "execution_count": 321,
   "id": "5eca3400",
   "metadata": {},
   "outputs": [],
   "source": [
    "hull2 = pt.Polytope( A2, b2 )"
   ]
  },
  {
   "cell_type": "code",
   "execution_count": 322,
   "id": "579f4e7f",
   "metadata": {},
   "outputs": [
    {
     "data": {
      "text/plain": [
       "<Axes: >"
      ]
     },
     "execution_count": 322,
     "metadata": {},
     "output_type": "execute_result"
    },
    {
     "data": {
      "image/png": "[encoded data removed]",
      "text/plain": [
       "<Figure size 640x480 with 1 Axes>"
      ]
     },
     "metadata": {},
     "output_type": "display_data"
    }
   ],
   "source": [
    "fig, ax = plt.subplots()\n",
    "ax.set_xlim([-2, 2])\n",
    "ax.set_ylim([-2, 2])\n",
    "hull2.plot(ax)"
   ]
  },
  {
   "cell_type": "code",
   "execution_count": 323,
   "id": "ca4dbc09",
   "metadata": {},
   "outputs": [],
   "source": [
    "ellipse_n = 2\n",
    "ellipse_num_planes = 5\n",
    "ellipse_B = cp.Variable((ellipse_n,ellipse_n), symmetric=True)\n",
    "ellipse_d = cp.Variable((ellipse_n,1))\n",
    "ellipse_A = cp.Parameter((ellipse_num_planes,ellipse_n), value=A2)\n",
    "ellipse_b = cp.Parameter((ellipse_num_planes,1), value=b2.reshape(-1,1))\n",
    "ellipse_objective = cp.Maximize( cp.log_det( ellipse_B ) )\n",
    "ellipse_const = []\n",
    "for ellipse_i in range( ellipse_A.shape[0] ):\n",
    "    ellipse_const += [ cp.norm( ellipse_B @ ellipse_A[ellipse_i,:]) + ellipse_A[ellipse_i,:] @ ellipse_d <= ellipse_b[ellipse_i,0] ]\n",
    "ellipse_prob = cp.Problem( ellipse_objective, ellipse_const )\n",
    "ellipse_cvxpylayer = CvxpyLayer(ellipse_prob, parameters=[ellipse_A, ellipse_b], variables=[ellipse_B, ellipse_d])"
   ]
  },
  {
   "cell_type": "code",
   "execution_count": 324,
   "id": "c0ad0825",
   "metadata": {},
   "outputs": [
    {
     "data": {
      "text/plain": [
       "2.920976757940728e-07"
      ]
     },
     "execution_count": 324,
     "metadata": {},
     "output_type": "execute_result"
    }
   ],
   "source": [
    "ellipse_prob.solve()#gp=True, requires_grad=True)"
   ]
  },
  {
   "cell_type": "code",
   "execution_count": 325,
   "id": "c9c0b139",
   "metadata": {},
   "outputs": [
    {
     "data": {
      "text/plain": [
       "array([[ 1., -0.],\n",
       "       [-0.,  1.]])"
      ]
     },
     "execution_count": 325,
     "metadata": {},
     "output_type": "execute_result"
    }
   ],
   "source": [
    "ellipse_B.value"
   ]
  },
  {
   "cell_type": "code",
   "execution_count": 326,
   "id": "a9e0d8a9",
   "metadata": {},
   "outputs": [
    {
     "data": {
      "text/plain": [
       "array([[0.],\n",
       "       [0.]])"
      ]
     },
     "execution_count": 326,
     "metadata": {},
     "output_type": "execute_result"
    }
   ],
   "source": [
    "ellipse_d.value"
   ]
  },
  {
   "cell_type": "code",
   "execution_count": 327,
   "id": "9736e819",
   "metadata": {},
   "outputs": [
    {
     "name": "stdout",
     "output_type": "stream",
     "text": [
      "[0.5]\n",
      "[0.5]\n",
      "[0.5]\n",
      "[0.5]\n",
      "[0.]\n"
     ]
    }
   ],
   "source": [
    "for i in range( ellipse_A.shape[0]  ):\n",
    "    print(ellipse_const[i].dual_value)"
   ]
  },
  {
   "cell_type": "code",
   "execution_count": 328,
   "id": "718071fc",
   "metadata": {},
   "outputs": [
    {
     "data": {
      "text/plain": [
       "[<matplotlib.lines.Line2D at 0x704ec9819850>]"
      ]
     },
     "execution_count": 328,
     "metadata": {},
     "output_type": "execute_result"
    },
    {
     "data": {
      "image/png": "[encoded data removed]",
      "text/plain": [
       "<Figure size 640x480 with 1 Axes>"
      ]
     },
     "metadata": {},
     "output_type": "display_data"
    }
   ],
   "source": [
    "angles   = np.linspace( 0, 2 * np.pi, 100 )\n",
    "ellipse_plot  = (ellipse_B.value @ np.append(np.cos(angles).reshape(1,-1) , np.sin(angles).reshape(1,-1), axis=0 )) + ellipse_d.value# * np.ones( 1, noangles );\n",
    "\n",
    "fig, ax = plt.subplots()\n",
    "ax.set_xlim([-2, 2])\n",
    "ax.set_ylim([-2, 2])\n",
    "hull2.plot(ax)\n",
    "ax.plot( ellipse_plot[0,:], ellipse_plot[1,:], 'b', label='Inner Ellipse' )"
   ]
  },
  {
   "cell_type": "code",
   "execution_count": 329,
   "id": "4b68042a",
   "metadata": {},
   "outputs": [],
   "source": [
    "def volume_ellipse( A, b ):\n",
    "    solution = ellipse_cvxpylayer(A, b)\n",
    "    B = solution[0]\n",
    "    d = solution[1]\n",
    "    return jnp.linalg.det(B)\n",
    "def volume_ellipse_full( A, b ):\n",
    "    solution = ellipse_cvxpylayer(A, b)\n",
    "    B = solution[0]\n",
    "    d = solution[1]\n",
    "    return B, d, jnp.linalg.det(B)\n",
    "vol_ellipse_grad = grad( volume_ellipse, 1 )"
   ]
  },
  {
   "cell_type": "code",
   "execution_count": 330,
   "id": "697f826d",
   "metadata": {},
   "outputs": [
    {
     "data": {
      "text/plain": [
       "Array(1., dtype=float64)"
      ]
     },
     "execution_count": 330,
     "metadata": {},
     "output_type": "execute_result"
    }
   ],
   "source": [
    "volume_ellipse(A2, b2.reshape(-1,1))"
   ]
  },
  {
   "cell_type": "code",
   "execution_count": 331,
   "id": "8f0dd747",
   "metadata": {},
   "outputs": [
    {
     "data": {
      "text/plain": [
       "Array([[0.5],\n",
       "       [0.5],\n",
       "       [0.5],\n",
       "       [0.5],\n",
       "       [0. ]], dtype=float64)"
      ]
     },
     "execution_count": 331,
     "metadata": {},
     "output_type": "execute_result"
    }
   ],
   "source": [
    "vol_ellipse_grad(A2, b2.reshape(-1,1))"
   ]
  },
  {
   "cell_type": "markdown",
   "id": "64693a65",
   "metadata": {},
   "source": [
    "## Second case"
   ]
  },
  {
   "cell_type": "code",
   "execution_count": 314,
   "id": "4820416c",
   "metadata": {},
   "outputs": [],
   "source": [
    "vertices = np.array([[-1.0, -1.0], [-1.0, 1.0], [1.0, 1.0], [1.0, -1.0]])\n",
    "hull = polytope.qhull(vertices)\n",
    "A, b = hull.A, hull.b\n",
    "A2 = np.append( A, A[[-1],:], axis=0 )\n",
    "b2 = np.append( b, b[[-1]] )\n",
    "hull2 = pt.Polytope( A2, b2 )"
   ]
  },
  {
   "cell_type": "code",
   "execution_count": 315,
   "id": "a831e952",
   "metadata": {},
   "outputs": [],
   "source": [
    "B, d, vol = volume_ellipse_full( A2, b2.reshape(-1,1) )"
   ]
  },
  {
   "cell_type": "code",
   "execution_count": 316,
   "id": "50deca0b",
   "metadata": {},
   "outputs": [
    {
     "data": {
      "text/plain": [
       "[<matplotlib.lines.Line2D at 0x704ec9aa34d0>]"
      ]
     },
     "execution_count": 316,
     "metadata": {},
     "output_type": "execute_result"
    },
    {
     "data": {
      "image/png": "[encoded data removed]",
      "text/plain": [
       "<Figure size 640x480 with 1 Axes>"
      ]
     },
     "metadata": {},
     "output_type": "display_data"
    }
   ],
   "source": [
    "angles   = np.linspace( 0, 2 * np.pi, 100 )\n",
    "ellipse_plot  = (B @ np.append(np.cos(angles).reshape(1,-1) , np.sin(angles).reshape(1,-1), axis=0 )) + d# * np.ones( 1, noangles );\n",
    "\n",
    "fig, ax = plt.subplots()\n",
    "ax.set_xlim([-2, 2])\n",
    "ax.set_ylim([-2, 2])\n",
    "hull2.plot(ax)\n",
    "ax.plot( ellipse_plot[0,:], ellipse_plot[1,:], 'b', label='Inner Ellipse' )"
   ]
  },
  {
   "cell_type": "code",
   "execution_count": 317,
   "id": "d817851c",
   "metadata": {},
   "outputs": [
    {
     "data": {
      "text/plain": [
       "Array(1.00001, dtype=float64)"
      ]
     },
     "execution_count": 317,
     "metadata": {},
     "output_type": "execute_result"
    }
   ],
   "source": [
    "vol"
   ]
  },
  {
   "cell_type": "code",
   "execution_count": 318,
   "id": "c656a520",
   "metadata": {},
   "outputs": [
    {
     "data": {
      "text/plain": [
       "Array([[0.50002],\n",
       "       [0.49999],\n",
       "       [0.49999],\n",
       "       [0.25001],\n",
       "       [0.25001]], dtype=float64)"
      ]
     },
     "execution_count": 318,
     "metadata": {},
     "output_type": "execute_result"
    }
   ],
   "source": [
    "vol_ellipse_grad(A2, b2.reshape(-1,1))"
   ]
  },
  {
   "cell_type": "code",
   "execution_count": 319,
   "id": "e8287a87",
   "metadata": {},
   "outputs": [
    {
     "name": "stdout",
     "output_type": "stream",
     "text": [
      "[0.50001]\n",
      "[0.49999]\n",
      "[0.49999]\n",
      "[0.44405]\n",
      "[0.05596]\n"
     ]
    }
   ],
   "source": [
    "ellipse_A.value = A2\n",
    "ellipse_b.value = b2.reshape(-1,1)\n",
    "ellipse_prob.solve()\n",
    "\n",
    "for i in range( ellipse_A.shape[0]  ):\n",
    "    print(ellipse_const[i].dual_value)"
   ]
  },
  {
   "cell_type": "code",
   "execution_count": 40,
   "id": "6b69a32d",
   "metadata": {},
   "outputs": [
    {
     "data": {
      "text/plain": [
       "0.5773502691896257"
      ]
     },
     "execution_count": 40,
     "metadata": {},
     "output_type": "execute_result"
    }
   ],
   "source": [
    "np.tan(np.pi/6)"
   ]
  },
  {
   "cell_type": "code",
   "execution_count": 41,
   "id": "fe9f88dc",
   "metadata": {},
   "outputs": [
    {
     "data": {
      "text/plain": [
       "-1.7320508075688783"
      ]
     },
     "execution_count": 41,
     "metadata": {},
     "output_type": "execute_result"
    }
   ],
   "source": [
    "np.tan( np.pi/2 + np.pi/6 )"
   ]
  },
  {
   "cell_type": "code",
   "execution_count": 65,
   "id": "83ee8313",
   "metadata": {},
   "outputs": [],
   "source": [
    "theta = jnp.pi/6 # np.arctan(slope)\n",
    "slope_n = jnp.pi/2 + theta\n",
    "\n",
    "increment = 0.01\n",
    "length = jnp.linspace(0, 10, 10, dtype=int)\n",
    "length = length * increment\n",
    "steps = length * jnp.array([ [1], [1] ]) #jnp.array([ [jnp.cos(slope_n)], [jnp.sin(slope_n)] ])"
   ]
  },
  {
   "cell_type": "code",
   "execution_count": 66,
   "id": "789cbc43",
   "metadata": {},
   "outputs": [
    {
     "data": {
      "text/plain": [
       "Array([[0.  , 0.01, 0.02, 0.03, 0.04, 0.05, 0.06, 0.07, 0.08, 0.1 ],\n",
       "       [0.  , 0.01, 0.02, 0.03, 0.04, 0.05, 0.06, 0.07, 0.08, 0.1 ]],      dtype=float64, weak_type=True)"
      ]
     },
     "execution_count": 66,
     "metadata": {},
     "output_type": "execute_result"
    }
   ],
   "source": [
    "steps"
   ]
  },
  {
   "cell_type": "code",
   "execution_count": 69,
   "id": "f321606e",
   "metadata": {},
   "outputs": [],
   "source": [
    "pts = np.array([ [1,2,3], [1,2,3] ])"
   ]
  },
  {
   "cell_type": "code",
   "execution_count": 81,
   "id": "1ad84ba5",
   "metadata": {},
   "outputs": [
    {
     "data": {
      "text/plain": [
       "Array([[[1.  , 2.  , 3.  ],\n",
       "        [1.01, 2.01, 3.01],\n",
       "        [1.02, 2.02, 3.02],\n",
       "        [1.03, 2.03, 3.03],\n",
       "        [1.04, 2.04, 3.04],\n",
       "        [1.05, 2.05, 3.05],\n",
       "        [1.06, 2.06, 3.06],\n",
       "        [1.07, 2.07, 3.07],\n",
       "        [1.08, 2.08, 3.08],\n",
       "        [1.1 , 2.1 , 3.1 ]],\n",
       "\n",
       "       [[1.  , 2.  , 3.  ],\n",
       "        [1.01, 2.01, 3.01],\n",
       "        [1.02, 2.02, 3.02],\n",
       "        [1.03, 2.03, 3.03],\n",
       "        [1.04, 2.04, 3.04],\n",
       "        [1.05, 2.05, 3.05],\n",
       "        [1.06, 2.06, 3.06],\n",
       "        [1.07, 2.07, 3.07],\n",
       "        [1.08, 2.08, 3.08],\n",
       "        [1.1 , 2.1 , 3.1 ]]], dtype=float64, weak_type=True)"
      ]
     },
     "execution_count": 81,
     "metadata": {},
     "output_type": "execute_result"
    }
   ],
   "source": [
    "pts.reshape((2,1,pts.shape[1])) + steps.reshape( (2,steps.shape[1],1) )"
   ]
  },
  {
   "cell_type": "code",
   "execution_count": 82,
   "id": "7b4c888b",
   "metadata": {},
   "outputs": [],
   "source": [
    "yy = pts.reshape((2,1,pts.shape[1])) + steps.reshape( (2,steps.shape[1],1) )"
   ]
  },
  {
   "cell_type": "code",
   "execution_count": 83,
   "id": "7cadbbc9",
   "metadata": {},
   "outputs": [
    {
     "data": {
      "text/plain": [
       "(2, 10)"
      ]
     },
     "execution_count": 83,
     "metadata": {},
     "output_type": "execute_result"
    }
   ],
   "source": [
    "steps.shape # (2, 200, 1), (2, 100)"
   ]
  },
  {
   "cell_type": "code",
   "execution_count": 84,
   "id": "5879359a",
   "metadata": {},
   "outputs": [
    {
     "data": {
      "text/plain": [
       "(2, 10, 3)"
      ]
     },
     "execution_count": 84,
     "metadata": {},
     "output_type": "execute_result"
    }
   ],
   "source": [
    "yy.shape"
   ]
  },
  {
   "cell_type": "code",
   "execution_count": 85,
   "id": "bfbe2a6b",
   "metadata": {},
   "outputs": [
    {
     "data": {
      "text/plain": [
       "Array([[1.  , 1.01, 1.02, 1.03, 1.04, 1.05, 1.06, 1.07, 1.08, 1.1 ],\n",
       "       [1.  , 1.01, 1.02, 1.03, 1.04, 1.05, 1.06, 1.07, 1.08, 1.1 ]],      dtype=float64, weak_type=True)"
      ]
     },
     "execution_count": 85,
     "metadata": {},
     "output_type": "execute_result"
    }
   ],
   "source": [
    "yy[:,:,0]"
   ]
  },
  {
   "cell_type": "code",
   "execution_count": 86,
   "id": "154307cc",
   "metadata": {},
   "outputs": [
    {
     "data": {
      "text/plain": [
       "Array([[2.  , 2.01, 2.02, 2.03, 2.04, 2.05, 2.06, 2.07, 2.08, 2.1 ],\n",
       "       [2.  , 2.01, 2.02, 2.03, 2.04, 2.05, 2.06, 2.07, 2.08, 2.1 ]],      dtype=float64, weak_type=True)"
      ]
     },
     "execution_count": 86,
     "metadata": {},
     "output_type": "execute_result"
    }
   ],
   "source": [
    "yy[:,:,1]"
   ]
  },
  {
   "cell_type": "code",
   "execution_count": 87,
   "id": "2effe153",
   "metadata": {},
   "outputs": [
    {
     "data": {
      "text/plain": [
       "Array([[3.  , 3.01, 3.02, 3.03, 3.04, 3.05, 3.06, 3.07, 3.08, 3.1 ],\n",
       "       [3.  , 3.01, 3.02, 3.03, 3.04, 3.05, 3.06, 3.07, 3.08, 3.1 ]],      dtype=float64, weak_type=True)"
      ]
     },
     "execution_count": 87,
     "metadata": {},
     "output_type": "execute_result"
    }
   ],
   "source": [
    "yy[:,:,2]"
   ]
  },
  {
   "cell_type": "code",
   "execution_count": 60,
   "id": "8391e184",
   "metadata": {},
   "outputs": [
    {
     "data": {
      "text/plain": [
       "Array([[1.  , 1.01, 1.02, 1.03, 1.04, 1.05, 1.06, 1.07, 1.08, 1.1 , 2.  ,\n",
       "        2.01, 2.02, 2.03, 2.04, 2.05, 2.06, 2.07, 2.08, 2.1 ],\n",
       "       [1.  , 1.01, 1.02, 1.03, 1.04, 1.05, 1.06, 1.07, 1.08, 1.1 , 2.  ,\n",
       "        2.01, 2.02, 2.03, 2.04, 2.05, 2.06, 2.07, 2.08, 2.1 ]],      dtype=float64, weak_type=True)"
      ]
     },
     "execution_count": 60,
     "metadata": {},
     "output_type": "execute_result"
    }
   ],
   "source": [
    "yy.reshape( 2, 20 )"
   ]
  },
  {
   "cell_type": "code",
   "execution_count": 88,
   "id": "c306dc5e",
   "metadata": {},
   "outputs": [],
   "source": [
    "zz = yy.reshape(2, 30)"
   ]
  },
  {
   "cell_type": "code",
   "execution_count": 95,
   "id": "5fc7f42c",
   "metadata": {},
   "outputs": [
    {
     "data": {
      "text/plain": [
       "Array([2.01, 2.01], dtype=float64, weak_type=True)"
      ]
     },
     "execution_count": 95,
     "metadata": {},
     "output_type": "execute_result"
    }
   ],
   "source": [
    "zz[:,4]"
   ]
  },
  {
   "cell_type": "code",
   "execution_count": 106,
   "id": "e4d488d7",
   "metadata": {},
   "outputs": [
    {
     "data": {
      "text/plain": [
       "Array([ 1.     ,  3.11111,  5.22222,  7.33333,  9.44444, 11.55556,\n",
       "       13.66667, 15.77778, 17.88889, 20.     ], dtype=float64)"
      ]
     },
     "execution_count": 106,
     "metadata": {},
     "output_type": "execute_result"
    }
   ],
   "source": [
    "jnp.linspace( 1, 20, 10 )"
   ]
  },
  {
   "cell_type": "code",
   "execution_count": 45,
   "id": "849d3d50",
   "metadata": {},
   "outputs": [],
   "source": [
    "x = jnp.empty((1,2))"
   ]
  },
  {
   "cell_type": "code",
   "execution_count": 48,
   "id": "d227af44",
   "metadata": {},
   "outputs": [
    {
     "data": {
      "text/plain": [
       "Array([[0., 0.],\n",
       "       [1., 1.]], dtype=float64)"
      ]
     },
     "execution_count": 48,
     "metadata": {},
     "output_type": "execute_result"
    }
   ],
   "source": [
    "jnp.append( x, jnp.ones((1,2)), axis=0 )"
   ]
  },
  {
   "cell_type": "code",
   "execution_count": null,
   "id": "89c54a06",
   "metadata": {},
   "outputs": [],
   "source": []
  }
 ],
 "metadata": {
  "kernelspec": {
   "display_name": "Python 3 (ipykernel)",
   "language": "python",
   "name": "python3"
  },
  "language_info": {
   "codemirror_mode": {
    "name": "ipython",
    "version": 3
   },
   "file_extension": ".py",
   "mimetype": "text/x-python",
   "name": "python",
   "nbconvert_exporter": "python",
   "pygments_lexer": "ipython3",
   "version": "3.11.9"
  }
 },
 "nbformat": 4,
 "nbformat_minor": 5
}
