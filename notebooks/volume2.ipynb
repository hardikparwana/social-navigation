{
 "cells": [
  {
   "cell_type": "markdown",
   "id": "9c28fc1a",
   "metadata": {},
   "source": [
    "# Using Polytope package"
   ]
  },
  {
   "cell_type": "code",
   "execution_count": 1,
   "id": "6df89802",
   "metadata": {},
   "outputs": [
    {
     "name": "stderr",
     "output_type": "stream",
     "text": [
      "`polytope` failed to import `cvxopt.glpk`.\n",
      "will use `scipy.optimize.linprog`\n"
     ]
    },
    {
     "name": "stdout",
     "output_type": "stream",
     "text": [
      "0.498\n",
      "2.008\n"
     ]
    }
   ],
   "source": [
    "\"\"\"How to compute a polytope's volume.\"\"\"\n",
    "import numpy as np\n",
    "import polytope\n",
    "\n",
    "# constructing a convex polytope and computing its volume\n",
    "vertices = np.array([[0.0, 0.0], [1.0, 0.0], [0.0, 1.0]])\n",
    "hull = polytope.qhull(vertices)\n",
    "    # `hull` is an instance of the class `polytope.polytope.Polytope`\n",
    "    # which is for representing a convex polytope\n",
    "print(hull.volume)\n",
    "\n",
    "# constructing a nonconvex polytope and computing its volume\n",
    "vertices_1 = np.array([[0.0, 0.0], [0.0, 1.0], [2.0, 1.0]])\n",
    "vertices_2 = np.array([[0.0, 1.0], [1.0, 1.0], [1.0, 2.0], [0.0, 2.0]])\n",
    "hull_1 = polytope.qhull(vertices_1)  # convex hull of vertices in `vertices_1`\n",
    "hull_2 = polytope.qhull(vertices_2)  # convex hull of vertices in `vertices_2`\n",
    "nonconvex = hull_1.union(hull_2)  # construct union of convex polytopes\n",
    "    # `nonconvex` is an instance of the class `polytope.polytope.Region`\n",
    "    # which is for representing any polytope, including nonconvex ones,\n",
    "    # and in this case can also be constructed with\n",
    "    # `polytope.polytope.Region([hull_1, hull_2])`\n",
    "print(polytope.volume( nonconvex ))"
   ]
  },
  {
   "cell_type": "code",
   "execution_count": 2,
   "id": "ada3d930",
   "metadata": {},
   "outputs": [
    {
     "data": {
      "text/plain": [
       "2.008"
      ]
     },
     "execution_count": 2,
     "metadata": {},
     "output_type": "execute_result"
    }
   ],
   "source": [
    "polytope.volume(nonconvex) #, nsamples=50000)"
   ]
  },
  {
   "cell_type": "code",
   "execution_count": 3,
   "id": "482c580b",
   "metadata": {},
   "outputs": [
    {
     "data": {
      "text/plain": [
       "2.008"
      ]
     },
     "execution_count": 3,
     "metadata": {},
     "output_type": "execute_result"
    }
   ],
   "source": [
    "nonconvex.volume"
   ]
  },
  {
   "cell_type": "markdown",
   "id": "b5ed77cb",
   "metadata": {},
   "source": [
    "# Find Ellipse with cvxpy"
   ]
  },
  {
   "cell_type": "code",
   "execution_count": 4,
   "id": "9b16029b",
   "metadata": {},
   "outputs": [],
   "source": [
    "import polytope as pt\n",
    "# problem data\n",
    "n = 2;\n",
    "points = np.array\n",
    "px = np.array([0, .5, 2, 3, 1]).reshape(-1,1);\n",
    "py = np.array([0, 1, 1.5, .5, -.5]).reshape(-1,1);\n",
    "points = np.append( px, py, axis=1 )\n",
    "m = px.shape[1]\n",
    "pxint = np.sum(px)/m; \n",
    "pyint = np.sum(py)/m;\n",
    "px = np.append(px,  px[0])\n",
    "py = np.append(py, py[0])"
   ]
  },
  {
   "cell_type": "code",
   "execution_count": 5,
   "id": "8932e573",
   "metadata": {},
   "outputs": [
    {
     "data": {
      "text/plain": [
       "array([[ 0. ,  0. ],\n",
       "       [ 0.5,  1. ],\n",
       "       [ 2. ,  1.5],\n",
       "       [ 3. ,  0.5],\n",
       "       [ 1. , -0.5]])"
      ]
     },
     "execution_count": 5,
     "metadata": {},
     "output_type": "execute_result"
    }
   ],
   "source": [
    "points"
   ]
  },
  {
   "cell_type": "code",
   "execution_count": 6,
   "id": "b691a83d",
   "metadata": {},
   "outputs": [],
   "source": [
    " hull = pt.qhull(points)"
   ]
  },
  {
   "cell_type": "code",
   "execution_count": 7,
   "id": "4f6a6efb",
   "metadata": {},
   "outputs": [],
   "source": [
    "A, b = hull.A, hull.b.reshape(-1,1)"
   ]
  },
  {
   "cell_type": "code",
   "execution_count": 8,
   "id": "4433ea99",
   "metadata": {},
   "outputs": [
    {
     "data": {
      "text/plain": [
       "array([[-0.31623,  0.94868],\n",
       "       [ 0.70711,  0.70711],\n",
       "       [ 0.44721, -0.89443],\n",
       "       [-0.89443,  0.44721],\n",
       "       [-0.44721, -0.89443]])"
      ]
     },
     "execution_count": 8,
     "metadata": {},
     "output_type": "execute_result"
    }
   ],
   "source": [
    "A"
   ]
  },
  {
   "cell_type": "code",
   "execution_count": 9,
   "id": "6d0c9fa9",
   "metadata": {},
   "outputs": [
    {
     "data": {
      "text/plain": [
       "array([[0.79057],\n",
       "       [2.47487],\n",
       "       [0.89443],\n",
       "       [0.     ],\n",
       "       [0.     ]])"
      ]
     },
     "execution_count": 9,
     "metadata": {},
     "output_type": "execute_result"
    }
   ],
   "source": [
    "b"
   ]
  },
  {
   "cell_type": "code",
   "execution_count": 10,
   "id": "5ab0c3af",
   "metadata": {},
   "outputs": [
    {
     "data": {
      "text/plain": [
       "-0.09773305109039437"
      ]
     },
     "execution_count": 10,
     "metadata": {},
     "output_type": "execute_result"
    }
   ],
   "source": [
    "import cvxpy as cp\n",
    "# formulate and solve the problem\n",
    "B = cp.Variable((n,n), symmetric=True)\n",
    "d = cp.Variable((n,1))\n",
    "objective = cp.Maximize( cp.log_det( B ) )\n",
    "const = []\n",
    "for i in range( points.shape[0] ):\n",
    "    const += [ cp.norm( B @ A[i,:].reshape(-1,1) ) + A[i,:].reshape(1,-1) @ d <= b[i,0] ]\n",
    "prob = cp.Problem( objective, const )\n",
    "prob.solve()"
   ]
  },
  {
   "cell_type": "code",
   "execution_count": 11,
   "id": "3b8a6e38",
   "metadata": {},
   "outputs": [],
   "source": [
    "ellipse_n = 2\n",
    "ellipse_num_planes = 5\n",
    "ellipse_B = cp.Variable((ellipse_n,ellipse_n), symmetric=True)\n",
    "ellipse_d = cp.Variable((ellipse_n,1))\n",
    "ellipse_A = cp.Parameter((ellipse_num_planes,2))\n",
    "ellipse_b = cp.Parameter((ellipse_num_planes,1))\n",
    "ellipse_objective = cp.Maximize( cp.log_det( ellipse_B ) )\n",
    "ellipse_const = []\n",
    "for ellipse_i in range( ellipse_A.shape[0] ):\n",
    "    ellipse_const += [ cp.norm( ellipse_B @ ellipse_A[ellipse_i,:]) + ellipse_A[ellipse_i,:] @ ellipse_d <= ellipse_b[ellipse_i,0] ]\n",
    "ellipse_prob = cp.Problem( ellipse_objective, ellipse_const )"
   ]
  },
  {
   "cell_type": "code",
   "execution_count": 12,
   "id": "85ea20a8",
   "metadata": {},
   "outputs": [],
   "source": [
    "from cvxpylayers.jax import CvxpyLayer\n",
    "import jax\n",
    "cvxpylayer = CvxpyLayer(ellipse_prob, parameters=[ellipse_A, ellipse_b], variables=[ellipse_B, ellipse_d])\n",
    "A_jax = A\n",
    "b_jax = b"
   ]
  },
  {
   "cell_type": "code",
   "execution_count": 13,
   "id": "0a528765",
   "metadata": {},
   "outputs": [
    {
     "name": "stderr",
     "output_type": "stream",
     "text": [
      "/home/hardik/Desktop/Research/social-navigation/venv11/lib/python3.11/site-packages/cvxpylayers/jax/cvxpylayer.py:167: UserWarning: Explicitly requested dtype float64 requested in array is not available, and will be truncated to dtype float32. To enable more dtypes, set the jax_enable_x64 configuration option or the JAX_ENABLE_X64 shell environment variable. See https://github.com/google/jax#current-gotchas for more.\n",
      "  sol[j].append(jnp.expand_dims(jnp.array(\n",
      "An NVIDIA GPU may be present on this machine, but a CUDA-enabled jaxlib is not installed. Falling back to cpu.\n"
     ]
    }
   ],
   "source": [
    "solution = cvxpylayer(A_jax, b_jax)"
   ]
  },
  {
   "cell_type": "code",
   "execution_count": 14,
   "id": "c257f583",
   "metadata": {},
   "outputs": [
    {
     "data": {
      "text/plain": [
       "(Array([[1.15657, 0.17477],\n",
       "        [0.17477, 0.81051]], dtype=float32),\n",
       " Array([[1.34374],\n",
       "        [0.5    ]], dtype=float32))"
      ]
     },
     "execution_count": 14,
     "metadata": {},
     "output_type": "execute_result"
    }
   ],
   "source": [
    "solution"
   ]
  },
  {
   "cell_type": "code",
   "execution_count": 15,
   "id": "a86094f4",
   "metadata": {},
   "outputs": [
    {
     "data": {
      "text/plain": [
       "Array([[1.15657, 0.17477],\n",
       "       [0.17477, 0.81051]], dtype=float32)"
      ]
     },
     "execution_count": 15,
     "metadata": {},
     "output_type": "execute_result"
    }
   ],
   "source": [
    "solution[0]"
   ]
  },
  {
   "cell_type": "code",
   "execution_count": 16,
   "id": "f68aa041",
   "metadata": {},
   "outputs": [],
   "source": [
    "import jax.numpy as jnp\n",
    "new_fun = lambda A, b: jnp.sum(cvxpylayer(A, b)[0])"
   ]
  },
  {
   "cell_type": "code",
   "execution_count": 17,
   "id": "baf885c9",
   "metadata": {},
   "outputs": [
    {
     "data": {
      "text/plain": [
       "Array(2.31662, dtype=float32)"
      ]
     },
     "execution_count": 17,
     "metadata": {},
     "output_type": "execute_result"
    }
   ],
   "source": [
    "new_fun( A_jax, b_jax )"
   ]
  },
  {
   "cell_type": "code",
   "execution_count": 18,
   "id": "6d968208",
   "metadata": {},
   "outputs": [
    {
     "name": "stderr",
     "output_type": "stream",
     "text": [
      "/home/hardik/Desktop/Research/social-navigation/venv11/lib/python3.11/site-packages/cvxpylayers/jax/cvxpylayer.py:225: UserWarning: Explicitly requested dtype float64 requested in array is not available, and will be truncated to dtype float32. To enable more dtypes, set the jax_enable_x64 configuration option or the JAX_ENABLE_X64 shell environment variable. See https://github.com/google/jax#current-gotchas for more.\n",
      "  grad[j] += [jnp.expand_dims(jnp.array(\n"
     ]
    }
   ],
   "source": [
    "dcvxpylayer = jax.grad(lambda A, b: jnp.sum(cvxpylayer(A, b)[0]), argnums=[0, 1]) # sum of elements of B matrix\n",
    "gradA, gradb = dcvxpylayer(A_jax, b_jax)\n",
    "\n",
    "# dcvxpylayer_jit = jit(dcvxpylayer)\n",
    "# dcvxpylayer_jit( A_jax, b_jax )\n",
    "\n"
   ]
  },
  {
   "cell_type": "markdown",
   "id": "87ae57c2",
   "metadata": {},
   "source": [
    "# Finding circle with cvxpy"
   ]
  },
  {
   "cell_type": "code",
   "execution_count": 19,
   "id": "d5f0f5fa",
   "metadata": {},
   "outputs": [
    {
     "data": {
      "text/plain": [
       "0.7640840052119809"
      ]
     },
     "execution_count": 19,
     "metadata": {},
     "output_type": "execute_result"
    }
   ],
   "source": [
    "r = cp.Variable()\n",
    "c = cp.Variable((2,1))\n",
    "objective2 = cp.Maximize(r)\n",
    "const2 = []\n",
    "for i in range( points.shape[0] ):\n",
    "    const2 += [ A[i,:].reshape(1,-1) @ c + np.linalg.norm(A[i,:]) * r <= b[i,0] ]\n",
    "prob2 = cp.Problem( objective2, const2 )\n",
    "prob2.solve()"
   ]
  },
  {
   "cell_type": "code",
   "execution_count": null,
   "id": "34d5ef9e",
   "metadata": {},
   "outputs": [],
   "source": []
  },
  {
   "cell_type": "code",
   "execution_count": 20,
   "id": "fbe8aaf4",
   "metadata": {},
   "outputs": [],
   "source": [
    "test = np.empty([2, 2])"
   ]
  },
  {
   "cell_type": "code",
   "execution_count": 21,
   "id": "fca9772d",
   "metadata": {},
   "outputs": [
    {
     "data": {
      "text/plain": [
       "0.0"
      ]
     },
     "execution_count": 21,
     "metadata": {},
     "output_type": "execute_result"
    }
   ],
   "source": [
    "test[0,0]"
   ]
  },
  {
   "cell_type": "markdown",
   "id": "246cb4b2",
   "metadata": {},
   "source": [
    "# Plot results"
   ]
  },
  {
   "cell_type": "code",
   "execution_count": 22,
   "id": "bd5bed25",
   "metadata": {},
   "outputs": [],
   "source": [
    "angles   = np.linspace( 0, 2 * np.pi, 100 )\n",
    "ellipse_inner  = (B.value @ np.append(np.cos(angles).reshape(1,-1) , np.sin(angles).reshape(1,-1), axis=0 )) + d.value# * np.ones( 1, noangles );\n",
    "ellipse_outer  = (2* B.value @ np.append(np.cos(angles).reshape(1,-1) , np.sin(angles).reshape(1,-1), axis=0 )) + d.value\n",
    "circle_inner = c.value + r.value * np.append(np.cos(angles).reshape(1,-1) , np.sin(angles).reshape(1,-1), axis=0 )"
   ]
  },
  {
   "cell_type": "code",
   "execution_count": 23,
   "id": "35d7df85",
   "metadata": {},
   "outputs": [
    {
     "data": {
      "text/plain": [
       "3.384"
      ]
     },
     "execution_count": 23,
     "metadata": {},
     "output_type": "execute_result"
    },
    {
     "data": {
      "image/png": "[encoded data removed]",
      "text/plain": [
       "<Figure size 640x480 with 1 Axes>"
      ]
     },
     "metadata": {},
     "output_type": "display_data"
    }
   ],
   "source": [
    "import matplotlib.pyplot as plt\n",
    "plt.figure()\n",
    "ax = plt.axes(xlim=(-2,5), ylim=(-2,3))\n",
    "hull_plot = hull.plot(ax)\n",
    "ax.plot( ellipse_inner[0,:], ellipse_inner[1,:], 'b', label='Inner Ellipse' )\n",
    "ax.plot( ellipse_outer[0,:], ellipse_outer[1,:], 'g', label='Outer Ellipse' )\n",
    "ax.plot( circle_inner[0,:], circle_inner[1,:], 'r', label='Inner Circle' )\n",
    "ax.legend()\n",
    "# hull_plot.clear()\n",
    "hull.volume"
   ]
  },
  {
   "cell_type": "markdown",
   "id": "a8b34d9e",
   "metadata": {},
   "source": [
    "# Polytope random function"
   ]
  },
  {
   "cell_type": "code",
   "execution_count": 24,
   "id": "05c8ff19",
   "metadata": {},
   "outputs": [],
   "source": [
    "import polytope as pc\n",
    "A1 = np.array([[1.0, 0.0],\n",
    "              [0.0, 1.0],\n",
    "              [-1.0, -0.0],\n",
    "              [-0.0, -1.0]])\n",
    "\n",
    "b1 = np.array([2.0, 1.0, 0.0, 0.0])\n",
    "p1 = pc.Polytope(A1, b1)\n",
    "\n",
    "A2 = np.array([[1.0, 0.0],\n",
    "              [0.0, 1.0],\n",
    "              [-1.0, -0.0],\n",
    "              [-0.0, -1.0]])\n",
    "\n",
    "b2 = np.array([2.0, 1.0, 0.0, 0.0])\n",
    "p2 = pc.Polytope(A2, b2)"
   ]
  },
  {
   "cell_type": "code",
   "execution_count": 25,
   "id": "71403b68",
   "metadata": {},
   "outputs": [],
   "source": [
    "p3 = p1.union(p2)"
   ]
  },
  {
   "cell_type": "code",
   "execution_count": 26,
   "id": "ec708e03",
   "metadata": {},
   "outputs": [
    {
     "data": {
      "text/plain": [
       "4.0"
      ]
     },
     "execution_count": 26,
     "metadata": {},
     "output_type": "execute_result"
    }
   ],
   "source": [
    "p3.volume"
   ]
  },
  {
   "cell_type": "code",
   "execution_count": 27,
   "id": "969782ae",
   "metadata": {},
   "outputs": [
    {
     "data": {
      "text/plain": [
       "2.0"
      ]
     },
     "execution_count": 27,
     "metadata": {},
     "output_type": "execute_result"
    }
   ],
   "source": [
    "polytope.volume(p2)"
   ]
  },
  {
   "cell_type": "code",
   "execution_count": 28,
   "id": "60a5bf2f",
   "metadata": {},
   "outputs": [],
   "source": [
    "import jax.numpy as jnp\n",
    "from jax import jit, grad\n",
    "import jax\n",
    "from jax import config\n",
    "config.update(\"jax_enable_x64\", True)"
   ]
  },
  {
   "cell_type": "code",
   "execution_count": 29,
   "id": "c6e426ed",
   "metadata": {},
   "outputs": [
    {
     "data": {
      "text/plain": [
       "Array([1., 1., 0.], dtype=float64)"
      ]
     },
     "execution_count": 29,
     "metadata": {},
     "output_type": "execute_result"
    }
   ],
   "source": [
    "jnp.heaviside(jnp.array([1,2,-1]), 1.0)"
   ]
  },
  {
   "cell_type": "code",
   "execution_count": 30,
   "id": "1d425d7a",
   "metadata": {},
   "outputs": [
    {
     "data": {
      "text/plain": [
       "(array([[-0. ],\n",
       "        [-0.5]]),\n",
       " array([[3. ],\n",
       "        [1.5]]))"
      ]
     },
     "execution_count": 30,
     "metadata": {},
     "output_type": "execute_result"
    }
   ],
   "source": [
    "pt.bounding_box(hull)"
   ]
  },
  {
   "cell_type": "code",
   "execution_count": 31,
   "id": "a3737a62",
   "metadata": {},
   "outputs": [],
   "source": [
    "lb, ub = pt.bounding_box(hull)"
   ]
  },
  {
   "cell_type": "code",
   "execution_count": 32,
   "id": "4ffd685f",
   "metadata": {},
   "outputs": [
    {
     "data": {
      "text/plain": [
       "array([[-0.5],\n",
       "       [-1. ]])"
      ]
     },
     "execution_count": 32,
     "metadata": {},
     "output_type": "execute_result"
    }
   ],
   "source": [
    "lb - 0.5"
   ]
  },
  {
   "cell_type": "code",
   "execution_count": 33,
   "id": "15e710b6",
   "metadata": {},
   "outputs": [
    {
     "data": {
      "text/plain": [
       "array([[3.5],\n",
       "       [2. ]])"
      ]
     },
     "execution_count": 33,
     "metadata": {},
     "output_type": "execute_result"
    }
   ],
   "source": [
    "ub + 0.5"
   ]
  },
  {
   "cell_type": "code",
   "execution_count": 85,
   "id": "0ee1d45c",
   "metadata": {},
   "outputs": [],
   "source": [
    "def mc_polytope_volume_org(A, b, samples):\n",
    "    aux = A @ samples - b\n",
    "#     print(f\"old:{jnp.nonzero(jnp.all(aux < 0, 0))}\")\n",
    "#     return jnp.sum(jnp.nonzero(jnp.all(aux < 0, 0))[0])\n",
    "    aux = jnp.nonzero(jnp.all(aux < 0, 0))[0].shape[0]    \n",
    "    vol = (2*bounds)**2 * aux / num_samples\n",
    "    return vol\n",
    "mc_polytope_volume_org_grad = grad(mc_polytope_volume_org, 0)\n",
    "# @jit\n",
    "\n",
    "def get_intersection_points(ai, bi, lb, ub):\n",
    "\n",
    "    # lb: assume dim=2\n",
    "    bpt = []\n",
    "    # a[0] * ux + a[1] * uy = bi\n",
    "\n",
    "    #left edge: ux = lb[0]\n",
    "    if jnp.abs(ai[1])>0.01:\n",
    "        uy =  (bi - ai[0] * lb[0]) / ai[1]\n",
    "#         print(f\"hello0, uy:{uy}\")\n",
    "        if ((uy <= ub[1]) and (uy >= lb[1])):\n",
    "            bpt.append( jnp.array([ lb[0], uy ]) )\n",
    "\n",
    "    #right edge: ux = ub[0]\n",
    "    if jnp.abs(ai[1])>0.01:\n",
    "        uy =  (bi - ai[0] * ub[0]) / ai[1]\n",
    "#         print(f\"hello1, uy:{uy}\")\n",
    "        if ((uy <= ub[1]) and (uy >= lb[1])):\n",
    "            bpt.append( jnp.array([ ub[0], uy ]) )\n",
    "\n",
    "    #bottom edge: uy = lb[1]\n",
    "    if jnp.abs(ai[0])>0.01:\n",
    "        ux =  (bi - ai[1] * lb[1]) / ai[0]\n",
    "#         print(f\"hello2, ux:{ux}\")\n",
    "        if ((ux <= ub[0]) and (ux >= lb[0])):\n",
    "            bpt.append( jnp.array([ ux, lb[1] ]) )\n",
    "\n",
    "    #top edge: uy = ub[1]\n",
    "    if jnp.abs(ai[0])>0.01:\n",
    "        ux =  (bi - ai[1] * ub[1]) / ai[0]\n",
    "#         print(f\"hello3, ux:{ux}\")\n",
    "        if ((ux <= ub[0]) and (ux >= lb[0])):\n",
    "            bpt.append( jnp.array([ ux, ub[1] ]) )\n",
    "    \n",
    "    if len(bpt)<2:\n",
    "        print(f\"ERROR: Should have been 2 points!\")\n",
    "        \n",
    "    if len(bpt)>2:\n",
    "        bpt = [bpt[0], bpt[-1]]\n",
    "        \n",
    "    print(bpt)\n",
    "    return bpt\n",
    "\n",
    "def generate_points_about_line(pts): #, num_line_pts, num_normal_points, increment):\n",
    "    \n",
    "    xs = jnp.linspace(0, pts[1][0,0]-pts[0][0,0], num_line_points).reshape(1,-1)    \n",
    "\n",
    "    if jnp.abs(pts[1][0,0]-pts[0][0,0])>0.001: # Not a vertical line\n",
    "        slope = (pts[1][1,0]-pts[0][1,0])/(pts[1][0,0]-pts[0][0,0])    \n",
    "        ys = pts[0][1,0] + slope * xs\n",
    "        theta = jnp.arctan(slope)\n",
    "    else: # vertical line\n",
    "        ys = jnp.linspace( pts[0][1,0], pts[1][1,0], num_line_points ).reshape(1,-1)\n",
    "        theta = np.pi/2\n",
    "    line_pts = jnp.append( pts[0][0,0]+xs, ys, axis=0  )\n",
    "    # Now N choose points above and below perpendicular to xs, ys    \n",
    "    slope_n = jnp.pi/2 + theta    \n",
    "    length = jnp.linspace(0, 2 * num_normal_points, num_normal_points, dtype=int) - num_normal_points\n",
    "    length = length * increment\n",
    "    steps = length * jnp.array([ [jnp.cos(slope_n)], [jnp.sin(slope_n)] ])\n",
    "    temp_points = line_pts.reshape((2,1,line_pts.shape[1])) + steps.reshape( (2,steps.shape[1],1) )\n",
    "    new_pts = temp_points.reshape( (2, num_normal_points*num_line_points) )\n",
    "    volume = jnp.linalg.norm( pts[1]-pts[0] ) * num_normal_points * increment\n",
    "\n",
    "    return new_pts, volume\n",
    "        \n",
    "def mc_polytope_volume(A, b, samples):\n",
    "#     key = jax.random.PRNGKey(10)\n",
    "#     num_samples=50000\n",
    "#     bounds = 30\n",
    "#     samples = jax.random.uniform( key, shape=(2,num_samples), minval=-bounds, maxval=bounds )#A.shape[1]   \n",
    "    aux = A @ samples - b    \n",
    "    aux = -aux\n",
    "    aux = jnp.min(aux, axis=0)\n",
    "    aux = (jnp.tanh( aux / 0.001 ) + 1.0)/2.0    \n",
    "    aux = jnp.sum( aux )\n",
    "    vol = ((2*bounds)**2) * (aux / samples.shape[1]) #num_samples)\n",
    "    return vol\n",
    "mc_polytope_volume_grad = jit(grad(mc_polytope_volume, 0))\n",
    "\n",
    "def mc_polytope_volume_about_lines(A, b, samples, total_volume):\n",
    "#     key = jax.random.PRNGKey(10)\n",
    "#     num_samples=50000\n",
    "#     bounds = 30\n",
    "#     samples = jax.random.uniform( key, shape=(2,num_samples), minval=-bounds, maxval=bounds )#A.shape[1]   \n",
    "    aux = A @ samples - b    \n",
    "    aux = -aux\n",
    "    aux = jnp.min(aux, axis=0)\n",
    "    aux = (jnp.tanh( aux / 0.001 ) + 1.0)/2.0    \n",
    "    aux = jnp.sum( aux )\n",
    "    vol = total_volume * (aux / samples.shape[1]) #num_samples)\n",
    "    return vol\n",
    "mc_polytope_volume_about_lines_grad = jit(grad(mc_polytope_volume_about_lines, 0))\n",
    "\n",
    "def plot_polytope_lines(ax, hull, u_bound):\n",
    "    xs = np.linspace( -u_bound, u_bound, 3 )\n",
    "    A, b = hull.A, hull.b\n",
    "    alpha = 0.1\n",
    "    for i in range(A.shape[0]):\n",
    "        if np.abs(A[i,1])>0.001:\n",
    "            ax.plot( xs, (b[i] - A[i,0]*xs)/A[i,1], color='k', linestyle='--', alpha = alpha )\n",
    "        else:\n",
    "            if np.abs(A[i,0])>0.001:\n",
    "                ax.axvline( b[i]/A[i,0], color='k', linestyle='--', alpha = alpha )\n",
    "            else:\n",
    "                ax.vline( 0.0, color='k', linestyle='--', alpha = alpha )"
   ]
  },
  {
   "cell_type": "code",
   "execution_count": 71,
   "id": "c850e5b6",
   "metadata": {},
   "outputs": [],
   "source": [
    "# A = np.array([[ 0.69311,  0.72083],\n",
    "#        [ 0.43329,  0.90125],\n",
    "#        [ 0.7885 , -0.61503],\n",
    "#        [ 0.53967, -0.84188],\n",
    "#        [ 0.97215,  0.23436],\n",
    "#        [ 0.98971, -0.14307],\n",
    "#        [ 0.9717 ,  0.23623],\n",
    "#        [ 0.987  , -0.1607 ],\n",
    "#        [ 0.93879,  0.3445 ],\n",
    "#        [-1.     ,  0.     ],\n",
    "#        [ 0.     , -1.     ],\n",
    "#        [ 0.     ,  1.     ],\n",
    "#        [ 1.     , -0.     ]])\n",
    "# b = np.array([6.20506, 4.4651 , 4.4097 , 1.9347 , 5.4297 , 5.23336, 8.83192,\n",
    "#        8.68621, 9.43848, 2.     , 2.     , 2.     , 2.     ]).reshape(-1,1)\n",
    "\n",
    "A = np.array([[ 4.     ,  4.16   ],\n",
    "       [ 2.     ,  4.16   ],\n",
    "       [ 4.     , -3.12   ],\n",
    "       [ 2.     , -3.12   ],\n",
    "       [ 5.39459,  1.30047],\n",
    "       [ 5.39526, -0.77994],\n",
    "       [ 6.39885,  1.55562],\n",
    "       [ 6.39886, -1.04185],\n",
    "       [ 6.39762,  2.34766],\n",
    "       [-0.     , -1.     ],\n",
    "       [ 1.     , -0.     ],\n",
    "       [-1.     , -0.     ],\n",
    "       [-0.     ,  1.     ]])\n",
    "\n",
    "b = np.array([[35.81   ],\n",
    "       [20.61   ],\n",
    "       [22.37001],\n",
    "       [ 7.17   ],\n",
    "       [30.1301 ],\n",
    "       [28.52883],\n",
    "       [58.16022],\n",
    "       [56.31374],\n",
    "       [64.32107],\n",
    "       [ 2.     ],\n",
    "       [ 2.     ],\n",
    "       [ 2.     ],\n",
    "       [ 2.     ]])\n",
    "hull = polytope.Polytope(A, b)\n",
    "\n",
    "def mc_polytope_volume_new(A, b, samples, lb = [-2.5, -2.5], ub=[2.5, 2.5], factor1=0.001, factor2=1.0, factor3=0.05):\n",
    "    # Au<=b\n",
    "    # print(f\"A: {A}, b:{b}, lb: {lb}, ub: {ub}\")\n",
    "\n",
    "    Anorm = jnp.linalg.norm(A, axis=1)\n",
    "    A = A / Anorm.reshape(-1,1)\n",
    "    b = b / Anorm.reshape(-1,1)\n",
    "    \n",
    "#     print(A)\n",
    "#     print(b)\n",
    "\n",
    "#     key = jax.random.PRNGKey(10)\n",
    "    \n",
    "#     num_samples=50000#500000\n",
    "#     # samples = jax.random.uniform( key, shape=(2,num_samples), minval=-bounds, maxval=bounds )#A.shape[1]   \n",
    "#     key, subkey = jax.random.split(key)\n",
    "#     samples_x = jax.random.uniform( subkey, shape=(1,num_samples), minval=lb[0], maxval=ub[0] )\n",
    "#     key, subkey = jax.random.split(key)\n",
    "#     samples_y = jax.random.uniform( subkey, shape=(1,num_samples), minval=lb[1], maxval=ub[1] )\n",
    "#     samples = jnp.append( samples_x, samples_y, axis=0 )\n",
    "\n",
    "    aux = A @ samples - b    # supposed to be negative for being inside feasible space\n",
    "    aux = -aux #- factor3 # now it should be > 0\n",
    "    aux = jnp.min(aux, axis=0) #- 0.05\n",
    "    aux = (jnp.tanh( aux / factor1 ) + factor2)/2.0\n",
    "    aux = jnp.sum( aux )\n",
    "    vol = (ub[0]-lb[0])*(ub[1]-lb[1]) * (aux / num_samples)\n",
    "\n",
    "#     aux = A @ samples - b    \n",
    "#     aux = -aux\n",
    "#     aux = jnp.min(aux, axis=0)\n",
    "#     aux = (jnp.tanh( aux / 0.001 ) + 1.0)/2.0    \n",
    "#     aux = jnp.sum( aux )\n",
    "#     vol = ((2*bounds)**2) * (aux / samples.shape[1]) #num_samples)\n",
    "    return vol\n",
    "\n",
    "def mc_polytope_volume_again(A, b, samples):  \n",
    "    aux = A @ samples - b    \n",
    "    aux = -aux\n",
    "    aux = jnp.min(aux, axis=0)\n",
    "    aux = (jnp.tanh( aux / 0.001 ) + 1.0)/2.0    \n",
    "    aux = jnp.sum( aux )\n",
    "    vol = ((2*bounds)**2) * (aux / samples.shape[1]) #num_samples)\n",
    "    return vol\n"
   ]
  },
  {
   "cell_type": "code",
   "execution_count": 72,
   "id": "2a8384b4",
   "metadata": {},
   "outputs": [
    {
     "data": {
      "text/plain": [
       "30"
      ]
     },
     "execution_count": 72,
     "metadata": {},
     "output_type": "execute_result"
    }
   ],
   "source": [
    "bounds"
   ]
  },
  {
   "cell_type": "code",
   "execution_count": 73,
   "id": "9e38ddef",
   "metadata": {},
   "outputs": [
    {
     "data": {
      "text/plain": [
       "15.488"
      ]
     },
     "execution_count": 73,
     "metadata": {},
     "output_type": "execute_result"
    }
   ],
   "source": [
    "polytope.volume(hull)"
   ]
  },
  {
   "cell_type": "code",
   "execution_count": 74,
   "id": "6e6baa76",
   "metadata": {},
   "outputs": [
    {
     "name": "stdout",
     "output_type": "stream",
     "text": [
      "15.104\n"
     ]
    }
   ],
   "source": [
    "poly = polytope.Polytope( A, b)\n",
    "print(pt.volume(poly))"
   ]
  },
  {
   "cell_type": "code",
   "execution_count": 75,
   "id": "13b1564d",
   "metadata": {},
   "outputs": [],
   "source": [
    "key = jax.random.PRNGKey(10)\n",
    "key, subkey = jax.random.split(key)\n",
    "num_samples=50000 #1000000\n",
    "bounds = 2.5\n",
    "samples = jax.random.uniform( key, shape=(2,num_samples), minval=-bounds, maxval=bounds )#A.shape[1] "
   ]
  },
  {
   "cell_type": "code",
   "execution_count": 76,
   "id": "ccbe88bd",
   "metadata": {},
   "outputs": [
    {
     "data": {
      "text/plain": [
       "15.238"
      ]
     },
     "execution_count": 76,
     "metadata": {},
     "output_type": "execute_result"
    }
   ],
   "source": [
    "mc_polytope_volume_org(A, b, samples)"
   ]
  },
  {
   "cell_type": "code",
   "execution_count": 77,
   "id": "771f4c12",
   "metadata": {},
   "outputs": [
    {
     "data": {
      "text/plain": [
       "Array(15.23745, dtype=float64)"
      ]
     },
     "execution_count": 77,
     "metadata": {},
     "output_type": "execute_result"
    }
   ],
   "source": [
    "mc_polytope_volume(A, b, samples)"
   ]
  },
  {
   "cell_type": "code",
   "execution_count": 78,
   "id": "7fabda6f",
   "metadata": {},
   "outputs": [
    {
     "data": {
      "text/plain": [
       "Array(15.23758, dtype=float64)"
      ]
     },
     "execution_count": 78,
     "metadata": {},
     "output_type": "execute_result"
    }
   ],
   "source": [
    "mc_polytope_volume_new(A, b, samples) #, lb = [-2.5, -2.5], ub=[2.5, 2.5])"
   ]
  },
  {
   "cell_type": "code",
   "execution_count": 79,
   "id": "901daede",
   "metadata": {},
   "outputs": [],
   "source": [
    "key = jax.random.PRNGKey(10)\n",
    "key, subkey = jax.random.split(key)\n",
    "num_samples=100000 #1000000\n",
    "bounds = 30\n",
    "samples = jax.random.uniform( key, shape=(2,num_samples), minval=-bounds, maxval=bounds )#A.shape[1]   \n"
   ]
  },
  {
   "cell_type": "markdown",
   "id": "e393f102",
   "metadata": {},
   "source": [
    "# Method 1"
   ]
  },
  {
   "cell_type": "code",
   "execution_count": 84,
   "id": "9b67710f",
   "metadata": {},
   "outputs": [
    {
     "name": "stdout",
     "output_type": "stream",
     "text": [
      "A: [[ 0.69311  0.72083]\n",
      " [ 0.43329  0.90125]\n",
      " [ 0.7885  -0.61503]\n",
      " [ 0.53967 -0.84188]\n",
      " [ 0.97215  0.23436]\n",
      " [ 0.98971 -0.14307]\n",
      " [ 0.9717   0.23623]\n",
      " [ 0.987   -0.1607 ]\n",
      " [ 0.93879  0.3445 ]\n",
      " [-0.      -1.     ]\n",
      " [ 1.      -0.     ]\n",
      " [-1.      -0.     ]\n",
      " [-0.       1.     ]]\n",
      "b: [6.20506 4.4651  4.4097  1.9347  5.4297  5.23336 8.83192 8.68621 9.43848\n",
      " 2.      2.      2.      2.     ]\n",
      "ERROR: Should have been 2 points!\n",
      "[]\n",
      "[]\n",
      "ERROR: Should have been 2 points!\n",
      "[]\n",
      "[]\n",
      "ERROR: Should have been 2 points!\n",
      "[]\n",
      "[]\n",
      "[Array([ 2.5    , -0.69551], dtype=float64), Array([-0.315, -2.5  ], dtype=float64)]\n",
      "[Array([ 2.5    , -0.69551], dtype=float64), Array([-0.315, -2.5  ], dtype=float64)]\n",
      "ERROR: Should have been 2 points!\n",
      "[]\n",
      "[]\n",
      "ERROR: Should have been 2 points!\n",
      "[]\n",
      "[]\n",
      "ERROR: Should have been 2 points!\n",
      "[]\n",
      "[]\n",
      "ERROR: Should have been 2 points!\n",
      "[]\n",
      "[]\n",
      "ERROR: Should have been 2 points!\n",
      "[]\n",
      "[]\n",
      "[Array([-2.5, -2. ], dtype=float64), Array([ 2.5, -2. ], dtype=float64)]\n",
      "[Array([-2.5, -2. ], dtype=float64), Array([ 2.5, -2. ], dtype=float64)]\n",
      "[Array([ 2. , -2.5], dtype=float64), Array([2. , 2.5], dtype=float64)]\n",
      "[Array([ 2. , -2.5], dtype=float64), Array([2. , 2.5], dtype=float64)]\n",
      "[Array([-2. , -2.5], dtype=float64), Array([-2. ,  2.5], dtype=float64)]\n",
      "[Array([-2. , -2.5], dtype=float64), Array([-2. ,  2.5], dtype=float64)]\n",
      "[Array([-2.5,  2. ], dtype=float64), Array([2.5, 2. ], dtype=float64)]\n",
      "[Array([-2.5,  2. ], dtype=float64), Array([2.5, 2. ], dtype=float64)]\n"
     ]
    },
    {
     "data": {
      "image/png": "[encoded data removed]",
      "text/plain": [
       "<Figure size 640x480 with 1 Axes>"
      ]
     },
     "metadata": {},
     "output_type": "display_data"
    }
   ],
   "source": [
    "plt.figure()\n",
    "ax = plt.axes(xlim=(-2,5), ylim=(-2,3))\n",
    "hull_plot = hull.plot(ax)\n",
    "lb = jnp.array([-0.5, -1])\n",
    "ub = jnp.array([3.5, 2.0])\n",
    "lb, ub = pt.bounding_box(hull)\n",
    "lb = lb[:,0] - 0.5\n",
    "ub = ub[:,0] + 0.5\n",
    "# get_intersection_points( hull.A[0,:], hull.b[0], lb , ub )\n",
    "\n",
    "control_input_limit_points = np.array([ [lb[0], lb[1]], [lb[0], ub[1]], [ub[0], ub[1]], [ub[0], lb[1]] ])\n",
    "control_bound_polytope = pt.qhull( control_input_limit_points )\n",
    "# control_bound_polytope.plot(ax)\n",
    "plot_polytope_lines( ax, control_bound_polytope, jnp.max(ub) )\n",
    "\n",
    "print(f\"A: {hull.A}\")\n",
    "print(f\"b: {hull.b}\")\n",
    "# key = jax.random.PRNGKey(10)\n",
    "#plot new points\n",
    "sampled_pts = []\n",
    "init = 0 \n",
    "toal_volume = 0\n",
    "for i in range(hull.A.shape[0]):\n",
    "    pts = get_intersection_points( hull.A[i,:], hull.b[i], lb , ub )\n",
    "    print(pts)\n",
    "    if len(pts)>0:\n",
    "        plt.plot([ pts[0][0], pts[1][0] ], [ pts[0][1], pts[1][1] ]  )\n",
    "    else:\n",
    "        continue\n",
    "    xs = jnp.linspace(0, pts[1][0]-pts[0][0], 200).reshape(1,-1)\n",
    "    slope = (pts[1][1]-pts[0][1])/(pts[1][0]-pts[0][0])\n",
    "    ys = pts[0][1] + slope * xs\n",
    "    key, subkey = jax.random.split(key)\n",
    "    ys = jnp.clip( ys + 0.2 * jax.random.normal(subkey, shape=(1,200)), lb[1], ub[1] )\n",
    "    new_pts = jnp.append( pts[0][0]+xs, ys, axis=0  )\n",
    "    if init==0:\n",
    "        sampled_pts = new_pts #jnp.append( pts[0][0]+xs, ys, axis=0  )\n",
    "        init = 1\n",
    "    else:\n",
    "        sampled_pts = jnp.append( sampled_pts, new_pts, axis=1 )\n",
    "    plt.scatter(new_pts[0,:], new_pts[1,:], s=3)\n",
    "# plt.scatter(sampled_pts[0,:], sampled_pts[1,:], s=3)\n",
    "    # now sample points on this line\n",
    "samples = jnp.append(samples, sampled_pts, axis=1)\n"
   ]
  },
  {
   "cell_type": "markdown",
   "id": "ead76f50",
   "metadata": {},
   "source": [
    "# Method 2"
   ]
  },
  {
   "cell_type": "code",
   "execution_count": 93,
   "id": "40175865",
   "metadata": {},
   "outputs": [
    {
     "name": "stdout",
     "output_type": "stream",
     "text": [
      "ERROR: Should have been 2 points!\n",
      "[]\n",
      "ERROR: Should have been 2 points!\n",
      "[]\n",
      "ERROR: Should have been 2 points!\n",
      "[]\n",
      "[Array([ 2.5    , -0.69551], dtype=float64), Array([-0.315, -2.5  ], dtype=float64)]\n",
      "ERROR: Should have been 2 points!\n",
      "[]\n",
      "ERROR: Should have been 2 points!\n",
      "[]\n",
      "ERROR: Should have been 2 points!\n",
      "[]\n",
      "ERROR: Should have been 2 points!\n",
      "[]\n",
      "ERROR: Should have been 2 points!\n",
      "[]\n",
      "[Array([-2.5, -2. ], dtype=float64), Array([ 2.5, -2. ], dtype=float64)]\n",
      "[Array([ 2. , -2.5], dtype=float64), Array([2. , 2.5], dtype=float64)]\n",
      "[Array([-2. , -2.5], dtype=float64), Array([-2. ,  2.5], dtype=float64)]\n",
      "[Array([-2.5,  2. ], dtype=float64), Array([2.5, 2. ], dtype=float64)]\n",
      "total volume: 2.3343710361399985\n"
     ]
    },
    {
     "data": {
      "image/png": "[encoded data removed]",
      "text/plain": [
       "<Figure size 640x480 with 1 Axes>"
      ]
     },
     "metadata": {},
     "output_type": "display_data"
    }
   ],
   "source": [
    "plt.figure()\n",
    "ax = plt.axes(xlim=(-2,5), ylim=(-2,3))\n",
    "hull_plot = hull.plot(ax)\n",
    "lb = jnp.array([-0.5, -1])\n",
    "ub = jnp.array([3.5, 2.0])\n",
    "lb, ub = pt.bounding_box(hull)\n",
    "lb = lb[:,0] - 0.5\n",
    "ub = ub[:,0] + 0.5\n",
    "# get_intersection_points( hull.A[0,:], hull.b[0], lb , ub )\n",
    "\n",
    "control_input_limit_points = np.array([ [lb[0], lb[1]], [lb[0], ub[1]], [ub[0], ub[1]], [ub[0], lb[1]] ])\n",
    "control_bound_polytope = pt.qhull( control_input_limit_points )\n",
    "# control_bound_polytope.plot(ax)\n",
    "plot_polytope_lines( ax, control_bound_polytope, jnp.max(ub) )\n",
    "\n",
    "# print(f\"A: {hull.A}\")\n",
    "# print(f\"b: {hull.b}\")\n",
    "key = jax.random.PRNGKey(10)\n",
    "#plot new points\n",
    "sampled_pts = []\n",
    "num_line_points = 200\n",
    "num_normal_points = 100\n",
    "increment = 0.001\n",
    "\n",
    "def generate_points_about_line(pts): #, num_line_pts, num_normal_points, increment):\n",
    "    \n",
    "    xs = jnp.linspace(0, pts[1][0]-pts[0][0], num_line_points).reshape(1,-1)    \n",
    "\n",
    "    if jnp.abs(pts[1][0]-pts[0][0])>0.001: # Not a vertical line\n",
    "        slope = (pts[1][1]-pts[0][1])/(pts[1][0]-pts[0][0])    \n",
    "        ys = pts[0][1] + slope * xs\n",
    "        theta = jnp.arctan(slope)\n",
    "    else: # vertical line\n",
    "        ys = jnp.linspace( pts[0][1], pts[1][1], num_line_points ).reshape(1,-1)\n",
    "        theta = np.pi/2\n",
    "    line_pts = jnp.append( pts[0][0]+xs, ys, axis=0  )\n",
    "    # Now N choose points above and below perpendicular to xs, ys    \n",
    "    slope_n = jnp.pi/2 + theta    \n",
    "    length = jnp.linspace(0, 2 * num_normal_points, num_normal_points, dtype=int) - num_normal_points\n",
    "    length = length * increment\n",
    "    steps = length * jnp.array([ [jnp.cos(slope_n)], [jnp.sin(slope_n)] ])\n",
    "    temp_points = line_pts.reshape((2,1,line_pts.shape[1])) + steps.reshape( (2,steps.shape[1],1) )\n",
    "    new_pts = temp_points.reshape( (2, num_normal_points*num_line_points) )\n",
    "    volume = jnp.linalg.norm( pts[1]-pts[0] ) * num_normal_points * increment\n",
    "\n",
    "    return new_pts, volume\n",
    "\n",
    "total_volume = 0\n",
    "init = 0\n",
    "for i in range(hull.A.shape[0]):\n",
    "    pts = get_intersection_points( hull.A[i,:], hull.b[i], lb , ub )\n",
    "    if len(pts)>0:\n",
    "        plt.plot([ pts[0][0], pts[1][0] ], [ pts[0][1], pts[1][1] ]  )\n",
    "    else:\n",
    "        continue\n",
    "        \n",
    "    new_pts, temp_volume = generate_points_about_line( pts ) #, num_line_points, num_normal_points, increment )\n",
    "    total_volume = total_volume + temp_volume\n",
    "\n",
    "    if init==0:\n",
    "        sampled_pts = new_pts #jnp.append( pts[0][0]+xs, ys, axis=0  )\n",
    "        init = 1\n",
    "    else:\n",
    "        sampled_pts = jnp.append( sampled_pts, new_pts, axis=1 )\n",
    "    plt.scatter(new_pts[0,::3], new_pts[1,::3], s=3, alpha=0.1)\n",
    "# plt.scatter(sampled_pts[0,:], sampled_pts[1,:], s=3)\n",
    "    # now sample points on this line\n",
    "samples = sampled_pts\n",
    "# samples = jnp.append(samples, sampled_pts, axis=1)\n",
    "print(f\"total volume: {total_volume}\")"
   ]
  },
  {
   "cell_type": "code",
   "execution_count": 38,
   "id": "d14d4206",
   "metadata": {},
   "outputs": [],
   "source": [
    "total_volume"
   ]
  },
  {
   "cell_type": "code",
   "execution_count": 39,
   "id": "e72b89dc",
   "metadata": {},
   "outputs": [],
   "source": [
    "key, subkey = jax.random.split(key)\n",
    "jax.random.normal(subkey, shape=(10,))"
   ]
  },
  {
   "cell_type": "code",
   "execution_count": 40,
   "id": "3eaa24d5",
   "metadata": {},
   "outputs": [],
   "source": [
    "# mc_polytope_volume_grad = jit(grad(mc_polytope_volume, 0))\n",
    "print(f\"old volume : { mc_polytope_volume_org(hull.A, hull.b.reshape(-1,1), samples) }\")\n",
    "print(f\"new volume: { mc_polytope_volume_about_lines(hull.A, hull.b.reshape(-1,1), samples, total_volume ) } \" )\n",
    "# print(f\"old grad: { mc_polytope_volume_org_grad(hull.A, hull.b.reshape(-1,1), samples) }\")\n",
    "print(f\"new grad: { mc_polytope_volume_about_lines_grad(hull.A, hull.b.reshape(-1,1), samples, total_volume) }\")"
   ]
  },
  {
   "cell_type": "code",
   "execution_count": 41,
   "id": "112ccb56",
   "metadata": {},
   "outputs": [],
   "source": [
    "# mc_polytope_volume_grad = jit(grad(mc_polytope_volume, 0))\n",
    "print(f\"old volume : { mc_polytope_volume_org(hull.A, hull.b.reshape(-1,1), samples) }\")\n",
    "print(f\"new volume: { mc_polytope_volume(hull.A, hull.b.reshape(-1,1), samples ) } \" )\n",
    "# print(f\"old grad: { mc_polytope_volume_org_grad(hull.A, hull.b.reshape(-1,1), samples) }\")\n",
    "print(f\"new grad: { mc_polytope_volume_grad(hull.A, hull.b.reshape(-1,1), samples) }\")"
   ]
  },
  {
   "cell_type": "code",
   "execution_count": 42,
   "id": "d53bcf82",
   "metadata": {},
   "outputs": [],
   "source": [
    "jnp.min( jnp.array([2.00554,1.03843,0.44378, 0.58484, 0.15283]) )\n",
    "aa = jnp.array([[ 2.05088,  2.50971,  2.00554,  2.83296],\n",
    " [ 1.68793,  1.36946,  1.03843,  1.44821],\n",
    " [ 0.62205,  0.12897,  0.44378, -0.11737],\n",
    " [-0.02076,  0.3479 ,  0.58484,  0.32184],\n",
    " [-0.52535, -0.49707,  0.15283, -0.78026]])\n",
    "jnp.min(aa, axis=0)"
   ]
  },
  {
   "cell_type": "code",
   "execution_count": 43,
   "id": "40b4e298",
   "metadata": {},
   "outputs": [],
   "source": [
    "hull.volume"
   ]
  },
  {
   "cell_type": "code",
   "execution_count": 44,
   "id": "cc2c82a9",
   "metadata": {},
   "outputs": [],
   "source": [
    "# # @jit\n",
    "# def mc_polytope_volume_jit(A, b, bounds = 30):\n",
    "#     key = jax.random.PRNGKey(10)\n",
    "#     num_samples=10000\n",
    "#     volume = 0\n",
    "#     samples = jax.random.uniform( key, shape=(A.shape[1],num_samples), minval=-bounds, maxval=bounds )\n",
    "# #     print(f\"A:{A}, samples:{samples}\")\n",
    "    \n",
    "#     aux = A @ samples - b\n",
    "#     aux = np.clip(-aux, a_min = 0 )\n",
    "#     aux = np.nonzero(np.all(aux < 0, 0))[0].shape[0]\n",
    "#     vol = (2*bounds)**2 * aux / num_samples\n",
    "#     return vol"
   ]
  },
  {
   "cell_type": "code",
   "execution_count": 45,
   "id": "7bbd33cd",
   "metadata": {},
   "outputs": [],
   "source": [
    "mc_polytope_volume_grad = grad(mc_polytope_volume, 0)"
   ]
  },
  {
   "cell_type": "code",
   "execution_count": 46,
   "id": "0bb4195c",
   "metadata": {},
   "outputs": [],
   "source": [
    "mc_polytope_volume_grad( hull.A, hull.b.reshape(-1,1) )"
   ]
  },
  {
   "cell_type": "code",
   "execution_count": null,
   "id": "331b5411",
   "metadata": {},
   "outputs": [],
   "source": [
    "hull.b"
   ]
  },
  {
   "cell_type": "code",
   "execution_count": null,
   "id": "c71bf00c",
   "metadata": {},
   "outputs": [],
   "source": [
    "hull.A"
   ]
  },
  {
   "cell_type": "code",
   "execution_count": null,
   "id": "98c4a89f",
   "metadata": {},
   "outputs": [],
   "source": [
    "class Test:\n",
    "    \n",
    "    def __init__(self):\n",
    "        self.test = 9\n",
    "    \n",
    "    \n",
    "    def operate(self, x):\n",
    "        return self.test * jnp.linalg.inv(x)\n",
    "object = Test()"
   ]
  },
  {
   "cell_type": "code",
   "execution_count": null,
   "id": "44bc87ed",
   "metadata": {},
   "outputs": [],
   "source": [
    "func = lambda x: object.operate(x)\n",
    "func_jit = jit(func)"
   ]
  },
  {
   "cell_type": "code",
   "execution_count": null,
   "id": "13935c69",
   "metadata": {},
   "outputs": [],
   "source": [
    "%timeit  func(jnp.diag(jnp.array([2.0, 0.5])))"
   ]
  },
  {
   "cell_type": "code",
   "execution_count": null,
   "id": "ad34b845",
   "metadata": {},
   "outputs": [],
   "source": [
    "%timeit  func_jit(jnp.diag(jnp.array([2.0, 0.5])))"
   ]
  },
  {
   "cell_type": "code",
   "execution_count": null,
   "id": "c707354a",
   "metadata": {},
   "outputs": [],
   "source": [
    "func_jit(jnp.diag(jnp.array([2.0, 0.5])))"
   ]
  },
  {
   "cell_type": "code",
   "execution_count": null,
   "id": "57a417ab",
   "metadata": {},
   "outputs": [],
   "source": [
    "object.test = 1"
   ]
  },
  {
   "cell_type": "code",
   "execution_count": null,
   "id": "f61eb52d",
   "metadata": {},
   "outputs": [],
   "source": [
    "func_jit(jnp.diag(jnp.array([2.0, 0.5])))"
   ]
  },
  {
   "cell_type": "code",
   "execution_count": null,
   "id": "984e7dc9",
   "metadata": {},
   "outputs": [],
   "source": [
    "object.test"
   ]
  },
  {
   "cell_type": "code",
   "execution_count": null,
   "id": "0bb350d0",
   "metadata": {},
   "outputs": [],
   "source": [
    "import numpy as np\n",
    "a = np.array([[1,2],[5,6]])\n",
    "b = np.array([[3,4],[9,10]])"
   ]
  },
  {
   "cell_type": "code",
   "execution_count": null,
   "id": "70fa5de4",
   "metadata": {},
   "outputs": [],
   "source": [
    "a * b"
   ]
  },
  {
   "cell_type": "code",
   "execution_count": null,
   "id": "697c4aa5",
   "metadata": {},
   "outputs": [],
   "source": [
    "np.sum(a * b)"
   ]
  },
  {
   "cell_type": "code",
   "execution_count": null,
   "id": "f5035940",
   "metadata": {},
   "outputs": [],
   "source": [
    "a = jnp.array([ [1,2], [1,2], [1,2] ])"
   ]
  },
  {
   "cell_type": "code",
   "execution_count": null,
   "id": "b9e77d61",
   "metadata": {},
   "outputs": [],
   "source": [
    "jnp.mean(a, axis=1)"
   ]
  },
  {
   "cell_type": "code",
   "execution_count": null,
   "id": "7bbc27ed",
   "metadata": {},
   "outputs": [],
   "source": [
    "vertices = np.array([[-1.0, -1.0], [ jjjjjj[1.0, 1.0], [0.0,fffffdddd"
   ]
  },
  {
   "cell_type": "code",
   "execution_count": null,
   "id": "e4b72a8f",
   "metadata": {},
   "outputs": [],
   "source": [
    "vertices = np.array([[-1.0, -1.0], [-1.0, 1.0], [1.0, 1.0], [1.0, -1.0]])"
   ]
  },
  {
   "cell_type": "code",
   "execution_count": null,
   "id": "c1c97a33",
   "metadata": {},
   "outputs": [],
   "source": [
    "hull = polytope.qhull(vertices)"
   ]
  },
  {
   "cell_type": "code",
   "execution_count": null,
   "id": "b8cf707f",
   "metadata": {},
   "outputs": [],
   "source": [
    "A, b = hull.A, hull.b"
   ]
  },
  {
   "cell_type": "code",
   "execution_count": null,
   "id": "471f784f",
   "metadata": {},
   "outputs": [],
   "source": [
    "A"
   ]
  },
  {
   "cell_type": "code",
   "execution_count": null,
   "id": "0c77b047",
   "metadata": {},
   "outputs": [],
   "source": [
    "A2 = np.append( A, np.array([[ 1, 1 ]]), axis=0 )\n",
    "b2 = np.append( b, np.array([ np.sqrt(2) ]) )\n",
    "\n",
    "#-0.1: 0.18288"
   ]
  },
  {
   "cell_type": "code",
   "execution_count": null,
   "id": "5eca3400",
   "metadata": {},
   "outputs": [],
   "source": [
    "hull2 = pt.Polytope( A2, b2 )"
   ]
  },
  {
   "cell_type": "code",
   "execution_count": null,
   "id": "579f4e7f",
   "metadata": {},
   "outputs": [],
   "source": [
    "fig, ax = plt.subplots()\n",
    "ax.set_xlim([-2, 2])\n",
    "ax.set_ylim([-2, 2])\n",
    "hull2.plot(ax)"
   ]
  },
  {
   "cell_type": "code",
   "execution_count": null,
   "id": "ca4dbc09",
   "metadata": {},
   "outputs": [],
   "source": [
    "ellipse_n = 2\n",
    "ellipse_num_planes = 5\n",
    "ellipse_B = cp.Variable((ellipse_n,ellipse_n), symmetric=True)\n",
    "ellipse_d = cp.Variable((ellipse_n,1))\n",
    "ellipse_A = cp.Parameter((ellipse_num_planes,ellipse_n), value=A2)\n",
    "ellipse_b = cp.Parameter((ellipse_num_planes,1), value=b2.reshape(-1,1))\n",
    "ellipse_objective = cp.Maximize( cp.log_det( ellipse_B ) )\n",
    "ellipse_const = []\n",
    "for ellipse_i in range( ellipse_A.shape[0] ):\n",
    "    ellipse_const += [ cp.norm( ellipse_B @ ellipse_A[ellipse_i,:]) + ellipse_A[ellipse_i,:] @ ellipse_d <= ellipse_b[ellipse_i,0] ]\n",
    "ellipse_prob = cp.Problem( ellipse_objective, ellipse_const )\n",
    "ellipse_cvxpylayer = CvxpyLayer(ellipse_prob, parameters=[ellipse_A, ellipse_b], variables=[ellipse_B, ellipse_d])"
   ]
  },
  {
   "cell_type": "code",
   "execution_count": null,
   "id": "c0ad0825",
   "metadata": {},
   "outputs": [],
   "source": [
    "ellipse_prob.solve()#gp=True, requires_grad=True)"
   ]
  },
  {
   "cell_type": "code",
   "execution_count": null,
   "id": "c9c0b139",
   "metadata": {},
   "outputs": [],
   "source": [
    "ellipse_B.value"
   ]
  },
  {
   "cell_type": "code",
   "execution_count": null,
   "id": "a9e0d8a9",
   "metadata": {},
   "outputs": [],
   "source": [
    "ellipse_d.value"
   ]
  },
  {
   "cell_type": "code",
   "execution_count": null,
   "id": "9736e819",
   "metadata": {},
   "outputs": [],
   "source": [
    "for i in range( ellipse_A.shape[0]  ):\n",
    "    print(ellipse_const[i].dual_value)"
   ]
  },
  {
   "cell_type": "code",
   "execution_count": null,
   "id": "718071fc",
   "metadata": {},
   "outputs": [],
   "source": [
    "angles   = np.linspace( 0, 2 * np.pi, 100 )\n",
    "ellipse_plot  = (ellipse_B.value @ np.append(np.cos(angles).reshape(1,-1) , np.sin(angles).reshape(1,-1), axis=0 )) + ellipse_d.value# * np.ones( 1, noangles );\n",
    "\n",
    "fig, ax = plt.subplots()\n",
    "ax.set_xlim([-2, 2])\n",
    "ax.set_ylim([-2, 2])\n",
    "hull2.plot(ax)\n",
    "ax.plot( ellipse_plot[0,:], ellipse_plot[1,:], 'b', label='Inner Ellipse' )"
   ]
  },
  {
   "cell_type": "code",
   "execution_count": null,
   "id": "4b68042a",
   "metadata": {},
   "outputs": [],
   "source": [
    "def volume_ellipse( A, b ):\n",
    "    solution = ellipse_cvxpylayer(A, b)\n",
    "    B = solution[0]\n",
    "    d = solution[1]\n",
    "    return jnp.linalg.det(B)\n",
    "def volume_ellipse_full( A, b ):\n",
    "    solution = ellipse_cvxpylayer(A, b)\n",
    "    B = solution[0]\n",
    "    d = solution[1]\n",
    "    return B, d, jnp.linalg.det(B)\n",
    "vol_ellipse_grad = grad( volume_ellipse, 1 )"
   ]
  },
  {
   "cell_type": "code",
   "execution_count": null,
   "id": "697f826d",
   "metadata": {},
   "outputs": [],
   "source": [
    "volume_ellipse(A2, b2.reshape(-1,1))"
   ]
  },
  {
   "cell_type": "code",
   "execution_count": null,
   "id": "8f0dd747",
   "metadata": {},
   "outputs": [],
   "source": [
    "vol_ellipse_grad(A2, b2.reshape(-1,1))"
   ]
  },
  {
   "cell_type": "markdown",
   "id": "64693a65",
   "metadata": {},
   "source": [
    "## Second case"
   ]
  },
  {
   "cell_type": "code",
   "execution_count": null,
   "id": "4820416c",
   "metadata": {},
   "outputs": [],
   "source": [
    "vertices = np.array([[-1.0, -1.0], [-1.0, 1.0], [1.0, 1.0], [1.0, -1.0]])\n",
    "hull = polytope.qhull(vertices)\n",
    "A, b = hull.A, hull.b\n",
    "A2 = np.append( A, A[[-1],:], axis=0 )\n",
    "b2 = np.append( b, b[[-1]] )\n",
    "hull2 = pt.Polytope( A2, b2 )"
   ]
  },
  {
   "cell_type": "code",
   "execution_count": null,
   "id": "a831e952",
   "metadata": {},
   "outputs": [],
   "source": [
    "B, d, vol = volume_ellipse_full( A2, b2.reshape(-1,1) )"
   ]
  },
  {
   "cell_type": "code",
   "execution_count": null,
   "id": "50deca0b",
   "metadata": {},
   "outputs": [],
   "source": [
    "angles   = np.linspace( 0, 2 * np.pi, 100 )\n",
    "ellipse_plot  = (B @ np.append(np.cos(angles).reshape(1,-1) , np.sin(angles).reshape(1,-1), axis=0 )) + d# * np.ones( 1, noangles );\n",
    "\n",
    "fig, ax = plt.subplots()\n",
    "ax.set_xlim([-2, 2])\n",
    "ax.set_ylim([-2, 2])\n",
    "hull2.plot(ax)\n",
    "ax.plot( ellipse_plot[0,:], ellipse_plot[1,:], 'b', label='Inner Ellipse' )"
   ]
  },
  {
   "cell_type": "code",
   "execution_count": null,
   "id": "d817851c",
   "metadata": {},
   "outputs": [],
   "source": [
    "vol"
   ]
  },
  {
   "cell_type": "code",
   "execution_count": null,
   "id": "c656a520",
   "metadata": {},
   "outputs": [],
   "source": [
    "vol_ellipse_grad(A2, b2.reshape(-1,1))"
   ]
  },
  {
   "cell_type": "code",
   "execution_count": null,
   "id": "e8287a87",
   "metadata": {},
   "outputs": [],
   "source": [
    "ellipse_A.value = A2\n",
    "ellipse_b.value = b2.reshape(-1,1)\n",
    "ellipse_prob.solve()\n",
    "\n",
    "for i in range( ellipse_A.shape[0]  ):\n",
    "    print(ellipse_const[i].dual_value)"
   ]
  },
  {
   "cell_type": "code",
   "execution_count": null,
   "id": "6b69a32d",
   "metadata": {},
   "outputs": [],
   "source": [
    "np.tan(np.pi/6)"
   ]
  },
  {
   "cell_type": "code",
   "execution_count": null,
   "id": "fe9f88dc",
   "metadata": {},
   "outputs": [],
   "source": [
    "np.tan( np.pi/2 + np.pi/6 )"
   ]
  },
  {
   "cell_type": "code",
   "execution_count": null,
   "id": "83ee8313",
   "metadata": {},
   "outputs": [],
   "source": [
    "theta = jnp.pi/6 # np.arctan(slope)\n",
    "slope_n = jnp.pi/2 + theta\n",
    "\n",
    "increment = 0.01\n",
    "length = jnp.linspace(0, 10, 10, dtype=int)\n",
    "length = length * increment\n",
    "steps = length * jnp.array([ [1], [1] ]) #jnp.array([ [jnp.cos(slope_n)], [jnp.sin(slope_n)] ])"
   ]
  },
  {
   "cell_type": "code",
   "execution_count": null,
   "id": "789cbc43",
   "metadata": {},
   "outputs": [],
   "source": [
    "steps"
   ]
  },
  {
   "cell_type": "code",
   "execution_count": null,
   "id": "f321606e",
   "metadata": {},
   "outputs": [],
   "source": [
    "pts = np.array([ [1,2,3], [1,2,3] ])"
   ]
  },
  {
   "cell_type": "code",
   "execution_count": null,
   "id": "1ad84ba5",
   "metadata": {},
   "outputs": [],
   "source": [
    "pts.reshape((2,1,pts.shape[1])) + steps.reshape( (2,steps.shape[1],1) )"
   ]
  },
  {
   "cell_type": "code",
   "execution_count": null,
   "id": "7b4c888b",
   "metadata": {},
   "outputs": [],
   "source": [
    "yy = pts.reshape((2,1,pts.shape[1])) + steps.reshape( (2,steps.shape[1],1) )"
   ]
  },
  {
   "cell_type": "code",
   "execution_count": null,
   "id": "7cadbbc9",
   "metadata": {},
   "outputs": [],
   "source": [
    "steps.shape # (2, 200, 1), (2, 100)"
   ]
  },
  {
   "cell_type": "code",
   "execution_count": null,
   "id": "5879359a",
   "metadata": {},
   "outputs": [],
   "source": [
    "yy.shape"
   ]
  },
  {
   "cell_type": "code",
   "execution_count": null,
   "id": "bfbe2a6b",
   "metadata": {},
   "outputs": [],
   "source": [
    "yy[:,:,0]"
   ]
  },
  {
   "cell_type": "code",
   "execution_count": null,
   "id": "154307cc",
   "metadata": {},
   "outputs": [],
   "source": [
    "yy[:,:,1]"
   ]
  },
  {
   "cell_type": "code",
   "execution_count": null,
   "id": "2effe153",
   "metadata": {},
   "outputs": [],
   "source": [
    "yy[:,:,2]"
   ]
  },
  {
   "cell_type": "code",
   "execution_count": null,
   "id": "8391e184",
   "metadata": {},
   "outputs": [],
   "source": [
    "yy.reshape( 2, 20 )"
   ]
  },
  {
   "cell_type": "code",
   "execution_count": null,
   "id": "c306dc5e",
   "metadata": {},
   "outputs": [],
   "source": [
    "zz = yy.reshape(2, 30)"
   ]
  },
  {
   "cell_type": "code",
   "execution_count": null,
   "id": "5fc7f42c",
   "metadata": {},
   "outputs": [],
   "source": [
    "zz[:,4]"
   ]
  },
  {
   "cell_type": "code",
   "execution_count": null,
   "id": "e4d488d7",
   "metadata": {},
   "outputs": [],
   "source": [
    "jnp.linspace( 1, 20, 10 )"
   ]
  },
  {
   "cell_type": "code",
   "execution_count": null,
   "id": "849d3d50",
   "metadata": {},
   "outputs": [],
   "source": [
    "x = jnp.empty((1,2))"
   ]
  },
  {
   "cell_type": "code",
   "execution_count": null,
   "id": "d227af44",
   "metadata": {},
   "outputs": [],
   "source": [
    "jnp.append( x, jnp.ones((1,2)), axis=0 )"
   ]
  },
  {
   "cell_type": "code",
   "execution_count": null,
   "id": "89c54a06",
   "metadata": {},
   "outputs": [],
   "source": []
  }
 ],
 "metadata": {
  "kernelspec": {
   "display_name": "Python 3 (ipykernel)",
   "language": "python",
   "name": "python3"
  },
  "language_info": {
   "codemirror_mode": {
    "name": "ipython",
    "version": 3
   },
   "file_extension": ".py",
   "mimetype": "text/x-python",
   "name": "python",
   "nbconvert_exporter": "python",
   "pygments_lexer": "ipython3",
   "version": "3.11.9"
  }
 },
 "nbformat": 4,
 "nbformat_minor": 5
}
