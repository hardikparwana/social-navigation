{
 "cells": [
  {
   "cell_type": "code",
   "execution_count": 1,
   "id": "1144972e",
   "metadata": {},
   "outputs": [],
   "source": [
    "from scipy.optimize import rosen, rosen_der\n",
    "from cyipopt import minimize_ipopt\n",
    "import time"
   ]
  },
  {
   "cell_type": "code",
   "execution_count": 22,
   "id": "a239d461",
   "metadata": {},
   "outputs": [],
   "source": [
    "from jax.config import config\n",
    "\n",
    "# Enable 64 bit floating point precision\n",
    "config.update(\"jax_enable_x64\", True)\n",
    "\n",
    "# We use the CPU instead of GPU und mute all warnings if no GPU/TPU is found.\n",
    "config.update('jax_platform_name', 'cpu')\n",
    "\n",
    "import jax.numpy as np\n",
    "from jax import jit, grad, jacfwd, jacrev\n",
    "from cyipopt import minimize_ipopt"
   ]
  },
  {
   "cell_type": "code",
   "execution_count": 23,
   "id": "bdaf9f8f",
   "metadata": {},
   "outputs": [],
   "source": [
    "def objective(x):\n",
    "    return x[0]*x[3]*np.sum(x[:3]) + x[2]\n",
    "\n",
    "def eq_constraints(x):\n",
    "    return np.sum(x**2) - 40\n",
    "\n",
    "def ineq_constrains(x):\n",
    "    return np.prod(x) - 25"
   ]
  },
  {
   "cell_type": "code",
   "execution_count": 24,
   "id": "ac9b45b5",
   "metadata": {},
   "outputs": [],
   "source": [
    "# jit the functions\n",
    "obj_jit = jit(objective)\n",
    "con_eq_jit = jit(eq_constraints)\n",
    "con_ineq_jit = jit(ineq_constrains)\n",
    "\n",
    "# build the derivatives and jit them\n",
    "obj_grad = jit(grad(obj_jit))  # objective gradient\n",
    "obj_hess = jit(jacrev(jacfwd(obj_jit))) # objective hessian\n",
    "con_eq_jac = jit(jacfwd(con_eq_jit))  # jacobian\n",
    "con_ineq_jac = jit(jacfwd(con_ineq_jit))  # jacobian\n",
    "con_eq_hess = jacrev(jacfwd(con_eq_jit)) # hessian\n",
    "con_eq_hessvp = jit(lambda x, v: con_eq_hess(x) * v[0]) # hessian vector-product\n",
    "con_ineq_hess = jacrev(jacfwd(con_ineq_jit))  # hessian\n",
    "con_ineq_hessvp = jit(lambda x, v: con_ineq_hess(x) * v[0]) # hessian vector-product"
   ]
  },
  {
   "cell_type": "code",
   "execution_count": 28,
   "id": "b9b52b16",
   "metadata": {},
   "outputs": [
    {
     "name": "stdout",
     "output_type": "stream",
     "text": [
      "This is Ipopt version 3.14.11, running with linear solver ma27.\n",
      "\n",
      "Number of nonzeros in equality constraint Jacobian...:        4\n",
      "Number of nonzeros in inequality constraint Jacobian.:        4\n",
      "Number of nonzeros in Lagrangian Hessian.............:       10\n",
      "\n",
      "Total number of variables............................:        4\n",
      "                     variables with only lower bounds:        0\n",
      "                variables with lower and upper bounds:        4\n",
      "                     variables with only upper bounds:        0\n",
      "Total number of equality constraints.................:        1\n",
      "Total number of inequality constraints...............:        1\n",
      "        inequality constraints with only lower bounds:        1\n",
      "   inequality constraints with lower and upper bounds:        0\n",
      "        inequality constraints with only upper bounds:        0\n",
      "\n",
      "iter    objective    inf_pr   inf_du lg(mu)  ||d||  lg(rg) alpha_du alpha_pr  ls\n",
      "   0  1.6109693e+01 1.12e+01 5.28e-01   0.0 0.00e+00    -  0.00e+00 0.00e+00   0\n",
      "   1  1.7263331e+01 7.42e-01 2.19e+01  -0.3 6.49e-01    -  3.49e-01 1.00e+00f  1\n",
      "   2  1.7829621e+01 7.24e-03 4.90e+00  -0.3 5.53e-02   2.0 9.98e-01 1.00e+00h  1\n",
      "   3  1.7353146e+01 3.91e-02 3.91e-01  -1.0 4.09e-01    -  9.96e-01 1.00e+00f  1\n",
      "   4  1.6950812e+01 1.51e-01 3.89e-02  -1.4 2.79e-01    -  9.68e-01 1.00e+00h  1\n",
      "   5  1.7002828e+01 2.33e-02 8.59e-03  -2.8 6.35e-02    -  9.69e-01 1.00e+00h  1\n",
      "   6  1.7013924e+01 3.26e-04 1.47e-04  -4.4 7.99e-03    -  9.98e-01 1.00e+00h  1\n",
      "   7  1.7014017e+01 5.42e-07 4.41e-07 -10.2 2.08e-04    -  9.99e-01 1.00e+00h  1\n",
      "fist_method time : 0.015828371047973633\n",
      "hello\n",
      "   8  1.7014017e+01 9.95e-14 9.39e-14 -11.0 2.10e-07    -  1.00e+00 1.00e+00h  1\n",
      "\n",
      "Number of Iterations....: 8\n",
      "\n",
      "                                   (scaled)                 (unscaled)\n",
      "Objective...............:   1.7014017272774488e+01    1.7014017272774488e+01\n",
      "Dual infeasibility......:   9.3923537532017797e-14    9.3923537532017797e-14\n",
      "Constraint violation....:   9.9475983006414026e-14    9.9475983006414026e-14\n",
      "Variable bound violation:   9.9907189188286338e-09    9.9907189188286338e-09\n",
      "Complementarity.........:   1.0096675639168779e-11    1.0096675639168779e-11\n",
      "Overall NLP error.......:   1.0096675639168779e-11    1.0096675639168779e-11\n",
      "\n",
      "\n",
      "Number of objective function evaluations             = 9\n",
      "Number of objective gradient evaluations             = 9\n",
      "Number of equality constraint evaluations            = 9\n",
      "Number of inequality constraint evaluations          = 9\n",
      "Number of equality constraint Jacobian evaluations   = 9\n",
      "Number of inequality constraint Jacobian evaluations = 9\n",
      "Number of Lagrangian Hessian evaluations             = 8\n",
      "Total seconds in IPOPT                               = 0.015\n",
      "\n",
      "EXIT: Optimal Solution Found.\n"
     ]
    }
   ],
   "source": [
    "# constraints\n",
    "cons = [\n",
    "    {'type': 'eq', 'fun': con_eq_jit, 'jac': con_eq_jac, 'hess': con_eq_hessvp},\n",
    "    {'type': 'ineq', 'fun': con_ineq_jit, 'jac': con_ineq_jac, 'hess': con_ineq_hessvp}\n",
    " ]\n",
    "\n",
    "# starting point\n",
    "x0 = np.array([1.0, 5.0, 5.0, 1.0])\n",
    "\n",
    "# variable bounds: 1 <= x[i] <= 5\n",
    "bnds = [(1, 5) for _ in range(x0.size)]\n",
    "\n",
    "t0 = time.time()\n",
    "# executing the solver\n",
    "res = minimize_ipopt(obj_jit, jac=obj_grad, hess=obj_hess, x0=x0, bounds=bnds,\n",
    "                  constraints=cons, options={'disp': 5})\n",
    "print(f\"fist_method time : { time.time()-t0 }\")\n",
    "print(\"hello\")"
   ]
  },
  {
   "cell_type": "code",
   "execution_count": 60,
   "id": "22ec4585",
   "metadata": {},
   "outputs": [
    {
     "data": {
      "text/plain": [
       "Array([ 2., 10., 10.,  2., 25.,  5.,  5., 25.], dtype=float64)"
      ]
     },
     "execution_count": 60,
     "metadata": {},
     "output_type": "execute_result"
    }
   ],
   "source": [
    "x_test = np.asarray(x0)\n",
    "con_ineq_jac(x_test)\n",
    "con_eq_jac(x_test)\n",
    "# con_eq_jac(np.asarray(x0))\n",
    "np.append(con_eq_jac(x_test), con_ineq_jac(x_test))"
   ]
  },
  {
   "cell_type": "code",
   "execution_count": 98,
   "id": "f4110a5e",
   "metadata": {},
   "outputs": [
    {
     "name": "stdout",
     "output_type": "stream",
     "text": [
      "Objective value at iteration #0 is - 16.1097\n",
      "This is Ipopt version 3.14.11, running with linear solver ma27.\n",
      "\n",
      "Number of nonzeros in equality constraint Jacobian...:        4\n",
      "Number of nonzeros in inequality constraint Jacobian.:        4\n",
      "Number of nonzeros in Lagrangian Hessian.............:        0\n",
      "\n",
      "Total number of variables............................:        4\n",
      "                     variables with only lower bounds:        0\n",
      "                variables with lower and upper bounds:        4\n",
      "                     variables with only upper bounds:        0\n",
      "Total number of equality constraints.................:        1\n",
      "Total number of inequality constraints...............:        1\n",
      "        inequality constraints with only lower bounds:        1\n",
      "   inequality constraints with lower and upper bounds:        0\n",
      "        inequality constraints with only upper bounds:        0\n",
      "\n",
      "iter    objective    inf_pr   inf_du lg(mu)  ||d||  lg(rg) alpha_du alpha_pr  ls\n",
      "   0  1.6109693e+01 1.12e+01 5.28e-01   0.0 0.00e+00    -  0.00e+00 0.00e+00   0\n",
      "Objective value at iteration #1 is - 17.2686\n",
      "   1  1.7268584e+01 7.42e-01 2.34e+01  -0.3 6.55e-01    -  3.50e-01 1.00e+00f  1\n",
      "Objective value at iteration #2 is - 17.0341\n",
      "   2  1.7034123e+01 3.13e-01 9.63e+00  -0.8 1.02e+00    -  9.77e-01 7.30e-01h  1\n",
      "Objective value at iteration #3 is - 16.9771\n",
      "   3  1.6977107e+01 1.66e-01 1.15e-01  -1.3 1.67e-01    -  1.00e+00 1.00e+00h  1\n",
      "Objective value at iteration #4 is - 17.0066\n",
      "   4  1.7006605e+01 3.81e-02 5.34e-02  -2.1 7.58e-02    -  9.67e-01 1.00e+00h  1\n",
      "Objective value at iteration #5 is - 17.0107\n",
      "Objective value at iteration #6 is - 17.014\n",
      "   5  1.7010682e+01 6.01e-03 8.04e-03  -3.5 2.42e-02    -  1.00e+00 9.97e-01h  1\n",
      "   6  1.7014032e+01 4.33e-07 5.31e-04  -5.1 6.11e-04    -  1.00e+00 1.00e+00h  1\n",
      "Objective value at iteration #7 is - 17.014\n",
      "   7  1.7014017e+01 1.11e-08 2.42e-05  -7.2 8.28e-05    -  1.00e+00 1.00e+00h  1\n",
      "Objective value at iteration #8 is - 17.014\n",
      "   8  1.7014017e+01 6.77e-10 8.75e-07 -11.0 2.05e-05    -  1.00e+00 1.00e+00h  1\n",
      "Objective value at iteration #9 is - 17.014\n",
      "   9  1.7014017e+01 7.11e-15 1.05e-10 -11.0 8.71e-08    -  1.00e+00 1.00e+00h  1\n",
      "\n",
      "Number of Iterations....: 9\n",
      "\n",
      "                                   (scaled)                 (unscaled)\n",
      "Objective...............:   1.7014017272774648e+01    1.7014017272774648e+01\n",
      "Dual infeasibility......:   1.0461548208572816e-10    1.0461548208572816e-10\n",
      "Constraint violation....:   7.1054273576010019e-15    7.1054273576010019e-15\n",
      "Variable bound violation:   9.9908077366706038e-09    9.9908077366706038e-09\n",
      "Complementarity.........:   1.0000053268305280e-11    1.0000053268305280e-11\n",
      "Overall NLP error.......:   1.0461548208572816e-10    1.0461548208572816e-10\n",
      "\n",
      "\n",
      "Number of objective function evaluations             = 10\n",
      "Number of objective gradient evaluations             = 10\n",
      "Number of equality constraint evaluations            = 10\n",
      "Number of inequality constraint evaluations          = 10\n",
      "Number of equality constraint Jacobian evaluations   = 10\n",
      "Number of inequality constraint Jacobian evaluations = 10\n",
      "Number of Lagrangian Hessian evaluations             = 0\n",
      "Total seconds in IPOPT                               = 0.007\n",
      "\n",
      "EXIT: Optimal Solution Found.\n"
     ]
    }
   ],
   "source": [
    "import cyipopt\n",
    "import jax.numpy as np\n",
    "class HS071():\n",
    "\n",
    "    def objective(self, x):\n",
    "        \"\"\"Returns the scalar value of the objective given x.\"\"\"\n",
    "#         return x[0] * x[3] * np.sum(x[0:3]) + x[2]\n",
    "        return obj_jit(x)\n",
    "\n",
    "    def gradient(self, x):\n",
    "        \"\"\"Returns the gradient of the objective with respect to x.\"\"\"\n",
    "        return obj_grad(x)\n",
    "\n",
    "    def constraints(self, x):\n",
    "        \"\"\"Returns the constraints.\"\"\"\n",
    "#         return np.array((np.prod(x), np.dot(x, x)))\n",
    "        return np.append( con_ineq_jit(x), con_eq_jit(x) )\n",
    "\n",
    "    def jacobian(self, x):\n",
    "        \"\"\"Returns the Jacobian of the constraints with respect to x.\"\"\"\n",
    "#         return np.concatenate((np.prod(x)/x, 2*x))\n",
    "        return np.append(con_ineq_jac(x), con_eq_jac(x))\n",
    "\n",
    "    def hessianstructure(self):\n",
    "        \"\"\"Returns the row and column indices for non-zero vales of the\n",
    "        Hessian.\"\"\"\n",
    "\n",
    "        # NOTE: The default hessian structure is of a lower triangular matrix,\n",
    "        # therefore this function is redundant. It is included as an example\n",
    "        # for structure callback.\n",
    "\n",
    "        return np.nonzero(np.tril(np.ones((4, 4))))\n",
    "\n",
    "#     def hessian(self, x, lagrange, obj_factor):\n",
    "#         \"\"\"Returns the non-zero values of the Hessian.\"\"\"\n",
    "\n",
    "#         H = obj_factor*np.array((\n",
    "#             (2*x[3], 0, 0, 0),\n",
    "#             (x[3],   0, 0, 0),\n",
    "#             (x[3],   0, 0, 0),\n",
    "#             (2*x[0]+x[1]+x[2], x[0], x[0], 0)))\n",
    "\n",
    "#         H += lagrange[0]*np.array((\n",
    "#             (0, 0, 0, 0),\n",
    "#             (x[2]*x[3], 0, 0, 0),\n",
    "#             (x[1]*x[3], x[0]*x[3], 0, 0),\n",
    "#             (x[1]*x[2], x[0]*x[2], x[0]*x[1], 0)))\n",
    "\n",
    "#         H += lagrange[1]*2*np.eye(4)\n",
    "\n",
    "#         row, col = self.hessianstructure()\n",
    "\n",
    "#         return H[row, col]\n",
    "\n",
    "    def intermediate(self, alg_mod, iter_count, obj_value, inf_pr, inf_du, mu,\n",
    "                     d_norm, regularization_size, alpha_du, alpha_pr,\n",
    "                     ls_trials):\n",
    "        \"\"\"Prints information at every Ipopt iteration.\"\"\"\n",
    "\n",
    "        msg = \"Objective value at iteration #{:d} is - {:g}\"\n",
    "\n",
    "        print(msg.format(iter_count, obj_value))\n",
    "lb = [1.0, 1.0, 1.0, 1.0]\n",
    "ub = [5.0, 5.0, 5.0, 5.0]\n",
    "\n",
    "cl = [0.0, 0.0]\n",
    "cu = [2.0e19, 0.0]\n",
    "x0 = [1.0, 5.0, 5.0, 1.0]\n",
    "nlp = cyipopt.Problem(\n",
    "   n=len(x0),\n",
    "   m=len(cl),\n",
    "   problem_obj=HS071(),\n",
    "   lb=lb,\n",
    "   ub=ub,\n",
    "   cl=cl,\n",
    "   cu=cu,\n",
    ")\n",
    "nlp.add_option('mu_strategy', 'adaptive')\n",
    "nlp.add_option('tol', 1e-7)\n",
    "x, info = nlp.solve(x0)"
   ]
  },
  {
   "cell_type": "code",
   "execution_count": 99,
   "id": "e7ab30f3",
   "metadata": {},
   "outputs": [
    {
     "name": "stdout",
     "output_type": "stream",
     "text": [
      "solution: [0.99999999 4.74299964 3.82114998 1.37940831]\n"
     ]
    },
    {
     "data": {
      "text/plain": [
       "Array(7.10542736e-15, dtype=float64)"
      ]
     },
     "execution_count": 99,
     "metadata": {},
     "output_type": "execute_result"
    }
   ],
   "source": [
    "print(f\"solution: {x}\")\n",
    "obj_jit(x)\n",
    "con_eq_jit(x)"
   ]
  },
  {
   "cell_type": "code",
   "execution_count": 100,
   "id": "4c905650",
   "metadata": {},
   "outputs": [
    {
     "name": "stdout",
     "output_type": "stream",
     "text": [
      "Objective value at iteration #0 is - 16.1097\n",
      "Objective value at iteration #1 is - 17.4104\n",
      "This is Ipopt version 3.14.11, running with linear solver ma27.\n",
      "\n",
      "Number of nonzeros in equality constraint Jacobian...:        4\n",
      "Number of nonzeros in inequality constraint Jacobian.:        4\n",
      "Number of nonzeros in Lagrangian Hessian.............:       10\n",
      "\n",
      "Total number of variables............................:        4\n",
      "                     variables with only lower bounds:        0\n",
      "                variables with lower and upper bounds:        4\n",
      "                     variables with only upper bounds:        0\n",
      "Total number of equality constraints.................:        1\n",
      "Total number of inequality constraints...............:        1\n",
      "        inequality constraints with only lower bounds:        1\n",
      "   inequality constraints with lower and upper bounds:        0\n",
      "        inequality constraints with only upper bounds:        0\n",
      "\n",
      "iter    objective    inf_pr   inf_du lg(mu)  ||d||  lg(rg) alpha_du alpha_pr  ls\n",
      "   0  1.6109693e+01 1.12e+01 5.28e-01   0.0 0.00e+00    -  0.00e+00 0.00e+00   0\n",
      "Objective value at iteration #2 is - 18.0016\n",
      "Objective value at iteration #3 is - 17.1995\n",
      "   1  1.7410406e+01 7.49e-01 2.25e+01  -0.3 7.97e-01    -  3.19e-01 1.00e+00f  1\n",
      "   2  1.8001613e+01 7.52e-03 4.96e+00  -0.3 5.60e-02   2.0 9.97e-01 1.00e+00h  1\n",
      "   3  1.7199482e+01 4.00e-02 4.24e-01  -1.0 9.91e-01    -  9.98e-01 1.00e+00f  1\n",
      "Objective value at iteration #4 is - 16.941\n",
      "   4  1.6940955e+01 1.59e-01 4.58e-02  -1.4 2.88e-01    -  9.66e-01 1.00e+00h  1\n",
      "Objective value at iteration #5 is - 17.0034\n",
      "   5  1.7003411e+01 2.16e-02 8.42e-03  -2.9 7.03e-02    -  9.68e-01 1.00e+00h  1\n",
      "Objective value at iteration #6 is - 17.014\n",
      "   6  1.7013974e+01 2.03e-04 8.65e-05  -4.5 6.22e-03    -  1.00e+00 1.00e+00h  1\n",
      "Objective value at iteration #7 is - 17.014\n",
      "   7  1.7014017e+01 2.76e-07 2.18e-07 -10.3 1.43e-04    -  9.99e-01 1.00e+00h  1\n",
      "Objective value at iteration #8 is - 17.014\n",
      "   8  1.7014017e+01 2.84e-14 2.29e-14 -11.0 1.04e-07    -  1.00e+00 1.00e+00h  1\n",
      "\n",
      "Number of Iterations....: 8\n",
      "\n",
      "                                   (scaled)                 (unscaled)\n",
      "Objective...............:   1.7014017140224134e+01    1.7014017140224134e+01\n",
      "Dual infeasibility......:   2.2928101314633036e-14    2.2928101314633036e-14\n",
      "Constraint violation....:   2.8421709430404007e-14    2.8421709430404007e-14\n",
      "Variable bound violation:   9.9907857542547163e-09    9.9907857542547163e-09\n",
      "Complementarity.........:   1.0023967333275279e-11    1.0023967333275279e-11\n",
      "Overall NLP error.......:   1.0023967333275279e-11    1.0023967333275279e-11\n",
      "\n",
      "\n",
      "Number of objective function evaluations             = 9\n",
      "Number of objective gradient evaluations             = 9\n",
      "Number of equality constraint evaluations            = 9\n",
      "Number of inequality constraint evaluations          = 9\n",
      "Number of equality constraint Jacobian evaluations   = 9\n",
      "Number of inequality constraint Jacobian evaluations = 9\n",
      "Number of Lagrangian Hessian evaluations             = 8\n",
      "Total seconds in IPOPT                               = 0.005\n",
      "\n",
      "EXIT: Optimal Solution Found.\n"
     ]
    }
   ],
   "source": [
    "import cyipopt\n",
    "import numpy as np\n",
    "class HS071_full():\n",
    "\n",
    "    def objective(self, x):\n",
    "        \"\"\"Returns the scalar value of the objective given x.\"\"\"\n",
    "#         return x[0] * x[3] * np.sum(x[0:3]) + x[2]\n",
    "        return obj_jit(x)\n",
    "\n",
    "    def gradient(self, x):\n",
    "        \"\"\"Returns the gradient of the objective with respect to x.\"\"\"\n",
    "        return np.array([\n",
    "            x[0]*x[3] + x[3]*np.sum(x[0:3]),\n",
    "            x[0]*x[3],\n",
    "            x[0]*x[3] + 1.0,\n",
    "            x[0]*np.sum(x[0:3])\n",
    "        ])\n",
    "\n",
    "    def constraints(self, x):\n",
    "        \"\"\"Returns the constraints.\"\"\"\n",
    "        return np.array((np.prod(x), np.dot(x, x)))\n",
    "\n",
    "    def jacobian(self, x):\n",
    "        \"\"\"Returns the Jacobian of the constraints with respect to x.\"\"\"\n",
    "        return np.concatenate((np.prod(x)/x, 2*x))\n",
    "\n",
    "    def hessianstructure(self):\n",
    "        \"\"\"Returns the row and column indices for non-zero vales of the\n",
    "        Hessian.\"\"\"\n",
    "\n",
    "        # NOTE: The default hessian structure is of a lower triangular matrix,\n",
    "        # therefore this function is redundant. It is included as an example\n",
    "        # for structure callback.\n",
    "\n",
    "        return np.nonzero(np.tril(np.ones((4, 4))))\n",
    "\n",
    "    def hessian(self, x, lagrange, obj_factor):\n",
    "        \"\"\"Returns the non-zero values of the Hessian.\"\"\"\n",
    "\n",
    "        H = obj_factor*np.array((\n",
    "            (2*x[3], 0, 0, 0),\n",
    "            (x[3],   0, 0, 0),\n",
    "            (x[3],   0, 0, 0),\n",
    "            (2*x[0]+x[1]+x[2], x[0], x[0], 0)))\n",
    "\n",
    "        H += lagrange[0]*np.array((\n",
    "            (0, 0, 0, 0),\n",
    "            (x[2]*x[3], 0, 0, 0),\n",
    "            (x[1]*x[3], x[0]*x[3], 0, 0),\n",
    "            (x[1]*x[2], x[0]*x[2], x[0]*x[1], 0)))\n",
    "\n",
    "        H += lagrange[1]*2*np.eye(4)\n",
    "\n",
    "        row, col = self.hessianstructure()\n",
    "\n",
    "        return H[row, col]\n",
    "\n",
    "    def intermediate(self, alg_mod, iter_count, obj_value, inf_pr, inf_du, mu,\n",
    "                     d_norm, regularization_size, alpha_du, alpha_pr,\n",
    "                     ls_trials):\n",
    "        \"\"\"Prints information at every Ipopt iteration.\"\"\"\n",
    "\n",
    "        msg = \"Objective value at iteration #{:d} is - {:g}\"\n",
    "\n",
    "        print(msg.format(iter_count, obj_value))\n",
    "lb = [1.0, 1.0, 1.0, 1.0]\n",
    "ub = [5.0, 5.0, 5.0, 5.0]\n",
    "\n",
    "cl = [25.0, 40.0]\n",
    "cu = [2.0e19, 40.0]\n",
    "x0 = [1.0, 5.0, 5.0, 1.0]\n",
    "nlp = cyipopt.Problem(\n",
    "   n=len(x0),\n",
    "   m=len(cl),\n",
    "   problem_obj=HS071_full(),\n",
    "   lb=lb,\n",
    "   ub=ub,\n",
    "   cl=cl,\n",
    "   cu=cu,\n",
    ")\n",
    "nlp.add_option('mu_strategy', 'adaptive')\n",
    "nlp.add_option('tol', 1e-7)\n",
    "x_full, info = nlp.solve(x0)"
   ]
  },
  {
   "cell_type": "code",
   "execution_count": 101,
   "id": "63701a44",
   "metadata": {},
   "outputs": [
    {
     "name": "stdout",
     "output_type": "stream",
     "text": [
      "solution: [0.99999999 4.74299964 3.82114998 1.37940829]\n"
     ]
    },
    {
     "data": {
      "text/plain": [
       "Array(-2.49981998e-07, dtype=float64)"
      ]
     },
     "execution_count": 101,
     "metadata": {},
     "output_type": "execute_result"
    }
   ],
   "source": [
    "print(f\"solution: {x_full}\")\n",
    "obj_jit(x_full)\n",
    "con_ineq_jit(x_full)"
   ]
  },
  {
   "cell_type": "code",
   "execution_count": 80,
   "id": "14fe7cdc",
   "metadata": {},
   "outputs": [
    {
     "data": {
      "text/plain": [
       "Array(16., dtype=float64)"
      ]
     },
     "execution_count": 80,
     "metadata": {},
     "output_type": "execute_result"
    }
   ],
   "source": [
    "obj_jit(np.asarray(x0))"
   ]
  },
  {
   "cell_type": "code",
   "execution_count": 1,
   "id": "edbccda6",
   "metadata": {},
   "outputs": [],
   "source": [
    "import jax\n",
    "import jax.numpy as jnp\n",
    "from jax import grad, jit, jacrev"
   ]
  },
  {
   "cell_type": "code",
   "execution_count": 2,
   "id": "88791788",
   "metadata": {},
   "outputs": [
    {
     "name": "stderr",
     "output_type": "stream",
     "text": [
      "No GPU/TPU found, falling back to CPU. (Set TF_CPP_MIN_LOG_LEVEL=0 and rerun for more info.)\n"
     ]
    }
   ],
   "source": [
    "goal = jnp.array([3.0,3.0])\n",
    "def func(x):\n",
    "    sum = 0\n",
    "    for i in range(2):\n",
    "        sum += jnp.sum( jnp.square(x-goal) )\n",
    "    return sum\n",
    "func_grad = grad(func, 0)\n",
    "\n",
    "def func2(x):\n",
    "    return x-goal\n",
    "func2_grad = jacrev(func2, 0)"
   ]
  },
  {
   "cell_type": "code",
   "execution_count": 3,
   "id": "a4799b33",
   "metadata": {},
   "outputs": [
    {
     "data": {
      "text/plain": [
       "Array(16., dtype=float32)"
      ]
     },
     "execution_count": 3,
     "metadata": {},
     "output_type": "execute_result"
    }
   ],
   "source": [
    "x = jnp.array([1.0, 1.0])\n",
    "func(x)"
   ]
  },
  {
   "cell_type": "code",
   "execution_count": 4,
   "id": "6908946e",
   "metadata": {},
   "outputs": [
    {
     "data": {
      "text/plain": [
       "Array([-8., -8.], dtype=float32)"
      ]
     },
     "execution_count": 4,
     "metadata": {},
     "output_type": "execute_result"
    }
   ],
   "source": [
    "func_grad(x)"
   ]
  },
  {
   "cell_type": "code",
   "execution_count": 5,
   "id": "46cd69fa",
   "metadata": {},
   "outputs": [
    {
     "data": {
      "text/plain": [
       "Array([-2., -2.], dtype=float32)"
      ]
     },
     "execution_count": 5,
     "metadata": {},
     "output_type": "execute_result"
    }
   ],
   "source": [
    "func2(x)"
   ]
  },
  {
   "cell_type": "code",
   "execution_count": 6,
   "id": "14300cb9",
   "metadata": {},
   "outputs": [
    {
     "data": {
      "text/plain": [
       "Array([[1., 0.],\n",
       "       [0., 1.]], dtype=float32)"
      ]
     },
     "execution_count": 6,
     "metadata": {},
     "output_type": "execute_result"
    }
   ],
   "source": [
    "func2_grad(x)"
   ]
  },
  {
   "cell_type": "code",
   "execution_count": 17,
   "id": "47e68865",
   "metadata": {},
   "outputs": [],
   "source": [
    "a = jnp.array([[1,3],[2,4]])"
   ]
  },
  {
   "cell_type": "code",
   "execution_count": 18,
   "id": "1a3e0c40",
   "metadata": {},
   "outputs": [
    {
     "data": {
      "text/plain": [
       "Array([[1, 3],\n",
       "       [2, 4]], dtype=int32)"
      ]
     },
     "execution_count": 18,
     "metadata": {},
     "output_type": "execute_result"
    }
   ],
   "source": [
    "a"
   ]
  },
  {
   "cell_type": "code",
   "execution_count": 21,
   "id": "8090327c",
   "metadata": {},
   "outputs": [],
   "source": [
    "b = a.T.reshape(-1,1)"
   ]
  },
  {
   "cell_type": "code",
   "execution_count": 22,
   "id": "0d54178b",
   "metadata": {},
   "outputs": [
    {
     "data": {
      "text/plain": [
       "Array([[1],\n",
       "       [2],\n",
       "       [3],\n",
       "       [4]], dtype=int32)"
      ]
     },
     "execution_count": 22,
     "metadata": {},
     "output_type": "execute_result"
    }
   ],
   "source": [
    "b"
   ]
  },
  {
   "cell_type": "code",
   "execution_count": 14,
   "id": "b5c256d0",
   "metadata": {},
   "outputs": [
    {
     "data": {
      "text/plain": [
       "Array([[1, 3],\n",
       "       [2, 4]], dtype=int32)"
      ]
     },
     "execution_count": 14,
     "metadata": {},
     "output_type": "execute_result"
    }
   ],
   "source": [
    "b.reshape(2,2)"
   ]
  },
  {
   "cell_type": "code",
   "execution_count": 24,
   "id": "c5fe83cf",
   "metadata": {},
   "outputs": [],
   "source": [
    "c = jnp.array([1,2,3,4])"
   ]
  },
  {
   "cell_type": "code",
   "execution_count": 28,
   "id": "313594c9",
   "metadata": {},
   "outputs": [
    {
     "data": {
      "text/plain": [
       "Array([[1, 3],\n",
       "       [2, 4]], dtype=int32)"
      ]
     },
     "execution_count": 28,
     "metadata": {},
     "output_type": "execute_result"
    }
   ],
   "source": [
    "c.reshape(2,2, order='F')"
   ]
  },
  {
   "cell_type": "code",
   "execution_count": null,
   "id": "ead82aee",
   "metadata": {},
   "outputs": [],
   "source": []
  }
 ],
 "metadata": {
  "kernelspec": {
   "display_name": "Python 3 (ipykernel)",
   "language": "python",
   "name": "python3"
  },
  "language_info": {
   "codemirror_mode": {
    "name": "ipython",
    "version": 3
   },
   "file_extension": ".py",
   "mimetype": "text/x-python",
   "name": "python",
   "nbconvert_exporter": "python",
   "pygments_lexer": "ipython3",
   "version": "3.10.6"
  }
 },
 "nbformat": 4,
 "nbformat_minor": 5
}
