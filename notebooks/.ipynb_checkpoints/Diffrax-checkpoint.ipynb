{
 "cells": [
  {
   "cell_type": "code",
   "execution_count": 28,
   "id": "3b3a3b34",
   "metadata": {},
   "outputs": [],
   "source": [
    "from diffrax import diffeqsolve, ODETerm, Dopri5, SaveAt\n",
    "import jax.numpy as jnp\n",
    "import jax\n",
    "from jax import jit"
   ]
  },
  {
   "cell_type": "code",
   "execution_count": 2,
   "id": "7c914835",
   "metadata": {},
   "outputs": [],
   "source": [
    "def f(t, y, args):\n",
    "    return -y"
   ]
  },
  {
   "cell_type": "code",
   "execution_count": 35,
   "id": "bdbe24a7",
   "metadata": {},
   "outputs": [],
   "source": [
    "term = ODETerm(f)\n",
    "solver = Dopri5()\n",
    "# saveat = SaveAt(ts=[0., 1., 2., 3.])\n",
    "saveat = SaveAt(ts=jnp.linspace(0,5,5))"
   ]
  },
  {
   "cell_type": "code",
   "execution_count": 36,
   "id": "ed07f384",
   "metadata": {},
   "outputs": [],
   "source": [
    "y0 = jnp.array([2.0, 3.0])\n",
    "solution = diffeqsolve(term, solver, t0=0, t1=31, dt0=0.1, y0=y0, saveat=saveat)"
   ]
  },
  {
   "cell_type": "code",
   "execution_count": 37,
   "id": "914ab08e",
   "metadata": {},
   "outputs": [
    {
     "data": {
      "text/plain": [
       "Array([[2.        ],\n",
       "       [0.57300955],\n",
       "       [0.16417   ],\n",
       "       [0.04703548],\n",
       "       [0.0134759 ]], dtype=float32, weak_type=True)"
      ]
     },
     "execution_count": 37,
     "metadata": {},
     "output_type": "execute_result"
    }
   ],
   "source": [
    "solution.ys"
   ]
  },
  {
   "cell_type": "code",
   "execution_count": 8,
   "id": "7cdebcdc",
   "metadata": {},
   "outputs": [],
   "source": [
    "y0 = jnp.array([3.0])\n",
    "solution2 = diffeqsolve(term, solver, t0=0, t1=3.7, dt0=0.1, y0=y0)"
   ]
  },
  {
   "cell_type": "code",
   "execution_count": 20,
   "id": "53e94e53",
   "metadata": {},
   "outputs": [
    {
     "name": "stdout",
     "output_type": "stream",
     "text": [
      "64 µs ± 382 ns per loop (mean ± std. dev. of 7 runs, 10,000 loops each)\n"
     ]
    }
   ],
   "source": [
    "%timeit diffeqsolve(term, solver, t0=0, t1=3.7, dt0=0.1, y0=y0)"
   ]
  },
  {
   "cell_type": "code",
   "execution_count": 9,
   "id": "225288cf",
   "metadata": {},
   "outputs": [
    {
     "data": {
      "text/plain": [
       "Array([[0.07417057]], dtype=float32, weak_type=True)"
      ]
     },
     "execution_count": 9,
     "metadata": {},
     "output_type": "execute_result"
    }
   ],
   "source": [
    "solution2.ys"
   ]
  },
  {
   "cell_type": "code",
   "execution_count": 56,
   "id": "284f1aa2",
   "metadata": {},
   "outputs": [],
   "source": [
    "# @jit\n",
    "def solve(t0, t1, dt0, y0, saveat):\n",
    "    solution = diffeqsolve(term, solver, t0=t0, t1=t1, dt0=dt0, y0=y0, saveat = SaveAt(ts=saveat))\n",
    "    return solution.ys"
   ]
  },
  {
   "cell_type": "code",
   "execution_count": 57,
   "id": "b1d3d014",
   "metadata": {},
   "outputs": [
    {
     "name": "stdout",
     "output_type": "stream",
     "text": [
      "131 µs ± 286 ns per loop (mean ± std. dev. of 7 runs, 10,000 loops each)\n"
     ]
    }
   ],
   "source": [
    "%timeit solve(t0=0, t1=6.0, dt0=0.1, y0=y0, saveat=jnp.linspace(0,5,6))"
   ]
  },
  {
   "cell_type": "markdown",
   "id": "ad018500",
   "metadata": {},
   "source": [
    "## Diffrax FF-CBF"
   ]
  },
  {
   "cell_type": "code",
   "execution_count": 59,
   "id": "60877703",
   "metadata": {},
   "outputs": [
    {
     "data": {
      "text/plain": [
       "Array([0. , 0.5, 1. , 1.5, 2. ], dtype=float32)"
      ]
     },
     "execution_count": 59,
     "metadata": {},
     "output_type": "execute_result"
    }
   ],
   "source": [
    "jnp.linspace(0, 2.0, int(2.0/0.5)+1)"
   ]
  },
  {
   "cell_type": "code",
   "execution_count": null,
   "id": "12352d51",
   "metadata": {},
   "outputs": [],
   "source": []
  }
 ],
 "metadata": {
  "kernelspec": {
   "display_name": "Python 3 (ipykernel)",
   "language": "python",
   "name": "python3"
  },
  "language_info": {
   "codemirror_mode": {
    "name": "ipython",
    "version": 3
   },
   "file_extension": ".py",
   "mimetype": "text/x-python",
   "name": "python",
   "nbconvert_exporter": "python",
   "pygments_lexer": "ipython3",
   "version": "3.10.6"
  }
 },
 "nbformat": 4,
 "nbformat_minor": 5
}
