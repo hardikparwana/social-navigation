{
 "cells": [
  {
   "cell_type": "code",
   "execution_count": 1,
   "id": "260a6ace",
   "metadata": {},
   "outputs": [],
   "source": [
    "import numpy as np\n",
    "import jax.numpy as jnp"
   ]
  },
  {
   "cell_type": "code",
   "execution_count": 14,
   "id": "e1b662e3",
   "metadata": {},
   "outputs": [],
   "source": [
    "a = jnp.array([  [-1, -2], [3, 4], [6, 7] ])"
   ]
  },
  {
   "cell_type": "code",
   "execution_count": 15,
   "id": "2e54f75b",
   "metadata": {},
   "outputs": [
    {
     "data": {
      "text/plain": [
       "Array([[-0.5, -0.7],\n",
       "       [ 0.5,  0.7],\n",
       "       [ 0.5,  0.7]], dtype=float32)"
      ]
     },
     "execution_count": 15,
     "metadata": {},
     "output_type": "execute_result"
    }
   ],
   "source": [
    "jnp.clip(a, jnp.array([-0.5, -0.7]), jnp.array([0.5, 0.7]))"
   ]
  },
  {
   "cell_type": "code",
   "execution_count": 16,
   "id": "e60cf10b",
   "metadata": {},
   "outputs": [
    {
     "data": {
      "text/plain": [
       "Array([[-1, -2],\n",
       "       [ 3,  4],\n",
       "       [ 6,  7],\n",
       "       [-1, -2],\n",
       "       [ 3,  4],\n",
       "       [ 6,  7],\n",
       "       [-1, -2],\n",
       "       [ 3,  4],\n",
       "       [ 6,  7]], dtype=int32)"
      ]
     },
     "execution_count": 16,
     "metadata": {},
     "output_type": "execute_result"
    }
   ],
   "source": [
    "jnp.tile(a, (3,1))"
   ]
  },
  {
   "cell_type": "code",
   "execution_count": 17,
   "id": "81446210",
   "metadata": {},
   "outputs": [
    {
     "data": {
      "text/plain": [
       "Array([[-1],\n",
       "       [ 3],\n",
       "       [ 6]], dtype=int32)"
      ]
     },
     "execution_count": 17,
     "metadata": {},
     "output_type": "execute_result"
    }
   ],
   "source": [
    "a[:,[0]]"
   ]
  },
  {
   "cell_type": "code",
   "execution_count": 18,
   "id": "ac4f2d66",
   "metadata": {},
   "outputs": [
    {
     "data": {
      "text/plain": [
       "Array([[-1],\n",
       "       [-2],\n",
       "       [ 3],\n",
       "       [ 4],\n",
       "       [ 6],\n",
       "       [ 7],\n",
       "       [-1],\n",
       "       [-2],\n",
       "       [ 3],\n",
       "       [ 4],\n",
       "       [ 6],\n",
       "       [ 7]], dtype=int32)"
      ]
     },
     "execution_count": 18,
     "metadata": {},
     "output_type": "execute_result"
    }
   ],
   "source": [
    "jnp.tile(a.reshape(-1,1), (2,1) )"
   ]
  },
  {
   "cell_type": "code",
   "execution_count": 19,
   "id": "192710eb",
   "metadata": {},
   "outputs": [
    {
     "data": {
      "text/plain": [
       "Array([[-2],\n",
       "       [ 4],\n",
       "       [ 7]], dtype=int32)"
      ]
     },
     "execution_count": 19,
     "metadata": {},
     "output_type": "execute_result"
    }
   ],
   "source": [
    "a[:,[-1]]"
   ]
  },
  {
   "cell_type": "code",
   "execution_count": 20,
   "id": "3b9ad515",
   "metadata": {},
   "outputs": [
    {
     "data": {
      "text/plain": [
       "Array([[-1, -2],\n",
       "       [ 3,  4],\n",
       "       [ 6,  7]], dtype=int32)"
      ]
     },
     "execution_count": 20,
     "metadata": {},
     "output_type": "execute_result"
    }
   ],
   "source": [
    "a"
   ]
  },
  {
   "cell_type": "code",
   "execution_count": 21,
   "id": "764c36e1",
   "metadata": {},
   "outputs": [],
   "source": [
    "b = a.reshape(-1,1)"
   ]
  },
  {
   "cell_type": "code",
   "execution_count": 22,
   "id": "4c2032d4",
   "metadata": {},
   "outputs": [
    {
     "data": {
      "text/plain": [
       "Array([[-1],\n",
       "       [-2],\n",
       "       [ 3],\n",
       "       [ 4],\n",
       "       [ 6],\n",
       "       [ 7]], dtype=int32)"
      ]
     },
     "execution_count": 22,
     "metadata": {},
     "output_type": "execute_result"
    }
   ],
   "source": [
    "b"
   ]
  },
  {
   "cell_type": "code",
   "execution_count": 23,
   "id": "957dc5c2",
   "metadata": {},
   "outputs": [],
   "source": [
    "c = b.reshape((2,3), order='F')"
   ]
  },
  {
   "cell_type": "code",
   "execution_count": 24,
   "id": "ee60c9a1",
   "metadata": {},
   "outputs": [
    {
     "data": {
      "text/plain": [
       "Array([[-1,  3,  6],\n",
       "       [-2,  4,  7]], dtype=int32)"
      ]
     },
     "execution_count": 24,
     "metadata": {},
     "output_type": "execute_result"
    }
   ],
   "source": [
    "c"
   ]
  },
  {
   "cell_type": "code",
   "execution_count": 25,
   "id": "a1773b18",
   "metadata": {},
   "outputs": [
    {
     "data": {
      "text/plain": [
       "Array([[-1],\n",
       "       [ 3],\n",
       "       [ 6],\n",
       "       [-2],\n",
       "       [ 4],\n",
       "       [ 7]], dtype=int32)"
      ]
     },
     "execution_count": 25,
     "metadata": {},
     "output_type": "execute_result"
    }
   ],
   "source": [
    "c.reshape(-1,1)"
   ]
  },
  {
   "cell_type": "code",
   "execution_count": 26,
   "id": "4b251289",
   "metadata": {},
   "outputs": [],
   "source": [
    "xx = jnp.array([1,2,3,4])"
   ]
  },
  {
   "cell_type": "code",
   "execution_count": 27,
   "id": "2df6e242",
   "metadata": {},
   "outputs": [
    {
     "data": {
      "text/plain": [
       "Array([[1, 3],\n",
       "       [2, 4]], dtype=int32)"
      ]
     },
     "execution_count": 27,
     "metadata": {},
     "output_type": "execute_result"
    }
   ],
   "source": [
    "xx.reshape((2,2), order='F')"
   ]
  },
  {
   "cell_type": "code",
   "execution_count": 28,
   "id": "16ffe6c8",
   "metadata": {},
   "outputs": [],
   "source": [
    "yy = xx.reshape((2,2), order='F')"
   ]
  },
  {
   "cell_type": "code",
   "execution_count": 29,
   "id": "57e3f5ba",
   "metadata": {},
   "outputs": [
    {
     "data": {
      "text/plain": [
       "Array([[1, 3],\n",
       "       [2, 4]], dtype=int32)"
      ]
     },
     "execution_count": 29,
     "metadata": {},
     "output_type": "execute_result"
    }
   ],
   "source": [
    "yy"
   ]
  },
  {
   "cell_type": "code",
   "execution_count": 30,
   "id": "6107d170",
   "metadata": {},
   "outputs": [
    {
     "data": {
      "text/plain": [
       "Array([[1],\n",
       "       [2],\n",
       "       [3],\n",
       "       [4]], dtype=int32)"
      ]
     },
     "execution_count": 30,
     "metadata": {},
     "output_type": "execute_result"
    }
   ],
   "source": [
    "yy.reshape(-1,1, order='F')"
   ]
  },
  {
   "cell_type": "code",
   "execution_count": 31,
   "id": "da02227a",
   "metadata": {},
   "outputs": [
    {
     "data": {
      "text/plain": [
       "Array([[1],\n",
       "       [2],\n",
       "       [3],\n",
       "       [4]], dtype=int32)"
      ]
     },
     "execution_count": 31,
     "metadata": {},
     "output_type": "execute_result"
    }
   ],
   "source": [
    "yy.T.reshape(-1,1)"
   ]
  },
  {
   "cell_type": "code",
   "execution_count": 32,
   "id": "8a9114bf",
   "metadata": {},
   "outputs": [
    {
     "data": {
      "text/plain": [
       "Array([[1, 3],\n",
       "       [2, 4]], dtype=int32)"
      ]
     },
     "execution_count": 32,
     "metadata": {},
     "output_type": "execute_result"
    }
   ],
   "source": [
    "xx.reshape((2,2), order='F')"
   ]
  },
  {
   "cell_type": "code",
   "execution_count": 33,
   "id": "6093fbcd",
   "metadata": {},
   "outputs": [
    {
     "data": {
      "text/plain": [
       "Array([1, 2, 3, 4], dtype=int32)"
      ]
     },
     "execution_count": 33,
     "metadata": {},
     "output_type": "execute_result"
    }
   ],
   "source": [
    "xx"
   ]
  },
  {
   "cell_type": "code",
   "execution_count": 34,
   "id": "08adffe6",
   "metadata": {},
   "outputs": [],
   "source": [
    "zz = xx.reshape((2,2), order='F')"
   ]
  },
  {
   "cell_type": "code",
   "execution_count": 35,
   "id": "044e8b67",
   "metadata": {},
   "outputs": [
    {
     "data": {
      "text/plain": [
       "Array([[1, 3],\n",
       "       [2, 4]], dtype=int32)"
      ]
     },
     "execution_count": 35,
     "metadata": {},
     "output_type": "execute_result"
    }
   ],
   "source": [
    "zz"
   ]
  },
  {
   "cell_type": "code",
   "execution_count": 36,
   "id": "c5ac1c78",
   "metadata": {},
   "outputs": [
    {
     "data": {
      "text/plain": [
       "Array([[1],\n",
       "       [2],\n",
       "       [3],\n",
       "       [4]], dtype=int32)"
      ]
     },
     "execution_count": 36,
     "metadata": {},
     "output_type": "execute_result"
    }
   ],
   "source": [
    "zz.T.reshape(-1,1)"
   ]
  },
  {
   "cell_type": "code",
   "execution_count": 37,
   "id": "3ce739ec",
   "metadata": {},
   "outputs": [
    {
     "data": {
      "text/plain": [
       "Array([[1, 2],\n",
       "       [3, 4]], dtype=int32)"
      ]
     },
     "execution_count": 37,
     "metadata": {},
     "output_type": "execute_result"
    }
   ],
   "source": [
    "zz.reshape(-1,1).T.reshape((2,2), order='F')"
   ]
  },
  {
   "cell_type": "code",
   "execution_count": 38,
   "id": "c5aeb254",
   "metadata": {},
   "outputs": [
    {
     "data": {
      "text/plain": [
       "Array([[[0., 0.],\n",
       "        [0., 0.]],\n",
       "\n",
       "       [[0., 0.],\n",
       "        [0., 0.]]], dtype=float32)"
      ]
     },
     "execution_count": 38,
     "metadata": {},
     "output_type": "execute_result"
    }
   ],
   "source": [
    "jnp.zeros((2,2,2))"
   ]
  },
  {
   "cell_type": "code",
   "execution_count": 41,
   "id": "d2cf465b",
   "metadata": {},
   "outputs": [],
   "source": [
    "a3 = np.zeros((2,2,2))"
   ]
  },
  {
   "cell_type": "code",
   "execution_count": 42,
   "id": "ffeee276",
   "metadata": {},
   "outputs": [],
   "source": [
    "a3[:,:,0] = np.array([[1,2], [3,4]])"
   ]
  },
  {
   "cell_type": "code",
   "execution_count": 43,
   "id": "8a94ebf1",
   "metadata": {},
   "outputs": [],
   "source": [
    "a3[:,:,1] = np.array([[5,6], [7,8]])"
   ]
  },
  {
   "cell_type": "code",
   "execution_count": 46,
   "id": "c5fe5f40",
   "metadata": {},
   "outputs": [
    {
     "data": {
      "text/plain": [
       "array([[1., 5.],\n",
       "       [2., 6.],\n",
       "       [3., 7.],\n",
       "       [4., 8.]])"
      ]
     },
     "execution_count": 46,
     "metadata": {},
     "output_type": "execute_result"
    }
   ],
   "source": [
    "a3.reshape((4,2), order='C')"
   ]
  },
  {
   "cell_type": "code",
   "execution_count": 47,
   "id": "0b35d153",
   "metadata": {},
   "outputs": [
    {
     "data": {
      "text/plain": [
       "array([[1., 2.],\n",
       "       [3., 4.]])"
      ]
     },
     "execution_count": 47,
     "metadata": {},
     "output_type": "execute_result"
    }
   ],
   "source": [
    "a3[:,:,0]"
   ]
  },
  {
   "cell_type": "code",
   "execution_count": 52,
   "id": "0fd0fd2a",
   "metadata": {},
   "outputs": [
    {
     "data": {
      "text/plain": [
       "array([[1., 3.],\n",
       "       [2., 4.],\n",
       "       [5., 7.],\n",
       "       [6., 8.]])"
      ]
     },
     "execution_count": 52,
     "metadata": {},
     "output_type": "execute_result"
    }
   ],
   "source": [
    "a3.T.reshape((4,2))"
   ]
  },
  {
   "cell_type": "code",
   "execution_count": 53,
   "id": "46761da6",
   "metadata": {},
   "outputs": [],
   "source": [
    "array_3d = np.array([[[1, 2, 3], [4, 5, 6]], [[7, 8, 9], [10, 11, 12]]])"
   ]
  },
  {
   "cell_type": "code",
   "execution_count": 55,
   "id": "2079bdef",
   "metadata": {},
   "outputs": [
    {
     "data": {
      "text/plain": [
       "array([[1, 2, 3],\n",
       "       [4, 5, 6]])"
      ]
     },
     "execution_count": 55,
     "metadata": {},
     "output_type": "execute_result"
    }
   ],
   "source": [
    "array_3d[0,:,:]"
   ]
  },
  {
   "cell_type": "code",
   "execution_count": 56,
   "id": "16d9c079",
   "metadata": {},
   "outputs": [
    {
     "data": {
      "text/plain": [
       "array([[ 1,  2,  3],\n",
       "       [ 4,  5,  6],\n",
       "       [ 7,  8,  9],\n",
       "       [10, 11, 12]])"
      ]
     },
     "execution_count": 56,
     "metadata": {},
     "output_type": "execute_result"
    }
   ],
   "source": [
    "array_3d.reshape((4,3))"
   ]
  },
  {
   "cell_type": "code",
   "execution_count": 60,
   "id": "a2fcedb8",
   "metadata": {},
   "outputs": [
    {
     "data": {
      "text/plain": [
       "array([[[1., 5.],\n",
       "        [2., 6.]],\n",
       "\n",
       "       [[3., 7.],\n",
       "        [4., 8.]]])"
      ]
     },
     "execution_count": 60,
     "metadata": {},
     "output_type": "execute_result"
    }
   ],
   "source": [
    "a3"
   ]
  },
  {
   "cell_type": "code",
   "execution_count": 58,
   "id": "ef4a2ada",
   "metadata": {},
   "outputs": [
    {
     "data": {
      "text/plain": [
       "array([[[1., 3.],\n",
       "        [2., 4.]],\n",
       "\n",
       "       [[5., 7.],\n",
       "        [6., 8.]]])"
      ]
     },
     "execution_count": 58,
     "metadata": {},
     "output_type": "execute_result"
    }
   ],
   "source": [
    "a3.T"
   ]
  },
  {
   "cell_type": "code",
   "execution_count": 2,
   "id": "d347d073",
   "metadata": {},
   "outputs": [],
   "source": [
    "import multiprocessing"
   ]
  },
  {
   "cell_type": "code",
   "execution_count": 3,
   "id": "402bbd7d",
   "metadata": {},
   "outputs": [
    {
     "data": {
      "text/plain": [
       "20"
      ]
     },
     "execution_count": 3,
     "metadata": {},
     "output_type": "execute_result"
    }
   ],
   "source": [
    "multiprocessing.cpu_count()"
   ]
  },
  {
   "cell_type": "code",
   "execution_count": 16,
   "id": "092b138b",
   "metadata": {},
   "outputs": [],
   "source": [
    "import jax\n",
    "import jax.numpy as jnp\n",
    "def func(x,y):\n",
    "#     print(x)\n",
    "    return x + 3\n",
    "xs = jnp.array([[3,4,5,6], [7,8,9,10]])\n",
    "batched_pmap_func = jax.pmap(func, in_axes=0)\n",
    "batched_vmap_func = jax.vmap(func, in_axes=0)\n",
    "\n",
    "# axes = 0 : 4 at a time\n",
    "# axes = 1 : 2 at a time"
   ]
  },
  {
   "cell_type": "code",
   "execution_count": 19,
   "id": "9aeb865e",
   "metadata": {},
   "outputs": [
    {
     "data": {
      "text/plain": [
       "Array([[ 6,  7,  8,  9],\n",
       "       [10, 11, 12, 13]], dtype=int32)"
      ]
     },
     "execution_count": 19,
     "metadata": {},
     "output_type": "execute_result"
    }
   ],
   "source": [
    "batched_pmap_func(xs,xs)"
   ]
  },
  {
   "cell_type": "code",
   "execution_count": 12,
   "id": "8172c006",
   "metadata": {},
   "outputs": [
    {
     "name": "stdout",
     "output_type": "stream",
     "text": [
      "49.6 µs ± 1.97 µs per loop (mean ± std. dev. of 7 runs, 10,000 loops each)\n"
     ]
    }
   ],
   "source": [
    "%timeit batched_pmap_func(xs,xs)"
   ]
  },
  {
   "cell_type": "code",
   "execution_count": 13,
   "id": "b0483fd7",
   "metadata": {},
   "outputs": [
    {
     "name": "stdout",
     "output_type": "stream",
     "text": [
      "343 µs ± 719 ns per loop (mean ± std. dev. of 7 runs, 1,000 loops each)\n"
     ]
    }
   ],
   "source": [
    "%timeit batched_vmap_func(xs)"
   ]
  },
  {
   "cell_type": "code",
   "execution_count": 1,
   "id": "eb652f77",
   "metadata": {},
   "outputs": [
    {
     "name": "stderr",
     "output_type": "stream",
     "text": [
      "An NVIDIA GPU may be present on this machine, but a CUDA-enabled jaxlib is not installed. Falling back to cpu.\n"
     ]
    },
    {
     "data": {
      "text/plain": [
       "[CpuDevice(id=0),\n",
       " CpuDevice(id=1),\n",
       " CpuDevice(id=2),\n",
       " CpuDevice(id=3),\n",
       " CpuDevice(id=4),\n",
       " CpuDevice(id=5),\n",
       " CpuDevice(id=6),\n",
       " CpuDevice(id=7),\n",
       " CpuDevice(id=8),\n",
       " CpuDevice(id=9),\n",
       " CpuDevice(id=10),\n",
       " CpuDevice(id=11),\n",
       " CpuDevice(id=12),\n",
       " CpuDevice(id=13),\n",
       " CpuDevice(id=14),\n",
       " CpuDevice(id=15),\n",
       " CpuDevice(id=16),\n",
       " CpuDevice(id=17),\n",
       " CpuDevice(id=18),\n",
       " CpuDevice(id=19)]"
      ]
     },
     "execution_count": 1,
     "metadata": {},
     "output_type": "execute_result"
    }
   ],
   "source": [
    "import os\n",
    "os.environ['XLA_FLAGS'] = '--xla_force_host_platform_device_count=20'\n",
    "import jax\n",
    "jax.devices()"
   ]
  },
  {
   "cell_type": "code",
   "execution_count": 28,
   "id": "beab9dc5",
   "metadata": {},
   "outputs": [
    {
     "data": {
      "text/plain": [
       "Array([[ 3,  4,  5,  6],\n",
       "       [ 7,  8,  9, 10]], dtype=int32)"
      ]
     },
     "execution_count": 28,
     "metadata": {},
     "output_type": "execute_result"
    }
   ],
   "source": [
    "xs"
   ]
  },
  {
   "cell_type": "code",
   "execution_count": 46,
   "id": "f1d0e89a",
   "metadata": {},
   "outputs": [],
   "source": [
    "a = jnp.diag(jnp.linspace(0,10,10, dtype=int))"
   ]
  },
  {
   "cell_type": "code",
   "execution_count": 51,
   "id": "6a288e5d",
   "metadata": {},
   "outputs": [],
   "source": [
    "def func2(i,x):\n",
    "    return x + a[i], x\n",
    "batched_funcs = jax.vmap(func2, in_axes=0)"
   ]
  },
  {
   "cell_type": "code",
   "execution_count": 52,
   "id": "78b54281",
   "metadata": {},
   "outputs": [],
   "source": [
    "indexes = jnp.linspace(0,10,10, dtype=int)\n",
    "xs = jnp.linspace(0,10,10, dtype=int)"
   ]
  },
  {
   "cell_type": "code",
   "execution_count": 53,
   "id": "39462f54",
   "metadata": {},
   "outputs": [
    {
     "data": {
      "text/plain": [
       "(Array([[ 0,  0,  0,  0,  0,  0,  0,  0,  0,  0],\n",
       "        [ 1,  2,  1,  1,  1,  1,  1,  1,  1,  1],\n",
       "        [ 2,  2,  4,  2,  2,  2,  2,  2,  2,  2],\n",
       "        [ 3,  3,  3,  6,  3,  3,  3,  3,  3,  3],\n",
       "        [ 4,  4,  4,  4,  8,  4,  4,  4,  4,  4],\n",
       "        [ 5,  5,  5,  5,  5, 10,  5,  5,  5,  5],\n",
       "        [ 6,  6,  6,  6,  6,  6, 12,  6,  6,  6],\n",
       "        [ 7,  7,  7,  7,  7,  7,  7, 14,  7,  7],\n",
       "        [ 8,  8,  8,  8,  8,  8,  8,  8, 16,  8],\n",
       "        [10, 10, 10, 10, 10, 10, 10, 10, 10, 20]], dtype=int32),\n",
       " Array([ 0,  1,  2,  3,  4,  5,  6,  7,  8, 10], dtype=int32))"
      ]
     },
     "execution_count": 53,
     "metadata": {},
     "output_type": "execute_result"
    }
   ],
   "source": [
    "batched_funcs(indexes, xs)"
   ]
  },
  {
   "cell_type": "code",
   "execution_count": 47,
   "id": "cd6c89ba",
   "metadata": {},
   "outputs": [
    {
     "data": {
      "text/plain": [
       "Array([[ 0,  0,  0,  0,  0,  0,  0,  0,  0,  0],\n",
       "       [ 0,  1,  0,  0,  0,  0,  0,  0,  0,  0],\n",
       "       [ 0,  0,  2,  0,  0,  0,  0,  0,  0,  0],\n",
       "       [ 0,  0,  0,  3,  0,  0,  0,  0,  0,  0],\n",
       "       [ 0,  0,  0,  0,  4,  0,  0,  0,  0,  0],\n",
       "       [ 0,  0,  0,  0,  0,  5,  0,  0,  0,  0],\n",
       "       [ 0,  0,  0,  0,  0,  0,  6,  0,  0,  0],\n",
       "       [ 0,  0,  0,  0,  0,  0,  0,  7,  0,  0],\n",
       "       [ 0,  0,  0,  0,  0,  0,  0,  0,  8,  0],\n",
       "       [ 0,  0,  0,  0,  0,  0,  0,  0,  0, 10]], dtype=int32)"
      ]
     },
     "execution_count": 47,
     "metadata": {},
     "output_type": "execute_result"
    }
   ],
   "source": [
    "a"
   ]
  },
  {
   "cell_type": "code",
   "execution_count": 20,
   "id": "316e8bf6",
   "metadata": {},
   "outputs": [
    {
     "data": {
      "text/plain": [
       "'0.4.23'"
      ]
     },
     "execution_count": 20,
     "metadata": {},
     "output_type": "execute_result"
    }
   ],
   "source": [
    "jax.__version__"
   ]
  },
  {
   "cell_type": "code",
   "execution_count": null,
   "id": "dd14ef03",
   "metadata": {},
   "outputs": [],
   "source": []
  }
 ],
 "metadata": {
  "kernelspec": {
   "display_name": "Python 3 (ipykernel)",
   "language": "python",
   "name": "python3"
  },
  "language_info": {
   "codemirror_mode": {
    "name": "ipython",
    "version": 3
   },
   "file_extension": ".py",
   "mimetype": "text/x-python",
   "name": "python",
   "nbconvert_exporter": "python",
   "pygments_lexer": "ipython3",
   "version": "3.11.7"
  }
 },
 "nbformat": 4,
 "nbformat_minor": 5
}
